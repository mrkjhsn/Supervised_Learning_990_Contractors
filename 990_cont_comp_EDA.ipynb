{
 "cells": [
  {
   "cell_type": "markdown",
   "metadata": {},
   "source": [
    "\n",
    "### Which not-for-profits might be at the highest risk for fraud?\n",
    "1.  Small number of staff members compared to the volume of money raised\n",
    "    - employee count / current year revenue\n",
    "    - fewer employees can translate to weaker controls over ...\n",
    "1. Employees as a percentage of over 100K contractors\n",
    "    - employee count / count of contractors over 100K\n",
    "    - fewer employees can translate to weaker controls over vetting and payment of contractors\n",
    "1.  Small number of voting members and independent voting members compared to revenue\n",
    "    - this could be indicative of low oversight of the organization\n",
    "    - dataset also includes independent vs. non-independent voting members, unsure about specific differences\n",
    "1. Salaries expense as a percentage of revenue\n",
    "    - not-for-profit management could be paying themselves a disproportionate salary\n",
    "\n",
    "\n",
    "### Data source:\n",
    "https://www.open990.org/catalog/, this company provides raw data for free, however they also provide analytics services for a charge https://appliednonprofitresearch.com/customdata/\n",
    "\n",
    "overview of data provided by open990\n",
    "https://medium.com/@open990/the-irs-990-e-file-dataset-getting-to-the-chocolatey-center-of-data-deliciousness-90f66097a600\n",
    "\n",
    "This dataset has great documentation about what the attributes mean, however this only includes data for 1 year(2016).\n",
    "\n",
    "### Not-for-profit info to inform my process\n",
    "https://en.wikipedia.org/wiki/501(c)_organization - there are many different types of 501(c) orgs, each type is organized around a specific category of activity, labor, social and recreational, business leagues, ect.\n",
    "\n",
    "__501(c)(3) categories of activity__ - Religious, Educational, Charitable, Scientific, Literary, Testing for Public Safety, to Foster National or International Amateur Sports Competition, or Prevention of Cruelty to Children or Animals Organizations\n",
    "\n",
    "https://nonprofitrisk.org/resources/articles/a-violation-of-trust-fraud-risk-in-nonprofit-organizations/\n",
    "\n",
    "One area in which nonprofit organizations seem particularly vulnerable is billing schemes, in which an employee fraudulently submits invoices to obtain payments he or she is not entitled to receive. According to the most recent ACFE survey, billing schemes were among the most common fraud methods in the cases studied for the 2012 report.\n",
    "\n",
    "Billing schemes often involve the creation of a shell company. In such a fraud, a dishonest employee sets up a fake identity that bills for good or services the organization does not receive. In some instances, goods or services may be delivered but are marked up excessively, with the proceeds diverted to the employee.\n"
   ]
  },
  {
   "cell_type": "code",
   "execution_count": 121,
   "metadata": {},
   "outputs": [],
   "source": [
    "import csv\n",
    "import numpy as np\n",
    "import pandas as pd\n",
    "import matplotlib.pyplot as plt\n",
    "import seaborn as sns\n",
    "pd.set_option('display.max_columns', None)\n",
    "pd.set_option('display.max_rows', None)\n",
    "\n",
    "from scipy.stats.mstats import winsorize\n",
    "from scipy.stats import zscore"
   ]
  },
  {
   "cell_type": "code",
   "execution_count": 4,
   "metadata": {},
   "outputs": [],
   "source": [
    "df = pd.read_csv('data/Open990_Contractor_Compensation_Snack_Set_Public_2019-01-24.csv',\n",
    "                 encoding = 'unicode_escape',\n",
    "                 engine='python')"
   ]
  },
  {
   "cell_type": "markdown",
   "metadata": {},
   "source": [
    "### Pre-Processing Steps\n",
    "1. limit data to only orgs with contractor payments in excess of 100K\n",
    "1. refine categories of non-profit mission/purpose statements\n",
    "    - completing this task in *990_mission_statement* notebook.\n",
    "1. refine categories of services being provided to the orgs\n",
    "    - there is probably a high level of inconsistency here\n",
    "    - this will require a summarization process similar to what I'm doing for the mission statement of the orgs\n",
    "1. convert NaN values into False\n",
    "    - for many boolean fields in the 990, the absense of a response is interpreted as NaN, converting these to False will allow for a machine readable format. \n",
    "1. format target variable for machine learning algorithems to make predictions on\n",
    "    - somewhere around 10% of the dataset\n",
    "1. \n"
   ]
  },
  {
   "cell_type": "code",
   "execution_count": 38,
   "metadata": {},
   "outputs": [
    {
     "data": {
      "text/plain": [
       "(237448, 110)"
      ]
     },
     "execution_count": 38,
     "metadata": {},
     "output_type": "execute_result"
    }
   ],
   "source": [
    "# how large is the full dataset?\n",
    "df.shape"
   ]
  },
  {
   "cell_type": "code",
   "execution_count": 39,
   "metadata": {},
   "outputs": [
    {
     "data": {
      "text/html": [
       "<div>\n",
       "<style scoped>\n",
       "    .dataframe tbody tr th:only-of-type {\n",
       "        vertical-align: middle;\n",
       "    }\n",
       "\n",
       "    .dataframe tbody tr th {\n",
       "        vertical-align: top;\n",
       "    }\n",
       "\n",
       "    .dataframe thead th {\n",
       "        text-align: right;\n",
       "    }\n",
       "</style>\n",
       "<table border=\"1\" class=\"dataframe\">\n",
       "  <thead>\n",
       "    <tr style=\"text-align: right;\">\n",
       "      <th></th>\n",
       "      <th>ein</th>\n",
       "      <th>name_org</th>\n",
       "      <th>tax_date_begin</th>\n",
       "      <th>tax_date_end</th>\n",
       "      <th>tax_yr</th>\n",
       "      <th>doing_business_as</th>\n",
       "      <th>phone</th>\n",
       "      <th>website</th>\n",
       "      <th>address</th>\n",
       "      <th>city</th>\n",
       "      <th>state</th>\n",
       "      <th>country</th>\n",
       "      <th>zip</th>\n",
       "      <th>org_form.corp</th>\n",
       "      <th>org_form.trust</th>\n",
       "      <th>org_form.association</th>\n",
       "      <th>org_form.other_form</th>\n",
       "      <th>org_form.other_form_desc</th>\n",
       "      <th>formation_yr</th>\n",
       "      <th>grp_exempt_num</th>\n",
       "      <th>state_legaldomicile</th>\n",
       "      <th>grp_return</th>\n",
       "      <th>grp_subs_all_incl</th>\n",
       "      <th>exempt_status.501c3</th>\n",
       "      <th>exempt_status.501c_any</th>\n",
       "      <th>exempt_status.501c_txt</th>\n",
       "      <th>gross_receipts</th>\n",
       "      <th>discontinue_dispose25</th>\n",
       "      <th>voting_memb_ct</th>\n",
       "      <th>voting_indepmemb_ct</th>\n",
       "      <th>employee_tot_ct</th>\n",
       "      <th>volunteer_tot_ct</th>\n",
       "      <th>income_tot_unrelated</th>\n",
       "      <th>income_net_unrelated</th>\n",
       "      <th>rev_giftsgrants_tot_prioryr</th>\n",
       "      <th>rev_prgmservice_prioryr</th>\n",
       "      <th>rev_investmt_prioryr</th>\n",
       "      <th>rev_other_prioryr</th>\n",
       "      <th>rev_tot_prioryr</th>\n",
       "      <th>grants_expense_tot_prioryr</th>\n",
       "      <th>benefits_expense_tot_prioryr</th>\n",
       "      <th>salaries_expense_tot_prioryr</th>\n",
       "      <th>fundraiseservfee_expense_tot_prioryr</th>\n",
       "      <th>fundraise_expense_tot_curyr</th>\n",
       "      <th>other_expense_tot_prioryr</th>\n",
       "      <th>expense_tot_prioryr</th>\n",
       "      <th>rev_less_expense_prioryr</th>\n",
       "      <th>asset_tot_beginyr</th>\n",
       "      <th>liability_tot_beginyr</th>\n",
       "      <th>asset_net_beginyr</th>\n",
       "      <th>rev_giftsgrants_tot_curyr</th>\n",
       "      <th>rev_prgmservice_curyr</th>\n",
       "      <th>rev_investmt_curyr</th>\n",
       "      <th>rev_other_curyr</th>\n",
       "      <th>rev_tot_curyr</th>\n",
       "      <th>grants_expense_tot_curyr</th>\n",
       "      <th>benefits_expense_tot_curyr</th>\n",
       "      <th>salaries_expense_tot_curyr</th>\n",
       "      <th>fundraiseservfee_expense_tot_curyr</th>\n",
       "      <th>other_expense_tot_curyr</th>\n",
       "      <th>expense_tot_curyr</th>\n",
       "      <th>rev_less_expense_curyr</th>\n",
       "      <th>asset_tot_endyr</th>\n",
       "      <th>liability_tot_endyr</th>\n",
       "      <th>asset_net_endyr</th>\n",
       "      <th>name_contractor_1</th>\n",
       "      <th>address_contractor_1</th>\n",
       "      <th>city_contractor_1</th>\n",
       "      <th>state_contractor_1</th>\n",
       "      <th>zip_contractor_1</th>\n",
       "      <th>country_contractor_1</th>\n",
       "      <th>services_contractor_1</th>\n",
       "      <th>amt_paid_contractor_1</th>\n",
       "      <th>name_contractor_2</th>\n",
       "      <th>address_contractor_2</th>\n",
       "      <th>city_contractor_2</th>\n",
       "      <th>state_contractor_2</th>\n",
       "      <th>zip_contractor_2</th>\n",
       "      <th>country_contractor_2</th>\n",
       "      <th>services_contractor_2</th>\n",
       "      <th>amt_paid_contractor_2</th>\n",
       "      <th>name_contractor_3</th>\n",
       "      <th>address_contractor_3</th>\n",
       "      <th>city_contractor_3</th>\n",
       "      <th>state_contractor_3</th>\n",
       "      <th>zip_contractor_3</th>\n",
       "      <th>country_contractor_3</th>\n",
       "      <th>services_contractor_3</th>\n",
       "      <th>amt_paid_contractor_3</th>\n",
       "      <th>name_contractor_4</th>\n",
       "      <th>address_contractor_4</th>\n",
       "      <th>city_contractor_4</th>\n",
       "      <th>state_contractor_4</th>\n",
       "      <th>zip_contractor_4</th>\n",
       "      <th>country_contractor_4</th>\n",
       "      <th>services_contractor_4</th>\n",
       "      <th>amt_paid_contractor_4</th>\n",
       "      <th>name_contractor_5</th>\n",
       "      <th>address_contractor_5</th>\n",
       "      <th>city_contractor_5</th>\n",
       "      <th>state_contractor_5</th>\n",
       "      <th>zip_contractor_5</th>\n",
       "      <th>country_contractor_5</th>\n",
       "      <th>services_contractor_5</th>\n",
       "      <th>amt_paid_contractor_5</th>\n",
       "      <th>contractor_100k_ct</th>\n",
       "      <th>record_id</th>\n",
       "      <th>schema_version</th>\n",
       "      <th>irs_efile_id</th>\n",
       "      <th>random_string</th>\n",
       "    </tr>\n",
       "  </thead>\n",
       "  <tbody>\n",
       "    <tr>\n",
       "      <td>0</td>\n",
       "      <td>10018927</td>\n",
       "      <td>AMERICAN LEGION POST 5 BOURQUE-LANIGAN</td>\n",
       "      <td>2016-01-01</td>\n",
       "      <td>2016-12-31</td>\n",
       "      <td>2016</td>\n",
       "      <td>AMERICAN LEGION POST 5</td>\n",
       "      <td>+1 (207) 872-8824</td>\n",
       "      <td>WTVLLEGION.ORG</td>\n",
       "      <td>21 COLLEGE AVENUE</td>\n",
       "      <td>WATERVILLE</td>\n",
       "      <td>ME</td>\n",
       "      <td>NaN</td>\n",
       "      <td>04901</td>\n",
       "      <td>True</td>\n",
       "      <td>NaN</td>\n",
       "      <td>NaN</td>\n",
       "      <td>NaN</td>\n",
       "      <td>NaN</td>\n",
       "      <td>1926.0</td>\n",
       "      <td>925.0</td>\n",
       "      <td>ME</td>\n",
       "      <td>no</td>\n",
       "      <td>NaN</td>\n",
       "      <td>NaN</td>\n",
       "      <td>True</td>\n",
       "      <td>19.0</td>\n",
       "      <td>501808</td>\n",
       "      <td>NaN</td>\n",
       "      <td>9</td>\n",
       "      <td>9</td>\n",
       "      <td>8</td>\n",
       "      <td>0.0</td>\n",
       "      <td>0</td>\n",
       "      <td>0.0</td>\n",
       "      <td>11458.0</td>\n",
       "      <td>0.0</td>\n",
       "      <td>983.0</td>\n",
       "      <td>137239.0</td>\n",
       "      <td>149680.0</td>\n",
       "      <td>0.0</td>\n",
       "      <td>20120.0</td>\n",
       "      <td>61034.0</td>\n",
       "      <td>0.0</td>\n",
       "      <td>0</td>\n",
       "      <td>113034.0</td>\n",
       "      <td>194188.0</td>\n",
       "      <td>-44508.0</td>\n",
       "      <td>595704.0</td>\n",
       "      <td>29618.0</td>\n",
       "      <td>566086.0</td>\n",
       "      <td>12549</td>\n",
       "      <td>0</td>\n",
       "      <td>1036</td>\n",
       "      <td>128465</td>\n",
       "      <td>142050</td>\n",
       "      <td>0</td>\n",
       "      <td>22141</td>\n",
       "      <td>62171</td>\n",
       "      <td>0</td>\n",
       "      <td>100057</td>\n",
       "      <td>184369</td>\n",
       "      <td>-42319</td>\n",
       "      <td>561928</td>\n",
       "      <td>38161</td>\n",
       "      <td>523767</td>\n",
       "      <td>NaN</td>\n",
       "      <td>NaN</td>\n",
       "      <td>NaN</td>\n",
       "      <td>NaN</td>\n",
       "      <td>NaN</td>\n",
       "      <td>NaN</td>\n",
       "      <td>NaN</td>\n",
       "      <td>NaN</td>\n",
       "      <td>NaN</td>\n",
       "      <td>NaN</td>\n",
       "      <td>NaN</td>\n",
       "      <td>NaN</td>\n",
       "      <td>NaN</td>\n",
       "      <td>NaN</td>\n",
       "      <td>NaN</td>\n",
       "      <td>NaN</td>\n",
       "      <td>NaN</td>\n",
       "      <td>NaN</td>\n",
       "      <td>NaN</td>\n",
       "      <td>NaN</td>\n",
       "      <td>NaN</td>\n",
       "      <td>NaN</td>\n",
       "      <td>NaN</td>\n",
       "      <td>NaN</td>\n",
       "      <td>NaN</td>\n",
       "      <td>NaN</td>\n",
       "      <td>NaN</td>\n",
       "      <td>NaN</td>\n",
       "      <td>NaN</td>\n",
       "      <td>NaN</td>\n",
       "      <td>NaN</td>\n",
       "      <td>NaN</td>\n",
       "      <td>NaN</td>\n",
       "      <td>NaN</td>\n",
       "      <td>NaN</td>\n",
       "      <td>NaN</td>\n",
       "      <td>NaN</td>\n",
       "      <td>NaN</td>\n",
       "      <td>NaN</td>\n",
       "      <td>NaN</td>\n",
       "      <td>0.0</td>\n",
       "      <td>010018927_201612</td>\n",
       "      <td>2016v3.0</td>\n",
       "      <td>201721359349307007</td>\n",
       "      <td>NzM0MjczMTQ5MzAyOTkxNjA2NQ</td>\n",
       "    </tr>\n",
       "    <tr>\n",
       "      <td>1</td>\n",
       "      <td>10018930</td>\n",
       "      <td>AMERICAN LEGION - MAINE DEPARTMENT</td>\n",
       "      <td>2015-05-01</td>\n",
       "      <td>2016-04-30</td>\n",
       "      <td>2016</td>\n",
       "      <td>NaN</td>\n",
       "      <td>+1 (207) 873-3229</td>\n",
       "      <td>WWW.MAINELEGION.ORG</td>\n",
       "      <td>PO BOX 900</td>\n",
       "      <td>WINSLOW</td>\n",
       "      <td>ME</td>\n",
       "      <td>NaN</td>\n",
       "      <td>049010727</td>\n",
       "      <td>True</td>\n",
       "      <td>NaN</td>\n",
       "      <td>NaN</td>\n",
       "      <td>NaN</td>\n",
       "      <td>NaN</td>\n",
       "      <td>1919.0</td>\n",
       "      <td>NaN</td>\n",
       "      <td>ME</td>\n",
       "      <td>no</td>\n",
       "      <td>NaN</td>\n",
       "      <td>NaN</td>\n",
       "      <td>True</td>\n",
       "      <td>19.0</td>\n",
       "      <td>784286</td>\n",
       "      <td>NaN</td>\n",
       "      <td>60</td>\n",
       "      <td>56</td>\n",
       "      <td>10</td>\n",
       "      <td>NaN</td>\n",
       "      <td>0</td>\n",
       "      <td>NaN</td>\n",
       "      <td>488958.0</td>\n",
       "      <td>214498.0</td>\n",
       "      <td>2452.0</td>\n",
       "      <td>62279.0</td>\n",
       "      <td>768187.0</td>\n",
       "      <td>3500.0</td>\n",
       "      <td>NaN</td>\n",
       "      <td>263411.0</td>\n",
       "      <td>NaN</td>\n",
       "      <td>0</td>\n",
       "      <td>518288.0</td>\n",
       "      <td>785199.0</td>\n",
       "      <td>-17012.0</td>\n",
       "      <td>941168.0</td>\n",
       "      <td>364115.0</td>\n",
       "      <td>577053.0</td>\n",
       "      <td>487889</td>\n",
       "      <td>210898</td>\n",
       "      <td>1613</td>\n",
       "      <td>83886</td>\n",
       "      <td>784286</td>\n",
       "      <td>4500</td>\n",
       "      <td>0</td>\n",
       "      <td>245792</td>\n",
       "      <td>0</td>\n",
       "      <td>482665</td>\n",
       "      <td>732957</td>\n",
       "      <td>51329</td>\n",
       "      <td>995802</td>\n",
       "      <td>367420</td>\n",
       "      <td>628382</td>\n",
       "      <td>NaN</td>\n",
       "      <td>NaN</td>\n",
       "      <td>NaN</td>\n",
       "      <td>NaN</td>\n",
       "      <td>NaN</td>\n",
       "      <td>NaN</td>\n",
       "      <td>NaN</td>\n",
       "      <td>NaN</td>\n",
       "      <td>NaN</td>\n",
       "      <td>NaN</td>\n",
       "      <td>NaN</td>\n",
       "      <td>NaN</td>\n",
       "      <td>NaN</td>\n",
       "      <td>NaN</td>\n",
       "      <td>NaN</td>\n",
       "      <td>NaN</td>\n",
       "      <td>NaN</td>\n",
       "      <td>NaN</td>\n",
       "      <td>NaN</td>\n",
       "      <td>NaN</td>\n",
       "      <td>NaN</td>\n",
       "      <td>NaN</td>\n",
       "      <td>NaN</td>\n",
       "      <td>NaN</td>\n",
       "      <td>NaN</td>\n",
       "      <td>NaN</td>\n",
       "      <td>NaN</td>\n",
       "      <td>NaN</td>\n",
       "      <td>NaN</td>\n",
       "      <td>NaN</td>\n",
       "      <td>NaN</td>\n",
       "      <td>NaN</td>\n",
       "      <td>NaN</td>\n",
       "      <td>NaN</td>\n",
       "      <td>NaN</td>\n",
       "      <td>NaN</td>\n",
       "      <td>NaN</td>\n",
       "      <td>NaN</td>\n",
       "      <td>NaN</td>\n",
       "      <td>NaN</td>\n",
       "      <td>NaN</td>\n",
       "      <td>010018930_201604</td>\n",
       "      <td>2015v2.1</td>\n",
       "      <td>201622149349301207</td>\n",
       "      <td>NjA2ODIzMDg0NzYyMzA2MDM2NA</td>\n",
       "    </tr>\n",
       "    <tr>\n",
       "      <td>2</td>\n",
       "      <td>10019705</td>\n",
       "      <td>Ancient Free and Accepted Masons of Maine Gran...</td>\n",
       "      <td>2015-04-01</td>\n",
       "      <td>2016-03-31</td>\n",
       "      <td>2016</td>\n",
       "      <td>NaN</td>\n",
       "      <td>+1 (207) 358-3110</td>\n",
       "      <td>www.mainemason.org</td>\n",
       "      <td>P O Box 430</td>\n",
       "      <td>Holden</td>\n",
       "      <td>ME</td>\n",
       "      <td>NaN</td>\n",
       "      <td>044290430</td>\n",
       "      <td>True</td>\n",
       "      <td>NaN</td>\n",
       "      <td>NaN</td>\n",
       "      <td>NaN</td>\n",
       "      <td>NaN</td>\n",
       "      <td>1820.0</td>\n",
       "      <td>275.0</td>\n",
       "      <td>ME</td>\n",
       "      <td>no</td>\n",
       "      <td>NaN</td>\n",
       "      <td>NaN</td>\n",
       "      <td>True</td>\n",
       "      <td>10.0</td>\n",
       "      <td>362909</td>\n",
       "      <td>NaN</td>\n",
       "      <td>11</td>\n",
       "      <td>9</td>\n",
       "      <td>5</td>\n",
       "      <td>0.0</td>\n",
       "      <td>0</td>\n",
       "      <td>0.0</td>\n",
       "      <td>1837.0</td>\n",
       "      <td>321565.0</td>\n",
       "      <td>29073.0</td>\n",
       "      <td>1972.0</td>\n",
       "      <td>354447.0</td>\n",
       "      <td>0.0</td>\n",
       "      <td>0.0</td>\n",
       "      <td>78522.0</td>\n",
       "      <td>0.0</td>\n",
       "      <td>0</td>\n",
       "      <td>236707.0</td>\n",
       "      <td>315229.0</td>\n",
       "      <td>39218.0</td>\n",
       "      <td>1704310.0</td>\n",
       "      <td>0.0</td>\n",
       "      <td>1704310.0</td>\n",
       "      <td>1402</td>\n",
       "      <td>315455</td>\n",
       "      <td>29298</td>\n",
       "      <td>-13191</td>\n",
       "      <td>332964</td>\n",
       "      <td>18061</td>\n",
       "      <td>0</td>\n",
       "      <td>86383</td>\n",
       "      <td>0</td>\n",
       "      <td>241884</td>\n",
       "      <td>346328</td>\n",
       "      <td>-13364</td>\n",
       "      <td>1640608</td>\n",
       "      <td>0</td>\n",
       "      <td>1640608</td>\n",
       "      <td>NaN</td>\n",
       "      <td>NaN</td>\n",
       "      <td>NaN</td>\n",
       "      <td>NaN</td>\n",
       "      <td>NaN</td>\n",
       "      <td>NaN</td>\n",
       "      <td>NaN</td>\n",
       "      <td>NaN</td>\n",
       "      <td>NaN</td>\n",
       "      <td>NaN</td>\n",
       "      <td>NaN</td>\n",
       "      <td>NaN</td>\n",
       "      <td>NaN</td>\n",
       "      <td>NaN</td>\n",
       "      <td>NaN</td>\n",
       "      <td>NaN</td>\n",
       "      <td>NaN</td>\n",
       "      <td>NaN</td>\n",
       "      <td>NaN</td>\n",
       "      <td>NaN</td>\n",
       "      <td>NaN</td>\n",
       "      <td>NaN</td>\n",
       "      <td>NaN</td>\n",
       "      <td>NaN</td>\n",
       "      <td>NaN</td>\n",
       "      <td>NaN</td>\n",
       "      <td>NaN</td>\n",
       "      <td>NaN</td>\n",
       "      <td>NaN</td>\n",
       "      <td>NaN</td>\n",
       "      <td>NaN</td>\n",
       "      <td>NaN</td>\n",
       "      <td>NaN</td>\n",
       "      <td>NaN</td>\n",
       "      <td>NaN</td>\n",
       "      <td>NaN</td>\n",
       "      <td>NaN</td>\n",
       "      <td>NaN</td>\n",
       "      <td>NaN</td>\n",
       "      <td>NaN</td>\n",
       "      <td>0.0</td>\n",
       "      <td>010019705_201603</td>\n",
       "      <td>2015v2.1</td>\n",
       "      <td>201612239349301286</td>\n",
       "      <td>NTgwNTIwNTYwMTU3MjE1MjM3NQ</td>\n",
       "    </tr>\n",
       "    <tr>\n",
       "      <td>3</td>\n",
       "      <td>10021545</td>\n",
       "      <td>MAINE STATE CHAMBER OF COMMERCE</td>\n",
       "      <td>2015-07-01</td>\n",
       "      <td>2016-06-30</td>\n",
       "      <td>2016</td>\n",
       "      <td>NaN</td>\n",
       "      <td>+1 (207) 623-4568</td>\n",
       "      <td>MAINECHAMBER.ORG</td>\n",
       "      <td>125 COMMUNITY DRIVE NO 101</td>\n",
       "      <td>AUGUSTA</td>\n",
       "      <td>ME</td>\n",
       "      <td>NaN</td>\n",
       "      <td>04330</td>\n",
       "      <td>NaN</td>\n",
       "      <td>True</td>\n",
       "      <td>NaN</td>\n",
       "      <td>NaN</td>\n",
       "      <td>NaN</td>\n",
       "      <td>1995.0</td>\n",
       "      <td>NaN</td>\n",
       "      <td>ME</td>\n",
       "      <td>no</td>\n",
       "      <td>NaN</td>\n",
       "      <td>NaN</td>\n",
       "      <td>True</td>\n",
       "      <td>6.0</td>\n",
       "      <td>1585777</td>\n",
       "      <td>NaN</td>\n",
       "      <td>78</td>\n",
       "      <td>78</td>\n",
       "      <td>11</td>\n",
       "      <td>0.0</td>\n",
       "      <td>56402</td>\n",
       "      <td>0.0</td>\n",
       "      <td>982154.0</td>\n",
       "      <td>548545.0</td>\n",
       "      <td>153.0</td>\n",
       "      <td>58460.0</td>\n",
       "      <td>1589312.0</td>\n",
       "      <td>0.0</td>\n",
       "      <td>0.0</td>\n",
       "      <td>1000445.0</td>\n",
       "      <td>0.0</td>\n",
       "      <td>0</td>\n",
       "      <td>491414.0</td>\n",
       "      <td>1491859.0</td>\n",
       "      <td>97453.0</td>\n",
       "      <td>658550.0</td>\n",
       "      <td>622435.0</td>\n",
       "      <td>36115.0</td>\n",
       "      <td>987365</td>\n",
       "      <td>473412</td>\n",
       "      <td>58</td>\n",
       "      <td>89295</td>\n",
       "      <td>1550130</td>\n",
       "      <td>0</td>\n",
       "      <td>0</td>\n",
       "      <td>1036591</td>\n",
       "      <td>0</td>\n",
       "      <td>496171</td>\n",
       "      <td>1532762</td>\n",
       "      <td>17368</td>\n",
       "      <td>709682</td>\n",
       "      <td>656199</td>\n",
       "      <td>53483</td>\n",
       "      <td>NaN</td>\n",
       "      <td>NaN</td>\n",
       "      <td>NaN</td>\n",
       "      <td>NaN</td>\n",
       "      <td>NaN</td>\n",
       "      <td>NaN</td>\n",
       "      <td>NaN</td>\n",
       "      <td>NaN</td>\n",
       "      <td>NaN</td>\n",
       "      <td>NaN</td>\n",
       "      <td>NaN</td>\n",
       "      <td>NaN</td>\n",
       "      <td>NaN</td>\n",
       "      <td>NaN</td>\n",
       "      <td>NaN</td>\n",
       "      <td>NaN</td>\n",
       "      <td>NaN</td>\n",
       "      <td>NaN</td>\n",
       "      <td>NaN</td>\n",
       "      <td>NaN</td>\n",
       "      <td>NaN</td>\n",
       "      <td>NaN</td>\n",
       "      <td>NaN</td>\n",
       "      <td>NaN</td>\n",
       "      <td>NaN</td>\n",
       "      <td>NaN</td>\n",
       "      <td>NaN</td>\n",
       "      <td>NaN</td>\n",
       "      <td>NaN</td>\n",
       "      <td>NaN</td>\n",
       "      <td>NaN</td>\n",
       "      <td>NaN</td>\n",
       "      <td>NaN</td>\n",
       "      <td>NaN</td>\n",
       "      <td>NaN</td>\n",
       "      <td>NaN</td>\n",
       "      <td>NaN</td>\n",
       "      <td>NaN</td>\n",
       "      <td>NaN</td>\n",
       "      <td>NaN</td>\n",
       "      <td>0.0</td>\n",
       "      <td>010021545_201606</td>\n",
       "      <td>2015v2.1</td>\n",
       "      <td>201623129349301597</td>\n",
       "      <td>NzgzODgzODI3NDM1OTU0OTIwNw</td>\n",
       "    </tr>\n",
       "    <tr>\n",
       "      <td>4</td>\n",
       "      <td>10022415</td>\n",
       "      <td>Kennebec Valley Chamber of Commerce</td>\n",
       "      <td>2016-01-01</td>\n",
       "      <td>2016-12-31</td>\n",
       "      <td>2016</td>\n",
       "      <td>NaN</td>\n",
       "      <td>+1 (207) 623-4559</td>\n",
       "      <td>www.augustamaine.com</td>\n",
       "      <td>269 Western Avenue</td>\n",
       "      <td>Augusta</td>\n",
       "      <td>ME</td>\n",
       "      <td>NaN</td>\n",
       "      <td>043320676</td>\n",
       "      <td>True</td>\n",
       "      <td>NaN</td>\n",
       "      <td>NaN</td>\n",
       "      <td>NaN</td>\n",
       "      <td>NaN</td>\n",
       "      <td>1932.0</td>\n",
       "      <td>NaN</td>\n",
       "      <td>ME</td>\n",
       "      <td>no</td>\n",
       "      <td>NaN</td>\n",
       "      <td>NaN</td>\n",
       "      <td>True</td>\n",
       "      <td>6.0</td>\n",
       "      <td>549207</td>\n",
       "      <td>NaN</td>\n",
       "      <td>23</td>\n",
       "      <td>23</td>\n",
       "      <td>6</td>\n",
       "      <td>250.0</td>\n",
       "      <td>32795</td>\n",
       "      <td>18444.0</td>\n",
       "      <td>325359.0</td>\n",
       "      <td>127302.0</td>\n",
       "      <td>6356.0</td>\n",
       "      <td>23665.0</td>\n",
       "      <td>482682.0</td>\n",
       "      <td>0.0</td>\n",
       "      <td>0.0</td>\n",
       "      <td>275878.0</td>\n",
       "      <td>0.0</td>\n",
       "      <td>0</td>\n",
       "      <td>239164.0</td>\n",
       "      <td>515042.0</td>\n",
       "      <td>-32360.0</td>\n",
       "      <td>548828.0</td>\n",
       "      <td>353878.0</td>\n",
       "      <td>194950.0</td>\n",
       "      <td>358491</td>\n",
       "      <td>130625</td>\n",
       "      <td>5148</td>\n",
       "      <td>37637</td>\n",
       "      <td>531901</td>\n",
       "      <td>0</td>\n",
       "      <td>0</td>\n",
       "      <td>264272</td>\n",
       "      <td>0</td>\n",
       "      <td>274146</td>\n",
       "      <td>538418</td>\n",
       "      <td>-6517</td>\n",
       "      <td>550635</td>\n",
       "      <td>353839</td>\n",
       "      <td>196796</td>\n",
       "      <td>NaN</td>\n",
       "      <td>NaN</td>\n",
       "      <td>NaN</td>\n",
       "      <td>NaN</td>\n",
       "      <td>NaN</td>\n",
       "      <td>NaN</td>\n",
       "      <td>NaN</td>\n",
       "      <td>NaN</td>\n",
       "      <td>NaN</td>\n",
       "      <td>NaN</td>\n",
       "      <td>NaN</td>\n",
       "      <td>NaN</td>\n",
       "      <td>NaN</td>\n",
       "      <td>NaN</td>\n",
       "      <td>NaN</td>\n",
       "      <td>NaN</td>\n",
       "      <td>NaN</td>\n",
       "      <td>NaN</td>\n",
       "      <td>NaN</td>\n",
       "      <td>NaN</td>\n",
       "      <td>NaN</td>\n",
       "      <td>NaN</td>\n",
       "      <td>NaN</td>\n",
       "      <td>NaN</td>\n",
       "      <td>NaN</td>\n",
       "      <td>NaN</td>\n",
       "      <td>NaN</td>\n",
       "      <td>NaN</td>\n",
       "      <td>NaN</td>\n",
       "      <td>NaN</td>\n",
       "      <td>NaN</td>\n",
       "      <td>NaN</td>\n",
       "      <td>NaN</td>\n",
       "      <td>NaN</td>\n",
       "      <td>NaN</td>\n",
       "      <td>NaN</td>\n",
       "      <td>NaN</td>\n",
       "      <td>NaN</td>\n",
       "      <td>NaN</td>\n",
       "      <td>NaN</td>\n",
       "      <td>0.0</td>\n",
       "      <td>010022415_201612</td>\n",
       "      <td>2016v3.0</td>\n",
       "      <td>201713199349310641</td>\n",
       "      <td>MzA0OTkxMTU4Njg1ODg5OTYwOQ</td>\n",
       "    </tr>\n",
       "  </tbody>\n",
       "</table>\n",
       "</div>"
      ],
      "text/plain": [
       "        ein                                           name_org tax_date_begin  \\\n",
       "0  10018927             AMERICAN LEGION POST 5 BOURQUE-LANIGAN     2016-01-01   \n",
       "1  10018930                 AMERICAN LEGION - MAINE DEPARTMENT     2015-05-01   \n",
       "2  10019705  Ancient Free and Accepted Masons of Maine Gran...     2015-04-01   \n",
       "3  10021545                    MAINE STATE CHAMBER OF COMMERCE     2015-07-01   \n",
       "4  10022415                Kennebec Valley Chamber of Commerce     2016-01-01   \n",
       "\n",
       "  tax_date_end  tax_yr       doing_business_as              phone  \\\n",
       "0   2016-12-31    2016  AMERICAN LEGION POST 5  +1 (207) 872-8824   \n",
       "1   2016-04-30    2016                     NaN  +1 (207) 873-3229   \n",
       "2   2016-03-31    2016                     NaN  +1 (207) 358-3110   \n",
       "3   2016-06-30    2016                     NaN  +1 (207) 623-4568   \n",
       "4   2016-12-31    2016                     NaN  +1 (207) 623-4559   \n",
       "\n",
       "                website                     address        city state country  \\\n",
       "0        WTVLLEGION.ORG           21 COLLEGE AVENUE  WATERVILLE    ME     NaN   \n",
       "1   WWW.MAINELEGION.ORG                  PO BOX 900     WINSLOW    ME     NaN   \n",
       "2    www.mainemason.org                 P O Box 430      Holden    ME     NaN   \n",
       "3      MAINECHAMBER.ORG  125 COMMUNITY DRIVE NO 101     AUGUSTA    ME     NaN   \n",
       "4  www.augustamaine.com          269 Western Avenue     Augusta    ME     NaN   \n",
       "\n",
       "         zip org_form.corp org_form.trust org_form.association  \\\n",
       "0      04901          True            NaN                  NaN   \n",
       "1  049010727          True            NaN                  NaN   \n",
       "2  044290430          True            NaN                  NaN   \n",
       "3      04330           NaN           True                  NaN   \n",
       "4  043320676          True            NaN                  NaN   \n",
       "\n",
       "  org_form.other_form org_form.other_form_desc  formation_yr  grp_exempt_num  \\\n",
       "0                 NaN                      NaN        1926.0           925.0   \n",
       "1                 NaN                      NaN        1919.0             NaN   \n",
       "2                 NaN                      NaN        1820.0           275.0   \n",
       "3                 NaN                      NaN        1995.0             NaN   \n",
       "4                 NaN                      NaN        1932.0             NaN   \n",
       "\n",
       "  state_legaldomicile grp_return grp_subs_all_incl exempt_status.501c3  \\\n",
       "0                  ME         no               NaN                 NaN   \n",
       "1                  ME         no               NaN                 NaN   \n",
       "2                  ME         no               NaN                 NaN   \n",
       "3                  ME         no               NaN                 NaN   \n",
       "4                  ME         no               NaN                 NaN   \n",
       "\n",
       "  exempt_status.501c_any  exempt_status.501c_txt  gross_receipts  \\\n",
       "0                   True                    19.0          501808   \n",
       "1                   True                    19.0          784286   \n",
       "2                   True                    10.0          362909   \n",
       "3                   True                     6.0         1585777   \n",
       "4                   True                     6.0          549207   \n",
       "\n",
       "  discontinue_dispose25  voting_memb_ct  voting_indepmemb_ct  employee_tot_ct  \\\n",
       "0                   NaN               9                    9                8   \n",
       "1                   NaN              60                   56               10   \n",
       "2                   NaN              11                    9                5   \n",
       "3                   NaN              78                   78               11   \n",
       "4                   NaN              23                   23                6   \n",
       "\n",
       "   volunteer_tot_ct  income_tot_unrelated  income_net_unrelated  \\\n",
       "0               0.0                     0                   0.0   \n",
       "1               NaN                     0                   NaN   \n",
       "2               0.0                     0                   0.0   \n",
       "3               0.0                 56402                   0.0   \n",
       "4             250.0                 32795               18444.0   \n",
       "\n",
       "   rev_giftsgrants_tot_prioryr  rev_prgmservice_prioryr  rev_investmt_prioryr  \\\n",
       "0                      11458.0                      0.0                 983.0   \n",
       "1                     488958.0                 214498.0                2452.0   \n",
       "2                       1837.0                 321565.0               29073.0   \n",
       "3                     982154.0                 548545.0                 153.0   \n",
       "4                     325359.0                 127302.0                6356.0   \n",
       "\n",
       "   rev_other_prioryr  rev_tot_prioryr  grants_expense_tot_prioryr  \\\n",
       "0           137239.0         149680.0                         0.0   \n",
       "1            62279.0         768187.0                      3500.0   \n",
       "2             1972.0         354447.0                         0.0   \n",
       "3            58460.0        1589312.0                         0.0   \n",
       "4            23665.0         482682.0                         0.0   \n",
       "\n",
       "   benefits_expense_tot_prioryr  salaries_expense_tot_prioryr  \\\n",
       "0                       20120.0                       61034.0   \n",
       "1                           NaN                      263411.0   \n",
       "2                           0.0                       78522.0   \n",
       "3                           0.0                     1000445.0   \n",
       "4                           0.0                      275878.0   \n",
       "\n",
       "   fundraiseservfee_expense_tot_prioryr  fundraise_expense_tot_curyr  \\\n",
       "0                                   0.0                            0   \n",
       "1                                   NaN                            0   \n",
       "2                                   0.0                            0   \n",
       "3                                   0.0                            0   \n",
       "4                                   0.0                            0   \n",
       "\n",
       "   other_expense_tot_prioryr  expense_tot_prioryr  rev_less_expense_prioryr  \\\n",
       "0                   113034.0             194188.0                  -44508.0   \n",
       "1                   518288.0             785199.0                  -17012.0   \n",
       "2                   236707.0             315229.0                   39218.0   \n",
       "3                   491414.0            1491859.0                   97453.0   \n",
       "4                   239164.0             515042.0                  -32360.0   \n",
       "\n",
       "   asset_tot_beginyr  liability_tot_beginyr  asset_net_beginyr  \\\n",
       "0           595704.0                29618.0           566086.0   \n",
       "1           941168.0               364115.0           577053.0   \n",
       "2          1704310.0                    0.0          1704310.0   \n",
       "3           658550.0               622435.0            36115.0   \n",
       "4           548828.0               353878.0           194950.0   \n",
       "\n",
       "   rev_giftsgrants_tot_curyr  rev_prgmservice_curyr  rev_investmt_curyr  \\\n",
       "0                      12549                      0                1036   \n",
       "1                     487889                 210898                1613   \n",
       "2                       1402                 315455               29298   \n",
       "3                     987365                 473412                  58   \n",
       "4                     358491                 130625                5148   \n",
       "\n",
       "   rev_other_curyr  rev_tot_curyr  grants_expense_tot_curyr  \\\n",
       "0           128465         142050                         0   \n",
       "1            83886         784286                      4500   \n",
       "2           -13191         332964                     18061   \n",
       "3            89295        1550130                         0   \n",
       "4            37637         531901                         0   \n",
       "\n",
       "   benefits_expense_tot_curyr  salaries_expense_tot_curyr  \\\n",
       "0                       22141                       62171   \n",
       "1                           0                      245792   \n",
       "2                           0                       86383   \n",
       "3                           0                     1036591   \n",
       "4                           0                      264272   \n",
       "\n",
       "   fundraiseservfee_expense_tot_curyr  other_expense_tot_curyr  \\\n",
       "0                                   0                   100057   \n",
       "1                                   0                   482665   \n",
       "2                                   0                   241884   \n",
       "3                                   0                   496171   \n",
       "4                                   0                   274146   \n",
       "\n",
       "   expense_tot_curyr  rev_less_expense_curyr  asset_tot_endyr  \\\n",
       "0             184369                  -42319           561928   \n",
       "1             732957                   51329           995802   \n",
       "2             346328                  -13364          1640608   \n",
       "3            1532762                   17368           709682   \n",
       "4             538418                   -6517           550635   \n",
       "\n",
       "   liability_tot_endyr  asset_net_endyr name_contractor_1  \\\n",
       "0                38161           523767               NaN   \n",
       "1               367420           628382               NaN   \n",
       "2                    0          1640608               NaN   \n",
       "3               656199            53483               NaN   \n",
       "4               353839           196796               NaN   \n",
       "\n",
       "  address_contractor_1 city_contractor_1 state_contractor_1 zip_contractor_1  \\\n",
       "0                  NaN               NaN                NaN              NaN   \n",
       "1                  NaN               NaN                NaN              NaN   \n",
       "2                  NaN               NaN                NaN              NaN   \n",
       "3                  NaN               NaN                NaN              NaN   \n",
       "4                  NaN               NaN                NaN              NaN   \n",
       "\n",
       "  country_contractor_1 services_contractor_1  amt_paid_contractor_1  \\\n",
       "0                  NaN                   NaN                    NaN   \n",
       "1                  NaN                   NaN                    NaN   \n",
       "2                  NaN                   NaN                    NaN   \n",
       "3                  NaN                   NaN                    NaN   \n",
       "4                  NaN                   NaN                    NaN   \n",
       "\n",
       "  name_contractor_2 address_contractor_2 city_contractor_2 state_contractor_2  \\\n",
       "0               NaN                  NaN               NaN                NaN   \n",
       "1               NaN                  NaN               NaN                NaN   \n",
       "2               NaN                  NaN               NaN                NaN   \n",
       "3               NaN                  NaN               NaN                NaN   \n",
       "4               NaN                  NaN               NaN                NaN   \n",
       "\n",
       "  zip_contractor_2 country_contractor_2 services_contractor_2  \\\n",
       "0              NaN                  NaN                   NaN   \n",
       "1              NaN                  NaN                   NaN   \n",
       "2              NaN                  NaN                   NaN   \n",
       "3              NaN                  NaN                   NaN   \n",
       "4              NaN                  NaN                   NaN   \n",
       "\n",
       "   amt_paid_contractor_2 name_contractor_3 address_contractor_3  \\\n",
       "0                    NaN               NaN                  NaN   \n",
       "1                    NaN               NaN                  NaN   \n",
       "2                    NaN               NaN                  NaN   \n",
       "3                    NaN               NaN                  NaN   \n",
       "4                    NaN               NaN                  NaN   \n",
       "\n",
       "  city_contractor_3 state_contractor_3 zip_contractor_3 country_contractor_3  \\\n",
       "0               NaN                NaN              NaN                  NaN   \n",
       "1               NaN                NaN              NaN                  NaN   \n",
       "2               NaN                NaN              NaN                  NaN   \n",
       "3               NaN                NaN              NaN                  NaN   \n",
       "4               NaN                NaN              NaN                  NaN   \n",
       "\n",
       "  services_contractor_3  amt_paid_contractor_3 name_contractor_4  \\\n",
       "0                   NaN                    NaN               NaN   \n",
       "1                   NaN                    NaN               NaN   \n",
       "2                   NaN                    NaN               NaN   \n",
       "3                   NaN                    NaN               NaN   \n",
       "4                   NaN                    NaN               NaN   \n",
       "\n",
       "  address_contractor_4 city_contractor_4 state_contractor_4 zip_contractor_4  \\\n",
       "0                  NaN               NaN                NaN              NaN   \n",
       "1                  NaN               NaN                NaN              NaN   \n",
       "2                  NaN               NaN                NaN              NaN   \n",
       "3                  NaN               NaN                NaN              NaN   \n",
       "4                  NaN               NaN                NaN              NaN   \n",
       "\n",
       "  country_contractor_4 services_contractor_4  amt_paid_contractor_4  \\\n",
       "0                  NaN                   NaN                    NaN   \n",
       "1                  NaN                   NaN                    NaN   \n",
       "2                  NaN                   NaN                    NaN   \n",
       "3                  NaN                   NaN                    NaN   \n",
       "4                  NaN                   NaN                    NaN   \n",
       "\n",
       "  name_contractor_5 address_contractor_5 city_contractor_5 state_contractor_5  \\\n",
       "0               NaN                  NaN               NaN                NaN   \n",
       "1               NaN                  NaN               NaN                NaN   \n",
       "2               NaN                  NaN               NaN                NaN   \n",
       "3               NaN                  NaN               NaN                NaN   \n",
       "4               NaN                  NaN               NaN                NaN   \n",
       "\n",
       "  zip_contractor_5 country_contractor_5 services_contractor_5  \\\n",
       "0              NaN                  NaN                   NaN   \n",
       "1              NaN                  NaN                   NaN   \n",
       "2              NaN                  NaN                   NaN   \n",
       "3              NaN                  NaN                   NaN   \n",
       "4              NaN                  NaN                   NaN   \n",
       "\n",
       "   amt_paid_contractor_5  contractor_100k_ct         record_id schema_version  \\\n",
       "0                    NaN                 0.0  010018927_201612       2016v3.0   \n",
       "1                    NaN                 NaN  010018930_201604       2015v2.1   \n",
       "2                    NaN                 0.0  010019705_201603       2015v2.1   \n",
       "3                    NaN                 0.0  010021545_201606       2015v2.1   \n",
       "4                    NaN                 0.0  010022415_201612       2016v3.0   \n",
       "\n",
       "         irs_efile_id               random_string  \n",
       "0  201721359349307007  NzM0MjczMTQ5MzAyOTkxNjA2NQ  \n",
       "1  201622149349301207  NjA2ODIzMDg0NzYyMzA2MDM2NA  \n",
       "2  201612239349301286  NTgwNTIwNTYwMTU3MjE1MjM3NQ  \n",
       "3  201623129349301597  NzgzODgzODI3NDM1OTU0OTIwNw  \n",
       "4  201713199349310641  MzA0OTkxMTU4Njg1ODg5OTYwOQ  "
      ]
     },
     "execution_count": 39,
     "metadata": {},
     "output_type": "execute_result"
    }
   ],
   "source": [
    "# examine columns in full dataset\n",
    "df.head()"
   ]
  },
  {
   "cell_type": "code",
   "execution_count": 36,
   "metadata": {},
   "outputs": [
    {
     "data": {
      "text/plain": [
       "ein                                      0.000000\n",
       "name_org                                 0.000000\n",
       "tax_date_begin                           0.000000\n",
       "tax_date_end                             0.000000\n",
       "tax_yr                                   0.000000\n",
       "doing_business_as                       94.005424\n",
       "phone                                   10.273407\n",
       "website                                 34.804673\n",
       "address                                  0.000421\n",
       "city                                     0.002106\n",
       "state                                    0.030322\n",
       "country                                 99.917877\n",
       "zip                                      0.010529\n",
       "org_form.corp                           11.653499\n",
       "org_form.trust                          96.870473\n",
       "org_form.association                    95.570820\n",
       "org_form.other_form                     97.630218\n",
       "org_form.other_form_desc                98.252670\n",
       "formation_yr                             7.177572\n",
       "grp_exempt_num                          96.654847\n",
       "state_legaldomicile                      5.179660\n",
       "grp_return                               0.000000\n",
       "grp_subs_all_incl                       84.139685\n",
       "exempt_status.501c3                     24.265102\n",
       "exempt_status.501c_any                  75.787120\n",
       "exempt_status.501c_txt                  75.787120\n",
       "gross_receipts                           0.000000\n",
       "discontinue_dispose25                   99.144655\n",
       "voting_memb_ct                           0.000000\n",
       "voting_indepmemb_ct                      0.000000\n",
       "employee_tot_ct                          0.000000\n",
       "volunteer_tot_ct                        26.438631\n",
       "income_tot_unrelated                     0.000000\n",
       "income_net_unrelated                    49.075166\n",
       "rev_giftsgrants_tot_prioryr             13.419780\n",
       "rev_prgmservice_prioryr                 21.318773\n",
       "rev_investmt_prioryr                    16.997827\n",
       "rev_other_prioryr                       25.214784\n",
       "rev_tot_prioryr                          2.951383\n",
       "grants_expense_tot_prioryr              43.315589\n",
       "benefits_expense_tot_prioryr            53.972238\n",
       "salaries_expense_tot_prioryr            19.667043\n",
       "fundraiseservfee_expense_tot_prioryr    54.772834\n",
       "fundraise_expense_tot_curyr              0.000000\n",
       "other_expense_tot_prioryr                3.412958\n",
       "expense_tot_prioryr                      3.129948\n",
       "rev_less_expense_prioryr                 3.040245\n",
       "asset_tot_beginyr                        1.285755\n",
       "liability_tot_beginyr                   15.744500\n",
       "asset_net_beginyr                        1.376722\n",
       "rev_giftsgrants_tot_curyr                0.000000\n",
       "rev_prgmservice_curyr                    0.000000\n",
       "rev_investmt_curyr                       0.000000\n",
       "rev_other_curyr                          0.000000\n",
       "rev_tot_curyr                            0.000000\n",
       "grants_expense_tot_curyr                 0.000000\n",
       "benefits_expense_tot_curyr               0.000000\n",
       "salaries_expense_tot_curyr               0.000000\n",
       "fundraiseservfee_expense_tot_curyr       0.000000\n",
       "other_expense_tot_curyr                  0.000000\n",
       "expense_tot_curyr                        0.000000\n",
       "rev_less_expense_curyr                   0.000000\n",
       "asset_tot_endyr                          0.000000\n",
       "liability_tot_endyr                      0.000000\n",
       "asset_net_endyr                          0.000000\n",
       "name_contractor_1                       87.117600\n",
       "address_contractor_1                    87.203093\n",
       "city_contractor_1                       87.204356\n",
       "state_contractor_1                      87.276372\n",
       "zip_contractor_1                        87.280162\n",
       "country_contractor_1                    99.834490\n",
       "services_contractor_1                   87.212358\n",
       "amt_paid_contractor_1                   87.220360\n",
       "name_contractor_2                       91.921600\n",
       "address_contractor_2                    91.959082\n",
       "city_contractor_2                       91.963293\n",
       "state_contractor_2                      92.012146\n",
       "zip_contractor_2                        92.007513\n",
       "country_contractor_2                    99.885449\n",
       "services_contractor_2                   91.953186\n",
       "amt_paid_contractor_2                   91.946026\n",
       "name_contractor_3                       93.818436\n",
       "address_contractor_3                    93.844547\n",
       "city_contractor_3                       93.848758\n",
       "state_contractor_3                      93.888346\n",
       "zip_contractor_3                        93.887925\n",
       "country_contractor_3                    99.902716\n",
       "services_contractor_3                   93.840336\n",
       "amt_paid_contractor_3                   93.829386\n",
       "name_contractor_4                       95.019120\n",
       "address_contractor_4                    95.042283\n",
       "city_contractor_4                       95.045231\n",
       "state_contractor_4                      95.078080\n",
       "zip_contractor_4                        95.080186\n",
       "country_contractor_4                    99.922509\n",
       "services_contractor_4                   95.034281\n",
       "amt_paid_contractor_4                   95.027122\n",
       "name_contractor_5                       95.820980\n",
       "address_contractor_5                    95.839089\n",
       "city_contractor_5                       95.839931\n",
       "state_contractor_5                      95.864779\n",
       "zip_contractor_5                        95.870675\n",
       "country_contractor_5                    99.939355\n",
       "services_contractor_5                   95.833614\n",
       "amt_paid_contractor_5                   95.826033\n",
       "contractor_100k_ct                      38.421886\n",
       "record_id                                0.000000\n",
       "schema_version                           0.000000\n",
       "irs_efile_id                             0.000000\n",
       "random_string                            0.000000\n",
       "dtype: float64"
      ]
     },
     "execution_count": 36,
     "metadata": {},
     "output_type": "execute_result"
    }
   ],
   "source": [
    "# find count of null values\n",
    "# for each column\n",
    "(df.isna().sum()/df.isna().count()) * 100"
   ]
  },
  {
   "cell_type": "code",
   "execution_count": 5,
   "metadata": {},
   "outputs": [
    {
     "data": {
      "text/plain": [
       "'2014-12-27'"
      ]
     },
     "execution_count": 5,
     "metadata": {},
     "output_type": "execute_result"
    }
   ],
   "source": [
    "# what is the date range\n",
    "df.tax_date_begin.min()"
   ]
  },
  {
   "cell_type": "code",
   "execution_count": 6,
   "metadata": {},
   "outputs": [
    {
     "data": {
      "text/plain": [
       "'2016-12-28'"
      ]
     },
     "execution_count": 6,
     "metadata": {},
     "output_type": "execute_result"
    }
   ],
   "source": [
    "df.tax_date_begin.max()"
   ]
  },
  {
   "cell_type": "code",
   "execution_count": null,
   "metadata": {},
   "outputs": [],
   "source": []
  },
  {
   "cell_type": "code",
   "execution_count": null,
   "metadata": {},
   "outputs": [],
   "source": []
  },
  {
   "cell_type": "markdown",
   "metadata": {},
   "source": [
    "### Limit dataset to only orgs with payments to contractors over 100K"
   ]
  },
  {
   "cell_type": "code",
   "execution_count": 42,
   "metadata": {},
   "outputs": [
    {
     "name": "stdout",
     "output_type": "stream",
     "text": [
      "contractor_100k_ct\n"
     ]
    }
   ],
   "source": [
    "# identify columns with salary in them\n",
    "for c in df.columns:\n",
    "    if '100' in c:\n",
    "        print(c)       "
   ]
  },
  {
   "cell_type": "code",
   "execution_count": 53,
   "metadata": {},
   "outputs": [],
   "source": [
    "# subset data based on orgs with contractor payments over 100K\n",
    "df_con = df[~df.name_contractor_1.isnull()]"
   ]
  },
  {
   "cell_type": "code",
   "execution_count": 54,
   "metadata": {},
   "outputs": [
    {
     "data": {
      "text/plain": [
       "(30589, 110)"
      ]
     },
     "execution_count": 54,
     "metadata": {},
     "output_type": "execute_result"
    }
   ],
   "source": [
    "# examine size of data\n",
    "df_con.shape"
   ]
  },
  {
   "cell_type": "code",
   "execution_count": 249,
   "metadata": {},
   "outputs": [
    {
     "data": {
      "text/html": [
       "<div>\n",
       "<style scoped>\n",
       "    .dataframe tbody tr th:only-of-type {\n",
       "        vertical-align: middle;\n",
       "    }\n",
       "\n",
       "    .dataframe tbody tr th {\n",
       "        vertical-align: top;\n",
       "    }\n",
       "\n",
       "    .dataframe thead th {\n",
       "        text-align: right;\n",
       "    }\n",
       "</style>\n",
       "<table border=\"1\" class=\"dataframe\">\n",
       "  <thead>\n",
       "    <tr style=\"text-align: right;\">\n",
       "      <th></th>\n",
       "      <th>ein</th>\n",
       "      <th>name_org</th>\n",
       "      <th>tax_date_begin</th>\n",
       "      <th>tax_date_end</th>\n",
       "      <th>tax_yr</th>\n",
       "      <th>doing_business_as</th>\n",
       "      <th>phone</th>\n",
       "      <th>website</th>\n",
       "      <th>address</th>\n",
       "      <th>city</th>\n",
       "      <th>state</th>\n",
       "      <th>country</th>\n",
       "      <th>zip</th>\n",
       "      <th>org_form.corp</th>\n",
       "      <th>org_form.trust</th>\n",
       "      <th>org_form.association</th>\n",
       "      <th>org_form.other_form</th>\n",
       "      <th>org_form.other_form_desc</th>\n",
       "      <th>formation_yr</th>\n",
       "      <th>grp_exempt_num</th>\n",
       "      <th>state_legaldomicile</th>\n",
       "      <th>grp_return</th>\n",
       "      <th>grp_subs_all_incl</th>\n",
       "      <th>exempt_status.501c3</th>\n",
       "      <th>exempt_status.501c_any</th>\n",
       "      <th>exempt_status.501c_txt</th>\n",
       "      <th>gross_receipts</th>\n",
       "      <th>discontinue_dispose25</th>\n",
       "      <th>voting_memb_ct</th>\n",
       "      <th>voting_indepmemb_ct</th>\n",
       "      <th>employee_tot_ct</th>\n",
       "      <th>volunteer_tot_ct</th>\n",
       "      <th>income_tot_unrelated</th>\n",
       "      <th>income_net_unrelated</th>\n",
       "      <th>rev_giftsgrants_tot_prioryr</th>\n",
       "      <th>rev_prgmservice_prioryr</th>\n",
       "      <th>rev_investmt_prioryr</th>\n",
       "      <th>rev_other_prioryr</th>\n",
       "      <th>rev_tot_prioryr</th>\n",
       "      <th>grants_expense_tot_prioryr</th>\n",
       "      <th>benefits_expense_tot_prioryr</th>\n",
       "      <th>salaries_expense_tot_prioryr</th>\n",
       "      <th>fundraiseservfee_expense_tot_prioryr</th>\n",
       "      <th>fundraise_expense_tot_curyr</th>\n",
       "      <th>other_expense_tot_prioryr</th>\n",
       "      <th>expense_tot_prioryr</th>\n",
       "      <th>rev_less_expense_prioryr</th>\n",
       "      <th>asset_tot_beginyr</th>\n",
       "      <th>liability_tot_beginyr</th>\n",
       "      <th>asset_net_beginyr</th>\n",
       "      <th>rev_giftsgrants_tot_curyr</th>\n",
       "      <th>rev_prgmservice_curyr</th>\n",
       "      <th>rev_investmt_curyr</th>\n",
       "      <th>rev_other_curyr</th>\n",
       "      <th>rev_tot_curyr</th>\n",
       "      <th>grants_expense_tot_curyr</th>\n",
       "      <th>benefits_expense_tot_curyr</th>\n",
       "      <th>salaries_expense_tot_curyr</th>\n",
       "      <th>fundraiseservfee_expense_tot_curyr</th>\n",
       "      <th>other_expense_tot_curyr</th>\n",
       "      <th>expense_tot_curyr</th>\n",
       "      <th>rev_less_expense_curyr</th>\n",
       "      <th>asset_tot_endyr</th>\n",
       "      <th>liability_tot_endyr</th>\n",
       "      <th>asset_net_endyr</th>\n",
       "      <th>name_contractor_1</th>\n",
       "      <th>address_contractor_1</th>\n",
       "      <th>city_contractor_1</th>\n",
       "      <th>state_contractor_1</th>\n",
       "      <th>zip_contractor_1</th>\n",
       "      <th>country_contractor_1</th>\n",
       "      <th>services_contractor_1</th>\n",
       "      <th>amt_paid_contractor_1</th>\n",
       "      <th>name_contractor_2</th>\n",
       "      <th>address_contractor_2</th>\n",
       "      <th>city_contractor_2</th>\n",
       "      <th>state_contractor_2</th>\n",
       "      <th>zip_contractor_2</th>\n",
       "      <th>country_contractor_2</th>\n",
       "      <th>services_contractor_2</th>\n",
       "      <th>amt_paid_contractor_2</th>\n",
       "      <th>name_contractor_3</th>\n",
       "      <th>address_contractor_3</th>\n",
       "      <th>city_contractor_3</th>\n",
       "      <th>state_contractor_3</th>\n",
       "      <th>zip_contractor_3</th>\n",
       "      <th>country_contractor_3</th>\n",
       "      <th>services_contractor_3</th>\n",
       "      <th>amt_paid_contractor_3</th>\n",
       "      <th>name_contractor_4</th>\n",
       "      <th>address_contractor_4</th>\n",
       "      <th>city_contractor_4</th>\n",
       "      <th>state_contractor_4</th>\n",
       "      <th>zip_contractor_4</th>\n",
       "      <th>country_contractor_4</th>\n",
       "      <th>services_contractor_4</th>\n",
       "      <th>amt_paid_contractor_4</th>\n",
       "      <th>name_contractor_5</th>\n",
       "      <th>address_contractor_5</th>\n",
       "      <th>city_contractor_5</th>\n",
       "      <th>state_contractor_5</th>\n",
       "      <th>zip_contractor_5</th>\n",
       "      <th>country_contractor_5</th>\n",
       "      <th>services_contractor_5</th>\n",
       "      <th>amt_paid_contractor_5</th>\n",
       "      <th>contractor_100k_ct</th>\n",
       "      <th>record_id</th>\n",
       "      <th>schema_version</th>\n",
       "      <th>irs_efile_id</th>\n",
       "      <th>random_string</th>\n",
       "      <th>con_ct_div_emp_ct</th>\n",
       "    </tr>\n",
       "  </thead>\n",
       "  <tbody>\n",
       "    <tr>\n",
       "      <td>13</td>\n",
       "      <td>10056837</td>\n",
       "      <td>EASTERN MAINE ELECTRIC COOPERATIVE INC</td>\n",
       "      <td>2016-01-01</td>\n",
       "      <td>2016-12-31</td>\n",
       "      <td>2016</td>\n",
       "      <td>NaN</td>\n",
       "      <td>+1 (207) 454-7555</td>\n",
       "      <td>www.emec.com</td>\n",
       "      <td>PO Box 425</td>\n",
       "      <td>Calais</td>\n",
       "      <td>ME</td>\n",
       "      <td>NaN</td>\n",
       "      <td>046190425</td>\n",
       "      <td>True</td>\n",
       "      <td>NaN</td>\n",
       "      <td>NaN</td>\n",
       "      <td>NaN</td>\n",
       "      <td>NaN</td>\n",
       "      <td>1940.0</td>\n",
       "      <td>NaN</td>\n",
       "      <td>ME</td>\n",
       "      <td>no</td>\n",
       "      <td>NaN</td>\n",
       "      <td>NaN</td>\n",
       "      <td>True</td>\n",
       "      <td>12.0</td>\n",
       "      <td>15549792</td>\n",
       "      <td>NaN</td>\n",
       "      <td>11</td>\n",
       "      <td>11</td>\n",
       "      <td>37</td>\n",
       "      <td>0.0</td>\n",
       "      <td>0</td>\n",
       "      <td>0.0</td>\n",
       "      <td>0.0</td>\n",
       "      <td>15540869.0</td>\n",
       "      <td>280449.0</td>\n",
       "      <td>0.0</td>\n",
       "      <td>15821318.0</td>\n",
       "      <td>0.0</td>\n",
       "      <td>352726.0</td>\n",
       "      <td>1774024.0</td>\n",
       "      <td>0.0</td>\n",
       "      <td>0</td>\n",
       "      <td>13694568.0</td>\n",
       "      <td>15821318.0</td>\n",
       "      <td>0.0</td>\n",
       "      <td>39372255.0</td>\n",
       "      <td>26541056.0</td>\n",
       "      <td>12831199.0</td>\n",
       "      <td>0</td>\n",
       "      <td>15214173</td>\n",
       "      <td>335619</td>\n",
       "      <td>0</td>\n",
       "      <td>15549792</td>\n",
       "      <td>0</td>\n",
       "      <td>-242865</td>\n",
       "      <td>1753677</td>\n",
       "      <td>0</td>\n",
       "      <td>14038980</td>\n",
       "      <td>15549792</td>\n",
       "      <td>0</td>\n",
       "      <td>39367859</td>\n",
       "      <td>26785093</td>\n",
       "      <td>12582766</td>\n",
       "      <td>Lucas Tree Experts</td>\n",
       "      <td>PO Box 958</td>\n",
       "      <td>Portland</td>\n",
       "      <td>ME</td>\n",
       "      <td>04104</td>\n",
       "      <td>NaN</td>\n",
       "      <td>Tree Clearing Work</td>\n",
       "      <td>144757.0</td>\n",
       "      <td>Preti Flaherty Beliveau Pachios LLP</td>\n",
       "      <td>PO Box 9546</td>\n",
       "      <td>Portland</td>\n",
       "      <td>ME</td>\n",
       "      <td>04112</td>\n",
       "      <td>NaN</td>\n",
       "      <td>Legal</td>\n",
       "      <td>284923.0</td>\n",
       "      <td>On Target Utility Services</td>\n",
       "      <td>617 Water St</td>\n",
       "      <td>Gardiner</td>\n",
       "      <td>ME</td>\n",
       "      <td>04345</td>\n",
       "      <td>NaN</td>\n",
       "      <td>Utility Construction</td>\n",
       "      <td>526681.0</td>\n",
       "      <td>NaN</td>\n",
       "      <td>NaN</td>\n",
       "      <td>NaN</td>\n",
       "      <td>NaN</td>\n",
       "      <td>NaN</td>\n",
       "      <td>NaN</td>\n",
       "      <td>NaN</td>\n",
       "      <td>NaN</td>\n",
       "      <td>NaN</td>\n",
       "      <td>NaN</td>\n",
       "      <td>NaN</td>\n",
       "      <td>NaN</td>\n",
       "      <td>NaN</td>\n",
       "      <td>NaN</td>\n",
       "      <td>NaN</td>\n",
       "      <td>NaN</td>\n",
       "      <td>3.0</td>\n",
       "      <td>010056837_201612</td>\n",
       "      <td>2016v3.0</td>\n",
       "      <td>201722499349300607</td>\n",
       "      <td>NTk1ODY4MDk3ODk3NjYyMDY2OQ</td>\n",
       "      <td>0.050847</td>\n",
       "    </tr>\n",
       "    <tr>\n",
       "      <td>17</td>\n",
       "      <td>10079380</td>\n",
       "      <td>CPORT CREDIT UNION</td>\n",
       "      <td>2016-01-01</td>\n",
       "      <td>2016-12-31</td>\n",
       "      <td>2016</td>\n",
       "      <td>NaN</td>\n",
       "      <td>+1 (207) 878-6200</td>\n",
       "      <td>WWW.CPORTCU.ORG</td>\n",
       "      <td>PO BOX 777</td>\n",
       "      <td>PORTLAND</td>\n",
       "      <td>ME</td>\n",
       "      <td>NaN</td>\n",
       "      <td>04104</td>\n",
       "      <td>True</td>\n",
       "      <td>NaN</td>\n",
       "      <td>NaN</td>\n",
       "      <td>NaN</td>\n",
       "      <td>NaN</td>\n",
       "      <td>1931.0</td>\n",
       "      <td>NaN</td>\n",
       "      <td>ME</td>\n",
       "      <td>no</td>\n",
       "      <td>NaN</td>\n",
       "      <td>NaN</td>\n",
       "      <td>True</td>\n",
       "      <td>14.0</td>\n",
       "      <td>9472036</td>\n",
       "      <td>NaN</td>\n",
       "      <td>9</td>\n",
       "      <td>8</td>\n",
       "      <td>81</td>\n",
       "      <td>8.0</td>\n",
       "      <td>52565</td>\n",
       "      <td>-75519.0</td>\n",
       "      <td>0.0</td>\n",
       "      <td>8093378.0</td>\n",
       "      <td>128192.0</td>\n",
       "      <td>162461.0</td>\n",
       "      <td>8384031.0</td>\n",
       "      <td>0.0</td>\n",
       "      <td>850819.0</td>\n",
       "      <td>3076199.0</td>\n",
       "      <td>0.0</td>\n",
       "      <td>0</td>\n",
       "      <td>3456770.0</td>\n",
       "      <td>7383788.0</td>\n",
       "      <td>1000243.0</td>\n",
       "      <td>173898488.0</td>\n",
       "      <td>157544120.0</td>\n",
       "      <td>16354368.0</td>\n",
       "      <td>0</td>\n",
       "      <td>9089872</td>\n",
       "      <td>158726</td>\n",
       "      <td>223438</td>\n",
       "      <td>9472036</td>\n",
       "      <td>0</td>\n",
       "      <td>752626</td>\n",
       "      <td>3404135</td>\n",
       "      <td>0</td>\n",
       "      <td>4052976</td>\n",
       "      <td>8209737</td>\n",
       "      <td>1262299</td>\n",
       "      <td>188534687</td>\n",
       "      <td>170915216</td>\n",
       "      <td>17619471</td>\n",
       "      <td>SYNERGENT</td>\n",
       "      <td>2 LEDGEVIEW DRIVE</td>\n",
       "      <td>WESTBROOK</td>\n",
       "      <td>ME</td>\n",
       "      <td>04092</td>\n",
       "      <td>NaN</td>\n",
       "      <td>CORE PROCESSING AND RELATED SERVICES</td>\n",
       "      <td>806186.0</td>\n",
       "      <td>SYSTEMS ENGINEERING</td>\n",
       "      <td>120 EXCHANGE STREET</td>\n",
       "      <td>PORTLAND</td>\n",
       "      <td>ME</td>\n",
       "      <td>04101</td>\n",
       "      <td>NaN</td>\n",
       "      <td>INFORMATION TECH. SERVICES</td>\n",
       "      <td>171160.0</td>\n",
       "      <td>PM SYSTEMS (ACI WORLDWIDE CORP)</td>\n",
       "      <td>99944 COLLECTION CENTER DR</td>\n",
       "      <td>CHICAGO</td>\n",
       "      <td>IL</td>\n",
       "      <td>60693</td>\n",
       "      <td>NaN</td>\n",
       "      <td>ONLINE BANKING PROVIDER</td>\n",
       "      <td>147655.0</td>\n",
       "      <td>NaN</td>\n",
       "      <td>NaN</td>\n",
       "      <td>NaN</td>\n",
       "      <td>NaN</td>\n",
       "      <td>NaN</td>\n",
       "      <td>NaN</td>\n",
       "      <td>NaN</td>\n",
       "      <td>NaN</td>\n",
       "      <td>NaN</td>\n",
       "      <td>NaN</td>\n",
       "      <td>NaN</td>\n",
       "      <td>NaN</td>\n",
       "      <td>NaN</td>\n",
       "      <td>NaN</td>\n",
       "      <td>NaN</td>\n",
       "      <td>NaN</td>\n",
       "      <td>3.0</td>\n",
       "      <td>010079380_201612</td>\n",
       "      <td>2016v3.0</td>\n",
       "      <td>201713179349301261</td>\n",
       "      <td>NTAxNDUzNjQ4MzgwNDIzMTg2MA</td>\n",
       "      <td>0.028302</td>\n",
       "    </tr>\n",
       "    <tr>\n",
       "      <td>27</td>\n",
       "      <td>10114035</td>\n",
       "      <td>Maine Education Association</td>\n",
       "      <td>2015-09-01</td>\n",
       "      <td>2016-08-31</td>\n",
       "      <td>2016</td>\n",
       "      <td>NaN</td>\n",
       "      <td>+1 (207) 622-5866</td>\n",
       "      <td>www.maine.nea.org</td>\n",
       "      <td>35 Community Drive</td>\n",
       "      <td>Augusta</td>\n",
       "      <td>ME</td>\n",
       "      <td>NaN</td>\n",
       "      <td>04330</td>\n",
       "      <td>True</td>\n",
       "      <td>NaN</td>\n",
       "      <td>NaN</td>\n",
       "      <td>NaN</td>\n",
       "      <td>NaN</td>\n",
       "      <td>1859.0</td>\n",
       "      <td>NaN</td>\n",
       "      <td>ME</td>\n",
       "      <td>no</td>\n",
       "      <td>NaN</td>\n",
       "      <td>NaN</td>\n",
       "      <td>True</td>\n",
       "      <td>5.0</td>\n",
       "      <td>8503978</td>\n",
       "      <td>NaN</td>\n",
       "      <td>21</td>\n",
       "      <td>19</td>\n",
       "      <td>53</td>\n",
       "      <td>200.0</td>\n",
       "      <td>16110</td>\n",
       "      <td>0.0</td>\n",
       "      <td>676851.0</td>\n",
       "      <td>7646167.0</td>\n",
       "      <td>31555.0</td>\n",
       "      <td>0.0</td>\n",
       "      <td>8354573.0</td>\n",
       "      <td>152815.0</td>\n",
       "      <td>0.0</td>\n",
       "      <td>6033969.0</td>\n",
       "      <td>0.0</td>\n",
       "      <td>0</td>\n",
       "      <td>2223320.0</td>\n",
       "      <td>8410104.0</td>\n",
       "      <td>-55531.0</td>\n",
       "      <td>3510564.0</td>\n",
       "      <td>820701.0</td>\n",
       "      <td>2689863.0</td>\n",
       "      <td>778662</td>\n",
       "      <td>7607073</td>\n",
       "      <td>45921</td>\n",
       "      <td>0</td>\n",
       "      <td>8431656</td>\n",
       "      <td>224247</td>\n",
       "      <td>0</td>\n",
       "      <td>6018982</td>\n",
       "      <td>0</td>\n",
       "      <td>2118455</td>\n",
       "      <td>8361684</td>\n",
       "      <td>69972</td>\n",
       "      <td>3640881</td>\n",
       "      <td>852359</td>\n",
       "      <td>2788522</td>\n",
       "      <td>David H Simonds Esq</td>\n",
       "      <td>15 Columbia St Suite 303</td>\n",
       "      <td>Bangor</td>\n",
       "      <td>ME</td>\n",
       "      <td>04401</td>\n",
       "      <td>NaN</td>\n",
       "      <td>Legal Assistance to Members</td>\n",
       "      <td>189920.0</td>\n",
       "      <td>Cloutier Conley &amp; Duffett PA</td>\n",
       "      <td>465 Congress St</td>\n",
       "      <td>Portland</td>\n",
       "      <td>ME</td>\n",
       "      <td>04101</td>\n",
       "      <td>NaN</td>\n",
       "      <td>Legal Assistance to Members</td>\n",
       "      <td>156494.0</td>\n",
       "      <td>Donald Fontaine</td>\n",
       "      <td>97 India St</td>\n",
       "      <td>Portland</td>\n",
       "      <td>ME</td>\n",
       "      <td>04112</td>\n",
       "      <td>NaN</td>\n",
       "      <td>Legal Assistance to Members</td>\n",
       "      <td>102211.0</td>\n",
       "      <td>NaN</td>\n",
       "      <td>NaN</td>\n",
       "      <td>NaN</td>\n",
       "      <td>NaN</td>\n",
       "      <td>NaN</td>\n",
       "      <td>NaN</td>\n",
       "      <td>NaN</td>\n",
       "      <td>NaN</td>\n",
       "      <td>NaN</td>\n",
       "      <td>NaN</td>\n",
       "      <td>NaN</td>\n",
       "      <td>NaN</td>\n",
       "      <td>NaN</td>\n",
       "      <td>NaN</td>\n",
       "      <td>NaN</td>\n",
       "      <td>NaN</td>\n",
       "      <td>3.0</td>\n",
       "      <td>010114035_201608</td>\n",
       "      <td>2015v3.0</td>\n",
       "      <td>201730689349300343</td>\n",
       "      <td>ODg3ODg0MjA3NjI5OTA5ODA1Nw</td>\n",
       "      <td>0.010239</td>\n",
       "    </tr>\n",
       "    <tr>\n",
       "      <td>37</td>\n",
       "      <td>10130427</td>\n",
       "      <td>BRIDGTON HOSPITAL</td>\n",
       "      <td>2015-07-01</td>\n",
       "      <td>2016-06-30</td>\n",
       "      <td>2016</td>\n",
       "      <td>NaN</td>\n",
       "      <td>+1 (207) 795-2972</td>\n",
       "      <td>WWW.BRIDGTONHOSPITAL.ORG</td>\n",
       "      <td>29 LOWELL STREET BOX A</td>\n",
       "      <td>LEWISTON</td>\n",
       "      <td>ME</td>\n",
       "      <td>NaN</td>\n",
       "      <td>04240</td>\n",
       "      <td>True</td>\n",
       "      <td>NaN</td>\n",
       "      <td>NaN</td>\n",
       "      <td>NaN</td>\n",
       "      <td>NaN</td>\n",
       "      <td>1917.0</td>\n",
       "      <td>NaN</td>\n",
       "      <td>ME</td>\n",
       "      <td>no</td>\n",
       "      <td>NaN</td>\n",
       "      <td>True</td>\n",
       "      <td>NaN</td>\n",
       "      <td>NaN</td>\n",
       "      <td>57422298</td>\n",
       "      <td>NaN</td>\n",
       "      <td>8</td>\n",
       "      <td>7</td>\n",
       "      <td>442</td>\n",
       "      <td>15.0</td>\n",
       "      <td>0</td>\n",
       "      <td>0.0</td>\n",
       "      <td>450238.0</td>\n",
       "      <td>51510597.0</td>\n",
       "      <td>183397.0</td>\n",
       "      <td>8387.0</td>\n",
       "      <td>52152619.0</td>\n",
       "      <td>1000.0</td>\n",
       "      <td>0.0</td>\n",
       "      <td>22671669.0</td>\n",
       "      <td>0.0</td>\n",
       "      <td>0</td>\n",
       "      <td>26926818.0</td>\n",
       "      <td>49599487.0</td>\n",
       "      <td>2553132.0</td>\n",
       "      <td>57577945.0</td>\n",
       "      <td>13230564.0</td>\n",
       "      <td>44347381.0</td>\n",
       "      <td>327318</td>\n",
       "      <td>53676954</td>\n",
       "      <td>124583</td>\n",
       "      <td>19669</td>\n",
       "      <td>54148524</td>\n",
       "      <td>0</td>\n",
       "      <td>0</td>\n",
       "      <td>24500108</td>\n",
       "      <td>0</td>\n",
       "      <td>29557786</td>\n",
       "      <td>54057894</td>\n",
       "      <td>90630</td>\n",
       "      <td>56726534</td>\n",
       "      <td>12198910</td>\n",
       "      <td>44527624</td>\n",
       "      <td>INSIGHT HEALTH CORP</td>\n",
       "      <td>NaN</td>\n",
       "      <td>NaN</td>\n",
       "      <td>NaN</td>\n",
       "      <td>NaN</td>\n",
       "      <td>NaN</td>\n",
       "      <td>MEDICAL STAFFING</td>\n",
       "      <td>455436.0</td>\n",
       "      <td>SODEXO CLINICAL TECHNOLOGY</td>\n",
       "      <td>NaN</td>\n",
       "      <td>NaN</td>\n",
       "      <td>NaN</td>\n",
       "      <td>NaN</td>\n",
       "      <td>NaN</td>\n",
       "      <td>MEDICAL SERVICES</td>\n",
       "      <td>316269.0</td>\n",
       "      <td>ARUP LABORATORIES</td>\n",
       "      <td>NaN</td>\n",
       "      <td>NaN</td>\n",
       "      <td>NaN</td>\n",
       "      <td>NaN</td>\n",
       "      <td>NaN</td>\n",
       "      <td>MEDICAL SERVICES</td>\n",
       "      <td>226711.0</td>\n",
       "      <td>CPS INC</td>\n",
       "      <td>NaN</td>\n",
       "      <td>NaN</td>\n",
       "      <td>NaN</td>\n",
       "      <td>NaN</td>\n",
       "      <td>NaN</td>\n",
       "      <td>MEDICAL STAFFING</td>\n",
       "      <td>186216.0</td>\n",
       "      <td>TRI COUNTY MENTAL HEALTH SERVICES</td>\n",
       "      <td>NaN</td>\n",
       "      <td>NaN</td>\n",
       "      <td>NaN</td>\n",
       "      <td>NaN</td>\n",
       "      <td>NaN</td>\n",
       "      <td>MEDICAL SERVICES</td>\n",
       "      <td>153035.0</td>\n",
       "      <td>8.0</td>\n",
       "      <td>010130427_201606</td>\n",
       "      <td>2015v3.0</td>\n",
       "      <td>201731289349301158</td>\n",
       "      <td>ODk2OTI3NjY4OTkzMTkzODc5</td>\n",
       "      <td>0.016949</td>\n",
       "    </tr>\n",
       "    <tr>\n",
       "      <td>45</td>\n",
       "      <td>10142660</td>\n",
       "      <td>PORTLAND COUNTRY CLUB</td>\n",
       "      <td>2015-04-01</td>\n",
       "      <td>2016-03-31</td>\n",
       "      <td>2016</td>\n",
       "      <td>NaN</td>\n",
       "      <td>+1 (207) 781-2340</td>\n",
       "      <td>WWW.PORTLANDCOUNTRYCLUB.ORG</td>\n",
       "      <td>11 FORESIDE ROAD</td>\n",
       "      <td>FALMOUTH</td>\n",
       "      <td>ME</td>\n",
       "      <td>NaN</td>\n",
       "      <td>041051797</td>\n",
       "      <td>True</td>\n",
       "      <td>NaN</td>\n",
       "      <td>NaN</td>\n",
       "      <td>NaN</td>\n",
       "      <td>NaN</td>\n",
       "      <td>1895.0</td>\n",
       "      <td>NaN</td>\n",
       "      <td>ME</td>\n",
       "      <td>no</td>\n",
       "      <td>NaN</td>\n",
       "      <td>NaN</td>\n",
       "      <td>True</td>\n",
       "      <td>7.0</td>\n",
       "      <td>5974176</td>\n",
       "      <td>NaN</td>\n",
       "      <td>12</td>\n",
       "      <td>12</td>\n",
       "      <td>139</td>\n",
       "      <td>50.0</td>\n",
       "      <td>2437</td>\n",
       "      <td>1437.0</td>\n",
       "      <td>0.0</td>\n",
       "      <td>3188739.0</td>\n",
       "      <td>608.0</td>\n",
       "      <td>263734.0</td>\n",
       "      <td>3453081.0</td>\n",
       "      <td>0.0</td>\n",
       "      <td>0.0</td>\n",
       "      <td>1381856.0</td>\n",
       "      <td>0.0</td>\n",
       "      <td>0</td>\n",
       "      <td>1726973.0</td>\n",
       "      <td>3108829.0</td>\n",
       "      <td>344252.0</td>\n",
       "      <td>9803605.0</td>\n",
       "      <td>3104088.0</td>\n",
       "      <td>6699517.0</td>\n",
       "      <td>0</td>\n",
       "      <td>3507190</td>\n",
       "      <td>1347</td>\n",
       "      <td>492375</td>\n",
       "      <td>4000912</td>\n",
       "      <td>0</td>\n",
       "      <td>0</td>\n",
       "      <td>1463461</td>\n",
       "      <td>0</td>\n",
       "      <td>1791727</td>\n",
       "      <td>3255188</td>\n",
       "      <td>745724</td>\n",
       "      <td>10535130</td>\n",
       "      <td>3089889</td>\n",
       "      <td>7445241</td>\n",
       "      <td>JOHN BOSWELL</td>\n",
       "      <td>5 CLEARVIEW DRIVE</td>\n",
       "      <td>GORHAM</td>\n",
       "      <td>ME</td>\n",
       "      <td>04038</td>\n",
       "      <td>NaN</td>\n",
       "      <td>GOLF PRO</td>\n",
       "      <td>130028.0</td>\n",
       "      <td>NaN</td>\n",
       "      <td>NaN</td>\n",
       "      <td>NaN</td>\n",
       "      <td>NaN</td>\n",
       "      <td>NaN</td>\n",
       "      <td>NaN</td>\n",
       "      <td>NaN</td>\n",
       "      <td>NaN</td>\n",
       "      <td>NaN</td>\n",
       "      <td>NaN</td>\n",
       "      <td>NaN</td>\n",
       "      <td>NaN</td>\n",
       "      <td>NaN</td>\n",
       "      <td>NaN</td>\n",
       "      <td>NaN</td>\n",
       "      <td>NaN</td>\n",
       "      <td>NaN</td>\n",
       "      <td>NaN</td>\n",
       "      <td>NaN</td>\n",
       "      <td>NaN</td>\n",
       "      <td>NaN</td>\n",
       "      <td>NaN</td>\n",
       "      <td>NaN</td>\n",
       "      <td>NaN</td>\n",
       "      <td>NaN</td>\n",
       "      <td>NaN</td>\n",
       "      <td>NaN</td>\n",
       "      <td>NaN</td>\n",
       "      <td>NaN</td>\n",
       "      <td>NaN</td>\n",
       "      <td>NaN</td>\n",
       "      <td>NaN</td>\n",
       "      <td>1.0</td>\n",
       "      <td>010142660_201603</td>\n",
       "      <td>2015v2.1</td>\n",
       "      <td>201612219349301586</td>\n",
       "      <td>NDQ2OTg4OTY0MTc5ODQyNTE4NA</td>\n",
       "      <td>0.004695</td>\n",
       "    </tr>\n",
       "  </tbody>\n",
       "</table>\n",
       "</div>"
      ],
      "text/plain": [
       "         ein                                name_org tax_date_begin  \\\n",
       "13  10056837  EASTERN MAINE ELECTRIC COOPERATIVE INC     2016-01-01   \n",
       "17  10079380                      CPORT CREDIT UNION     2016-01-01   \n",
       "27  10114035             Maine Education Association     2015-09-01   \n",
       "37  10130427                       BRIDGTON HOSPITAL     2015-07-01   \n",
       "45  10142660                   PORTLAND COUNTRY CLUB     2015-04-01   \n",
       "\n",
       "   tax_date_end  tax_yr doing_business_as              phone  \\\n",
       "13   2016-12-31    2016               NaN  +1 (207) 454-7555   \n",
       "17   2016-12-31    2016               NaN  +1 (207) 878-6200   \n",
       "27   2016-08-31    2016               NaN  +1 (207) 622-5866   \n",
       "37   2016-06-30    2016               NaN  +1 (207) 795-2972   \n",
       "45   2016-03-31    2016               NaN  +1 (207) 781-2340   \n",
       "\n",
       "                        website                 address      city state  \\\n",
       "13                 www.emec.com              PO Box 425    Calais    ME   \n",
       "17              WWW.CPORTCU.ORG              PO BOX 777  PORTLAND    ME   \n",
       "27            www.maine.nea.org      35 Community Drive   Augusta    ME   \n",
       "37     WWW.BRIDGTONHOSPITAL.ORG  29 LOWELL STREET BOX A  LEWISTON    ME   \n",
       "45  WWW.PORTLANDCOUNTRYCLUB.ORG        11 FORESIDE ROAD  FALMOUTH    ME   \n",
       "\n",
       "   country        zip org_form.corp org_form.trust org_form.association  \\\n",
       "13     NaN  046190425          True            NaN                  NaN   \n",
       "17     NaN      04104          True            NaN                  NaN   \n",
       "27     NaN      04330          True            NaN                  NaN   \n",
       "37     NaN      04240          True            NaN                  NaN   \n",
       "45     NaN  041051797          True            NaN                  NaN   \n",
       "\n",
       "   org_form.other_form org_form.other_form_desc  formation_yr  grp_exempt_num  \\\n",
       "13                 NaN                      NaN        1940.0             NaN   \n",
       "17                 NaN                      NaN        1931.0             NaN   \n",
       "27                 NaN                      NaN        1859.0             NaN   \n",
       "37                 NaN                      NaN        1917.0             NaN   \n",
       "45                 NaN                      NaN        1895.0             NaN   \n",
       "\n",
       "   state_legaldomicile grp_return grp_subs_all_incl exempt_status.501c3  \\\n",
       "13                  ME         no               NaN                 NaN   \n",
       "17                  ME         no               NaN                 NaN   \n",
       "27                  ME         no               NaN                 NaN   \n",
       "37                  ME         no               NaN                True   \n",
       "45                  ME         no               NaN                 NaN   \n",
       "\n",
       "   exempt_status.501c_any  exempt_status.501c_txt  gross_receipts  \\\n",
       "13                   True                    12.0        15549792   \n",
       "17                   True                    14.0         9472036   \n",
       "27                   True                     5.0         8503978   \n",
       "37                    NaN                     NaN        57422298   \n",
       "45                   True                     7.0         5974176   \n",
       "\n",
       "   discontinue_dispose25  voting_memb_ct  voting_indepmemb_ct  \\\n",
       "13                   NaN              11                   11   \n",
       "17                   NaN               9                    8   \n",
       "27                   NaN              21                   19   \n",
       "37                   NaN               8                    7   \n",
       "45                   NaN              12                   12   \n",
       "\n",
       "    employee_tot_ct  volunteer_tot_ct  income_tot_unrelated  \\\n",
       "13               37               0.0                     0   \n",
       "17               81               8.0                 52565   \n",
       "27               53             200.0                 16110   \n",
       "37              442              15.0                     0   \n",
       "45              139              50.0                  2437   \n",
       "\n",
       "    income_net_unrelated  rev_giftsgrants_tot_prioryr  \\\n",
       "13                   0.0                          0.0   \n",
       "17              -75519.0                          0.0   \n",
       "27                   0.0                     676851.0   \n",
       "37                   0.0                     450238.0   \n",
       "45                1437.0                          0.0   \n",
       "\n",
       "    rev_prgmservice_prioryr  rev_investmt_prioryr  rev_other_prioryr  \\\n",
       "13               15540869.0              280449.0                0.0   \n",
       "17                8093378.0              128192.0           162461.0   \n",
       "27                7646167.0               31555.0                0.0   \n",
       "37               51510597.0              183397.0             8387.0   \n",
       "45                3188739.0                 608.0           263734.0   \n",
       "\n",
       "    rev_tot_prioryr  grants_expense_tot_prioryr  benefits_expense_tot_prioryr  \\\n",
       "13       15821318.0                         0.0                      352726.0   \n",
       "17        8384031.0                         0.0                      850819.0   \n",
       "27        8354573.0                    152815.0                           0.0   \n",
       "37       52152619.0                      1000.0                           0.0   \n",
       "45        3453081.0                         0.0                           0.0   \n",
       "\n",
       "    salaries_expense_tot_prioryr  fundraiseservfee_expense_tot_prioryr  \\\n",
       "13                     1774024.0                                   0.0   \n",
       "17                     3076199.0                                   0.0   \n",
       "27                     6033969.0                                   0.0   \n",
       "37                    22671669.0                                   0.0   \n",
       "45                     1381856.0                                   0.0   \n",
       "\n",
       "    fundraise_expense_tot_curyr  other_expense_tot_prioryr  \\\n",
       "13                            0                 13694568.0   \n",
       "17                            0                  3456770.0   \n",
       "27                            0                  2223320.0   \n",
       "37                            0                 26926818.0   \n",
       "45                            0                  1726973.0   \n",
       "\n",
       "    expense_tot_prioryr  rev_less_expense_prioryr  asset_tot_beginyr  \\\n",
       "13           15821318.0                       0.0         39372255.0   \n",
       "17            7383788.0                 1000243.0        173898488.0   \n",
       "27            8410104.0                  -55531.0          3510564.0   \n",
       "37           49599487.0                 2553132.0         57577945.0   \n",
       "45            3108829.0                  344252.0          9803605.0   \n",
       "\n",
       "    liability_tot_beginyr  asset_net_beginyr  rev_giftsgrants_tot_curyr  \\\n",
       "13             26541056.0         12831199.0                          0   \n",
       "17            157544120.0         16354368.0                          0   \n",
       "27               820701.0          2689863.0                     778662   \n",
       "37             13230564.0         44347381.0                     327318   \n",
       "45              3104088.0          6699517.0                          0   \n",
       "\n",
       "    rev_prgmservice_curyr  rev_investmt_curyr  rev_other_curyr  rev_tot_curyr  \\\n",
       "13               15214173              335619                0       15549792   \n",
       "17                9089872              158726           223438        9472036   \n",
       "27                7607073               45921                0        8431656   \n",
       "37               53676954              124583            19669       54148524   \n",
       "45                3507190                1347           492375        4000912   \n",
       "\n",
       "    grants_expense_tot_curyr  benefits_expense_tot_curyr  \\\n",
       "13                         0                     -242865   \n",
       "17                         0                      752626   \n",
       "27                    224247                           0   \n",
       "37                         0                           0   \n",
       "45                         0                           0   \n",
       "\n",
       "    salaries_expense_tot_curyr  fundraiseservfee_expense_tot_curyr  \\\n",
       "13                     1753677                                   0   \n",
       "17                     3404135                                   0   \n",
       "27                     6018982                                   0   \n",
       "37                    24500108                                   0   \n",
       "45                     1463461                                   0   \n",
       "\n",
       "    other_expense_tot_curyr  expense_tot_curyr  rev_less_expense_curyr  \\\n",
       "13                 14038980           15549792                       0   \n",
       "17                  4052976            8209737                 1262299   \n",
       "27                  2118455            8361684                   69972   \n",
       "37                 29557786           54057894                   90630   \n",
       "45                  1791727            3255188                  745724   \n",
       "\n",
       "    asset_tot_endyr  liability_tot_endyr  asset_net_endyr  \\\n",
       "13         39367859             26785093         12582766   \n",
       "17        188534687            170915216         17619471   \n",
       "27          3640881               852359          2788522   \n",
       "37         56726534             12198910         44527624   \n",
       "45         10535130              3089889          7445241   \n",
       "\n",
       "      name_contractor_1      address_contractor_1 city_contractor_1  \\\n",
       "13   Lucas Tree Experts                PO Box 958          Portland   \n",
       "17            SYNERGENT         2 LEDGEVIEW DRIVE         WESTBROOK   \n",
       "27  David H Simonds Esq  15 Columbia St Suite 303            Bangor   \n",
       "37  INSIGHT HEALTH CORP                       NaN               NaN   \n",
       "45         JOHN BOSWELL         5 CLEARVIEW DRIVE            GORHAM   \n",
       "\n",
       "   state_contractor_1 zip_contractor_1 country_contractor_1  \\\n",
       "13                 ME            04104                  NaN   \n",
       "17                 ME            04092                  NaN   \n",
       "27                 ME            04401                  NaN   \n",
       "37                NaN              NaN                  NaN   \n",
       "45                 ME            04038                  NaN   \n",
       "\n",
       "                   services_contractor_1  amt_paid_contractor_1  \\\n",
       "13                    Tree Clearing Work               144757.0   \n",
       "17  CORE PROCESSING AND RELATED SERVICES               806186.0   \n",
       "27           Legal Assistance to Members               189920.0   \n",
       "37                      MEDICAL STAFFING               455436.0   \n",
       "45                              GOLF PRO               130028.0   \n",
       "\n",
       "                      name_contractor_2 address_contractor_2  \\\n",
       "13  Preti Flaherty Beliveau Pachios LLP          PO Box 9546   \n",
       "17                  SYSTEMS ENGINEERING  120 EXCHANGE STREET   \n",
       "27         Cloutier Conley & Duffett PA      465 Congress St   \n",
       "37           SODEXO CLINICAL TECHNOLOGY                  NaN   \n",
       "45                                  NaN                  NaN   \n",
       "\n",
       "   city_contractor_2 state_contractor_2 zip_contractor_2 country_contractor_2  \\\n",
       "13          Portland                 ME            04112                  NaN   \n",
       "17          PORTLAND                 ME            04101                  NaN   \n",
       "27          Portland                 ME            04101                  NaN   \n",
       "37               NaN                NaN              NaN                  NaN   \n",
       "45               NaN                NaN              NaN                  NaN   \n",
       "\n",
       "          services_contractor_2  amt_paid_contractor_2  \\\n",
       "13                        Legal               284923.0   \n",
       "17   INFORMATION TECH. SERVICES               171160.0   \n",
       "27  Legal Assistance to Members               156494.0   \n",
       "37             MEDICAL SERVICES               316269.0   \n",
       "45                          NaN                    NaN   \n",
       "\n",
       "                  name_contractor_3        address_contractor_3  \\\n",
       "13       On Target Utility Services                617 Water St   \n",
       "17  PM SYSTEMS (ACI WORLDWIDE CORP)  99944 COLLECTION CENTER DR   \n",
       "27                  Donald Fontaine                 97 India St   \n",
       "37                ARUP LABORATORIES                         NaN   \n",
       "45                              NaN                         NaN   \n",
       "\n",
       "   city_contractor_3 state_contractor_3 zip_contractor_3 country_contractor_3  \\\n",
       "13          Gardiner                 ME            04345                  NaN   \n",
       "17           CHICAGO                 IL            60693                  NaN   \n",
       "27          Portland                 ME            04112                  NaN   \n",
       "37               NaN                NaN              NaN                  NaN   \n",
       "45               NaN                NaN              NaN                  NaN   \n",
       "\n",
       "          services_contractor_3  amt_paid_contractor_3 name_contractor_4  \\\n",
       "13         Utility Construction               526681.0               NaN   \n",
       "17      ONLINE BANKING PROVIDER               147655.0               NaN   \n",
       "27  Legal Assistance to Members               102211.0               NaN   \n",
       "37             MEDICAL SERVICES               226711.0           CPS INC   \n",
       "45                          NaN                    NaN               NaN   \n",
       "\n",
       "   address_contractor_4 city_contractor_4 state_contractor_4 zip_contractor_4  \\\n",
       "13                  NaN               NaN                NaN              NaN   \n",
       "17                  NaN               NaN                NaN              NaN   \n",
       "27                  NaN               NaN                NaN              NaN   \n",
       "37                  NaN               NaN                NaN              NaN   \n",
       "45                  NaN               NaN                NaN              NaN   \n",
       "\n",
       "   country_contractor_4 services_contractor_4  amt_paid_contractor_4  \\\n",
       "13                  NaN                   NaN                    NaN   \n",
       "17                  NaN                   NaN                    NaN   \n",
       "27                  NaN                   NaN                    NaN   \n",
       "37                  NaN      MEDICAL STAFFING               186216.0   \n",
       "45                  NaN                   NaN                    NaN   \n",
       "\n",
       "                    name_contractor_5 address_contractor_5 city_contractor_5  \\\n",
       "13                                NaN                  NaN               NaN   \n",
       "17                                NaN                  NaN               NaN   \n",
       "27                                NaN                  NaN               NaN   \n",
       "37  TRI COUNTY MENTAL HEALTH SERVICES                  NaN               NaN   \n",
       "45                                NaN                  NaN               NaN   \n",
       "\n",
       "   state_contractor_5 zip_contractor_5 country_contractor_5  \\\n",
       "13                NaN              NaN                  NaN   \n",
       "17                NaN              NaN                  NaN   \n",
       "27                NaN              NaN                  NaN   \n",
       "37                NaN              NaN                  NaN   \n",
       "45                NaN              NaN                  NaN   \n",
       "\n",
       "   services_contractor_5  amt_paid_contractor_5  contractor_100k_ct  \\\n",
       "13                   NaN                    NaN                 3.0   \n",
       "17                   NaN                    NaN                 3.0   \n",
       "27                   NaN                    NaN                 3.0   \n",
       "37      MEDICAL SERVICES               153035.0                 8.0   \n",
       "45                   NaN                    NaN                 1.0   \n",
       "\n",
       "           record_id schema_version        irs_efile_id  \\\n",
       "13  010056837_201612       2016v3.0  201722499349300607   \n",
       "17  010079380_201612       2016v3.0  201713179349301261   \n",
       "27  010114035_201608       2015v3.0  201730689349300343   \n",
       "37  010130427_201606       2015v3.0  201731289349301158   \n",
       "45  010142660_201603       2015v2.1  201612219349301586   \n",
       "\n",
       "                 random_string  con_ct_div_emp_ct  \n",
       "13  NTk1ODY4MDk3ODk3NjYyMDY2OQ           0.050847  \n",
       "17  NTAxNDUzNjQ4MzgwNDIzMTg2MA           0.028302  \n",
       "27  ODg3ODg0MjA3NjI5OTA5ODA1Nw           0.010239  \n",
       "37    ODk2OTI3NjY4OTkzMTkzODc5           0.016949  \n",
       "45  NDQ2OTg4OTY0MTc5ODQyNTE4NA           0.004695  "
      ]
     },
     "execution_count": 249,
     "metadata": {},
     "output_type": "execute_result"
    }
   ],
   "source": [
    "df_con.head()"
   ]
  },
  {
   "cell_type": "markdown",
   "metadata": {},
   "source": [
    "###  General Visualization"
   ]
  },
  {
   "cell_type": "code",
   "execution_count": null,
   "metadata": {},
   "outputs": [],
   "source": [
    "# show histogram for each outlier column\n",
    "# to show the distribution of the data\n",
    "\n",
    "fig = plt.figure(figsize=(15, 30))\n",
    "\n",
    "for i, column in enumerate(life_exp.columns[3:]):\n",
    "    plt.subplot(ceil(len(life_exp.columns[3:])/3), 3, i+1)\n",
    "    plt.title(column)\n",
    "    plt.scatter(life_exp['life_expectancy_'], life_exp[column], color='brown', alpha=.03);"
   ]
  },
  {
   "cell_type": "code",
   "execution_count": 243,
   "metadata": {},
   "outputs": [
    {
     "data": {
      "text/plain": [
       "13    3.0\n",
       "17    3.0\n",
       "27    3.0\n",
       "37    8.0\n",
       "45    1.0\n",
       "Name: contractor_100k_ct, dtype: float64"
      ]
     },
     "execution_count": 243,
     "metadata": {},
     "output_type": "execute_result"
    }
   ],
   "source": [
    "df_con.contractor_100k_ct.head()"
   ]
  },
  {
   "cell_type": "code",
   "execution_count": 246,
   "metadata": {},
   "outputs": [
    {
     "data": {
      "image/png": "[encoded data removed]",
      "text/plain": [
       "<Figure size 720x1080 with 4 Axes>"
      ]
     },
     "metadata": {
      "needs_background": "light"
     },
     "output_type": "display_data"
    }
   ],
   "source": [
    "# graph employees against contractor count\n",
    "fig = plt.figure(figsize=(10, 15))\n",
    "\n",
    "for i, column in enumerate(list(df_con.loc[:,'voting_memb_ct' : 'volunteer_tot_ct'].columns)):\n",
    "    plt.subplot(4, 1, i+1)\n",
    "    plt.title(column)\n",
    "    plt.scatter(df_con.contractor_100k_ct, df_con[column], color='brown', alpha=.03);\n"
   ]
  },
  {
   "cell_type": "code",
   "execution_count": 246,
   "metadata": {},
   "outputs": [
    {
     "data": {
      "image/png": "[encoded data removed]",
      "text/plain": [
       "<Figure size 720x1080 with 4 Axes>"
      ]
     },
     "metadata": {
      "needs_background": "light"
     },
     "output_type": "display_data"
    }
   ],
   "source": [
    "# graph employees against revenue\n",
    "fig = plt.figure(figsize=(10, 15))\n",
    "\n",
    "for i, column in enumerate(list(df_con.loc[:,'voting_memb_ct' : 'volunteer_tot_ct'].columns)):\n",
    "    plt.subplot(4, 1, i+1)\n",
    "    plt.title(column)\n",
    "    plt.scatter(df_con.contractor_100k_ct, df_con[column], color='brown', alpha=.03);\n"
   ]
  },
  {
   "cell_type": "code",
   "execution_count": null,
   "metadata": {},
   "outputs": [],
   "source": []
  },
  {
   "cell_type": "code",
   "execution_count": null,
   "metadata": {},
   "outputs": [],
   "source": []
  },
  {
   "cell_type": "code",
   "execution_count": 254,
   "metadata": {},
   "outputs": [
    {
     "data": {
      "image/png": "[encoded data removed]",
      "text/plain": [
       "<Figure size 720x1080 with 4 Axes>"
      ]
     },
     "metadata": {
      "needs_background": "light"
     },
     "output_type": "display_data"
    }
   ],
   "source": [
    "# graph employees against gross receipts\n",
    "fig = plt.figure(figsize=(10, 15))\n",
    "\n",
    "for i, column in enumerate(list(df_con.loc[:,'voting_memb_ct' : 'volunteer_tot_ct'].columns)):\n",
    "    plt.subplot(4, 1, i+1)\n",
    "    plt.title(column)\n",
    "    plt.scatter(df_con.gross_receipts, df_con[column], color='brown', alpha=.03);\n"
   ]
  },
  {
   "cell_type": "code",
   "execution_count": null,
   "metadata": {},
   "outputs": [],
   "source": []
  },
  {
   "cell_type": "code",
   "execution_count": 251,
   "metadata": {},
   "outputs": [],
   "source": [
    "# fill na for financial data\n",
    "# fill nans with 0 so that I can perform math on these amounts\n",
    "\n",
    "for column in list(df_con.loc[:,'income_tot_unrelated' : 'asset_net_endyr'].columns):\n",
    "    df_con[column].fillna(0, inplace=True)"
   ]
  },
  {
   "cell_type": "code",
   "execution_count": 252,
   "metadata": {},
   "outputs": [
    {
     "name": "stdout",
     "output_type": "stream",
     "text": [
      "0\n",
      "0\n",
      "0\n",
      "0\n",
      "0\n",
      "0\n",
      "0\n",
      "0\n",
      "0\n",
      "0\n",
      "0\n",
      "0\n",
      "0\n",
      "0\n",
      "0\n",
      "0\n",
      "0\n",
      "0\n",
      "0\n",
      "0\n",
      "0\n",
      "0\n",
      "0\n",
      "0\n",
      "0\n",
      "0\n",
      "0\n",
      "0\n",
      "0\n",
      "0\n",
      "0\n",
      "0\n",
      "0\n"
     ]
    }
   ],
   "source": [
    "for column in list(df_con.loc[:,'income_tot_unrelated' : 'asset_net_endyr'].columns):\n",
    "    print(df_con[column].isna().sum())"
   ]
  },
  {
   "cell_type": "code",
   "execution_count": null,
   "metadata": {},
   "outputs": [],
   "source": []
  },
  {
   "cell_type": "code",
   "execution_count": null,
   "metadata": {},
   "outputs": [],
   "source": []
  },
  {
   "cell_type": "code",
   "execution_count": null,
   "metadata": {},
   "outputs": [],
   "source": []
  },
  {
   "cell_type": "markdown",
   "metadata": {},
   "source": [
    "###  Employees, volunteers, and voting members as a percentage of over 100K contractors"
   ]
  },
  {
   "cell_type": "code",
   "execution_count": 63,
   "metadata": {},
   "outputs": [],
   "source": [
    "# df_con.employee_tot_ct.value_counts()"
   ]
  },
  {
   "cell_type": "code",
   "execution_count": 81,
   "metadata": {},
   "outputs": [
    {
     "name": "stdout",
     "output_type": "stream",
     "text": [
      "volunteer_tot_ct\n"
     ]
    }
   ],
   "source": [
    "# identify columns with employee in them\n",
    "for c in df.columns:\n",
    "    if 'vol' in c:\n",
    "        print(c)       "
   ]
  },
  {
   "cell_type": "code",
   "execution_count": 141,
   "metadata": {},
   "outputs": [
    {
     "name": "stdout",
     "output_type": "stream",
     "text": [
      "name_contractor_1\n",
      "address_contractor_1\n",
      "city_contractor_1\n",
      "state_contractor_1\n",
      "zip_contractor_1\n",
      "country_contractor_1\n",
      "services_contractor_1\n",
      "amt_paid_contractor_1\n",
      "name_contractor_2\n",
      "address_contractor_2\n",
      "city_contractor_2\n",
      "state_contractor_2\n",
      "zip_contractor_2\n",
      "country_contractor_2\n",
      "services_contractor_2\n",
      "amt_paid_contractor_2\n",
      "name_contractor_3\n",
      "address_contractor_3\n",
      "city_contractor_3\n",
      "state_contractor_3\n",
      "zip_contractor_3\n",
      "country_contractor_3\n",
      "services_contractor_3\n",
      "amt_paid_contractor_3\n",
      "name_contractor_4\n",
      "address_contractor_4\n",
      "city_contractor_4\n",
      "state_contractor_4\n",
      "zip_contractor_4\n",
      "country_contractor_4\n",
      "services_contractor_4\n",
      "amt_paid_contractor_4\n",
      "name_contractor_5\n",
      "address_contractor_5\n",
      "city_contractor_5\n",
      "state_contractor_5\n",
      "zip_contractor_5\n",
      "country_contractor_5\n",
      "services_contractor_5\n",
      "amt_paid_contractor_5\n",
      "contractor_100k_ct\n"
     ]
    }
   ],
   "source": [
    "# identify columns with employee in them\n",
    "for c in df.columns:\n",
    "    if 'contractor' in c:\n",
    "        print(c)       "
   ]
  },
  {
   "cell_type": "code",
   "execution_count": 150,
   "metadata": {},
   "outputs": [
    {
     "name": "stdout",
     "output_type": "stream",
     "text": [
      "contractor_100k_ct\n"
     ]
    }
   ],
   "source": [
    "# identify columns with count of vendors\n",
    "for c in df.columns:\n",
    "    if '100k_ct' in c:\n",
    "        print(c)       "
   ]
  },
  {
   "cell_type": "code",
   "execution_count": null,
   "metadata": {},
   "outputs": [],
   "source": []
  },
  {
   "cell_type": "code",
   "execution_count": 169,
   "metadata": {},
   "outputs": [],
   "source": [
    "# a number of orgs show non-null values in name_contractor_1\n",
    "# however either NaN or null in contractor_100k_ct\n",
    "# this should not be possible \n",
    "# in these cases fill in 1 in the contractor_100k_ct\n",
    "\n",
    "pd.options.mode.chained_assignment = None\n",
    "\n",
    "df_con.loc[df_con['contractor_100k_ct'].isnull(), 'contractor_100k_ct'] = 1\n",
    "df_con.loc[df_con['contractor_100k_ct'] == 0, 'contractor_100k_ct'] = 1"
   ]
  },
  {
   "cell_type": "code",
   "execution_count": null,
   "metadata": {},
   "outputs": [],
   "source": []
  },
  {
   "cell_type": "code",
   "execution_count": 170,
   "metadata": {},
   "outputs": [
    {
     "data": {
      "text/plain": [
       "(3150, 111)"
      ]
     },
     "execution_count": 170,
     "metadata": {},
     "output_type": "execute_result"
    }
   ],
   "source": [
    "# why are there still so many nulls here?\n",
    "df_con[df_con['con_ct_div_emp_ct'].isnull()].shape"
   ]
  },
  {
   "cell_type": "code",
   "execution_count": 188,
   "metadata": {},
   "outputs": [],
   "source": [
    "# for voting_memb_ct, voting_indepmemb_ct, employee_tot_ct, volunteer_tot_ct\n",
    "# fill nans with 0 so that I can perform math on these amounts\n",
    "\n",
    "for column in list(df_con.loc[:,'voting_memb_ct' : 'volunteer_tot_ct'].columns):\n",
    "    df_con[column].fillna(0, inplace=True)"
   ]
  },
  {
   "cell_type": "code",
   "execution_count": 189,
   "metadata": {},
   "outputs": [
    {
     "name": "stdout",
     "output_type": "stream",
     "text": [
      "0\n",
      "0\n",
      "0\n",
      "0\n"
     ]
    }
   ],
   "source": [
    "# verify nulls have been filled properly\n",
    "for column in list(df_con.loc[:,'voting_memb_ct' : 'volunteer_tot_ct'].columns):\n",
    "    print(df_con[column].isnull().sum())"
   ]
  },
  {
   "cell_type": "code",
   "execution_count": null,
   "metadata": {},
   "outputs": [],
   "source": []
  },
  {
   "cell_type": "code",
   "execution_count": 196,
   "metadata": {},
   "outputs": [
    {
     "name": "stdout",
     "output_type": "stream",
     "text": [
      "int64\n",
      "int64\n",
      "int64\n",
      "float64\n"
     ]
    }
   ],
   "source": [
    "# verify data type\n",
    "for column in list(df_con.loc[:,'voting_memb_ct' : 'volunteer_tot_ct'].columns):\n",
    "    print(df_con[column].dtype)"
   ]
  },
  {
   "cell_type": "code",
   "execution_count": 198,
   "metadata": {},
   "outputs": [
    {
     "data": {
      "text/plain": [
       "dtype('float64')"
      ]
     },
     "execution_count": 198,
     "metadata": {},
     "output_type": "execute_result"
    }
   ],
   "source": [
    "df_con['contractor_100k_ct'].dtype"
   ]
  },
  {
   "cell_type": "code",
   "execution_count": null,
   "metadata": {},
   "outputs": [],
   "source": []
  },
  {
   "cell_type": "code",
   "execution_count": 199,
   "metadata": {},
   "outputs": [],
   "source": [
    "# SettingWithCopyWarning\n",
    "# I see no reason why it should be raised in this situation\n",
    "pd.options.mode.chained_assignment = None\n",
    "\n",
    "df_con['con_ct_div_emp_ct'] = df_con['contractor_100k_ct'] / (df_con['employee_tot_ct'] + df.voting_memb_ct + df.voting_indepmemb_ct + df.volunteer_tot_ct)"
   ]
  },
  {
   "cell_type": "code",
   "execution_count": 200,
   "metadata": {},
   "outputs": [
    {
     "data": {
      "text/plain": [
       "(0, 111)"
      ]
     },
     "execution_count": 200,
     "metadata": {},
     "output_type": "execute_result"
    }
   ],
   "source": [
    "# how many orgs had zero employees, independent members, and volunteers?\n",
    "# this will create 'inf'\n",
    "# it's not clear to me why orgs will have none of these\n",
    "# they seem to be outliers, I will drop them for now\n",
    "\n",
    "df_con[df_con['con_ct_div_emp_ct'] == np.inf].shape"
   ]
  },
  {
   "cell_type": "code",
   "execution_count": 201,
   "metadata": {},
   "outputs": [],
   "source": [
    "# drop exception orgs\n",
    "df_con.drop(df_con[df_con['con_ct_div_emp_ct'] == np.inf].index, inplace=True)"
   ]
  },
  {
   "cell_type": "code",
   "execution_count": 202,
   "metadata": {},
   "outputs": [
    {
     "data": {
      "text/plain": [
       "(0, 111)"
      ]
     },
     "execution_count": 202,
     "metadata": {},
     "output_type": "execute_result"
    }
   ],
   "source": [
    "# verify they have been removed\n",
    "\n",
    "df_con[df_con['con_ct_div_emp_ct'] == np.inf].shape"
   ]
  },
  {
   "cell_type": "code",
   "execution_count": null,
   "metadata": {},
   "outputs": [],
   "source": []
  },
  {
   "cell_type": "code",
   "execution_count": 204,
   "metadata": {},
   "outputs": [
    {
     "data": {
      "text/plain": [
       "(3150, 111)"
      ]
     },
     "execution_count": 204,
     "metadata": {},
     "output_type": "execute_result"
    }
   ],
   "source": [
    "# why am I still ending up with 3000 + null values\n",
    "df_con[df_con['con_ct_div_emp_ct'].isnull()].shape"
   ]
  },
  {
   "cell_type": "code",
   "execution_count": null,
   "metadata": {},
   "outputs": [],
   "source": []
  },
  {
   "cell_type": "code",
   "execution_count": 207,
   "metadata": {},
   "outputs": [],
   "source": [
    "# for now I'm just going to drop them\n",
    "df_con.drop(df_con[df_con['con_ct_div_emp_ct'].isnull()].index, inplace=True)"
   ]
  },
  {
   "cell_type": "code",
   "execution_count": null,
   "metadata": {},
   "outputs": [],
   "source": []
  },
  {
   "cell_type": "code",
   "execution_count": 209,
   "metadata": {},
   "outputs": [
    {
     "data": {
      "text/plain": [
       "3058.1009174311926"
      ]
     },
     "execution_count": 209,
     "metadata": {},
     "output_type": "execute_result"
    }
   ],
   "source": [
    "df_con['con_ct_div_emp_ct'].max()"
   ]
  },
  {
   "cell_type": "code",
   "execution_count": 210,
   "metadata": {},
   "outputs": [
    {
     "data": {
      "text/plain": [
       "7.904963368399751e-07"
      ]
     },
     "execution_count": 210,
     "metadata": {},
     "output_type": "execute_result"
    }
   ],
   "source": [
    "df_con['con_ct_div_emp_ct'].min()"
   ]
  },
  {
   "cell_type": "code",
   "execution_count": 216,
   "metadata": {},
   "outputs": [
    {
     "data": {
      "text/plain": [
       "(27408,)"
      ]
     },
     "execution_count": 216,
     "metadata": {},
     "output_type": "execute_result"
    }
   ],
   "source": [
    "# how many orgs remain?\n",
    "df_con['con_ct_div_emp_ct'].shape"
   ]
  },
  {
   "cell_type": "markdown",
   "metadata": {},
   "source": [
    "#### trying to identify a percentage of orgs above a threshold, what is the best way for me to do this?"
   ]
  },
  {
   "cell_type": "code",
   "execution_count": 226,
   "metadata": {},
   "outputs": [
    {
     "data": {
      "text/plain": [
       "10"
      ]
     },
     "execution_count": 226,
     "metadata": {},
     "output_type": "execute_result"
    }
   ],
   "source": [
    "z_scores = zscore(df_con['con_ct_div_emp_ct'])\n",
    "\n",
    "# iterate through threshold levels\n",
    "# comparing the value of each z score\n",
    "# against the value of the threshold\n",
    "\n",
    "# for threshold == 5:\n",
    "#     print(\"The score threshold is: {}\".format(threshold))\n",
    "#     print(\"The indices of the outliers:\")\n",
    "#     print(np.where(z_scores > threshold))\n",
    "len((np.where(z_scores > 2)[0]))"
   ]
  },
  {
   "cell_type": "markdown",
   "metadata": {},
   "source": [
    "This doesn't seem right to me."
   ]
  },
  {
   "cell_type": "code",
   "execution_count": 212,
   "metadata": {},
   "outputs": [
    {
     "data": {
      "text/plain": [
       "array([-0.01152335, -0.0125172 , -0.01331344, -0.01301764, -0.01355783,\n",
       "       -0.01361137, -0.01361714, -0.0125734 , -0.01210133, -0.01341494])"
      ]
     },
     "execution_count": 212,
     "metadata": {},
     "output_type": "execute_result"
    }
   ],
   "source": [
    "z_scores[0:10]"
   ]
  },
  {
   "cell_type": "code",
   "execution_count": null,
   "metadata": {},
   "outputs": [],
   "source": []
  },
  {
   "cell_type": "code",
   "execution_count": 213,
   "metadata": {},
   "outputs": [],
   "source": [
    "# find the 95th quartile\n",
    "q95 = np.percentile(df_con['con_ct_div_emp_ct'], [95])"
   ]
  },
  {
   "cell_type": "code",
   "execution_count": 230,
   "metadata": {},
   "outputs": [
    {
     "data": {
      "text/plain": [
       "array([0.22222222])"
      ]
     },
     "execution_count": 230,
     "metadata": {},
     "output_type": "execute_result"
    }
   ],
   "source": [
    "q95"
   ]
  },
  {
   "cell_type": "code",
   "execution_count": 233,
   "metadata": {},
   "outputs": [
    {
     "data": {
      "text/plain": [
       "(array([ 1201,  1384,  2102,  2186,  2273,  3208,  3214,  3344,  4292,\n",
       "         4390,  8447,  9208,  9394,  9482,  9657,  9740, 11386, 12445,\n",
       "        13119, 13455, 13638, 13691, 14537, 15817, 16284, 16807, 17983,\n",
       "        19450, 22535, 22898, 22979, 22986, 23884, 26149, 27367],\n",
       "       dtype=int64),)"
      ]
     },
     "execution_count": 233,
     "metadata": {},
     "output_type": "execute_result"
    }
   ],
   "source": [
    "# find everything above the 95th quartile\n",
    "np.where(z_scores > q95)"
   ]
  },
  {
   "cell_type": "markdown",
   "metadata": {},
   "source": [
    "but how do I feed this into my data frame?"
   ]
  },
  {
   "cell_type": "code",
   "execution_count": null,
   "metadata": {},
   "outputs": [],
   "source": []
  },
  {
   "cell_type": "code",
   "execution_count": 235,
   "metadata": {},
   "outputs": [
    {
     "data": {
      "text/plain": [
       "79651     3058.100917\n",
       "9578      2095.321429\n",
       "20554      364.857143\n",
       "84304      323.227494\n",
       "197434     219.000000\n",
       "81350      194.857143\n",
       "15413      164.428571\n",
       "21348       61.500000\n",
       "82385       51.125000\n",
       "14632       46.600000\n",
       "105675      37.774194\n",
       "84923       26.555556\n",
       "209166      15.000000\n",
       "30192       14.272727\n",
       "28873       14.000000\n",
       "228645      13.000000\n",
       "194343      12.000000\n",
       "111020      11.384615\n",
       "164402      10.611111\n",
       "16284       10.000000\n",
       "Name: con_ct_div_emp_ct, dtype: float64"
      ]
     },
     "execution_count": 235,
     "metadata": {},
     "output_type": "execute_result"
    }
   ],
   "source": [
    "# which orgs are three standard deviations from the mean?\n",
    "# I want to flag the highest numbers since they are \n",
    "# indicative of fewer employees handling larger number of contractors\n",
    "df_con['con_ct_div_emp_ct'].sort_values(ascending=False).head(20)"
   ]
  },
  {
   "cell_type": "code",
   "execution_count": null,
   "metadata": {},
   "outputs": [],
   "source": []
  },
  {
   "cell_type": "code",
   "execution_count": null,
   "metadata": {},
   "outputs": [],
   "source": []
  },
  {
   "cell_type": "markdown",
   "metadata": {},
   "source": [
    "#### Visualizations"
   ]
  },
  {
   "cell_type": "code",
   "execution_count": 239,
   "metadata": {},
   "outputs": [
    {
     "data": {
      "image/png": "[encoded data removed]",
      "text/plain": [
       "<Figure size 432x288 with 1 Axes>"
      ]
     },
     "metadata": {
      "needs_background": "light"
     },
     "output_type": "display_data"
    }
   ],
   "source": [
    "# had to remove outliers just to get it to plot\n",
    "# otherwise I get an error message\n",
    "plt.boxplot(winsorize(df_con['con_ct_div_emp_ct'], (0,.2)));"
   ]
  },
  {
   "cell_type": "code",
   "execution_count": 241,
   "metadata": {},
   "outputs": [
    {
     "data": {
      "image/png": "[encoded data removed]",
      "text/plain": [
       "<Figure size 1080x360 with 1 Axes>"
      ]
     },
     "metadata": {
      "needs_background": "light"
     },
     "output_type": "display_data"
    }
   ],
   "source": [
    "# again I had to winsorize just to avoid error messages\n",
    "plt.subplots(figsize=(15, 5))\n",
    "\n",
    "# distribution\n",
    "plt.hist(winsorize(df_con['con_ct_div_emp_ct'], (0,.1)), bins=100);"
   ]
  },
  {
   "cell_type": "code",
   "execution_count": null,
   "metadata": {},
   "outputs": [],
   "source": []
  },
  {
   "cell_type": "code",
   "execution_count": null,
   "metadata": {},
   "outputs": [],
   "source": []
  },
  {
   "cell_type": "code",
   "execution_count": null,
   "metadata": {},
   "outputs": [],
   "source": []
  },
  {
   "cell_type": "code",
   "execution_count": null,
   "metadata": {},
   "outputs": [],
   "source": []
  },
  {
   "cell_type": "code",
   "execution_count": null,
   "metadata": {},
   "outputs": [],
   "source": []
  },
  {
   "cell_type": "markdown",
   "metadata": {},
   "source": [
    "### Salaries Exp / Rev"
   ]
  },
  {
   "cell_type": "code",
   "execution_count": 123,
   "metadata": {},
   "outputs": [
    {
     "name": "stdout",
     "output_type": "stream",
     "text": [
      "salaries_expense_tot_prioryr\n",
      "salaries_expense_tot_curyr\n"
     ]
    }
   ],
   "source": [
    "# identify columns with salary in them\n",
    "for c in df.columns:\n",
    "    if 'salar' in c:\n",
    "        print(c)       "
   ]
  },
  {
   "cell_type": "code",
   "execution_count": 126,
   "metadata": {},
   "outputs": [
    {
     "name": "stdout",
     "output_type": "stream",
     "text": [
      "rev_tot_prioryr\n",
      "rev_tot_curyr\n"
     ]
    }
   ],
   "source": [
    "# identify columns with revenue in them\n",
    "for c in df.columns:\n",
    "    if 'rev_tot' in c:\n",
    "        print(c)       "
   ]
  },
  {
   "cell_type": "code",
   "execution_count": 127,
   "metadata": {},
   "outputs": [],
   "source": [
    "df['sal_exp_dif_rev'] = df.salaries_expense_tot_curyr / df.rev_tot_curyr"
   ]
  },
  {
   "cell_type": "code",
   "execution_count": 132,
   "metadata": {},
   "outputs": [],
   "source": [
    "x = df['sal_exp_dif_rev'].copy()"
   ]
  },
  {
   "cell_type": "code",
   "execution_count": 135,
   "metadata": {},
   "outputs": [],
   "source": [
    "# remove infinite values\n",
    "x.replace(-np.inf, np.nan, inplace=True)\n",
    "x.replace(np.inf, np.nan, inplace=True)\n",
    "x.dropna(inplace=True)"
   ]
  },
  {
   "cell_type": "code",
   "execution_count": 144,
   "metadata": {},
   "outputs": [
    {
     "data": {
      "text/plain": [
       "107663.5"
      ]
     },
     "execution_count": 144,
     "metadata": {},
     "output_type": "execute_result"
    }
   ],
   "source": [
    "x.max()"
   ]
  },
  {
   "cell_type": "code",
   "execution_count": 145,
   "metadata": {},
   "outputs": [
    {
     "data": {
      "text/plain": [
       "-2925.2"
      ]
     },
     "execution_count": 145,
     "metadata": {},
     "output_type": "execute_result"
    }
   ],
   "source": [
    "x.min()"
   ]
  },
  {
   "cell_type": "code",
   "execution_count": 146,
   "metadata": {},
   "outputs": [
    {
     "data": {
      "image/png": "[encoded data removed]",
      "text/plain": [
       "<Figure size 432x288 with 1 Axes>"
      ]
     },
     "metadata": {
      "needs_background": "light"
     },
     "output_type": "display_data"
    }
   ],
   "source": [
    "# there are big outliers\n",
    "plt.boxplot(x);"
   ]
  },
  {
   "cell_type": "code",
   "execution_count": null,
   "metadata": {},
   "outputs": [],
   "source": []
  },
  {
   "cell_type": "markdown",
   "metadata": {},
   "source": [
    "###  Voting members as a percentage of revenue"
   ]
  },
  {
   "cell_type": "code",
   "execution_count": 326,
   "metadata": {},
   "outputs": [
    {
     "name": "stdout",
     "output_type": "stream",
     "text": [
      "voting_memb_ct\n",
      "voting_indepmemb_ct\n"
     ]
    }
   ],
   "source": [
    "# identify columns with vote in them\n",
    "for c in df.columns:\n",
    "    if 'vot' in c:\n",
    "        print(c)       "
   ]
  },
  {
   "cell_type": "code",
   "execution_count": 327,
   "metadata": {},
   "outputs": [
    {
     "name": "stdout",
     "output_type": "stream",
     "text": [
      "rev_tot_prioryr\n",
      "rev_tot_curyr\n"
     ]
    }
   ],
   "source": [
    "# identify columns with revenue\n",
    "for c in df.columns:\n",
    "    if 'rev_tot' in c:\n",
    "        print(c)       "
   ]
  },
  {
   "cell_type": "code",
   "execution_count": 331,
   "metadata": {},
   "outputs": [],
   "source": [
    "df_vote = df.copy()"
   ]
  },
  {
   "cell_type": "code",
   "execution_count": 332,
   "metadata": {},
   "outputs": [],
   "source": [
    "df_vote['vot_mem_div_rev'] = df_vote.voting_memb_ct / df_vote.rev_tot_curyr"
   ]
  },
  {
   "cell_type": "code",
   "execution_count": 338,
   "metadata": {},
   "outputs": [],
   "source": [
    "# remove 0 values\n",
    "\n",
    "df_vote.drop(df_vote[df_vote.voting_memb_ct == 0].index, inplace=True)"
   ]
  },
  {
   "cell_type": "code",
   "execution_count": 340,
   "metadata": {},
   "outputs": [],
   "source": [
    "# remove inf values\n",
    "\n",
    "df_vote.drop(df_vote[df_vote['vot_mem_div_rev'] == np.inf].index, inplace=True)"
   ]
  },
  {
   "cell_type": "code",
   "execution_count": 346,
   "metadata": {},
   "outputs": [
    {
     "data": {
      "text/plain": [
       "5    20514\n",
       "7    20089\n",
       "9    18792\n",
       "6    15562\n",
       "8    14447\n",
       "Name: voting_memb_ct, dtype: int64"
      ]
     },
     "execution_count": 346,
     "metadata": {},
     "output_type": "execute_result"
    }
   ],
   "source": [
    "df_vote.voting_memb_ct.value_counts().head()"
   ]
  },
  {
   "cell_type": "code",
   "execution_count": 344,
   "metadata": {},
   "outputs": [
    {
     "data": {
      "text/plain": [
       "(228224,)"
      ]
     },
     "execution_count": 344,
     "metadata": {},
     "output_type": "execute_result"
    }
   ],
   "source": [
    "df_vote['vot_mem_div_rev'].value_counts(dropna=False).shape"
   ]
  },
  {
   "cell_type": "code",
   "execution_count": 337,
   "metadata": {},
   "outputs": [
    {
     "data": {
      "text/plain": [
       "-0.7019543973941368"
      ]
     },
     "execution_count": 337,
     "metadata": {},
     "output_type": "execute_result"
    }
   ],
   "source": [
    "df_vote['vot_mem_div_rev'].min()"
   ]
  },
  {
   "cell_type": "code",
   "execution_count": 336,
   "metadata": {},
   "outputs": [
    {
     "data": {
      "text/plain": [
       "17.5"
      ]
     },
     "execution_count": 336,
     "metadata": {},
     "output_type": "execute_result"
    }
   ],
   "source": [
    "df_vote['vot_mem_div_rev'].max()"
   ]
  },
  {
   "cell_type": "code",
   "execution_count": 367,
   "metadata": {},
   "outputs": [
    {
     "data": {
      "image/png": "[encoded data removed]",
      "text/plain": [
       "<Figure size 432x288 with 1 Axes>"
      ]
     },
     "metadata": {
      "needs_background": "light"
     },
     "output_type": "display_data"
    }
   ],
   "source": [
    "plt.boxplot(winsorize(df_vote['vot_mem_div_rev'],(.1, .1)));"
   ]
  },
  {
   "cell_type": "code",
   "execution_count": 353,
   "metadata": {},
   "outputs": [
    {
     "data": {
      "image/png": "[encoded data removed]",
      "text/plain": [
       "<Figure size 432x288 with 1 Axes>"
      ]
     },
     "metadata": {
      "needs_background": "light"
     },
     "output_type": "display_data"
    }
   ],
   "source": [
    "plt.hist(winsorize(df_vote['vot_mem_div_rev'],  (.1,.1)), bins=100);\n",
    "# plt.hist(winsorize(df_con['con_ct_div_emp_ct'], (0,.1)), bins=100);"
   ]
  },
  {
   "cell_type": "code",
   "execution_count": null,
   "metadata": {},
   "outputs": [],
   "source": []
  },
  {
   "cell_type": "markdown",
   "metadata": {},
   "source": [
    "### Distribution of 501(c) orgs"
   ]
  },
  {
   "cell_type": "markdown",
   "metadata": {},
   "source": [
    "#### exempt_status.501c_txt"
   ]
  },
  {
   "cell_type": "code",
   "execution_count": 8,
   "metadata": {},
   "outputs": [
    {
     "name": "stdout",
     "output_type": "stream",
     "text": [
      "exempt_status.501c3\n",
      "exempt_status.501c_any\n",
      "exempt_status.501c_txt\n"
     ]
    }
   ],
   "source": [
    "# identify columns\n",
    "for c in df.columns:\n",
    "    if '501' in c:\n",
    "        print(c)       "
   ]
  },
  {
   "cell_type": "code",
   "execution_count": 11,
   "metadata": {},
   "outputs": [
    {
     "data": {
      "text/plain": [
       "True    179831\n",
       "NaN      57617\n",
       "Name: exempt_status.501c3, dtype: int64"
      ]
     },
     "execution_count": 11,
     "metadata": {},
     "output_type": "execute_result"
    }
   ],
   "source": [
    "# find count of 501(c)(3)\n",
    "# I'm going to need to convert NaNs to False\n",
    "df['exempt_status.501c3'].value_counts(dropna=False)"
   ]
  },
  {
   "cell_type": "code",
   "execution_count": 14,
   "metadata": {},
   "outputs": [
    {
     "data": {
      "text/plain": [
       "0.7573489774603281"
      ]
     },
     "execution_count": 14,
     "metadata": {},
     "output_type": "execute_result"
    }
   ],
   "source": [
    "# what percent of the total do the 501(c)(3)s make up?\n",
    "\n",
    "df['exempt_status.501c3'].value_counts(dropna=False)[0] / \\\n",
    "df['exempt_status.501c3'].value_counts(dropna=False).sum()"
   ]
  },
  {
   "cell_type": "code",
   "execution_count": 17,
   "metadata": {},
   "outputs": [
    {
     "data": {
      "text/plain": [
       "6.0     16719\n",
       "4.0      8594\n",
       "5.0      7296\n",
       "7.0      6795\n",
       "9.0      3925\n",
       "8.0      2699\n",
       "19.0     2688\n",
       "12.0     2375\n",
       "14.0     1955\n",
       "2.0      1644\n",
       "13.0     1398\n",
       "10.0      851\n",
       "25.0      378\n",
       "15.0       91\n",
       "17.0       40\n",
       "29.0       14\n",
       "26.0        8\n",
       "11.0        7\n",
       "16.0        7\n",
       "27.0        3\n",
       "18.0        3\n",
       "23.0        2\n",
       "20.0        1\n",
       "Name: exempt_status.501c_txt, dtype: int64"
      ]
     },
     "execution_count": 17,
     "metadata": {},
     "output_type": "execute_result"
    }
   ],
   "source": [
    "# what other 501c types are there?\n",
    "df['exempt_status.501c_txt'].value_counts()"
   ]
  },
  {
   "cell_type": "code",
   "execution_count": null,
   "metadata": {},
   "outputs": [],
   "source": [
    "# for orgs with contractors over 100K\n",
    "# how are they distributed by org type?\n",
    "\n"
   ]
  },
  {
   "cell_type": "code",
   "execution_count": 23,
   "metadata": {},
   "outputs": [
    {
     "data": {
      "text/plain": [
       "(146216, 110)"
      ]
     },
     "execution_count": 23,
     "metadata": {},
     "output_type": "execute_result"
    }
   ],
   "source": [
    "df[~df['contractor_100k_ct'].isnull()].shape\n"
   ]
  },
  {
   "cell_type": "code",
   "execution_count": 22,
   "metadata": {},
   "outputs": [
    {
     "name": "stdout",
     "output_type": "stream",
     "text": [
      "contractor_100k_ct\n"
     ]
    }
   ],
   "source": [
    "# identify columns\n",
    "for c in df.columns:\n",
    "    if '100' in c:\n",
    "        print(c)       "
   ]
  },
  {
   "cell_type": "code",
   "execution_count": null,
   "metadata": {},
   "outputs": [],
   "source": []
  },
  {
   "cell_type": "code",
   "execution_count": 25,
   "metadata": {},
   "outputs": [
    {
     "data": {
      "text/plain": [
       "23103"
      ]
     },
     "execution_count": 25,
     "metadata": {},
     "output_type": "execute_result"
    }
   ],
   "source": [
    "# how many of the orgs with contractors over 100K are 501c3s\n",
    "df[~df.name_contractor_1.isnull()].loc[:, 'exempt_status.501c3'].sum()"
   ]
  },
  {
   "cell_type": "code",
   "execution_count": null,
   "metadata": {},
   "outputs": [],
   "source": []
  },
  {
   "cell_type": "markdown",
   "metadata": {},
   "source": [
    "#### org_form.other_form_desc"
   ]
  },
  {
   "cell_type": "code",
   "execution_count": 29,
   "metadata": {},
   "outputs": [
    {
     "data": {
      "text/plain": [
       "LABOR UNION                   320\n",
       "CREDIT UNION                  289\n",
       "FOUNDATION                    223\n",
       "UNION                         149\n",
       "NON-PROFIT                    148\n",
       "LLC                           132\n",
       "NON PROFIT                    128\n",
       "COOPERATIVE                    88\n",
       "LABOR ORGANIZATION             84\n",
       "FRATERNITY                     65\n",
       "SCHOOL                         62\n",
       "SEE SCHED O                    57\n",
       "FRATERNAL                      52\n",
       "CHURCH                         52\n",
       "501(C)(3)                      48\n",
       "NONPROFIT                      46\n",
       "CLUB                           44\n",
       "LOCAL UNION                    44\n",
       "UNINCORPORATED ASSOCIATION     43\n",
       "501C3                          42\n",
       "CU                             39\n",
       "SCH O                          35\n",
       "EXEMPT                         34\n",
       "ORGANIZATION                   30\n",
       "NOT FOR PROFIT                 29\n",
       "EXEMPT ORGANIZATION            27\n",
       "PUBLIC CHARITY                 25\n",
       "HOMEOWNERS ASSOCIATION         24\n",
       "LABOR ORG.                     23\n",
       "LABOR                          23\n",
       "Name: org_form.other_form_desc, dtype: int64"
      ]
     },
     "execution_count": 29,
     "metadata": {},
     "output_type": "execute_result"
    }
   ],
   "source": [
    "# how many different categories are there in org_form.other_form_desc?\n",
    "# lots of messiness here, for instance non-profit with and without the dash\n",
    "# unsure how I can use these values\n",
    "\n",
    "df[~df['org_form.other_form_desc'].isnull()].loc[:,'org_form.other_form_desc'].str.upper().value_counts(dropna=False).head(30)"
   ]
  },
  {
   "cell_type": "code",
   "execution_count": 26,
   "metadata": {},
   "outputs": [
    {
     "data": {
      "text/plain": [
       "(233299, 110)"
      ]
     },
     "execution_count": 26,
     "metadata": {},
     "output_type": "execute_result"
    }
   ],
   "source": [
    "# how many different categories are there in org_form.other_form_desc?\n",
    "# lots of messiness here, for instance non-profit with and without the dash\n",
    "\n",
    "df[df['org_form.other_form_desc'].isnull()].shape\n",
    "\n",
    "# .loc[:,'org_form.other_form_desc'].str.upper().value_counts().head(30)"
   ]
  },
  {
   "cell_type": "code",
   "execution_count": null,
   "metadata": {},
   "outputs": [],
   "source": []
  },
  {
   "cell_type": "code",
   "execution_count": null,
   "metadata": {},
   "outputs": [],
   "source": []
  },
  {
   "cell_type": "markdown",
   "metadata": {},
   "source": [
    "### Identify orgs with at least one contractor\n",
    "write this to CSV, and use to be able to identify categories of orgs in *990_mission_statement* notebook"
   ]
  },
  {
   "cell_type": "code",
   "execution_count": 36,
   "metadata": {},
   "outputs": [],
   "source": [
    "# find ein numbers for orgs with contractors and \n",
    "# write to a CSV file\n",
    "df[~df.name_contractor_1.isnull()].loc[:,'ein'].to_csv('ein_orgs_with_contractors.csv', \n",
    "                                                       header=True,\n",
    "                                                       index=False)"
   ]
  },
  {
   "cell_type": "code",
   "execution_count": null,
   "metadata": {},
   "outputs": [],
   "source": []
  },
  {
   "cell_type": "code",
   "execution_count": null,
   "metadata": {},
   "outputs": [],
   "source": []
  },
  {
   "cell_type": "markdown",
   "metadata": {},
   "source": [
    "#### Count of Vendors for each non-profit"
   ]
  },
  {
   "cell_type": "code",
   "execution_count": 41,
   "metadata": {},
   "outputs": [
    {
     "data": {
      "text/plain": [
       "(30589, 110)"
      ]
     },
     "execution_count": 41,
     "metadata": {},
     "output_type": "execute_result"
    }
   ],
   "source": [
    "# how many vendors are included?\n",
    "df[~df.name_contractor_1.isnull()].shape"
   ]
  },
  {
   "cell_type": "code",
   "execution_count": 42,
   "metadata": {},
   "outputs": [
    {
     "data": {
      "text/plain": [
       "(19182, 110)"
      ]
     },
     "execution_count": 42,
     "metadata": {},
     "output_type": "execute_result"
    }
   ],
   "source": [
    "# how many vendors are included?\n",
    "df[~df.name_contractor_2.isnull()].shape"
   ]
  },
  {
   "cell_type": "code",
   "execution_count": 43,
   "metadata": {},
   "outputs": [
    {
     "data": {
      "text/plain": [
       "(14678, 110)"
      ]
     },
     "execution_count": 43,
     "metadata": {},
     "output_type": "execute_result"
    }
   ],
   "source": [
    "# how many vendors are included?\n",
    "df[~df.name_contractor_3.isnull()].shape"
   ]
  },
  {
   "cell_type": "code",
   "execution_count": 44,
   "metadata": {},
   "outputs": [
    {
     "data": {
      "text/plain": [
       "(11827, 110)"
      ]
     },
     "execution_count": 44,
     "metadata": {},
     "output_type": "execute_result"
    }
   ],
   "source": [
    "# how many vendors are included?\n",
    "df[~df.name_contractor_4.isnull()].shape"
   ]
  },
  {
   "cell_type": "code",
   "execution_count": 45,
   "metadata": {},
   "outputs": [
    {
     "data": {
      "text/plain": [
       "(9923, 110)"
      ]
     },
     "execution_count": 45,
     "metadata": {},
     "output_type": "execute_result"
    }
   ],
   "source": [
    "# how many vendors are included?\n",
    "df[~df.name_contractor_5.isnull()].shape"
   ]
  },
  {
   "cell_type": "code",
   "execution_count": 14,
   "metadata": {},
   "outputs": [
    {
     "data": {
      "text/html": [
       "<div>\n",
       "<style scoped>\n",
       "    .dataframe tbody tr th:only-of-type {\n",
       "        vertical-align: middle;\n",
       "    }\n",
       "\n",
       "    .dataframe tbody tr th {\n",
       "        vertical-align: top;\n",
       "    }\n",
       "\n",
       "    .dataframe thead th {\n",
       "        text-align: right;\n",
       "    }\n",
       "</style>\n",
       "<table border=\"1\" class=\"dataframe\">\n",
       "  <thead>\n",
       "    <tr style=\"text-align: right;\">\n",
       "      <th></th>\n",
       "      <th>name_contractor_1</th>\n",
       "      <th>address_contractor_1</th>\n",
       "      <th>city_contractor_1</th>\n",
       "      <th>state_contractor_1</th>\n",
       "      <th>zip_contractor_1</th>\n",
       "      <th>country_contractor_1</th>\n",
       "      <th>services_contractor_1</th>\n",
       "      <th>amt_paid_contractor_1</th>\n",
       "      <th>name_contractor_2</th>\n",
       "    </tr>\n",
       "  </thead>\n",
       "  <tbody>\n",
       "    <tr>\n",
       "      <td>13</td>\n",
       "      <td>Lucas Tree Experts</td>\n",
       "      <td>PO Box 958</td>\n",
       "      <td>Portland</td>\n",
       "      <td>ME</td>\n",
       "      <td>04104</td>\n",
       "      <td>NaN</td>\n",
       "      <td>Tree Clearing Work</td>\n",
       "      <td>144757.0</td>\n",
       "      <td>Preti Flaherty Beliveau Pachios LLP</td>\n",
       "    </tr>\n",
       "    <tr>\n",
       "      <td>17</td>\n",
       "      <td>SYNERGENT</td>\n",
       "      <td>2 LEDGEVIEW DRIVE</td>\n",
       "      <td>WESTBROOK</td>\n",
       "      <td>ME</td>\n",
       "      <td>04092</td>\n",
       "      <td>NaN</td>\n",
       "      <td>CORE PROCESSING AND RELATED SERVICES</td>\n",
       "      <td>806186.0</td>\n",
       "      <td>SYSTEMS ENGINEERING</td>\n",
       "    </tr>\n",
       "    <tr>\n",
       "      <td>27</td>\n",
       "      <td>David H Simonds Esq</td>\n",
       "      <td>15 Columbia St Suite 303</td>\n",
       "      <td>Bangor</td>\n",
       "      <td>ME</td>\n",
       "      <td>04401</td>\n",
       "      <td>NaN</td>\n",
       "      <td>Legal Assistance to Members</td>\n",
       "      <td>189920.0</td>\n",
       "      <td>Cloutier Conley &amp; Duffett PA</td>\n",
       "    </tr>\n",
       "    <tr>\n",
       "      <td>37</td>\n",
       "      <td>INSIGHT HEALTH CORP</td>\n",
       "      <td>NaN</td>\n",
       "      <td>NaN</td>\n",
       "      <td>NaN</td>\n",
       "      <td>NaN</td>\n",
       "      <td>NaN</td>\n",
       "      <td>MEDICAL STAFFING</td>\n",
       "      <td>455436.0</td>\n",
       "      <td>SODEXO CLINICAL TECHNOLOGY</td>\n",
       "    </tr>\n",
       "    <tr>\n",
       "      <td>45</td>\n",
       "      <td>JOHN BOSWELL</td>\n",
       "      <td>5 CLEARVIEW DRIVE</td>\n",
       "      <td>GORHAM</td>\n",
       "      <td>ME</td>\n",
       "      <td>04038</td>\n",
       "      <td>NaN</td>\n",
       "      <td>GOLF PRO</td>\n",
       "      <td>130028.0</td>\n",
       "      <td>NaN</td>\n",
       "    </tr>\n",
       "  </tbody>\n",
       "</table>\n",
       "</div>"
      ],
      "text/plain": [
       "      name_contractor_1      address_contractor_1 city_contractor_1  \\\n",
       "13   Lucas Tree Experts                PO Box 958          Portland   \n",
       "17            SYNERGENT         2 LEDGEVIEW DRIVE         WESTBROOK   \n",
       "27  David H Simonds Esq  15 Columbia St Suite 303            Bangor   \n",
       "37  INSIGHT HEALTH CORP                       NaN               NaN   \n",
       "45         JOHN BOSWELL         5 CLEARVIEW DRIVE            GORHAM   \n",
       "\n",
       "   state_contractor_1 zip_contractor_1 country_contractor_1  \\\n",
       "13                 ME            04104                  NaN   \n",
       "17                 ME            04092                  NaN   \n",
       "27                 ME            04401                  NaN   \n",
       "37                NaN              NaN                  NaN   \n",
       "45                 ME            04038                  NaN   \n",
       "\n",
       "                   services_contractor_1  amt_paid_contractor_1  \\\n",
       "13                    Tree Clearing Work               144757.0   \n",
       "17  CORE PROCESSING AND RELATED SERVICES               806186.0   \n",
       "27           Legal Assistance to Members               189920.0   \n",
       "37                      MEDICAL STAFFING               455436.0   \n",
       "45                              GOLF PRO               130028.0   \n",
       "\n",
       "                      name_contractor_2  \n",
       "13  Preti Flaherty Beliveau Pachios LLP  \n",
       "17                  SYSTEMS ENGINEERING  \n",
       "27         Cloutier Conley & Duffett PA  \n",
       "37           SODEXO CLINICAL TECHNOLOGY  \n",
       "45                                  NaN  "
      ]
     },
     "execution_count": 14,
     "metadata": {},
     "output_type": "execute_result"
    }
   ],
   "source": [
    "# why are some vendors listed more than once?\n",
    "df[~df.name_contractor_1.isnull()].loc[:,'name_contractor_1':'name_contractor_2'].head()"
   ]
  },
  {
   "cell_type": "code",
   "execution_count": 61,
   "metadata": {},
   "outputs": [
    {
     "data": {
      "text/html": [
       "<div>\n",
       "<style scoped>\n",
       "    .dataframe tbody tr th:only-of-type {\n",
       "        vertical-align: middle;\n",
       "    }\n",
       "\n",
       "    .dataframe tbody tr th {\n",
       "        vertical-align: top;\n",
       "    }\n",
       "\n",
       "    .dataframe thead th {\n",
       "        text-align: right;\n",
       "    }\n",
       "</style>\n",
       "<table border=\"1\" class=\"dataframe\">\n",
       "  <thead>\n",
       "    <tr style=\"text-align: right;\">\n",
       "      <th></th>\n",
       "      <th>ein</th>\n",
       "      <th>name_org</th>\n",
       "      <th>tax_date_begin</th>\n",
       "      <th>tax_date_end</th>\n",
       "      <th>tax_yr</th>\n",
       "      <th>doing_business_as</th>\n",
       "      <th>phone</th>\n",
       "      <th>website</th>\n",
       "      <th>address</th>\n",
       "      <th>city</th>\n",
       "      <th>state</th>\n",
       "      <th>country</th>\n",
       "      <th>zip</th>\n",
       "      <th>org_form.corp</th>\n",
       "      <th>org_form.trust</th>\n",
       "      <th>org_form.association</th>\n",
       "      <th>org_form.other_form</th>\n",
       "      <th>org_form.other_form_desc</th>\n",
       "      <th>formation_yr</th>\n",
       "      <th>grp_exempt_num</th>\n",
       "      <th>state_legaldomicile</th>\n",
       "      <th>grp_return</th>\n",
       "      <th>grp_subs_all_incl</th>\n",
       "      <th>exempt_status.501c3</th>\n",
       "      <th>exempt_status.501c_any</th>\n",
       "      <th>exempt_status.501c_txt</th>\n",
       "      <th>gross_receipts</th>\n",
       "      <th>discontinue_dispose25</th>\n",
       "      <th>voting_memb_ct</th>\n",
       "      <th>voting_indepmemb_ct</th>\n",
       "      <th>employee_tot_ct</th>\n",
       "      <th>volunteer_tot_ct</th>\n",
       "      <th>income_tot_unrelated</th>\n",
       "      <th>income_net_unrelated</th>\n",
       "      <th>rev_giftsgrants_tot_prioryr</th>\n",
       "      <th>rev_prgmservice_prioryr</th>\n",
       "      <th>rev_investmt_prioryr</th>\n",
       "      <th>rev_other_prioryr</th>\n",
       "      <th>rev_tot_prioryr</th>\n",
       "      <th>grants_expense_tot_prioryr</th>\n",
       "      <th>benefits_expense_tot_prioryr</th>\n",
       "      <th>salaries_expense_tot_prioryr</th>\n",
       "      <th>fundraiseservfee_expense_tot_prioryr</th>\n",
       "      <th>fundraise_expense_tot_curyr</th>\n",
       "      <th>other_expense_tot_prioryr</th>\n",
       "      <th>expense_tot_prioryr</th>\n",
       "      <th>rev_less_expense_prioryr</th>\n",
       "      <th>asset_tot_beginyr</th>\n",
       "      <th>liability_tot_beginyr</th>\n",
       "      <th>asset_net_beginyr</th>\n",
       "      <th>rev_giftsgrants_tot_curyr</th>\n",
       "      <th>rev_prgmservice_curyr</th>\n",
       "      <th>rev_investmt_curyr</th>\n",
       "      <th>rev_other_curyr</th>\n",
       "      <th>rev_tot_curyr</th>\n",
       "      <th>grants_expense_tot_curyr</th>\n",
       "      <th>benefits_expense_tot_curyr</th>\n",
       "      <th>salaries_expense_tot_curyr</th>\n",
       "      <th>fundraiseservfee_expense_tot_curyr</th>\n",
       "      <th>other_expense_tot_curyr</th>\n",
       "      <th>expense_tot_curyr</th>\n",
       "      <th>rev_less_expense_curyr</th>\n",
       "      <th>asset_tot_endyr</th>\n",
       "      <th>liability_tot_endyr</th>\n",
       "      <th>asset_net_endyr</th>\n",
       "      <th>name_contractor_1</th>\n",
       "      <th>address_contractor_1</th>\n",
       "      <th>city_contractor_1</th>\n",
       "      <th>state_contractor_1</th>\n",
       "      <th>zip_contractor_1</th>\n",
       "      <th>country_contractor_1</th>\n",
       "      <th>services_contractor_1</th>\n",
       "      <th>amt_paid_contractor_1</th>\n",
       "      <th>name_contractor_2</th>\n",
       "      <th>address_contractor_2</th>\n",
       "      <th>city_contractor_2</th>\n",
       "      <th>state_contractor_2</th>\n",
       "      <th>zip_contractor_2</th>\n",
       "      <th>country_contractor_2</th>\n",
       "      <th>services_contractor_2</th>\n",
       "      <th>amt_paid_contractor_2</th>\n",
       "      <th>name_contractor_3</th>\n",
       "      <th>address_contractor_3</th>\n",
       "      <th>city_contractor_3</th>\n",
       "      <th>state_contractor_3</th>\n",
       "      <th>zip_contractor_3</th>\n",
       "      <th>country_contractor_3</th>\n",
       "      <th>services_contractor_3</th>\n",
       "      <th>amt_paid_contractor_3</th>\n",
       "      <th>name_contractor_4</th>\n",
       "      <th>address_contractor_4</th>\n",
       "      <th>city_contractor_4</th>\n",
       "      <th>state_contractor_4</th>\n",
       "      <th>zip_contractor_4</th>\n",
       "      <th>country_contractor_4</th>\n",
       "      <th>services_contractor_4</th>\n",
       "      <th>amt_paid_contractor_4</th>\n",
       "      <th>name_contractor_5</th>\n",
       "      <th>address_contractor_5</th>\n",
       "      <th>city_contractor_5</th>\n",
       "      <th>state_contractor_5</th>\n",
       "      <th>zip_contractor_5</th>\n",
       "      <th>country_contractor_5</th>\n",
       "      <th>services_contractor_5</th>\n",
       "      <th>amt_paid_contractor_5</th>\n",
       "      <th>contractor_100k_ct</th>\n",
       "      <th>record_id</th>\n",
       "      <th>schema_version</th>\n",
       "      <th>irs_efile_id</th>\n",
       "      <th>random_string</th>\n",
       "    </tr>\n",
       "  </thead>\n",
       "  <tbody>\n",
       "    <tr>\n",
       "      <td>75739</td>\n",
       "      <td>273428380</td>\n",
       "      <td>CICLAVIA INC</td>\n",
       "      <td>2015-07-01</td>\n",
       "      <td>2016-06-30</td>\n",
       "      <td>2016</td>\n",
       "      <td>NaN</td>\n",
       "      <td>+1 (213) 365-0605</td>\n",
       "      <td>CICLAVIA.ORG</td>\n",
       "      <td>525 S HEWITT STREET</td>\n",
       "      <td>LOS ANGELES</td>\n",
       "      <td>CA</td>\n",
       "      <td>NaN</td>\n",
       "      <td>90013</td>\n",
       "      <td>True</td>\n",
       "      <td>NaN</td>\n",
       "      <td>NaN</td>\n",
       "      <td>NaN</td>\n",
       "      <td>NaN</td>\n",
       "      <td>2010.0</td>\n",
       "      <td>NaN</td>\n",
       "      <td>CA</td>\n",
       "      <td>no</td>\n",
       "      <td>NaN</td>\n",
       "      <td>True</td>\n",
       "      <td>NaN</td>\n",
       "      <td>NaN</td>\n",
       "      <td>1477406</td>\n",
       "      <td>NaN</td>\n",
       "      <td>15</td>\n",
       "      <td>15</td>\n",
       "      <td>8</td>\n",
       "      <td>1185.0</td>\n",
       "      <td>0</td>\n",
       "      <td>0.0</td>\n",
       "      <td>1640977.0</td>\n",
       "      <td>0.0</td>\n",
       "      <td>22415.0</td>\n",
       "      <td>0.0</td>\n",
       "      <td>1663392.0</td>\n",
       "      <td>0.0</td>\n",
       "      <td>0.0</td>\n",
       "      <td>83217.0</td>\n",
       "      <td>87000.0</td>\n",
       "      <td>156216</td>\n",
       "      <td>1535261.0</td>\n",
       "      <td>1705478.0</td>\n",
       "      <td>-42086.0</td>\n",
       "      <td>1276603.0</td>\n",
       "      <td>197316.0</td>\n",
       "      <td>1079287.0</td>\n",
       "      <td>1401912</td>\n",
       "      <td>0</td>\n",
       "      <td>154</td>\n",
       "      <td>12568</td>\n",
       "      <td>1414634</td>\n",
       "      <td>0</td>\n",
       "      <td>0</td>\n",
       "      <td>429403</td>\n",
       "      <td>39000</td>\n",
       "      <td>1469728</td>\n",
       "      <td>1938131</td>\n",
       "      <td>-523497</td>\n",
       "      <td>757390</td>\n",
       "      <td>201600</td>\n",
       "      <td>555790</td>\n",
       "      <td>COMMUNITY ARTS RESOURCES</td>\n",
       "      <td>3780 WILSHIRE BOULEVARD SUITE 1020</td>\n",
       "      <td>LOS ANGELES</td>\n",
       "      <td>CA</td>\n",
       "      <td>90010</td>\n",
       "      <td>NaN</td>\n",
       "      <td>EVENT PRE-PRODUCTION</td>\n",
       "      <td>409250.0</td>\n",
       "      <td>COMMUNITY ARTS RESOURCES</td>\n",
       "      <td>3780 WILSHIRE BOULEVARD SUITE 1020</td>\n",
       "      <td>LOS ANGELES</td>\n",
       "      <td>CA</td>\n",
       "      <td>90010</td>\n",
       "      <td>NaN</td>\n",
       "      <td>ADMINISTRATIVE SERVICES</td>\n",
       "      <td>62881.0</td>\n",
       "      <td>COMMUNITY ARTS RESOURCES</td>\n",
       "      <td>3780 WILSHIRE BOULEVARD SUITE 1020</td>\n",
       "      <td>LOS ANGELES</td>\n",
       "      <td>CA</td>\n",
       "      <td>90010</td>\n",
       "      <td>NaN</td>\n",
       "      <td>DEVELOPMENT SERVICES</td>\n",
       "      <td>60893.0</td>\n",
       "      <td>COMMUNITY ARTS RESOURCES</td>\n",
       "      <td>3780 WILSHIRE BOULEVARD SUITE 1020</td>\n",
       "      <td>LOS ANGELES</td>\n",
       "      <td>CA</td>\n",
       "      <td>90010</td>\n",
       "      <td>NaN</td>\n",
       "      <td>EVENT ON-SITE PRODUCTION</td>\n",
       "      <td>56187.0</td>\n",
       "      <td>NaN</td>\n",
       "      <td>NaN</td>\n",
       "      <td>NaN</td>\n",
       "      <td>NaN</td>\n",
       "      <td>NaN</td>\n",
       "      <td>NaN</td>\n",
       "      <td>NaN</td>\n",
       "      <td>NaN</td>\n",
       "      <td>4.0</td>\n",
       "      <td>273428380_201606</td>\n",
       "      <td>2015v3.0</td>\n",
       "      <td>201731329349307188</td>\n",
       "      <td>ODY4MjY3ODgwMDc1OTczNzEw</td>\n",
       "    </tr>\n",
       "    <tr>\n",
       "      <td>179550</td>\n",
       "      <td>630334002</td>\n",
       "      <td>SOUTHEASTERN IRON WORKERS WELFARE PLAN</td>\n",
       "      <td>2015-02-01</td>\n",
       "      <td>2016-01-31</td>\n",
       "      <td>2016</td>\n",
       "      <td>NaN</td>\n",
       "      <td>+1 (615) 859-0131</td>\n",
       "      <td>NaN</td>\n",
       "      <td>PO BOX 1449</td>\n",
       "      <td>GOODLETTSVILLE</td>\n",
       "      <td>TN</td>\n",
       "      <td>NaN</td>\n",
       "      <td>37370</td>\n",
       "      <td>NaN</td>\n",
       "      <td>True</td>\n",
       "      <td>NaN</td>\n",
       "      <td>NaN</td>\n",
       "      <td>NaN</td>\n",
       "      <td>1953.0</td>\n",
       "      <td>NaN</td>\n",
       "      <td>TN</td>\n",
       "      <td>no</td>\n",
       "      <td>NaN</td>\n",
       "      <td>NaN</td>\n",
       "      <td>True</td>\n",
       "      <td>9.0</td>\n",
       "      <td>37965541</td>\n",
       "      <td>NaN</td>\n",
       "      <td>16</td>\n",
       "      <td>0</td>\n",
       "      <td>0</td>\n",
       "      <td>0.0</td>\n",
       "      <td>0</td>\n",
       "      <td>0.0</td>\n",
       "      <td>0.0</td>\n",
       "      <td>20145528.0</td>\n",
       "      <td>857228.0</td>\n",
       "      <td>0.0</td>\n",
       "      <td>21002756.0</td>\n",
       "      <td>0.0</td>\n",
       "      <td>19937228.0</td>\n",
       "      <td>0.0</td>\n",
       "      <td>0.0</td>\n",
       "      <td>0</td>\n",
       "      <td>1807500.0</td>\n",
       "      <td>21744728.0</td>\n",
       "      <td>-741972.0</td>\n",
       "      <td>15255799.0</td>\n",
       "      <td>78073.0</td>\n",
       "      <td>15177726.0</td>\n",
       "      <td>0</td>\n",
       "      <td>25538091</td>\n",
       "      <td>309120</td>\n",
       "      <td>0</td>\n",
       "      <td>25847211</td>\n",
       "      <td>0</td>\n",
       "      <td>19161438</td>\n",
       "      <td>0</td>\n",
       "      <td>0</td>\n",
       "      <td>1897297</td>\n",
       "      <td>21058735</td>\n",
       "      <td>4788476</td>\n",
       "      <td>19440301</td>\n",
       "      <td>88041</td>\n",
       "      <td>19352260</td>\n",
       "      <td>CONNECTICUT GENERAL LIFE INSURANCE COMPA</td>\n",
       "      <td>3500 PIEDMONT ROAD STE 200</td>\n",
       "      <td>ATLANTA</td>\n",
       "      <td>GA</td>\n",
       "      <td>30305</td>\n",
       "      <td>NaN</td>\n",
       "      <td>STOP LOSS COVERAGE</td>\n",
       "      <td>895588.0</td>\n",
       "      <td>CONNECTICUT GENERAL LIFE INSURANCE COMPA</td>\n",
       "      <td>3500 PIEDMONT ROAD STE 200</td>\n",
       "      <td>ATLANTA</td>\n",
       "      <td>GA</td>\n",
       "      <td>30305</td>\n",
       "      <td>NaN</td>\n",
       "      <td>CLAIMS ADMINISTRATION</td>\n",
       "      <td>809444.0</td>\n",
       "      <td>CONNECTICUT GENERAL LIFE INSURANCE COMPA</td>\n",
       "      <td>3500 PIEDMONT ROAD STE 200</td>\n",
       "      <td>ATLANTA</td>\n",
       "      <td>GA</td>\n",
       "      <td>30305</td>\n",
       "      <td>NaN</td>\n",
       "      <td>PPO ACCESS</td>\n",
       "      <td>220540.0</td>\n",
       "      <td>GEMGROUP</td>\n",
       "      <td>1200 THREE GATEWAY CENTER</td>\n",
       "      <td>PITTSBURGH</td>\n",
       "      <td>PA</td>\n",
       "      <td>15222</td>\n",
       "      <td>NaN</td>\n",
       "      <td>PLAN ADMINISTRATION</td>\n",
       "      <td>213483.0</td>\n",
       "      <td>SOUTHERN BENEFIT</td>\n",
       "      <td>2001 CALDWELL DRIVE</td>\n",
       "      <td>GOODLETTSVILLE</td>\n",
       "      <td>TN</td>\n",
       "      <td>37072</td>\n",
       "      <td>NaN</td>\n",
       "      <td>PLAN ADMINISTRATION</td>\n",
       "      <td>143600.0</td>\n",
       "      <td>5.0</td>\n",
       "      <td>630334002_201601</td>\n",
       "      <td>2015v2.1</td>\n",
       "      <td>201623089349302562</td>\n",
       "      <td>MTg3MTYyODM0MTExMjEyODQzMw</td>\n",
       "    </tr>\n",
       "  </tbody>\n",
       "</table>\n",
       "</div>"
      ],
      "text/plain": [
       "              ein                                name_org tax_date_begin  \\\n",
       "75739   273428380                            CICLAVIA INC     2015-07-01   \n",
       "179550  630334002  SOUTHEASTERN IRON WORKERS WELFARE PLAN     2015-02-01   \n",
       "\n",
       "       tax_date_end  tax_yr doing_business_as              phone  \\\n",
       "75739    2016-06-30    2016               NaN  +1 (213) 365-0605   \n",
       "179550   2016-01-31    2016               NaN  +1 (615) 859-0131   \n",
       "\n",
       "             website              address            city state country  \\\n",
       "75739   CICLAVIA.ORG  525 S HEWITT STREET     LOS ANGELES    CA     NaN   \n",
       "179550           NaN          PO BOX 1449  GOODLETTSVILLE    TN     NaN   \n",
       "\n",
       "          zip org_form.corp org_form.trust org_form.association  \\\n",
       "75739   90013          True            NaN                  NaN   \n",
       "179550  37370           NaN           True                  NaN   \n",
       "\n",
       "       org_form.other_form org_form.other_form_desc  formation_yr  \\\n",
       "75739                  NaN                      NaN        2010.0   \n",
       "179550                 NaN                      NaN        1953.0   \n",
       "\n",
       "        grp_exempt_num state_legaldomicile grp_return grp_subs_all_incl  \\\n",
       "75739              NaN                  CA         no               NaN   \n",
       "179550             NaN                  TN         no               NaN   \n",
       "\n",
       "       exempt_status.501c3 exempt_status.501c_any  exempt_status.501c_txt  \\\n",
       "75739                 True                    NaN                     NaN   \n",
       "179550                 NaN                   True                     9.0   \n",
       "\n",
       "        gross_receipts discontinue_dispose25  voting_memb_ct  \\\n",
       "75739          1477406                   NaN              15   \n",
       "179550        37965541                   NaN              16   \n",
       "\n",
       "        voting_indepmemb_ct  employee_tot_ct  volunteer_tot_ct  \\\n",
       "75739                    15                8            1185.0   \n",
       "179550                    0                0               0.0   \n",
       "\n",
       "        income_tot_unrelated  income_net_unrelated  \\\n",
       "75739                      0                   0.0   \n",
       "179550                     0                   0.0   \n",
       "\n",
       "        rev_giftsgrants_tot_prioryr  rev_prgmservice_prioryr  \\\n",
       "75739                     1640977.0                      0.0   \n",
       "179550                          0.0               20145528.0   \n",
       "\n",
       "        rev_investmt_prioryr  rev_other_prioryr  rev_tot_prioryr  \\\n",
       "75739                22415.0                0.0        1663392.0   \n",
       "179550              857228.0                0.0       21002756.0   \n",
       "\n",
       "        grants_expense_tot_prioryr  benefits_expense_tot_prioryr  \\\n",
       "75739                          0.0                           0.0   \n",
       "179550                         0.0                    19937228.0   \n",
       "\n",
       "        salaries_expense_tot_prioryr  fundraiseservfee_expense_tot_prioryr  \\\n",
       "75739                        83217.0                               87000.0   \n",
       "179550                           0.0                                   0.0   \n",
       "\n",
       "        fundraise_expense_tot_curyr  other_expense_tot_prioryr  \\\n",
       "75739                        156216                  1535261.0   \n",
       "179550                            0                  1807500.0   \n",
       "\n",
       "        expense_tot_prioryr  rev_less_expense_prioryr  asset_tot_beginyr  \\\n",
       "75739             1705478.0                  -42086.0          1276603.0   \n",
       "179550           21744728.0                 -741972.0         15255799.0   \n",
       "\n",
       "        liability_tot_beginyr  asset_net_beginyr  rev_giftsgrants_tot_curyr  \\\n",
       "75739                197316.0          1079287.0                    1401912   \n",
       "179550                78073.0         15177726.0                          0   \n",
       "\n",
       "        rev_prgmservice_curyr  rev_investmt_curyr  rev_other_curyr  \\\n",
       "75739                       0                 154            12568   \n",
       "179550               25538091              309120                0   \n",
       "\n",
       "        rev_tot_curyr  grants_expense_tot_curyr  benefits_expense_tot_curyr  \\\n",
       "75739         1414634                         0                           0   \n",
       "179550       25847211                         0                    19161438   \n",
       "\n",
       "        salaries_expense_tot_curyr  fundraiseservfee_expense_tot_curyr  \\\n",
       "75739                       429403                               39000   \n",
       "179550                           0                                   0   \n",
       "\n",
       "        other_expense_tot_curyr  expense_tot_curyr  rev_less_expense_curyr  \\\n",
       "75739                   1469728            1938131                 -523497   \n",
       "179550                  1897297           21058735                 4788476   \n",
       "\n",
       "        asset_tot_endyr  liability_tot_endyr  asset_net_endyr  \\\n",
       "75739            757390               201600           555790   \n",
       "179550         19440301                88041         19352260   \n",
       "\n",
       "                               name_contractor_1  \\\n",
       "75739                   COMMUNITY ARTS RESOURCES   \n",
       "179550  CONNECTICUT GENERAL LIFE INSURANCE COMPA   \n",
       "\n",
       "                      address_contractor_1 city_contractor_1  \\\n",
       "75739   3780 WILSHIRE BOULEVARD SUITE 1020       LOS ANGELES   \n",
       "179550          3500 PIEDMONT ROAD STE 200           ATLANTA   \n",
       "\n",
       "       state_contractor_1 zip_contractor_1 country_contractor_1  \\\n",
       "75739                  CA            90010                  NaN   \n",
       "179550                 GA            30305                  NaN   \n",
       "\n",
       "       services_contractor_1  amt_paid_contractor_1  \\\n",
       "75739   EVENT PRE-PRODUCTION               409250.0   \n",
       "179550    STOP LOSS COVERAGE               895588.0   \n",
       "\n",
       "                               name_contractor_2  \\\n",
       "75739                   COMMUNITY ARTS RESOURCES   \n",
       "179550  CONNECTICUT GENERAL LIFE INSURANCE COMPA   \n",
       "\n",
       "                      address_contractor_2 city_contractor_2  \\\n",
       "75739   3780 WILSHIRE BOULEVARD SUITE 1020       LOS ANGELES   \n",
       "179550          3500 PIEDMONT ROAD STE 200           ATLANTA   \n",
       "\n",
       "       state_contractor_2 zip_contractor_2 country_contractor_2  \\\n",
       "75739                  CA            90010                  NaN   \n",
       "179550                 GA            30305                  NaN   \n",
       "\n",
       "          services_contractor_2  amt_paid_contractor_2  \\\n",
       "75739   ADMINISTRATIVE SERVICES                62881.0   \n",
       "179550    CLAIMS ADMINISTRATION               809444.0   \n",
       "\n",
       "                               name_contractor_3  \\\n",
       "75739                   COMMUNITY ARTS RESOURCES   \n",
       "179550  CONNECTICUT GENERAL LIFE INSURANCE COMPA   \n",
       "\n",
       "                      address_contractor_3 city_contractor_3  \\\n",
       "75739   3780 WILSHIRE BOULEVARD SUITE 1020       LOS ANGELES   \n",
       "179550          3500 PIEDMONT ROAD STE 200           ATLANTA   \n",
       "\n",
       "       state_contractor_3 zip_contractor_3 country_contractor_3  \\\n",
       "75739                  CA            90010                  NaN   \n",
       "179550                 GA            30305                  NaN   \n",
       "\n",
       "       services_contractor_3  amt_paid_contractor_3         name_contractor_4  \\\n",
       "75739   DEVELOPMENT SERVICES                60893.0  COMMUNITY ARTS RESOURCES   \n",
       "179550            PPO ACCESS               220540.0                  GEMGROUP   \n",
       "\n",
       "                      address_contractor_4 city_contractor_4  \\\n",
       "75739   3780 WILSHIRE BOULEVARD SUITE 1020       LOS ANGELES   \n",
       "179550           1200 THREE GATEWAY CENTER        PITTSBURGH   \n",
       "\n",
       "       state_contractor_4 zip_contractor_4 country_contractor_4  \\\n",
       "75739                  CA            90010                  NaN   \n",
       "179550                 PA            15222                  NaN   \n",
       "\n",
       "           services_contractor_4  amt_paid_contractor_4 name_contractor_5  \\\n",
       "75739   EVENT ON-SITE PRODUCTION                56187.0               NaN   \n",
       "179550       PLAN ADMINISTRATION               213483.0  SOUTHERN BENEFIT   \n",
       "\n",
       "       address_contractor_5 city_contractor_5 state_contractor_5  \\\n",
       "75739                   NaN               NaN                NaN   \n",
       "179550  2001 CALDWELL DRIVE    GOODLETTSVILLE                 TN   \n",
       "\n",
       "       zip_contractor_5 country_contractor_5 services_contractor_5  \\\n",
       "75739               NaN                  NaN                   NaN   \n",
       "179550            37072                  NaN   PLAN ADMINISTRATION   \n",
       "\n",
       "        amt_paid_contractor_5  contractor_100k_ct         record_id  \\\n",
       "75739                     NaN                 4.0  273428380_201606   \n",
       "179550               143600.0                 5.0  630334002_201601   \n",
       "\n",
       "       schema_version        irs_efile_id               random_string  \n",
       "75739        2015v3.0  201731329349307188    ODY4MjY3ODgwMDc1OTczNzEw  \n",
       "179550       2015v2.1  201623089349302562  MTg3MTYyODM0MTExMjEyODQzMw  "
      ]
     },
     "execution_count": 61,
     "metadata": {},
     "output_type": "execute_result"
    }
   ],
   "source": [
    "# identical vendors multiple times?\n",
    "# it appears these contractors are providing different\n",
    "# types of services to the org\n",
    "\n",
    "df[(df.name_contractor_1 == df.name_contractor_2) &\n",
    "  (df.name_contractor_2 == df.name_contractor_3)].head()"
   ]
  },
  {
   "cell_type": "code",
   "execution_count": null,
   "metadata": {},
   "outputs": [],
   "source": []
  },
  {
   "cell_type": "code",
   "execution_count": null,
   "metadata": {},
   "outputs": [],
   "source": []
  },
  {
   "cell_type": "code",
   "execution_count": null,
   "metadata": {},
   "outputs": [],
   "source": []
  },
  {
   "cell_type": "code",
   "execution_count": null,
   "metadata": {},
   "outputs": [],
   "source": []
  },
  {
   "cell_type": "code",
   "execution_count": null,
   "metadata": {},
   "outputs": [],
   "source": []
  },
  {
   "cell_type": "code",
   "execution_count": null,
   "metadata": {},
   "outputs": [],
   "source": []
  },
  {
   "cell_type": "code",
   "execution_count": null,
   "metadata": {},
   "outputs": [],
   "source": []
  },
  {
   "cell_type": "code",
   "execution_count": null,
   "metadata": {},
   "outputs": [],
   "source": []
  },
  {
   "cell_type": "code",
   "execution_count": null,
   "metadata": {},
   "outputs": [],
   "source": []
  },
  {
   "cell_type": "code",
   "execution_count": null,
   "metadata": {},
   "outputs": [],
   "source": []
  },
  {
   "cell_type": "markdown",
   "metadata": {},
   "source": [
    "#### Join Mission of Non-Profit Orgs - this was running very slowly, by refining the mission statements into fewer categories, I'm hoping to improve this"
   ]
  },
  {
   "cell_type": "code",
   "execution_count": 90,
   "metadata": {},
   "outputs": [
    {
     "data": {
      "text/plain": [
       "ein                int64\n",
       "name_org          object\n",
       "tax_date_begin    object\n",
       "tax_date_end      object\n",
       "tax_yr             int64\n",
       "dtype: object"
      ]
     },
     "execution_count": 90,
     "metadata": {},
     "output_type": "execute_result"
    }
   ],
   "source": [
    "df.dtypes.head()"
   ]
  },
  {
   "cell_type": "code",
   "execution_count": 93,
   "metadata": {},
   "outputs": [
    {
     "name": "stderr",
     "output_type": "stream",
     "text": [
      "\n",
      "KeyboardInterrupt\n",
      "\n"
     ]
    }
   ],
   "source": [
    "# join EIN numbers and pullin\n",
    "# the organization’s mission or most significant activities:\n",
    "\n",
    "df.set_index('ein').join(org_mission.set_index('ein_org'), how='left')"
   ]
  },
  {
   "cell_type": "code",
   "execution_count": 91,
   "metadata": {},
   "outputs": [
    {
     "ename": "KeyboardInterrupt",
     "evalue": "",
     "output_type": "error",
     "traceback": [
      "\u001b[1;31m---------------------------------------------------------------------------\u001b[0m",
      "\u001b[1;31mKeyboardInterrupt\u001b[0m                         Traceback (most recent call last)",
      "\u001b[1;32m<ipython-input-91-18b04b8bf661>\u001b[0m in \u001b[0;36m<module>\u001b[1;34m()\u001b[0m\n\u001b[0;32m      5\u001b[0m          \u001b[0mhow\u001b[0m\u001b[1;33m=\u001b[0m\u001b[1;34m'left'\u001b[0m\u001b[1;33m,\u001b[0m\u001b[1;33m\u001b[0m\u001b[1;33m\u001b[0m\u001b[0m\n\u001b[0;32m      6\u001b[0m          \u001b[0mleft_on\u001b[0m\u001b[1;33m=\u001b[0m\u001b[1;34m'ein'\u001b[0m\u001b[1;33m,\u001b[0m\u001b[1;33m\u001b[0m\u001b[1;33m\u001b[0m\u001b[0m\n\u001b[1;32m----> 7\u001b[1;33m          right_on='ein_org')\n\u001b[0m",
      "\u001b[1;32m~\\AppData\\Roaming\\Python\\Python37\\site-packages\\IPython\\core\\displayhook.py\u001b[0m in \u001b[0;36m__call__\u001b[1;34m(self, result)\u001b[0m\n\u001b[0;32m    255\u001b[0m             \u001b[0mself\u001b[0m\u001b[1;33m.\u001b[0m\u001b[0mstart_displayhook\u001b[0m\u001b[1;33m(\u001b[0m\u001b[1;33m)\u001b[0m\u001b[1;33m\u001b[0m\u001b[1;33m\u001b[0m\u001b[0m\n\u001b[0;32m    256\u001b[0m             \u001b[0mself\u001b[0m\u001b[1;33m.\u001b[0m\u001b[0mwrite_output_prompt\u001b[0m\u001b[1;33m(\u001b[0m\u001b[1;33m)\u001b[0m\u001b[1;33m\u001b[0m\u001b[1;33m\u001b[0m\u001b[0m\n\u001b[1;32m--> 257\u001b[1;33m             \u001b[0mformat_dict\u001b[0m\u001b[1;33m,\u001b[0m \u001b[0mmd_dict\u001b[0m \u001b[1;33m=\u001b[0m \u001b[0mself\u001b[0m\u001b[1;33m.\u001b[0m\u001b[0mcompute_format_data\u001b[0m\u001b[1;33m(\u001b[0m\u001b[0mresult\u001b[0m\u001b[1;33m)\u001b[0m\u001b[1;33m\u001b[0m\u001b[1;33m\u001b[0m\u001b[0m\n\u001b[0m\u001b[0;32m    258\u001b[0m             \u001b[0mself\u001b[0m\u001b[1;33m.\u001b[0m\u001b[0mupdate_user_ns\u001b[0m\u001b[1;33m(\u001b[0m\u001b[0mresult\u001b[0m\u001b[1;33m)\u001b[0m\u001b[1;33m\u001b[0m\u001b[1;33m\u001b[0m\u001b[0m\n\u001b[0;32m    259\u001b[0m             \u001b[0mself\u001b[0m\u001b[1;33m.\u001b[0m\u001b[0mfill_exec_result\u001b[0m\u001b[1;33m(\u001b[0m\u001b[0mresult\u001b[0m\u001b[1;33m)\u001b[0m\u001b[1;33m\u001b[0m\u001b[1;33m\u001b[0m\u001b[0m\n",
      "\u001b[1;32m~\\AppData\\Roaming\\Python\\Python37\\site-packages\\IPython\\core\\displayhook.py\u001b[0m in \u001b[0;36mcompute_format_data\u001b[1;34m(self, result)\u001b[0m\n\u001b[0;32m    149\u001b[0m \u001b[1;33m\u001b[0m\u001b[0m\n\u001b[0;32m    150\u001b[0m         \"\"\"\n\u001b[1;32m--> 151\u001b[1;33m         \u001b[1;32mreturn\u001b[0m \u001b[0mself\u001b[0m\u001b[1;33m.\u001b[0m\u001b[0mshell\u001b[0m\u001b[1;33m.\u001b[0m\u001b[0mdisplay_formatter\u001b[0m\u001b[1;33m.\u001b[0m\u001b[0mformat\u001b[0m\u001b[1;33m(\u001b[0m\u001b[0mresult\u001b[0m\u001b[1;33m)\u001b[0m\u001b[1;33m\u001b[0m\u001b[1;33m\u001b[0m\u001b[0m\n\u001b[0m\u001b[0;32m    152\u001b[0m \u001b[1;33m\u001b[0m\u001b[0m\n\u001b[0;32m    153\u001b[0m     \u001b[1;31m# This can be set to True by the write_output_prompt method in a subclass\u001b[0m\u001b[1;33m\u001b[0m\u001b[1;33m\u001b[0m\u001b[1;33m\u001b[0m\u001b[0m\n",
      "\u001b[1;32m~\\AppData\\Roaming\\Python\\Python37\\site-packages\\IPython\\core\\formatters.py\u001b[0m in \u001b[0;36mformat\u001b[1;34m(self, obj, include, exclude)\u001b[0m\n\u001b[0;32m    178\u001b[0m             \u001b[0mmd\u001b[0m \u001b[1;33m=\u001b[0m \u001b[1;32mNone\u001b[0m\u001b[1;33m\u001b[0m\u001b[1;33m\u001b[0m\u001b[0m\n\u001b[0;32m    179\u001b[0m             \u001b[1;32mtry\u001b[0m\u001b[1;33m:\u001b[0m\u001b[1;33m\u001b[0m\u001b[1;33m\u001b[0m\u001b[0m\n\u001b[1;32m--> 180\u001b[1;33m                 \u001b[0mdata\u001b[0m \u001b[1;33m=\u001b[0m \u001b[0mformatter\u001b[0m\u001b[1;33m(\u001b[0m\u001b[0mobj\u001b[0m\u001b[1;33m)\u001b[0m\u001b[1;33m\u001b[0m\u001b[1;33m\u001b[0m\u001b[0m\n\u001b[0m\u001b[0;32m    181\u001b[0m             \u001b[1;32mexcept\u001b[0m\u001b[1;33m:\u001b[0m\u001b[1;33m\u001b[0m\u001b[1;33m\u001b[0m\u001b[0m\n\u001b[0;32m    182\u001b[0m                 \u001b[1;31m# FIXME: log the exception\u001b[0m\u001b[1;33m\u001b[0m\u001b[1;33m\u001b[0m\u001b[1;33m\u001b[0m\u001b[0m\n",
      "\u001b[1;32m<C:\\Users\\mrkjh\\AppData\\Roaming\\Python\\Python37\\site-packages\\decorator.py:decorator-gen-9>\u001b[0m in \u001b[0;36m__call__\u001b[1;34m(self, obj)\u001b[0m\n",
      "\u001b[1;32m~\\AppData\\Roaming\\Python\\Python37\\site-packages\\IPython\\core\\formatters.py\u001b[0m in \u001b[0;36mcatch_format_error\u001b[1;34m(method, self, *args, **kwargs)\u001b[0m\n\u001b[0;32m    222\u001b[0m     \u001b[1;34m\"\"\"show traceback on failed format call\"\"\"\u001b[0m\u001b[1;33m\u001b[0m\u001b[1;33m\u001b[0m\u001b[0m\n\u001b[0;32m    223\u001b[0m     \u001b[1;32mtry\u001b[0m\u001b[1;33m:\u001b[0m\u001b[1;33m\u001b[0m\u001b[1;33m\u001b[0m\u001b[0m\n\u001b[1;32m--> 224\u001b[1;33m         \u001b[0mr\u001b[0m \u001b[1;33m=\u001b[0m \u001b[0mmethod\u001b[0m\u001b[1;33m(\u001b[0m\u001b[0mself\u001b[0m\u001b[1;33m,\u001b[0m \u001b[1;33m*\u001b[0m\u001b[0margs\u001b[0m\u001b[1;33m,\u001b[0m \u001b[1;33m**\u001b[0m\u001b[0mkwargs\u001b[0m\u001b[1;33m)\u001b[0m\u001b[1;33m\u001b[0m\u001b[1;33m\u001b[0m\u001b[0m\n\u001b[0m\u001b[0;32m    225\u001b[0m     \u001b[1;32mexcept\u001b[0m \u001b[0mNotImplementedError\u001b[0m\u001b[1;33m:\u001b[0m\u001b[1;33m\u001b[0m\u001b[1;33m\u001b[0m\u001b[0m\n\u001b[0;32m    226\u001b[0m         \u001b[1;31m# don't warn on NotImplementedErrors\u001b[0m\u001b[1;33m\u001b[0m\u001b[1;33m\u001b[0m\u001b[1;33m\u001b[0m\u001b[0m\n",
      "\u001b[1;32m~\\AppData\\Roaming\\Python\\Python37\\site-packages\\IPython\\core\\formatters.py\u001b[0m in \u001b[0;36m__call__\u001b[1;34m(self, obj)\u001b[0m\n\u001b[0;32m    343\u001b[0m             \u001b[0mmethod\u001b[0m \u001b[1;33m=\u001b[0m \u001b[0mget_real_method\u001b[0m\u001b[1;33m(\u001b[0m\u001b[0mobj\u001b[0m\u001b[1;33m,\u001b[0m \u001b[0mself\u001b[0m\u001b[1;33m.\u001b[0m\u001b[0mprint_method\u001b[0m\u001b[1;33m)\u001b[0m\u001b[1;33m\u001b[0m\u001b[1;33m\u001b[0m\u001b[0m\n\u001b[0;32m    344\u001b[0m             \u001b[1;32mif\u001b[0m \u001b[0mmethod\u001b[0m \u001b[1;32mis\u001b[0m \u001b[1;32mnot\u001b[0m \u001b[1;32mNone\u001b[0m\u001b[1;33m:\u001b[0m\u001b[1;33m\u001b[0m\u001b[1;33m\u001b[0m\u001b[0m\n\u001b[1;32m--> 345\u001b[1;33m                 \u001b[1;32mreturn\u001b[0m \u001b[0mmethod\u001b[0m\u001b[1;33m(\u001b[0m\u001b[1;33m)\u001b[0m\u001b[1;33m\u001b[0m\u001b[1;33m\u001b[0m\u001b[0m\n\u001b[0m\u001b[0;32m    346\u001b[0m             \u001b[1;32mreturn\u001b[0m \u001b[1;32mNone\u001b[0m\u001b[1;33m\u001b[0m\u001b[1;33m\u001b[0m\u001b[0m\n\u001b[0;32m    347\u001b[0m         \u001b[1;32melse\u001b[0m\u001b[1;33m:\u001b[0m\u001b[1;33m\u001b[0m\u001b[1;33m\u001b[0m\u001b[0m\n",
      "\u001b[1;32m~\\AppData\\Roaming\\Python\\Python37\\site-packages\\pandas\\core\\frame.py\u001b[0m in \u001b[0;36m_repr_html_\u001b[1;34m(self)\u001b[0m\n\u001b[0;32m    685\u001b[0m                 \u001b[0mshow_dimensions\u001b[0m\u001b[1;33m=\u001b[0m\u001b[0mshow_dimensions\u001b[0m\u001b[1;33m,\u001b[0m\u001b[1;33m\u001b[0m\u001b[1;33m\u001b[0m\u001b[0m\n\u001b[0;32m    686\u001b[0m             )\n\u001b[1;32m--> 687\u001b[1;33m             \u001b[0mformatter\u001b[0m\u001b[1;33m.\u001b[0m\u001b[0mto_html\u001b[0m\u001b[1;33m(\u001b[0m\u001b[0mnotebook\u001b[0m\u001b[1;33m=\u001b[0m\u001b[1;32mTrue\u001b[0m\u001b[1;33m)\u001b[0m\u001b[1;33m\u001b[0m\u001b[1;33m\u001b[0m\u001b[0m\n\u001b[0m\u001b[0;32m    688\u001b[0m             \u001b[1;32mreturn\u001b[0m \u001b[0mformatter\u001b[0m\u001b[1;33m.\u001b[0m\u001b[0mbuf\u001b[0m\u001b[1;33m.\u001b[0m\u001b[0mgetvalue\u001b[0m\u001b[1;33m(\u001b[0m\u001b[1;33m)\u001b[0m\u001b[1;33m\u001b[0m\u001b[1;33m\u001b[0m\u001b[0m\n\u001b[0;32m    689\u001b[0m         \u001b[1;32melse\u001b[0m\u001b[1;33m:\u001b[0m\u001b[1;33m\u001b[0m\u001b[1;33m\u001b[0m\u001b[0m\n",
      "\u001b[1;32m~\\AppData\\Roaming\\Python\\Python37\\site-packages\\pandas\\io\\formats\\format.py\u001b[0m in \u001b[0;36mto_html\u001b[1;34m(self, classes, notebook, border)\u001b[0m\n\u001b[0;32m    838\u001b[0m \u001b[1;33m\u001b[0m\u001b[0m\n\u001b[0;32m    839\u001b[0m         \u001b[0mKlass\u001b[0m \u001b[1;33m=\u001b[0m \u001b[0mNotebookFormatter\u001b[0m \u001b[1;32mif\u001b[0m \u001b[0mnotebook\u001b[0m \u001b[1;32melse\u001b[0m \u001b[0mHTMLFormatter\u001b[0m\u001b[1;33m\u001b[0m\u001b[1;33m\u001b[0m\u001b[0m\n\u001b[1;32m--> 840\u001b[1;33m         \u001b[0mhtml\u001b[0m \u001b[1;33m=\u001b[0m \u001b[0mKlass\u001b[0m\u001b[1;33m(\u001b[0m\u001b[0mself\u001b[0m\u001b[1;33m,\u001b[0m \u001b[0mclasses\u001b[0m\u001b[1;33m=\u001b[0m\u001b[0mclasses\u001b[0m\u001b[1;33m,\u001b[0m \u001b[0mborder\u001b[0m\u001b[1;33m=\u001b[0m\u001b[0mborder\u001b[0m\u001b[1;33m)\u001b[0m\u001b[1;33m.\u001b[0m\u001b[0mrender\u001b[0m\u001b[1;33m(\u001b[0m\u001b[1;33m)\u001b[0m\u001b[1;33m\u001b[0m\u001b[1;33m\u001b[0m\u001b[0m\n\u001b[0m\u001b[0;32m    841\u001b[0m         \u001b[1;32mif\u001b[0m \u001b[0mhasattr\u001b[0m\u001b[1;33m(\u001b[0m\u001b[0mself\u001b[0m\u001b[1;33m.\u001b[0m\u001b[0mbuf\u001b[0m\u001b[1;33m,\u001b[0m \u001b[1;34m\"write\"\u001b[0m\u001b[1;33m)\u001b[0m\u001b[1;33m:\u001b[0m\u001b[1;33m\u001b[0m\u001b[1;33m\u001b[0m\u001b[0m\n\u001b[0;32m    842\u001b[0m             \u001b[0mbuffer_put_lines\u001b[0m\u001b[1;33m(\u001b[0m\u001b[0mself\u001b[0m\u001b[1;33m.\u001b[0m\u001b[0mbuf\u001b[0m\u001b[1;33m,\u001b[0m \u001b[0mhtml\u001b[0m\u001b[1;33m)\u001b[0m\u001b[1;33m\u001b[0m\u001b[1;33m\u001b[0m\u001b[0m\n",
      "\u001b[1;32m~\\AppData\\Roaming\\Python\\Python37\\site-packages\\pandas\\io\\formats\\html.py\u001b[0m in \u001b[0;36mrender\u001b[1;34m(self)\u001b[0m\n\u001b[0;32m    604\u001b[0m         \u001b[0mself\u001b[0m\u001b[1;33m.\u001b[0m\u001b[0mwrite\u001b[0m\u001b[1;33m(\u001b[0m\u001b[1;34m\"<div>\"\u001b[0m\u001b[1;33m)\u001b[0m\u001b[1;33m\u001b[0m\u001b[1;33m\u001b[0m\u001b[0m\n\u001b[0;32m    605\u001b[0m         \u001b[0mself\u001b[0m\u001b[1;33m.\u001b[0m\u001b[0mwrite_style\u001b[0m\u001b[1;33m(\u001b[0m\u001b[1;33m)\u001b[0m\u001b[1;33m\u001b[0m\u001b[1;33m\u001b[0m\u001b[0m\n\u001b[1;32m--> 606\u001b[1;33m         \u001b[0msuper\u001b[0m\u001b[1;33m(\u001b[0m\u001b[1;33m)\u001b[0m\u001b[1;33m.\u001b[0m\u001b[0mrender\u001b[0m\u001b[1;33m(\u001b[0m\u001b[1;33m)\u001b[0m\u001b[1;33m\u001b[0m\u001b[1;33m\u001b[0m\u001b[0m\n\u001b[0m\u001b[0;32m    607\u001b[0m         \u001b[0mself\u001b[0m\u001b[1;33m.\u001b[0m\u001b[0mwrite\u001b[0m\u001b[1;33m(\u001b[0m\u001b[1;34m\"</div>\"\u001b[0m\u001b[1;33m)\u001b[0m\u001b[1;33m\u001b[0m\u001b[1;33m\u001b[0m\u001b[0m\n\u001b[0;32m    608\u001b[0m         \u001b[1;32mreturn\u001b[0m \u001b[0mself\u001b[0m\u001b[1;33m.\u001b[0m\u001b[0melements\u001b[0m\u001b[1;33m\u001b[0m\u001b[1;33m\u001b[0m\u001b[0m\n",
      "\u001b[1;32m~\\AppData\\Roaming\\Python\\Python37\\site-packages\\pandas\\io\\formats\\html.py\u001b[0m in \u001b[0;36mrender\u001b[1;34m(self)\u001b[0m\n\u001b[0;32m    191\u001b[0m \u001b[1;33m\u001b[0m\u001b[0m\n\u001b[0;32m    192\u001b[0m     \u001b[1;32mdef\u001b[0m \u001b[0mrender\u001b[0m\u001b[1;33m(\u001b[0m\u001b[0mself\u001b[0m\u001b[1;33m)\u001b[0m \u001b[1;33m->\u001b[0m \u001b[0mList\u001b[0m\u001b[1;33m[\u001b[0m\u001b[0mstr\u001b[0m\u001b[1;33m]\u001b[0m\u001b[1;33m:\u001b[0m\u001b[1;33m\u001b[0m\u001b[1;33m\u001b[0m\u001b[0m\n\u001b[1;32m--> 193\u001b[1;33m         \u001b[0mself\u001b[0m\u001b[1;33m.\u001b[0m\u001b[0m_write_table\u001b[0m\u001b[1;33m(\u001b[0m\u001b[1;33m)\u001b[0m\u001b[1;33m\u001b[0m\u001b[1;33m\u001b[0m\u001b[0m\n\u001b[0m\u001b[0;32m    194\u001b[0m \u001b[1;33m\u001b[0m\u001b[0m\n\u001b[0;32m    195\u001b[0m         \u001b[1;32mif\u001b[0m \u001b[0mself\u001b[0m\u001b[1;33m.\u001b[0m\u001b[0mshould_show_dimensions\u001b[0m\u001b[1;33m:\u001b[0m\u001b[1;33m\u001b[0m\u001b[1;33m\u001b[0m\u001b[0m\n",
      "\u001b[1;32m~\\AppData\\Roaming\\Python\\Python37\\site-packages\\pandas\\io\\formats\\html.py\u001b[0m in \u001b[0;36m_write_table\u001b[1;34m(self, indent)\u001b[0m\n\u001b[0;32m    233\u001b[0m             \u001b[0mself\u001b[0m\u001b[1;33m.\u001b[0m\u001b[0m_write_header\u001b[0m\u001b[1;33m(\u001b[0m\u001b[0mindent\u001b[0m \u001b[1;33m+\u001b[0m \u001b[0mself\u001b[0m\u001b[1;33m.\u001b[0m\u001b[0mindent_delta\u001b[0m\u001b[1;33m)\u001b[0m\u001b[1;33m\u001b[0m\u001b[1;33m\u001b[0m\u001b[0m\n\u001b[0;32m    234\u001b[0m \u001b[1;33m\u001b[0m\u001b[0m\n\u001b[1;32m--> 235\u001b[1;33m         \u001b[0mself\u001b[0m\u001b[1;33m.\u001b[0m\u001b[0m_write_body\u001b[0m\u001b[1;33m(\u001b[0m\u001b[0mindent\u001b[0m \u001b[1;33m+\u001b[0m \u001b[0mself\u001b[0m\u001b[1;33m.\u001b[0m\u001b[0mindent_delta\u001b[0m\u001b[1;33m)\u001b[0m\u001b[1;33m\u001b[0m\u001b[1;33m\u001b[0m\u001b[0m\n\u001b[0m\u001b[0;32m    236\u001b[0m \u001b[1;33m\u001b[0m\u001b[0m\n\u001b[0;32m    237\u001b[0m         \u001b[0mself\u001b[0m\u001b[1;33m.\u001b[0m\u001b[0mwrite\u001b[0m\u001b[1;33m(\u001b[0m\u001b[1;34m\"</table>\"\u001b[0m\u001b[1;33m,\u001b[0m \u001b[0mindent\u001b[0m\u001b[1;33m)\u001b[0m\u001b[1;33m\u001b[0m\u001b[1;33m\u001b[0m\u001b[0m\n",
      "\u001b[1;32m~\\AppData\\Roaming\\Python\\Python37\\site-packages\\pandas\\io\\formats\\html.py\u001b[0m in \u001b[0;36m_write_body\u001b[1;34m(self, indent)\u001b[0m\n\u001b[0;32m    385\u001b[0m             \u001b[0mself\u001b[0m\u001b[1;33m.\u001b[0m\u001b[0m_write_hierarchical_rows\u001b[0m\u001b[1;33m(\u001b[0m\u001b[0mfmt_values\u001b[0m\u001b[1;33m,\u001b[0m \u001b[0mindent\u001b[0m \u001b[1;33m+\u001b[0m \u001b[0mself\u001b[0m\u001b[1;33m.\u001b[0m\u001b[0mindent_delta\u001b[0m\u001b[1;33m)\u001b[0m\u001b[1;33m\u001b[0m\u001b[1;33m\u001b[0m\u001b[0m\n\u001b[0;32m    386\u001b[0m         \u001b[1;32melse\u001b[0m\u001b[1;33m:\u001b[0m\u001b[1;33m\u001b[0m\u001b[1;33m\u001b[0m\u001b[0m\n\u001b[1;32m--> 387\u001b[1;33m             \u001b[0mself\u001b[0m\u001b[1;33m.\u001b[0m\u001b[0m_write_regular_rows\u001b[0m\u001b[1;33m(\u001b[0m\u001b[0mfmt_values\u001b[0m\u001b[1;33m,\u001b[0m \u001b[0mindent\u001b[0m \u001b[1;33m+\u001b[0m \u001b[0mself\u001b[0m\u001b[1;33m.\u001b[0m\u001b[0mindent_delta\u001b[0m\u001b[1;33m)\u001b[0m\u001b[1;33m\u001b[0m\u001b[1;33m\u001b[0m\u001b[0m\n\u001b[0m\u001b[0;32m    388\u001b[0m \u001b[1;33m\u001b[0m\u001b[0m\n\u001b[0;32m    389\u001b[0m         \u001b[0mself\u001b[0m\u001b[1;33m.\u001b[0m\u001b[0mwrite\u001b[0m\u001b[1;33m(\u001b[0m\u001b[1;34m\"</tbody>\"\u001b[0m\u001b[1;33m,\u001b[0m \u001b[0mindent\u001b[0m\u001b[1;33m)\u001b[0m\u001b[1;33m\u001b[0m\u001b[1;33m\u001b[0m\u001b[0m\n",
      "\u001b[1;32m~\\AppData\\Roaming\\Python\\Python37\\site-packages\\pandas\\io\\formats\\html.py\u001b[0m in \u001b[0;36m_write_regular_rows\u001b[1;34m(self, fmt_values, indent)\u001b[0m\n\u001b[0;32m    432\u001b[0m                 \u001b[0mrow\u001b[0m\u001b[1;33m.\u001b[0m\u001b[0minsert\u001b[0m\u001b[1;33m(\u001b[0m\u001b[0mdot_col_ix\u001b[0m\u001b[1;33m,\u001b[0m \u001b[1;34m\"...\"\u001b[0m\u001b[1;33m)\u001b[0m\u001b[1;33m\u001b[0m\u001b[1;33m\u001b[0m\u001b[0m\n\u001b[0;32m    433\u001b[0m             self.write_tr(\n\u001b[1;32m--> 434\u001b[1;33m                 \u001b[0mrow\u001b[0m\u001b[1;33m,\u001b[0m \u001b[0mindent\u001b[0m\u001b[1;33m,\u001b[0m \u001b[0mself\u001b[0m\u001b[1;33m.\u001b[0m\u001b[0mindent_delta\u001b[0m\u001b[1;33m,\u001b[0m \u001b[0mtags\u001b[0m\u001b[1;33m=\u001b[0m\u001b[1;32mNone\u001b[0m\u001b[1;33m,\u001b[0m \u001b[0mnindex_levels\u001b[0m\u001b[1;33m=\u001b[0m\u001b[0mself\u001b[0m\u001b[1;33m.\u001b[0m\u001b[0mrow_levels\u001b[0m\u001b[1;33m\u001b[0m\u001b[1;33m\u001b[0m\u001b[0m\n\u001b[0m\u001b[0;32m    435\u001b[0m             )\n\u001b[0;32m    436\u001b[0m \u001b[1;33m\u001b[0m\u001b[0m\n",
      "\u001b[1;32m~\\AppData\\Roaming\\Python\\Python37\\site-packages\\pandas\\io\\formats\\html.py\u001b[0m in \u001b[0;36mwrite_tr\u001b[1;34m(self, line, indent, indent_delta, header, align, tags, nindex_levels)\u001b[0m\n\u001b[0;32m    185\u001b[0m                 \u001b[0mself\u001b[0m\u001b[1;33m.\u001b[0m\u001b[0mwrite_th\u001b[0m\u001b[1;33m(\u001b[0m\u001b[0ms\u001b[0m\u001b[1;33m,\u001b[0m \u001b[0mindent\u001b[0m\u001b[1;33m=\u001b[0m\u001b[0mindent\u001b[0m\u001b[1;33m,\u001b[0m \u001b[0mheader\u001b[0m\u001b[1;33m=\u001b[0m\u001b[0mheader\u001b[0m\u001b[1;33m,\u001b[0m \u001b[0mtags\u001b[0m\u001b[1;33m=\u001b[0m\u001b[0mval_tag\u001b[0m\u001b[1;33m)\u001b[0m\u001b[1;33m\u001b[0m\u001b[1;33m\u001b[0m\u001b[0m\n\u001b[0;32m    186\u001b[0m             \u001b[1;32melse\u001b[0m\u001b[1;33m:\u001b[0m\u001b[1;33m\u001b[0m\u001b[1;33m\u001b[0m\u001b[0m\n\u001b[1;32m--> 187\u001b[1;33m                 \u001b[0mself\u001b[0m\u001b[1;33m.\u001b[0m\u001b[0mwrite_td\u001b[0m\u001b[1;33m(\u001b[0m\u001b[0ms\u001b[0m\u001b[1;33m,\u001b[0m \u001b[0mindent\u001b[0m\u001b[1;33m,\u001b[0m \u001b[0mtags\u001b[0m\u001b[1;33m=\u001b[0m\u001b[0mval_tag\u001b[0m\u001b[1;33m)\u001b[0m\u001b[1;33m\u001b[0m\u001b[1;33m\u001b[0m\u001b[0m\n\u001b[0m\u001b[0;32m    188\u001b[0m \u001b[1;33m\u001b[0m\u001b[0m\n\u001b[0;32m    189\u001b[0m         \u001b[0mindent\u001b[0m \u001b[1;33m-=\u001b[0m \u001b[0mindent_delta\u001b[0m\u001b[1;33m\u001b[0m\u001b[1;33m\u001b[0m\u001b[0m\n",
      "\u001b[1;32m~\\AppData\\Roaming\\Python\\Python37\\site-packages\\pandas\\io\\formats\\html.py\u001b[0m in \u001b[0;36mwrite_td\u001b[1;34m(self, s, indent, tags)\u001b[0m\n\u001b[0;32m    127\u001b[0m \u001b[1;33m\u001b[0m\u001b[0m\n\u001b[0;32m    128\u001b[0m     \u001b[1;32mdef\u001b[0m \u001b[0mwrite_td\u001b[0m\u001b[1;33m(\u001b[0m\u001b[0mself\u001b[0m\u001b[1;33m,\u001b[0m \u001b[0ms\u001b[0m\u001b[1;33m:\u001b[0m \u001b[0mstr\u001b[0m\u001b[1;33m,\u001b[0m \u001b[0mindent\u001b[0m\u001b[1;33m:\u001b[0m \u001b[0mint\u001b[0m \u001b[1;33m=\u001b[0m \u001b[1;36m0\u001b[0m\u001b[1;33m,\u001b[0m \u001b[0mtags\u001b[0m\u001b[1;33m:\u001b[0m \u001b[0mOptional\u001b[0m\u001b[1;33m[\u001b[0m\u001b[0mstr\u001b[0m\u001b[1;33m]\u001b[0m \u001b[1;33m=\u001b[0m \u001b[1;32mNone\u001b[0m\u001b[1;33m)\u001b[0m \u001b[1;33m->\u001b[0m \u001b[1;32mNone\u001b[0m\u001b[1;33m:\u001b[0m\u001b[1;33m\u001b[0m\u001b[1;33m\u001b[0m\u001b[0m\n\u001b[1;32m--> 129\u001b[1;33m         \u001b[0mself\u001b[0m\u001b[1;33m.\u001b[0m\u001b[0m_write_cell\u001b[0m\u001b[1;33m(\u001b[0m\u001b[0ms\u001b[0m\u001b[1;33m,\u001b[0m \u001b[0mkind\u001b[0m\u001b[1;33m=\u001b[0m\u001b[1;34m\"td\"\u001b[0m\u001b[1;33m,\u001b[0m \u001b[0mindent\u001b[0m\u001b[1;33m=\u001b[0m\u001b[0mindent\u001b[0m\u001b[1;33m,\u001b[0m \u001b[0mtags\u001b[0m\u001b[1;33m=\u001b[0m\u001b[0mtags\u001b[0m\u001b[1;33m)\u001b[0m\u001b[1;33m\u001b[0m\u001b[1;33m\u001b[0m\u001b[0m\n\u001b[0m\u001b[0;32m    130\u001b[0m \u001b[1;33m\u001b[0m\u001b[0m\n\u001b[0;32m    131\u001b[0m     def _write_cell(\n",
      "\u001b[1;32m~\\AppData\\Roaming\\Python\\Python37\\site-packages\\pandas\\io\\formats\\html.py\u001b[0m in \u001b[0;36m_write_cell\u001b[1;34m(self, s, kind, indent, tags)\u001b[0m\n\u001b[0;32m    158\u001b[0m                 \u001b[0mstart\u001b[0m\u001b[1;33m=\u001b[0m\u001b[0mstart_tag\u001b[0m\u001b[1;33m,\u001b[0m \u001b[0mrs\u001b[0m\u001b[1;33m=\u001b[0m\u001b[0mrs\u001b[0m\u001b[1;33m,\u001b[0m \u001b[0mend_a\u001b[0m\u001b[1;33m=\u001b[0m\u001b[0mend_a\u001b[0m\u001b[1;33m,\u001b[0m \u001b[0mkind\u001b[0m\u001b[1;33m=\u001b[0m\u001b[0mkind\u001b[0m\u001b[1;33m\u001b[0m\u001b[1;33m\u001b[0m\u001b[0m\n\u001b[0;32m    159\u001b[0m             ),\n\u001b[1;32m--> 160\u001b[1;33m             \u001b[0mindent\u001b[0m\u001b[1;33m,\u001b[0m\u001b[1;33m\u001b[0m\u001b[1;33m\u001b[0m\u001b[0m\n\u001b[0m\u001b[0;32m    161\u001b[0m         )\n\u001b[0;32m    162\u001b[0m \u001b[1;33m\u001b[0m\u001b[0m\n",
      "\u001b[1;32m~\\AppData\\Roaming\\Python\\Python37\\site-packages\\pandas\\io\\formats\\html.py\u001b[0m in \u001b[0;36mwrite\u001b[1;34m(self, s, indent)\u001b[0m\n\u001b[0;32m     92\u001b[0m \u001b[1;33m\u001b[0m\u001b[0m\n\u001b[0;32m     93\u001b[0m     \u001b[1;32mdef\u001b[0m \u001b[0mwrite\u001b[0m\u001b[1;33m(\u001b[0m\u001b[0mself\u001b[0m\u001b[1;33m,\u001b[0m \u001b[0ms\u001b[0m\u001b[1;33m:\u001b[0m \u001b[0mstr\u001b[0m\u001b[1;33m,\u001b[0m \u001b[0mindent\u001b[0m\u001b[1;33m:\u001b[0m \u001b[0mint\u001b[0m \u001b[1;33m=\u001b[0m \u001b[1;36m0\u001b[0m\u001b[1;33m)\u001b[0m \u001b[1;33m->\u001b[0m \u001b[1;32mNone\u001b[0m\u001b[1;33m:\u001b[0m\u001b[1;33m\u001b[0m\u001b[1;33m\u001b[0m\u001b[0m\n\u001b[1;32m---> 94\u001b[1;33m         \u001b[0mrs\u001b[0m \u001b[1;33m=\u001b[0m \u001b[0mpprint_thing\u001b[0m\u001b[1;33m(\u001b[0m\u001b[0ms\u001b[0m\u001b[1;33m)\u001b[0m\u001b[1;33m\u001b[0m\u001b[1;33m\u001b[0m\u001b[0m\n\u001b[0m\u001b[0;32m     95\u001b[0m         \u001b[0mself\u001b[0m\u001b[1;33m.\u001b[0m\u001b[0melements\u001b[0m\u001b[1;33m.\u001b[0m\u001b[0mappend\u001b[0m\u001b[1;33m(\u001b[0m\u001b[1;34m\" \"\u001b[0m \u001b[1;33m*\u001b[0m \u001b[0mindent\u001b[0m \u001b[1;33m+\u001b[0m \u001b[0mrs\u001b[0m\u001b[1;33m)\u001b[0m\u001b[1;33m\u001b[0m\u001b[1;33m\u001b[0m\u001b[0m\n\u001b[0;32m     96\u001b[0m \u001b[1;33m\u001b[0m\u001b[0m\n",
      "\u001b[1;32m~\\AppData\\Roaming\\Python\\Python37\\site-packages\\pandas\\io\\formats\\printing.py\u001b[0m in \u001b[0;36mpprint_thing\u001b[1;34m(thing, _nest_lvl, escape_chars, default_escapes, quote_strings, max_seq_items)\u001b[0m\n\u001b[0;32m    219\u001b[0m             \u001b[0mthing\u001b[0m\u001b[1;33m,\u001b[0m \u001b[0m_nest_lvl\u001b[0m\u001b[1;33m,\u001b[0m \u001b[0mquote_strings\u001b[0m\u001b[1;33m=\u001b[0m\u001b[1;32mTrue\u001b[0m\u001b[1;33m,\u001b[0m \u001b[0mmax_seq_items\u001b[0m\u001b[1;33m=\u001b[0m\u001b[0mmax_seq_items\u001b[0m\u001b[1;33m\u001b[0m\u001b[1;33m\u001b[0m\u001b[0m\n\u001b[0;32m    220\u001b[0m         )\n\u001b[1;32m--> 221\u001b[1;33m     \u001b[1;32melif\u001b[0m \u001b[0mis_sequence\u001b[0m\u001b[1;33m(\u001b[0m\u001b[0mthing\u001b[0m\u001b[1;33m)\u001b[0m \u001b[1;32mand\u001b[0m \u001b[0m_nest_lvl\u001b[0m \u001b[1;33m<\u001b[0m \u001b[0mget_option\u001b[0m\u001b[1;33m(\u001b[0m\u001b[1;34m\"display.pprint_nest_depth\"\u001b[0m\u001b[1;33m)\u001b[0m\u001b[1;33m:\u001b[0m\u001b[1;33m\u001b[0m\u001b[1;33m\u001b[0m\u001b[0m\n\u001b[0m\u001b[0;32m    222\u001b[0m         result = _pprint_seq(\n\u001b[0;32m    223\u001b[0m             \u001b[0mthing\u001b[0m\u001b[1;33m,\u001b[0m\u001b[1;33m\u001b[0m\u001b[1;33m\u001b[0m\u001b[0m\n",
      "\u001b[1;32m~\\AppData\\Roaming\\Python\\Python37\\site-packages\\pandas\\core\\dtypes\\inference.py\u001b[0m in \u001b[0;36mis_sequence\u001b[1;34m(obj)\u001b[0m\n\u001b[0;32m    447\u001b[0m     \u001b[1;32mtry\u001b[0m\u001b[1;33m:\u001b[0m\u001b[1;33m\u001b[0m\u001b[1;33m\u001b[0m\u001b[0m\n\u001b[0;32m    448\u001b[0m         \u001b[0miter\u001b[0m\u001b[1;33m(\u001b[0m\u001b[0mobj\u001b[0m\u001b[1;33m)\u001b[0m  \u001b[1;31m# Can iterate over it.\u001b[0m\u001b[1;33m\u001b[0m\u001b[1;33m\u001b[0m\u001b[0m\n\u001b[1;32m--> 449\u001b[1;33m         \u001b[0mlen\u001b[0m\u001b[1;33m(\u001b[0m\u001b[0mobj\u001b[0m\u001b[1;33m)\u001b[0m  \u001b[1;31m# Has a length associated with it.\u001b[0m\u001b[1;33m\u001b[0m\u001b[1;33m\u001b[0m\u001b[0m\n\u001b[0m\u001b[0;32m    450\u001b[0m         \u001b[1;32mreturn\u001b[0m \u001b[1;32mnot\u001b[0m \u001b[0misinstance\u001b[0m\u001b[1;33m(\u001b[0m\u001b[0mobj\u001b[0m\u001b[1;33m,\u001b[0m \u001b[1;33m(\u001b[0m\u001b[0mstr\u001b[0m\u001b[1;33m,\u001b[0m \u001b[0mbytes\u001b[0m\u001b[1;33m)\u001b[0m\u001b[1;33m)\u001b[0m\u001b[1;33m\u001b[0m\u001b[1;33m\u001b[0m\u001b[0m\n\u001b[0;32m    451\u001b[0m     \u001b[1;32mexcept\u001b[0m \u001b[1;33m(\u001b[0m\u001b[0mTypeError\u001b[0m\u001b[1;33m,\u001b[0m \u001b[0mAttributeError\u001b[0m\u001b[1;33m)\u001b[0m\u001b[1;33m:\u001b[0m\u001b[1;33m\u001b[0m\u001b[1;33m\u001b[0m\u001b[0m\n",
      "\u001b[1;31mKeyboardInterrupt\u001b[0m: "
     ]
    }
   ],
   "source": [
    "# join EIN numbers and pullin\n",
    "# the organization’s mission or most significant activities:\n",
    "\n",
    "df.merge(org_mission, \n",
    "         how='left',\n",
    "         left_on='ein',\n",
    "         right_on='ein_org')"
   ]
  },
  {
   "cell_type": "code",
   "execution_count": null,
   "metadata": {},
   "outputs": [],
   "source": []
  }
 ],
 "metadata": {
  "kernelspec": {
   "display_name": "Python 3",
   "language": "python",
   "name": "python3"
  },
  "language_info": {
   "codemirror_mode": {
    "name": "ipython",
    "version": 3
   },
   "file_extension": ".py",
   "mimetype": "text/x-python",
   "name": "python",
   "nbconvert_exporter": "python",
   "pygments_lexer": "ipython3",
   "version": "3.7.3"
  }
 },
 "nbformat": 4,
 "nbformat_minor": 4
}
