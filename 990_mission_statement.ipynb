{
 "cells": [
  {
   "cell_type": "markdown",
   "metadata": {},
   "source": [
    "### Enriching 990 dataset with the mission/purpose of the not-for-profit\n",
    "\n",
    "1. The contractor dataset downloaded from here (https://www.open990.org/catalog/) didn't have the mission/purpose of the not-for-profit included in the dataset.\n",
    "1. I was able to download a more expansive 990 dataset from here (https://appliednonprofitresearch.com/documentation/irs-990-spreadsheets/, a website affiliated with the open990 website) which included the mission/purpose of the not-for-profit.\n",
    "1. Since the open990 dataset was in a more clean/accessible format, I continued using it for my project, however I joined the mission/purpose field to it.  This allowed me to perform analysis on specific categories of not-for-profits."
   ]
  },
  {
   "cell_type": "code",
   "execution_count": 264,
   "metadata": {},
   "outputs": [],
   "source": [
    "import numpy as np\n",
    "import pandas as pd\n",
    "import matplotlib.pyplot as plt\n",
    "import seaborn as sns\n",
    "pd.set_option('display.max_columns', None)\n",
    "pd.set_option('display.max_rows', None)\n",
    "pd.set_option('display.max_colwidth', 999)"
   ]
  },
  {
   "cell_type": "code",
   "execution_count": 17,
   "metadata": {},
   "outputs": [],
   "source": [
    "org_mission = pd.read_csv('data/990_Part I_Line_1_mission_significant_activities.csv',\n",
    "                low_memory=False)"
   ]
  },
  {
   "cell_type": "code",
   "execution_count": 18,
   "metadata": {},
   "outputs": [
    {
     "data": {
      "text/plain": [
       "(237854, 2)"
      ]
     },
     "execution_count": 18,
     "metadata": {},
     "output_type": "execute_result"
    }
   ],
   "source": [
    "org_mission.shape"
   ]
  },
  {
   "cell_type": "code",
   "execution_count": 8,
   "metadata": {},
   "outputs": [
    {
     "data": {
      "text/plain": [
       "ein_org               int64\n",
       "990_Part I_Line 1    object\n",
       "dtype: object"
      ]
     },
     "execution_count": 8,
     "metadata": {},
     "output_type": "execute_result"
    }
   ],
   "source": [
    "org_mission.dtypes"
   ]
  },
  {
   "cell_type": "code",
   "execution_count": 20,
   "metadata": {},
   "outputs": [],
   "source": [
    "# rename column\n",
    "org_mission.rename(columns={'990_Part I_Line 1': 'mission_of_org'}, inplace=True)"
   ]
  },
  {
   "cell_type": "code",
   "execution_count": 33,
   "metadata": {},
   "outputs": [
    {
     "data": {
      "text/html": [
       "<div>\n",
       "<style scoped>\n",
       "    .dataframe tbody tr th:only-of-type {\n",
       "        vertical-align: middle;\n",
       "    }\n",
       "\n",
       "    .dataframe tbody tr th {\n",
       "        vertical-align: top;\n",
       "    }\n",
       "\n",
       "    .dataframe thead th {\n",
       "        text-align: right;\n",
       "    }\n",
       "</style>\n",
       "<table border=\"1\" class=\"dataframe\">\n",
       "  <thead>\n",
       "    <tr style=\"text-align: right;\">\n",
       "      <th></th>\n",
       "      <th>ein_org</th>\n",
       "      <th>mission_of_org</th>\n",
       "    </tr>\n",
       "  </thead>\n",
       "  <tbody>\n",
       "    <tr>\n",
       "      <td>0</td>\n",
       "      <td>461233726</td>\n",
       "      <td>PROVIDING HELP, ASSISTANCE, &amp; HEALING TO VICTIMS OF HUMAN TRAFFICKING.</td>\n",
       "    </tr>\n",
       "    <tr>\n",
       "      <td>1</td>\n",
       "      <td>591965600</td>\n",
       "      <td>SEE SCHEDULE O</td>\n",
       "    </tr>\n",
       "    <tr>\n",
       "      <td>2</td>\n",
       "      <td>840889330</td>\n",
       "      <td>BUILD LONG-TERM, LIFE-CHANGING RELATIONSHIPS WITH URBAN YOUTH.</td>\n",
       "    </tr>\n",
       "    <tr>\n",
       "      <td>3</td>\n",
       "      <td>274862807</td>\n",
       "      <td>OUR MISSION IS TO PREPARE STUDENTS FOR A COLLEGE PREPARATORY HIGH SCHOOL THAT WILL ENSURE SUCCESS AND GRADUATION AND ACCEPTANCE INTO A FOUR YEAR COLLEGE.</td>\n",
       "    </tr>\n",
       "    <tr>\n",
       "      <td>4</td>\n",
       "      <td>141666301</td>\n",
       "      <td>THE VERDOY VOLUNTEER FIRE ASSOCIATION, INC. (THE \"ASSOCIATION\")IS ORGANIZED EXCLUSIVELY FOR RESCUE, CHARITABLE AND EDUCATIONAL PURPOSES; THE ASSOCIATION PROVIDES THE PERSONNEL NEEDED TO STAFF THE APPARATUS OF THE LOCAL VOLUNTEER FIRE DISTRICT FOR THE PURPOSE OF PREVENTING AND EXTINGUISHING FIRES, PROTECTING LIFE AND PROPERTY FROM THE HAZARDS OF FIRE AND TO SERVE THE PUBLIC IN ANY EMERGENCY OR PERIL, WHENEVER AND WHEREVER LEGAL AND PROPER. THE ASSOCIATION PROMOTES AND MAINTAINS THE INTEREST OF THE VOLUNTEER MEMBERSHIP AND CONDUCTS CHARITABLE AND EDUCATIONAL ACTIVITIES IN THE BETTERMENT OF THE LOCAL COMMUNITY.</td>\n",
       "    </tr>\n",
       "  </tbody>\n",
       "</table>\n",
       "</div>"
      ],
      "text/plain": [
       "     ein_org  \\\n",
       "0  461233726   \n",
       "1  591965600   \n",
       "2  840889330   \n",
       "3  274862807   \n",
       "4  141666301   \n",
       "\n",
       "                                                                                                                                                                                                                                                                                                                                                                                                                                                                                                                                                                                                                            mission_of_org  \n",
       "0                                                                                                                                                                                                                                                                                                                                                                                                                                                                                                                                                                   PROVIDING HELP, ASSISTANCE, & HEALING TO VICTIMS OF HUMAN TRAFFICKING.  \n",
       "1                                                                                                                                                                                                                                                                                                                                                                                                                                                                                                                                                                                                                           SEE SCHEDULE O  \n",
       "2                                                                                                                                                                                                                                                                                                                                                                                                                                                                                                                                                                           BUILD LONG-TERM, LIFE-CHANGING RELATIONSHIPS WITH URBAN YOUTH.  \n",
       "3                                                                                                                                                                                                                                                                                                                                                                                                                                                                                OUR MISSION IS TO PREPARE STUDENTS FOR A COLLEGE PREPARATORY HIGH SCHOOL THAT WILL ENSURE SUCCESS AND GRADUATION AND ACCEPTANCE INTO A FOUR YEAR COLLEGE.  \n",
       "4  THE VERDOY VOLUNTEER FIRE ASSOCIATION, INC. (THE \"ASSOCIATION\")IS ORGANIZED EXCLUSIVELY FOR RESCUE, CHARITABLE AND EDUCATIONAL PURPOSES; THE ASSOCIATION PROVIDES THE PERSONNEL NEEDED TO STAFF THE APPARATUS OF THE LOCAL VOLUNTEER FIRE DISTRICT FOR THE PURPOSE OF PREVENTING AND EXTINGUISHING FIRES, PROTECTING LIFE AND PROPERTY FROM THE HAZARDS OF FIRE AND TO SERVE THE PUBLIC IN ANY EMERGENCY OR PERIL, WHENEVER AND WHEREVER LEGAL AND PROPER. THE ASSOCIATION PROMOTES AND MAINTAINS THE INTEREST OF THE VOLUNTEER MEMBERSHIP AND CONDUCTS CHARITABLE AND EDUCATIONAL ACTIVITIES IN THE BETTERMENT OF THE LOCAL COMMUNITY.  "
      ]
     },
     "execution_count": 33,
     "metadata": {},
     "output_type": "execute_result"
    }
   ],
   "source": [
    "org_mission.head()"
   ]
  },
  {
   "cell_type": "code",
   "execution_count": 22,
   "metadata": {},
   "outputs": [],
   "source": [
    "# format mission into upper case to be consistent\n",
    "org_mission['mission_of_org'] = org_mission['mission_of_org'].apply(lambda x: str(x).upper())"
   ]
  },
  {
   "cell_type": "code",
   "execution_count": 23,
   "metadata": {},
   "outputs": [
    {
     "data": {
      "text/html": [
       "<div>\n",
       "<style scoped>\n",
       "    .dataframe tbody tr th:only-of-type {\n",
       "        vertical-align: middle;\n",
       "    }\n",
       "\n",
       "    .dataframe tbody tr th {\n",
       "        vertical-align: top;\n",
       "    }\n",
       "\n",
       "    .dataframe thead th {\n",
       "        text-align: right;\n",
       "    }\n",
       "</style>\n",
       "<table border=\"1\" class=\"dataframe\">\n",
       "  <thead>\n",
       "    <tr style=\"text-align: right;\">\n",
       "      <th></th>\n",
       "      <th>ein_org</th>\n",
       "      <th>mission_of_org</th>\n",
       "    </tr>\n",
       "  </thead>\n",
       "  <tbody>\n",
       "    <tr>\n",
       "      <td>0</td>\n",
       "      <td>461233726</td>\n",
       "      <td>PROVIDING HELP, ASSISTANCE, &amp; HEALING TO VICTI...</td>\n",
       "    </tr>\n",
       "    <tr>\n",
       "      <td>1</td>\n",
       "      <td>591965600</td>\n",
       "      <td>SEE SCHEDULE O</td>\n",
       "    </tr>\n",
       "    <tr>\n",
       "      <td>2</td>\n",
       "      <td>840889330</td>\n",
       "      <td>BUILD LONG-TERM, LIFE-CHANGING RELATIONSHIPS W...</td>\n",
       "    </tr>\n",
       "    <tr>\n",
       "      <td>3</td>\n",
       "      <td>274862807</td>\n",
       "      <td>OUR MISSION IS TO PREPARE STUDENTS FOR A COLLE...</td>\n",
       "    </tr>\n",
       "    <tr>\n",
       "      <td>4</td>\n",
       "      <td>141666301</td>\n",
       "      <td>THE VERDOY VOLUNTEER FIRE ASSOCIATION, INC. (T...</td>\n",
       "    </tr>\n",
       "  </tbody>\n",
       "</table>\n",
       "</div>"
      ],
      "text/plain": [
       "     ein_org                                     mission_of_org\n",
       "0  461233726  PROVIDING HELP, ASSISTANCE, & HEALING TO VICTI...\n",
       "1  591965600                                     SEE SCHEDULE O\n",
       "2  840889330  BUILD LONG-TERM, LIFE-CHANGING RELATIONSHIPS W...\n",
       "3  274862807  OUR MISSION IS TO PREPARE STUDENTS FOR A COLLE...\n",
       "4  141666301  THE VERDOY VOLUNTEER FIRE ASSOCIATION, INC. (T..."
      ]
     },
     "execution_count": 23,
     "metadata": {},
     "output_type": "execute_result"
    }
   ],
   "source": [
    "# verify uppercase\n",
    "org_mission.head()"
   ]
  },
  {
   "cell_type": "code",
   "execution_count": null,
   "metadata": {},
   "outputs": [],
   "source": []
  },
  {
   "cell_type": "markdown",
   "metadata": {},
   "source": [
    "### Join not-for-profit orgs with at least one contractor over 100K"
   ]
  },
  {
   "cell_type": "code",
   "execution_count": 24,
   "metadata": {},
   "outputs": [],
   "source": [
    "orgs_with_cont = pd.read_csv('data/ein_orgs_with_contractors.csv',\n",
    "                low_memory=False)"
   ]
  },
  {
   "cell_type": "code",
   "execution_count": 25,
   "metadata": {},
   "outputs": [
    {
     "data": {
      "text/html": [
       "<div>\n",
       "<style scoped>\n",
       "    .dataframe tbody tr th:only-of-type {\n",
       "        vertical-align: middle;\n",
       "    }\n",
       "\n",
       "    .dataframe tbody tr th {\n",
       "        vertical-align: top;\n",
       "    }\n",
       "\n",
       "    .dataframe thead th {\n",
       "        text-align: right;\n",
       "    }\n",
       "</style>\n",
       "<table border=\"1\" class=\"dataframe\">\n",
       "  <thead>\n",
       "    <tr style=\"text-align: right;\">\n",
       "      <th></th>\n",
       "      <th>ein</th>\n",
       "    </tr>\n",
       "  </thead>\n",
       "  <tbody>\n",
       "    <tr>\n",
       "      <td>0</td>\n",
       "      <td>10130427</td>\n",
       "    </tr>\n",
       "    <tr>\n",
       "      <td>1</td>\n",
       "      <td>10177170</td>\n",
       "    </tr>\n",
       "    <tr>\n",
       "      <td>2</td>\n",
       "      <td>10179500</td>\n",
       "    </tr>\n",
       "    <tr>\n",
       "      <td>3</td>\n",
       "      <td>10196359</td>\n",
       "    </tr>\n",
       "    <tr>\n",
       "      <td>4</td>\n",
       "      <td>10198331</td>\n",
       "    </tr>\n",
       "  </tbody>\n",
       "</table>\n",
       "</div>"
      ],
      "text/plain": [
       "        ein\n",
       "0  10130427\n",
       "1  10177170\n",
       "2  10179500\n",
       "3  10196359\n",
       "4  10198331"
      ]
     },
     "execution_count": 25,
     "metadata": {},
     "output_type": "execute_result"
    }
   ],
   "source": [
    "orgs_with_cont.head()"
   ]
  },
  {
   "cell_type": "code",
   "execution_count": 36,
   "metadata": {},
   "outputs": [
    {
     "data": {
      "text/plain": [
       "(21310, 1)"
      ]
     },
     "execution_count": 36,
     "metadata": {},
     "output_type": "execute_result"
    }
   ],
   "source": [
    "orgs_with_cont.shape"
   ]
  },
  {
   "cell_type": "code",
   "execution_count": 37,
   "metadata": {},
   "outputs": [],
   "source": [
    "orgs_with_cont_mission = orgs_with_cont.merge(org_mission, how='left', left_on='ein', right_on='ein_org')"
   ]
  },
  {
   "cell_type": "code",
   "execution_count": 57,
   "metadata": {},
   "outputs": [
    {
     "data": {
      "text/html": [
       "<div>\n",
       "<style scoped>\n",
       "    .dataframe tbody tr th:only-of-type {\n",
       "        vertical-align: middle;\n",
       "    }\n",
       "\n",
       "    .dataframe tbody tr th {\n",
       "        vertical-align: top;\n",
       "    }\n",
       "\n",
       "    .dataframe thead th {\n",
       "        text-align: right;\n",
       "    }\n",
       "</style>\n",
       "<table border=\"1\" class=\"dataframe\">\n",
       "  <thead>\n",
       "    <tr style=\"text-align: right;\">\n",
       "      <th></th>\n",
       "      <th>ein</th>\n",
       "      <th>ein_org</th>\n",
       "      <th>mission_of_org</th>\n",
       "    </tr>\n",
       "  </thead>\n",
       "  <tbody>\n",
       "    <tr>\n",
       "      <td>0</td>\n",
       "      <td>10130427</td>\n",
       "      <td>10130427</td>\n",
       "      <td>BRIDGTON HOSPITAL STRIVES TO PROVIDE EXCEPTIONAL HEALTHCARE SERVICES AND DEPENDS ON CAREGIVER EXPERTISE AND THE COMMITMENT AND COMPASSION THEY PROVIDE TO FULFILL ITS MISSION.</td>\n",
       "    </tr>\n",
       "    <tr>\n",
       "      <td>1</td>\n",
       "      <td>10177170</td>\n",
       "      <td>10177170</td>\n",
       "      <td>WALDO COUNTY GENERAL HOSPITAL'S MISSION IS TO BE THE BEST - BETTER, EMPATHY, SERVICE AND TEAMWORK. OUR GOAL IS TO ENSURE QUALITY, ACCESSIBLE AND AFFORDABLE HEALTH CARE SERVICES AND TO IMPROVE THE HEALTH AND WELL-BEING OF OUR COMMUNITY. PLEASE SEE ATTACHED COMMUNITY BENEFITS REPORT.</td>\n",
       "    </tr>\n",
       "    <tr>\n",
       "      <td>2</td>\n",
       "      <td>10179500</td>\n",
       "      <td>10179500</td>\n",
       "      <td>SOUTHERN MAINE HEALTH CARE EXISTS TO IMPROVE THE HEALTH AND HEALTH CARE OF THE COMMUNITIES WE SERVE.</td>\n",
       "    </tr>\n",
       "    <tr>\n",
       "      <td>3</td>\n",
       "      <td>10196359</td>\n",
       "      <td>10196359</td>\n",
       "      <td>TO HELP PEOPLE WHO ARE VISUALLY IMPAIRED OR BLIND ATTAIN INDEPENDENCE AND COMMUNITY INTEGRATION.</td>\n",
       "    </tr>\n",
       "    <tr>\n",
       "      <td>4</td>\n",
       "      <td>10198331</td>\n",
       "      <td>10198331</td>\n",
       "      <td>THE HOSPITAL IS A NOT-FOR-PROFIT ENTITY ESTABLISHED TO PROVIDE HEALTH CARE SERVICES THROUGH ITS ACUTE CARE FACILITY AND PHYSICIAN PRACTICES.</td>\n",
       "    </tr>\n",
       "  </tbody>\n",
       "</table>\n",
       "</div>"
      ],
      "text/plain": [
       "        ein   ein_org  \\\n",
       "0  10130427  10130427   \n",
       "1  10177170  10177170   \n",
       "2  10179500  10179500   \n",
       "3  10196359  10196359   \n",
       "4  10198331  10198331   \n",
       "\n",
       "                                                                                                                                                                                                                                                                               mission_of_org  \n",
       "0                                                                                                              BRIDGTON HOSPITAL STRIVES TO PROVIDE EXCEPTIONAL HEALTHCARE SERVICES AND DEPENDS ON CAREGIVER EXPERTISE AND THE COMMITMENT AND COMPASSION THEY PROVIDE TO FULFILL ITS MISSION.  \n",
       "1  WALDO COUNTY GENERAL HOSPITAL'S MISSION IS TO BE THE BEST - BETTER, EMPATHY, SERVICE AND TEAMWORK. OUR GOAL IS TO ENSURE QUALITY, ACCESSIBLE AND AFFORDABLE HEALTH CARE SERVICES AND TO IMPROVE THE HEALTH AND WELL-BEING OF OUR COMMUNITY. PLEASE SEE ATTACHED COMMUNITY BENEFITS REPORT.  \n",
       "2                                                                                                                                                                                        SOUTHERN MAINE HEALTH CARE EXISTS TO IMPROVE THE HEALTH AND HEALTH CARE OF THE COMMUNITIES WE SERVE.  \n",
       "3                                                                                                                                                                                            TO HELP PEOPLE WHO ARE VISUALLY IMPAIRED OR BLIND ATTAIN INDEPENDENCE AND COMMUNITY INTEGRATION.  \n",
       "4                                                                                                                                                THE HOSPITAL IS A NOT-FOR-PROFIT ENTITY ESTABLISHED TO PROVIDE HEALTH CARE SERVICES THROUGH ITS ACUTE CARE FACILITY AND PHYSICIAN PRACTICES.  "
      ]
     },
     "execution_count": 57,
     "metadata": {},
     "output_type": "execute_result"
    }
   ],
   "source": [
    "orgs_with_cont_mission.head()"
   ]
  },
  {
   "cell_type": "code",
   "execution_count": null,
   "metadata": {},
   "outputs": [],
   "source": []
  },
  {
   "cell_type": "code",
   "execution_count": null,
   "metadata": {},
   "outputs": [],
   "source": []
  },
  {
   "cell_type": "markdown",
   "metadata": {},
   "source": [
    "### Find top word frequency within the mission statement of the orgs"
   ]
  },
  {
   "cell_type": "code",
   "execution_count": 50,
   "metadata": {},
   "outputs": [],
   "source": [
    "tokens = []\n",
    "\n",
    "for row in orgs_with_cont_mission.loc[:,'mission_of_org'].str.split():\n",
    "    for word in row:\n",
    "        if len(word) > 4:\n",
    "            tokens.append(word)"
   ]
  },
  {
   "cell_type": "code",
   "execution_count": 52,
   "metadata": {},
   "outputs": [
    {
     "data": {
      "text/plain": [
       "324924"
      ]
     },
     "execution_count": 52,
     "metadata": {},
     "output_type": "execute_result"
    }
   ],
   "source": [
    "len(tokens)"
   ]
  },
  {
   "cell_type": "code",
   "execution_count": 53,
   "metadata": {},
   "outputs": [],
   "source": [
    "# form tokens into dataframe\n",
    "tokens_df = pd.DataFrame(tokens, columns=['tokens'])\n",
    "\n",
    "# sort dataframe by frequency of tokens\n",
    "tokens_count = tokens_df.groupby('tokens')['tokens'] \\\n",
    "    .count() \\\n",
    "    .reset_index(name= 'token_count') \\\n",
    "    .sort_values(by='token_count', ascending=False)"
   ]
  },
  {
   "cell_type": "code",
   "execution_count": 326,
   "metadata": {},
   "outputs": [
    {
     "data": {
      "text/html": [
       "<div>\n",
       "<style scoped>\n",
       "    .dataframe tbody tr th:only-of-type {\n",
       "        vertical-align: middle;\n",
       "    }\n",
       "\n",
       "    .dataframe tbody tr th {\n",
       "        vertical-align: top;\n",
       "    }\n",
       "\n",
       "    .dataframe thead th {\n",
       "        text-align: right;\n",
       "    }\n",
       "</style>\n",
       "<table border=\"1\" class=\"dataframe\">\n",
       "  <thead>\n",
       "    <tr style=\"text-align: right;\">\n",
       "      <th></th>\n",
       "      <th>tokens</th>\n",
       "      <th>token_count</th>\n",
       "    </tr>\n",
       "  </thead>\n",
       "  <tbody>\n",
       "    <tr>\n",
       "      <td>19888</td>\n",
       "      <td>PROVIDE</td>\n",
       "      <td>4989</td>\n",
       "    </tr>\n",
       "    <tr>\n",
       "      <td>12158</td>\n",
       "      <td>HEALTH</td>\n",
       "      <td>4942</td>\n",
       "    </tr>\n",
       "    <tr>\n",
       "      <td>22163</td>\n",
       "      <td>SERVICES</td>\n",
       "      <td>4611</td>\n",
       "    </tr>\n",
       "    <tr>\n",
       "      <td>24343</td>\n",
       "      <td>THROUGH</td>\n",
       "      <td>3413</td>\n",
       "    </tr>\n",
       "    <tr>\n",
       "      <td>6489</td>\n",
       "      <td>COMMUNITY</td>\n",
       "      <td>3292</td>\n",
       "    </tr>\n",
       "  </tbody>\n",
       "</table>\n",
       "</div>"
      ],
      "text/plain": [
       "          tokens  token_count\n",
       "19888    PROVIDE         4989\n",
       "12158     HEALTH         4942\n",
       "22163   SERVICES         4611\n",
       "24343    THROUGH         3413\n",
       "6489   COMMUNITY         3292"
      ]
     },
     "execution_count": 326,
     "metadata": {},
     "output_type": "execute_result"
    }
   ],
   "source": [
    "tokens_count.head()"
   ]
  },
  {
   "cell_type": "code",
   "execution_count": null,
   "metadata": {},
   "outputs": [],
   "source": []
  },
  {
   "cell_type": "markdown",
   "metadata": {},
   "source": [
    "### Categorize orgs based on mission statement of each not-for-profit.\n",
    "There is a great deal more ambiguity than I expected in the language of the mission statements.  Also there is a great deal of overlap in the purpose of not-for-profit orgs.  It's definitely not as cut and dry as I was expecting."
   ]
  },
  {
   "cell_type": "markdown",
   "metadata": {},
   "source": [
    "501c3 orgs must fit into one of the below 8 categories:\n",
    "\n",
    "1. Religious, \n",
    "1. Educational, \n",
    "1. Charitable, \n",
    "1. Scientific, \n",
    "1. Literary, \n",
    "1. Testing for Public Safety, to \n",
    "1. Foster National or International Amateur Sports Competition, or \n",
    "1. Prevention of Cruelty to Children or Animals Organizations"
   ]
  },
  {
   "cell_type": "code",
   "execution_count": 331,
   "metadata": {},
   "outputs": [],
   "source": [
    "religious = ['SPIRITUALITY', 'RELIGIOUS', 'CHRISTIAN', 'JEWISH', 'CATHOLIC']\n",
    "educational =  ['EDUCATION', 'STUDENTS', 'STUDY', 'ACADEMIC', 'SCHOOL', 'HISTORIC', 'COLLEGE']\n",
    "charitable = ['HOSPITAL', 'LONG TERM CARE', 'HEALTH', 'HOSPICE', 'NURSING', 'VISUALLY IMPAIRED', 'CARE']\n",
    "scientific =  ['SCIENCE', 'SCIENTIFIC', 'RESEARCH']\n",
    "literary = ['LITERATURE', 'READING', 'LITERACY']\n",
    "public_safety = ['SAFETY', 'SAFE', 'SECURE']  \n",
    "amateur_sports = ['ATHLETIC', 'SPORT', 'SPORTS']\n",
    "prevention_of_cruelty = ['CRUELTY', 'ANIMALS', 'ANIMAL SHELTER']\n",
    "\n",
    "def categorizer(mission):\n",
    "    for word in religious:\n",
    "        if word in mission:\n",
    "            return 'religious'\n",
    "    for word in prevention_of_cruelty:\n",
    "        if word in mission:\n",
    "            return 'prevention_of_cruelty'\n",
    "    for word in scientific:\n",
    "        if word in mission:\n",
    "            return 'scientific'\n",
    "    for word in literary:\n",
    "        if word in mission:\n",
    "            return 'literary'\n",
    "    for word in public_safety:\n",
    "        if word in mission:\n",
    "            return 'public_safety'\n",
    "    for word in amateur_sports:\n",
    "        if word in mission:\n",
    "            return 'amateur_sports'\n",
    "    \n",
    "    for word in educational:\n",
    "        if word in mission:          \n",
    "            return 'educational'\n",
    "    \n",
    "    for word in charitable:\n",
    "        if word in mission:\n",
    "            return 'charitable'\n",
    "    else:\n",
    "        return None"
   ]
  },
  {
   "cell_type": "code",
   "execution_count": 332,
   "metadata": {},
   "outputs": [],
   "source": [
    "# apply function to df\n",
    "orgs_with_cont_mission['categories'] = orgs_with_cont_mission.mission_of_org.apply(categorizer)"
   ]
  },
  {
   "cell_type": "code",
   "execution_count": 343,
   "metadata": {},
   "outputs": [
    {
     "data": {
      "text/html": [
       "<div>\n",
       "<style scoped>\n",
       "    .dataframe tbody tr th:only-of-type {\n",
       "        vertical-align: middle;\n",
       "    }\n",
       "\n",
       "    .dataframe tbody tr th {\n",
       "        vertical-align: top;\n",
       "    }\n",
       "\n",
       "    .dataframe thead th {\n",
       "        text-align: right;\n",
       "    }\n",
       "</style>\n",
       "<table border=\"1\" class=\"dataframe\">\n",
       "  <thead>\n",
       "    <tr style=\"text-align: right;\">\n",
       "      <th></th>\n",
       "      <th>ein</th>\n",
       "      <th>ein_org</th>\n",
       "      <th>mission_of_org</th>\n",
       "      <th>categories</th>\n",
       "    </tr>\n",
       "  </thead>\n",
       "  <tbody>\n",
       "    <tr>\n",
       "      <td>0</td>\n",
       "      <td>10130427</td>\n",
       "      <td>10130427</td>\n",
       "      <td>BRIDGTON HOSPITAL STRIVES TO PROVIDE EXCEPTIONAL HEALTHCARE SERVICES AND DEPENDS ON CAREGIVER EXPERTISE AND THE COMMITMENT AND COMPASSION THEY PROVIDE TO FULFILL ITS MISSION.</td>\n",
       "      <td>charitable</td>\n",
       "    </tr>\n",
       "    <tr>\n",
       "      <td>1</td>\n",
       "      <td>10177170</td>\n",
       "      <td>10177170</td>\n",
       "      <td>WALDO COUNTY GENERAL HOSPITAL'S MISSION IS TO BE THE BEST - BETTER, EMPATHY, SERVICE AND TEAMWORK. OUR GOAL IS TO ENSURE QUALITY, ACCESSIBLE AND AFFORDABLE HEALTH CARE SERVICES AND TO IMPROVE THE HEALTH AND WELL-BEING OF OUR COMMUNITY. PLEASE SEE ATTACHED COMMUNITY BENEFITS REPORT.</td>\n",
       "      <td>charitable</td>\n",
       "    </tr>\n",
       "    <tr>\n",
       "      <td>2</td>\n",
       "      <td>10179500</td>\n",
       "      <td>10179500</td>\n",
       "      <td>SOUTHERN MAINE HEALTH CARE EXISTS TO IMPROVE THE HEALTH AND HEALTH CARE OF THE COMMUNITIES WE SERVE.</td>\n",
       "      <td>charitable</td>\n",
       "    </tr>\n",
       "    <tr>\n",
       "      <td>3</td>\n",
       "      <td>10196359</td>\n",
       "      <td>10196359</td>\n",
       "      <td>TO HELP PEOPLE WHO ARE VISUALLY IMPAIRED OR BLIND ATTAIN INDEPENDENCE AND COMMUNITY INTEGRATION.</td>\n",
       "      <td>charitable</td>\n",
       "    </tr>\n",
       "    <tr>\n",
       "      <td>4</td>\n",
       "      <td>10198331</td>\n",
       "      <td>10198331</td>\n",
       "      <td>THE HOSPITAL IS A NOT-FOR-PROFIT ENTITY ESTABLISHED TO PROVIDE HEALTH CARE SERVICES THROUGH ITS ACUTE CARE FACILITY AND PHYSICIAN PRACTICES.</td>\n",
       "      <td>charitable</td>\n",
       "    </tr>\n",
       "  </tbody>\n",
       "</table>\n",
       "</div>"
      ],
      "text/plain": [
       "        ein   ein_org  \\\n",
       "0  10130427  10130427   \n",
       "1  10177170  10177170   \n",
       "2  10179500  10179500   \n",
       "3  10196359  10196359   \n",
       "4  10198331  10198331   \n",
       "\n",
       "                                                                                                                                                                                                                                                                               mission_of_org  \\\n",
       "0                                                                                                              BRIDGTON HOSPITAL STRIVES TO PROVIDE EXCEPTIONAL HEALTHCARE SERVICES AND DEPENDS ON CAREGIVER EXPERTISE AND THE COMMITMENT AND COMPASSION THEY PROVIDE TO FULFILL ITS MISSION.   \n",
       "1  WALDO COUNTY GENERAL HOSPITAL'S MISSION IS TO BE THE BEST - BETTER, EMPATHY, SERVICE AND TEAMWORK. OUR GOAL IS TO ENSURE QUALITY, ACCESSIBLE AND AFFORDABLE HEALTH CARE SERVICES AND TO IMPROVE THE HEALTH AND WELL-BEING OF OUR COMMUNITY. PLEASE SEE ATTACHED COMMUNITY BENEFITS REPORT.   \n",
       "2                                                                                                                                                                                        SOUTHERN MAINE HEALTH CARE EXISTS TO IMPROVE THE HEALTH AND HEALTH CARE OF THE COMMUNITIES WE SERVE.   \n",
       "3                                                                                                                                                                                            TO HELP PEOPLE WHO ARE VISUALLY IMPAIRED OR BLIND ATTAIN INDEPENDENCE AND COMMUNITY INTEGRATION.   \n",
       "4                                                                                                                                                THE HOSPITAL IS A NOT-FOR-PROFIT ENTITY ESTABLISHED TO PROVIDE HEALTH CARE SERVICES THROUGH ITS ACUTE CARE FACILITY AND PHYSICIAN PRACTICES.   \n",
       "\n",
       "   categories  \n",
       "0  charitable  \n",
       "1  charitable  \n",
       "2  charitable  \n",
       "3  charitable  \n",
       "4  charitable  "
      ]
     },
     "execution_count": 343,
     "metadata": {},
     "output_type": "execute_result"
    }
   ],
   "source": [
    "# examine results\n",
    "orgs_with_cont_mission.head()"
   ]
  },
  {
   "cell_type": "code",
   "execution_count": 334,
   "metadata": {},
   "outputs": [
    {
     "data": {
      "text/plain": [
       "NaN                      7270\n",
       "charitable               5720\n",
       "educational              4389\n",
       "scientific               1678\n",
       "religious                1145\n",
       "public_safety             646\n",
       "amateur_sports            307\n",
       "prevention_of_cruelty     102\n",
       "literary                   73\n",
       "Name: categories, dtype: int64"
      ]
     },
     "execution_count": 334,
     "metadata": {},
     "output_type": "execute_result"
    }
   ],
   "source": [
    "# I am able to categorize about two-thirds of the orgs\n",
    "orgs_with_cont_mission.categories.value_counts(dropna=False)"
   ]
  },
  {
   "cell_type": "code",
   "execution_count": 342,
   "metadata": {},
   "outputs": [
    {
     "data": {
      "text/plain": [
       "0.6591654946085326"
      ]
     },
     "execution_count": 342,
     "metadata": {},
     "output_type": "execute_result"
    }
   ],
   "source": [
    "# what percent of the total am I categorizing?\n",
    "orgs_with_cont_mission.categories.value_counts().sum() / orgs_with_cont_mission.categories.value_counts(dropna=False).sum() "
   ]
  },
  {
   "cell_type": "code",
   "execution_count": 330,
   "metadata": {},
   "outputs": [
    {
     "data": {
      "text/html": [
       "<div>\n",
       "<style scoped>\n",
       "    .dataframe tbody tr th:only-of-type {\n",
       "        vertical-align: middle;\n",
       "    }\n",
       "\n",
       "    .dataframe tbody tr th {\n",
       "        vertical-align: top;\n",
       "    }\n",
       "\n",
       "    .dataframe thead th {\n",
       "        text-align: right;\n",
       "    }\n",
       "</style>\n",
       "<table border=\"1\" class=\"dataframe\">\n",
       "  <thead>\n",
       "    <tr style=\"text-align: right;\">\n",
       "      <th></th>\n",
       "      <th>ein</th>\n",
       "      <th>ein_org</th>\n",
       "      <th>mission_of_org</th>\n",
       "      <th>categories</th>\n",
       "    </tr>\n",
       "  </thead>\n",
       "  <tbody>\n",
       "    <tr>\n",
       "      <td>15</td>\n",
       "      <td>10211512</td>\n",
       "      <td>10211512</td>\n",
       "      <td>TO PROVIDE HIGH QUALITY HOUSING AND SERVICES TO THOSE 60 YEARS OF AGE AND OLDER.</td>\n",
       "      <td>None</td>\n",
       "    </tr>\n",
       "    <tr>\n",
       "      <td>31</td>\n",
       "      <td>10215213</td>\n",
       "      <td>10215213</td>\n",
       "      <td>FOUR-YEAR PRIVATE UNDERGRADUATE LIBERAL ARTS COLLEGE. SEE SCHEDULE O</td>\n",
       "      <td>None</td>\n",
       "    </tr>\n",
       "    <tr>\n",
       "      <td>49</td>\n",
       "      <td>10265559</td>\n",
       "      <td>10265559</td>\n",
       "      <td>KBH'S MISSION IS TO PROMOTE THE WELL-BEING OF CHILDREN, ADULTS AND FAMILIES WHO EXPERIENCE MENTAL ILLNESS, EMOTIONAL OR DEVELOPMENTAL DIFFICULTIES, OR BEHAVIORAL CHALLENGES.</td>\n",
       "      <td>None</td>\n",
       "    </tr>\n",
       "    <tr>\n",
       "      <td>51</td>\n",
       "      <td>10272879</td>\n",
       "      <td>10272879</td>\n",
       "      <td>TO PROVIDE RESIDENTIAL, COMMUNITY AND WORK SUPPORTS THAT ENRICH, EMPOWER, EMPLOY, EDUCATE AND EXCEL PEOPLE WITH INTELLECTUAL DISABILITIES TO ACHIEVE THEIR INDIVIDUAL PERSONAL GOALS AND TO BE INCLUDED AND ACCEPTED IN OUR COMMUNITIES.</td>\n",
       "      <td>None</td>\n",
       "    </tr>\n",
       "    <tr>\n",
       "      <td>52</td>\n",
       "      <td>10274725</td>\n",
       "      <td>10274725</td>\n",
       "      <td>TRANSFORMING OUR COMMUNITY BY HELPING PEOPLE IN NEED BUILD BETTER LIVES.</td>\n",
       "      <td>None</td>\n",
       "    </tr>\n",
       "  </tbody>\n",
       "</table>\n",
       "</div>"
      ],
      "text/plain": [
       "         ein   ein_org  \\\n",
       "15  10211512  10211512   \n",
       "31  10215213  10215213   \n",
       "49  10265559  10265559   \n",
       "51  10272879  10272879   \n",
       "52  10274725  10274725   \n",
       "\n",
       "                                                                                                                                                                                                                              mission_of_org  \\\n",
       "15                                                                                                                                                          TO PROVIDE HIGH QUALITY HOUSING AND SERVICES TO THOSE 60 YEARS OF AGE AND OLDER.   \n",
       "31                                                                                                                                                                      FOUR-YEAR PRIVATE UNDERGRADUATE LIBERAL ARTS COLLEGE. SEE SCHEDULE O   \n",
       "49                                                             KBH'S MISSION IS TO PROMOTE THE WELL-BEING OF CHILDREN, ADULTS AND FAMILIES WHO EXPERIENCE MENTAL ILLNESS, EMOTIONAL OR DEVELOPMENTAL DIFFICULTIES, OR BEHAVIORAL CHALLENGES.   \n",
       "51  TO PROVIDE RESIDENTIAL, COMMUNITY AND WORK SUPPORTS THAT ENRICH, EMPOWER, EMPLOY, EDUCATE AND EXCEL PEOPLE WITH INTELLECTUAL DISABILITIES TO ACHIEVE THEIR INDIVIDUAL PERSONAL GOALS AND TO BE INCLUDED AND ACCEPTED IN OUR COMMUNITIES.   \n",
       "52                                                                                                                                                                  TRANSFORMING OUR COMMUNITY BY HELPING PEOPLE IN NEED BUILD BETTER LIVES.   \n",
       "\n",
       "   categories  \n",
       "15       None  \n",
       "31       None  \n",
       "49       None  \n",
       "51       None  \n",
       "52       None  "
      ]
     },
     "execution_count": 330,
     "metadata": {},
     "output_type": "execute_result"
    }
   ],
   "source": [
    "# examin NaN results\n",
    "orgs_with_cont_mission[orgs_with_cont_mission.categories.isna()].head()"
   ]
  },
  {
   "cell_type": "code",
   "execution_count": 328,
   "metadata": {},
   "outputs": [
    {
     "data": {
      "text/html": [
       "<div>\n",
       "<style scoped>\n",
       "    .dataframe tbody tr th:only-of-type {\n",
       "        vertical-align: middle;\n",
       "    }\n",
       "\n",
       "    .dataframe tbody tr th {\n",
       "        vertical-align: top;\n",
       "    }\n",
       "\n",
       "    .dataframe thead th {\n",
       "        text-align: right;\n",
       "    }\n",
       "</style>\n",
       "<table border=\"1\" class=\"dataframe\">\n",
       "  <thead>\n",
       "    <tr style=\"text-align: right;\">\n",
       "      <th></th>\n",
       "      <th>ein</th>\n",
       "      <th>ein_org</th>\n",
       "      <th>mission_of_org</th>\n",
       "      <th>categories</th>\n",
       "    </tr>\n",
       "  </thead>\n",
       "  <tbody>\n",
       "    <tr>\n",
       "      <td>1158</td>\n",
       "      <td>43846060</td>\n",
       "      <td>43846060</td>\n",
       "      <td>ALBANY COMMUNITY CHARTER SCHOOL PREPARES STUDENTS FOR A LIFETIME OF OPPORTUNITY BY HELPING THEM MASTER PRIMARY RIGOROUS, STANDARDS-BASED CURRICULUM FOCUSED ON LITERACY AND OTHER FOUNDATIONAL KNOWLEDGE.</td>\n",
       "      <td>literary</td>\n",
       "    </tr>\n",
       "    <tr>\n",
       "      <td>1436</td>\n",
       "      <td>60862072</td>\n",
       "      <td>60862072</td>\n",
       "      <td>TO OPERATE A COMMUNITY CENTER ENCOMPASSING: AFTER-SCHOOL PROGRAMS, YOUTH DEVELOPMENT, ADULT EDUCATION AND ACTIVITIES, PHYSICAL EDUCATION AND REFERRAL SERVICES IN AN EFFORT TO COMBAT ILLITERACY AND UNREALIZED HUMAN POTENTIAL.</td>\n",
       "      <td>literary</td>\n",
       "    </tr>\n",
       "    <tr>\n",
       "      <td>1646</td>\n",
       "      <td>110339109</td>\n",
       "      <td>110339109</td>\n",
       "      <td>TO PROMOTE ADULT AND FAMILY LITERACY IN THE HOLYOKE AREA AND TO ASSIST IN JOB PLACEMENT FOR UNEMPLOYED COMMUNITY RESIDENTS IN LOCAL BUSINESSES.</td>\n",
       "      <td>literary</td>\n",
       "    </tr>\n",
       "    <tr>\n",
       "      <td>2117</td>\n",
       "      <td>131679617</td>\n",
       "      <td>131679617</td>\n",
       "      <td>DISSEMINATION OF LITERATURE AND RELATED ITEMS DIRECTED TOWARDS ALCOHOLICS FOLLOWING THE A.A RECOVERY PROGRAM.</td>\n",
       "      <td>literary</td>\n",
       "    </tr>\n",
       "    <tr>\n",
       "      <td>2243</td>\n",
       "      <td>131969570</td>\n",
       "      <td>131969570</td>\n",
       "      <td>STEPHEN GAYNOR SCHOOL IS AN INDEPENDENT, NONPROFIT PRE-K, LOWER, AND MIDDLE SCHOOL FOR BRIGHT STUDENTS WITH LEARNING DIFFERENCES. AROUND 350 STUDENTS AGES THREE TO 14 ATTEND OUR SCHOOL WITH A RANGE OF LEARNING DIFFERENCES, FROM ATTENTION HYPERACTIVITY DISORDER (ADHD) TO SPEECH, LANGUAGE, AND READING DELAYS.</td>\n",
       "      <td>literary</td>\n",
       "    </tr>\n",
       "  </tbody>\n",
       "</table>\n",
       "</div>"
      ],
      "text/plain": [
       "            ein    ein_org  \\\n",
       "1158   43846060   43846060   \n",
       "1436   60862072   60862072   \n",
       "1646  110339109  110339109   \n",
       "2117  131679617  131679617   \n",
       "2243  131969570  131969570   \n",
       "\n",
       "                                                                                                                                                                                                                                                                                                            mission_of_org  \\\n",
       "1158                                                                                                             ALBANY COMMUNITY CHARTER SCHOOL PREPARES STUDENTS FOR A LIFETIME OF OPPORTUNITY BY HELPING THEM MASTER PRIMARY RIGOROUS, STANDARDS-BASED CURRICULUM FOCUSED ON LITERACY AND OTHER FOUNDATIONAL KNOWLEDGE.   \n",
       "1436                                                                                      TO OPERATE A COMMUNITY CENTER ENCOMPASSING: AFTER-SCHOOL PROGRAMS, YOUTH DEVELOPMENT, ADULT EDUCATION AND ACTIVITIES, PHYSICAL EDUCATION AND REFERRAL SERVICES IN AN EFFORT TO COMBAT ILLITERACY AND UNREALIZED HUMAN POTENTIAL.   \n",
       "1646                                                                                                                                                                       TO PROMOTE ADULT AND FAMILY LITERACY IN THE HOLYOKE AREA AND TO ASSIST IN JOB PLACEMENT FOR UNEMPLOYED COMMUNITY RESIDENTS IN LOCAL BUSINESSES.   \n",
       "2117                                                                                                                                                                                                         DISSEMINATION OF LITERATURE AND RELATED ITEMS DIRECTED TOWARDS ALCOHOLICS FOLLOWING THE A.A RECOVERY PROGRAM.   \n",
       "2243  STEPHEN GAYNOR SCHOOL IS AN INDEPENDENT, NONPROFIT PRE-K, LOWER, AND MIDDLE SCHOOL FOR BRIGHT STUDENTS WITH LEARNING DIFFERENCES. AROUND 350 STUDENTS AGES THREE TO 14 ATTEND OUR SCHOOL WITH A RANGE OF LEARNING DIFFERENCES, FROM ATTENTION HYPERACTIVITY DISORDER (ADHD) TO SPEECH, LANGUAGE, AND READING DELAYS.   \n",
       "\n",
       "     categories  \n",
       "1158   literary  \n",
       "1436   literary  \n",
       "1646   literary  \n",
       "2117   literary  \n",
       "2243   literary  "
      ]
     },
     "execution_count": 328,
     "metadata": {},
     "output_type": "execute_result"
    }
   ],
   "source": [
    "orgs_with_cont_mission[orgs_with_cont_mission.categories =='literary'].head()"
   ]
  },
  {
   "cell_type": "code",
   "execution_count": 335,
   "metadata": {},
   "outputs": [
    {
     "data": {
      "text/html": [
       "<div>\n",
       "<style scoped>\n",
       "    .dataframe tbody tr th:only-of-type {\n",
       "        vertical-align: middle;\n",
       "    }\n",
       "\n",
       "    .dataframe tbody tr th {\n",
       "        vertical-align: top;\n",
       "    }\n",
       "\n",
       "    .dataframe thead th {\n",
       "        text-align: right;\n",
       "    }\n",
       "</style>\n",
       "<table border=\"1\" class=\"dataframe\">\n",
       "  <thead>\n",
       "    <tr style=\"text-align: right;\">\n",
       "      <th></th>\n",
       "      <th>ein</th>\n",
       "      <th>ein_org</th>\n",
       "      <th>mission_of_org</th>\n",
       "      <th>categories</th>\n",
       "    </tr>\n",
       "  </thead>\n",
       "  <tbody>\n",
       "    <tr>\n",
       "      <td>5</td>\n",
       "      <td>10202467</td>\n",
       "      <td>10202467</td>\n",
       "      <td>TO DEVELOP SOLUTIONS TO COMPLEX HUMAN &amp; ENVIRONMENTAL HEALTH PROBLEMS THROUGH RESEARCH &amp; EDUCATION.</td>\n",
       "      <td>scientific</td>\n",
       "    </tr>\n",
       "    <tr>\n",
       "      <td>16</td>\n",
       "      <td>10211513</td>\n",
       "      <td>10211513</td>\n",
       "      <td>THE PURPOSES OF THE LABORATORY ARE SCIENTIFIC, MEDICAL, CHARITABLE, AND EDUCATIONAL TO DISCOVER PRECISE GENOMIC SOLUTIONS FOR DISEASE AND EMPOWER THE BIOMEDICAL COMMUNITY.</td>\n",
       "      <td>scientific</td>\n",
       "    </tr>\n",
       "    <tr>\n",
       "      <td>21</td>\n",
       "      <td>10211781</td>\n",
       "      <td>10211781</td>\n",
       "      <td>BATES COLLEGE IS A PRIVATE, HIGHLY SELECTIVE, RESIDENTIAL COLLEGE DEVOTED TO UNDERGRADUATE STUDY IN THE TRADITIONAL DISCIPLINES OF THE LIBERAL ARTS AND SCIENCES AS WELL AS IN EMERGING INTERDISCIPLINARY PROGRAMS.</td>\n",
       "      <td>scientific</td>\n",
       "    </tr>\n",
       "    <tr>\n",
       "      <td>25</td>\n",
       "      <td>10211810</td>\n",
       "      <td>10211810</td>\n",
       "      <td>THE UNIVERSITY'S MISSION IS TO PROVIDE STUDENTS WITH A HIGHLY INTEGRATED LEARNING EXPERIENCE THAT PROMOTES EXCELLENCE THROUGH INTERDISCIPLINARY COLLABORATION AND INNOVATION IN EDUCATION, RESEARCH, AND SERVICE.</td>\n",
       "      <td>scientific</td>\n",
       "    </tr>\n",
       "    <tr>\n",
       "      <td>44</td>\n",
       "      <td>10238552</td>\n",
       "      <td>10238552</td>\n",
       "      <td>THE MAINE MEDICAL CENTER (THE MEDICAL CENTER) IS A VOLUNTARY, NOT-FOR-PROFIT COMMUNITY AND REFERRAL HOSPITAL, DEDICATED TO PROVIDING HIGH QUALITY HEALTH CARE SERVICES TO ALL PERSONS WHO SEEK CARE REGARDLESS OF THEIR SEX, RACE, RELIGION, AGE, COLOR, SEXUAL ORIENTATION, NATIONAL ORIGIN, PHYSICAL OR EMOTIONAL DISABILITY OR SOCIAL OR ECONOMIC STATUS. MAINE MEDICAL CENTER IS ALSO COMMITTED TO EDUCATION AT THE UNDERGRADUATE, GRADUATE, POST-GRADUATE AND CONTINUING EDUCATION LEVELS FOR PHYSICIANS, NURSES AND ALLIED HEALTH PERSONNEL, AND IN-SERVICE TRAINING FOR SUPPORT STAFF ALL OF WHICH ARE ESSENTIAL TO THE DELIVERY OF QUALITY PATIENT CARE. OUTREACH EDUCATION TO OTHER INSTITUTIONS AND AGENCIES IS ALSO VITAL TO THE FULFILLMENT OF THE MAINE MEDICAL CENTER'S MISSION. THE MEDICAL CENTER ALSO SUPPORTS BASIC AND CLINICAL RESEARCH AS ESSENTIAL TO THE ADVANCEMENT OF HEALTH CARE.</td>\n",
       "      <td>scientific</td>\n",
       "    </tr>\n",
       "  </tbody>\n",
       "</table>\n",
       "</div>"
      ],
      "text/plain": [
       "         ein   ein_org  \\\n",
       "5   10202467  10202467   \n",
       "16  10211513  10211513   \n",
       "21  10211781  10211781   \n",
       "25  10211810  10211810   \n",
       "44  10238552  10238552   \n",
       "\n",
       "                                                                                                                                                                                                                                                                                                                                                                                                                                                                                                                                                                                                                                                                                                                                                                                                                                                                                                 mission_of_org  \\\n",
       "5                                                                                                                                                                                                                                                                                                                                                                                                                                                                                                                                                                                                                                                                                                                                                                                                           TO DEVELOP SOLUTIONS TO COMPLEX HUMAN & ENVIRONMENTAL HEALTH PROBLEMS THROUGH RESEARCH & EDUCATION.   \n",
       "16                                                                                                                                                                                                                                                                                                                                                                                                                                                                                                                                                                                                                                                                                                                                  THE PURPOSES OF THE LABORATORY ARE SCIENTIFIC, MEDICAL, CHARITABLE, AND EDUCATIONAL TO DISCOVER PRECISE GENOMIC SOLUTIONS FOR DISEASE AND EMPOWER THE BIOMEDICAL COMMUNITY.   \n",
       "21                                                                                                                                                                                                                                                                                                                                                                                                                                                                                                                                                                                                                                                                                          BATES COLLEGE IS A PRIVATE, HIGHLY SELECTIVE, RESIDENTIAL COLLEGE DEVOTED TO UNDERGRADUATE STUDY IN THE TRADITIONAL DISCIPLINES OF THE LIBERAL ARTS AND SCIENCES AS WELL AS IN EMERGING INTERDISCIPLINARY PROGRAMS.   \n",
       "25                                                                                                                                                                                                                                                                                                                                                                                                                                                                                                                                                                                                                                                                                            THE UNIVERSITY'S MISSION IS TO PROVIDE STUDENTS WITH A HIGHLY INTEGRATED LEARNING EXPERIENCE THAT PROMOTES EXCELLENCE THROUGH INTERDISCIPLINARY COLLABORATION AND INNOVATION IN EDUCATION, RESEARCH, AND SERVICE.   \n",
       "44  THE MAINE MEDICAL CENTER (THE MEDICAL CENTER) IS A VOLUNTARY, NOT-FOR-PROFIT COMMUNITY AND REFERRAL HOSPITAL, DEDICATED TO PROVIDING HIGH QUALITY HEALTH CARE SERVICES TO ALL PERSONS WHO SEEK CARE REGARDLESS OF THEIR SEX, RACE, RELIGION, AGE, COLOR, SEXUAL ORIENTATION, NATIONAL ORIGIN, PHYSICAL OR EMOTIONAL DISABILITY OR SOCIAL OR ECONOMIC STATUS. MAINE MEDICAL CENTER IS ALSO COMMITTED TO EDUCATION AT THE UNDERGRADUATE, GRADUATE, POST-GRADUATE AND CONTINUING EDUCATION LEVELS FOR PHYSICIANS, NURSES AND ALLIED HEALTH PERSONNEL, AND IN-SERVICE TRAINING FOR SUPPORT STAFF ALL OF WHICH ARE ESSENTIAL TO THE DELIVERY OF QUALITY PATIENT CARE. OUTREACH EDUCATION TO OTHER INSTITUTIONS AND AGENCIES IS ALSO VITAL TO THE FULFILLMENT OF THE MAINE MEDICAL CENTER'S MISSION. THE MEDICAL CENTER ALSO SUPPORTS BASIC AND CLINICAL RESEARCH AS ESSENTIAL TO THE ADVANCEMENT OF HEALTH CARE.   \n",
       "\n",
       "    categories  \n",
       "5   scientific  \n",
       "16  scientific  \n",
       "21  scientific  \n",
       "25  scientific  \n",
       "44  scientific  "
      ]
     },
     "execution_count": 335,
     "metadata": {},
     "output_type": "execute_result"
    }
   ],
   "source": [
    "orgs_with_cont_mission[orgs_with_cont_mission.categories =='scientific'].head()"
   ]
  },
  {
   "cell_type": "code",
   "execution_count": 336,
   "metadata": {},
   "outputs": [
    {
     "data": {
      "text/html": [
       "<div>\n",
       "<style scoped>\n",
       "    .dataframe tbody tr th:only-of-type {\n",
       "        vertical-align: middle;\n",
       "    }\n",
       "\n",
       "    .dataframe tbody tr th {\n",
       "        vertical-align: top;\n",
       "    }\n",
       "\n",
       "    .dataframe thead th {\n",
       "        text-align: right;\n",
       "    }\n",
       "</style>\n",
       "<table border=\"1\" class=\"dataframe\">\n",
       "  <thead>\n",
       "    <tr style=\"text-align: right;\">\n",
       "      <th></th>\n",
       "      <th>ein</th>\n",
       "      <th>ein_org</th>\n",
       "      <th>mission_of_org</th>\n",
       "      <th>categories</th>\n",
       "    </tr>\n",
       "  </thead>\n",
       "  <tbody>\n",
       "    <tr>\n",
       "      <td>89</td>\n",
       "      <td>10461075</td>\n",
       "      <td>10461075</td>\n",
       "      <td>THE PURPOSE OF THE MARIAN MOVEMENT OF PRIESTS IS TO PROVIDE A MEANS FOR PRIESTS AND LAITY OF THE CATHOLIC CHURCH TO ACHIEVE A GENUINE SPIRITUAL RENEWAL</td>\n",
       "      <td>religious</td>\n",
       "    </tr>\n",
       "    <tr>\n",
       "      <td>110</td>\n",
       "      <td>10548823</td>\n",
       "      <td>10548823</td>\n",
       "      <td>PRINCE AVENUE CHRISTIAN SCHOOL EXISTS TO INFUSE OUR SCHOOL COMMUNITY WITH A BIBLICAL WORLDVIEW BY EFFECTIVELY SHARING THE GOSPEL AND DEVELOPING FULLY DEVOTED FOLLOWERS OF JESUS CHRIST THROUGH SCRIPTURALLY BASED DISCIPLESHIP, ACADEMICS, FINE ARTS, AND ATHLETICS.</td>\n",
       "      <td>religious</td>\n",
       "    </tr>\n",
       "    <tr>\n",
       "      <td>133</td>\n",
       "      <td>10651843</td>\n",
       "      <td>10651843</td>\n",
       "      <td>TO PROVIDE FINANCIAL SUPPORT TO OTHER CHARITABLE ORGANIZATIONS WHICH PROMOTE SOCIAL, EDUCATIONAL AND OTHER CHARITABLE SERVICES IN THE UNITED STATES AND ISRAEL. IT ALSO PROVIDES SOCIAL SERVICES TO POOR AND DISADVANTAGED INDIVIDUALS IN THE IRANIAN AMERICAN JEWISH COMMUNITY.</td>\n",
       "      <td>religious</td>\n",
       "    </tr>\n",
       "    <tr>\n",
       "      <td>195</td>\n",
       "      <td>20222163</td>\n",
       "      <td>20222163</td>\n",
       "      <td>GROUNDED IN THE LIFE AND MINISTRY OF JESUS CHRIST, NEW HAMPSHIRE CATHOLIC CHARITIES RESPONDS TO THOSE IN NEED WITH PROGRAMS THAT HEAL, COMFORT AND EMPOWER.</td>\n",
       "      <td>religious</td>\n",
       "    </tr>\n",
       "    <tr>\n",
       "      <td>200</td>\n",
       "      <td>20222182</td>\n",
       "      <td>20222182</td>\n",
       "      <td>A CATHOLIC, BENEDICTINE COLLEGE PROVIDING ALL ITS STUDENTS A DISTINCTIVE LIBERAL ARTS EDUCATION THAT INCORPORATES OPPORTUNITIES FOR PROFESSIONAL AND CAREER PREPARATION.</td>\n",
       "      <td>religious</td>\n",
       "    </tr>\n",
       "  </tbody>\n",
       "</table>\n",
       "</div>"
      ],
      "text/plain": [
       "          ein   ein_org  \\\n",
       "89   10461075  10461075   \n",
       "110  10548823  10548823   \n",
       "133  10651843  10651843   \n",
       "195  20222163  20222163   \n",
       "200  20222182  20222182   \n",
       "\n",
       "                                                                                                                                                                                                                                                                       mission_of_org  \\\n",
       "89                                                                                                                            THE PURPOSE OF THE MARIAN MOVEMENT OF PRIESTS IS TO PROVIDE A MEANS FOR PRIESTS AND LAITY OF THE CATHOLIC CHURCH TO ACHIEVE A GENUINE SPIRITUAL RENEWAL   \n",
       "110             PRINCE AVENUE CHRISTIAN SCHOOL EXISTS TO INFUSE OUR SCHOOL COMMUNITY WITH A BIBLICAL WORLDVIEW BY EFFECTIVELY SHARING THE GOSPEL AND DEVELOPING FULLY DEVOTED FOLLOWERS OF JESUS CHRIST THROUGH SCRIPTURALLY BASED DISCIPLESHIP, ACADEMICS, FINE ARTS, AND ATHLETICS.   \n",
       "133  TO PROVIDE FINANCIAL SUPPORT TO OTHER CHARITABLE ORGANIZATIONS WHICH PROMOTE SOCIAL, EDUCATIONAL AND OTHER CHARITABLE SERVICES IN THE UNITED STATES AND ISRAEL. IT ALSO PROVIDES SOCIAL SERVICES TO POOR AND DISADVANTAGED INDIVIDUALS IN THE IRANIAN AMERICAN JEWISH COMMUNITY.   \n",
       "195                                                                                                                       GROUNDED IN THE LIFE AND MINISTRY OF JESUS CHRIST, NEW HAMPSHIRE CATHOLIC CHARITIES RESPONDS TO THOSE IN NEED WITH PROGRAMS THAT HEAL, COMFORT AND EMPOWER.   \n",
       "200                                                                                                          A CATHOLIC, BENEDICTINE COLLEGE PROVIDING ALL ITS STUDENTS A DISTINCTIVE LIBERAL ARTS EDUCATION THAT INCORPORATES OPPORTUNITIES FOR PROFESSIONAL AND CAREER PREPARATION.   \n",
       "\n",
       "    categories  \n",
       "89   religious  \n",
       "110  religious  \n",
       "133  religious  \n",
       "195  religious  \n",
       "200  religious  "
      ]
     },
     "execution_count": 336,
     "metadata": {},
     "output_type": "execute_result"
    }
   ],
   "source": [
    "orgs_with_cont_mission[orgs_with_cont_mission.categories =='religious'].head()"
   ]
  },
  {
   "cell_type": "code",
   "execution_count": 344,
   "metadata": {},
   "outputs": [
    {
     "data": {
      "text/plain": [
       "(21330, 4)"
      ]
     },
     "execution_count": 344,
     "metadata": {},
     "output_type": "execute_result"
    }
   ],
   "source": [
    "orgs_with_cont_mission.shape"
   ]
  },
  {
   "cell_type": "code",
   "execution_count": 346,
   "metadata": {},
   "outputs": [
    {
     "data": {
      "text/html": [
       "<div>\n",
       "<style scoped>\n",
       "    .dataframe tbody tr th:only-of-type {\n",
       "        vertical-align: middle;\n",
       "    }\n",
       "\n",
       "    .dataframe tbody tr th {\n",
       "        vertical-align: top;\n",
       "    }\n",
       "\n",
       "    .dataframe thead th {\n",
       "        text-align: right;\n",
       "    }\n",
       "</style>\n",
       "<table border=\"1\" class=\"dataframe\">\n",
       "  <thead>\n",
       "    <tr style=\"text-align: right;\">\n",
       "      <th></th>\n",
       "      <th>ein</th>\n",
       "      <th>ein_org</th>\n",
       "      <th>mission_of_org</th>\n",
       "      <th>categories</th>\n",
       "    </tr>\n",
       "  </thead>\n",
       "  <tbody>\n",
       "    <tr>\n",
       "      <td>0</td>\n",
       "      <td>10130427</td>\n",
       "      <td>10130427</td>\n",
       "      <td>BRIDGTON HOSPITAL STRIVES TO PROVIDE EXCEPTIONAL HEALTHCARE SERVICES AND DEPENDS ON CAREGIVER EXPERTISE AND THE COMMITMENT AND COMPASSION THEY PROVIDE TO FULFILL ITS MISSION.</td>\n",
       "      <td>charitable</td>\n",
       "    </tr>\n",
       "    <tr>\n",
       "      <td>1</td>\n",
       "      <td>10177170</td>\n",
       "      <td>10177170</td>\n",
       "      <td>WALDO COUNTY GENERAL HOSPITAL'S MISSION IS TO BE THE BEST - BETTER, EMPATHY, SERVICE AND TEAMWORK. OUR GOAL IS TO ENSURE QUALITY, ACCESSIBLE AND AFFORDABLE HEALTH CARE SERVICES AND TO IMPROVE THE HEALTH AND WELL-BEING OF OUR COMMUNITY. PLEASE SEE ATTACHED COMMUNITY BENEFITS REPORT.</td>\n",
       "      <td>charitable</td>\n",
       "    </tr>\n",
       "    <tr>\n",
       "      <td>2</td>\n",
       "      <td>10179500</td>\n",
       "      <td>10179500</td>\n",
       "      <td>SOUTHERN MAINE HEALTH CARE EXISTS TO IMPROVE THE HEALTH AND HEALTH CARE OF THE COMMUNITIES WE SERVE.</td>\n",
       "      <td>charitable</td>\n",
       "    </tr>\n",
       "    <tr>\n",
       "      <td>3</td>\n",
       "      <td>10196359</td>\n",
       "      <td>10196359</td>\n",
       "      <td>TO HELP PEOPLE WHO ARE VISUALLY IMPAIRED OR BLIND ATTAIN INDEPENDENCE AND COMMUNITY INTEGRATION.</td>\n",
       "      <td>charitable</td>\n",
       "    </tr>\n",
       "    <tr>\n",
       "      <td>4</td>\n",
       "      <td>10198331</td>\n",
       "      <td>10198331</td>\n",
       "      <td>THE HOSPITAL IS A NOT-FOR-PROFIT ENTITY ESTABLISHED TO PROVIDE HEALTH CARE SERVICES THROUGH ITS ACUTE CARE FACILITY AND PHYSICIAN PRACTICES.</td>\n",
       "      <td>charitable</td>\n",
       "    </tr>\n",
       "  </tbody>\n",
       "</table>\n",
       "</div>"
      ],
      "text/plain": [
       "        ein   ein_org  \\\n",
       "0  10130427  10130427   \n",
       "1  10177170  10177170   \n",
       "2  10179500  10179500   \n",
       "3  10196359  10196359   \n",
       "4  10198331  10198331   \n",
       "\n",
       "                                                                                                                                                                                                                                                                               mission_of_org  \\\n",
       "0                                                                                                              BRIDGTON HOSPITAL STRIVES TO PROVIDE EXCEPTIONAL HEALTHCARE SERVICES AND DEPENDS ON CAREGIVER EXPERTISE AND THE COMMITMENT AND COMPASSION THEY PROVIDE TO FULFILL ITS MISSION.   \n",
       "1  WALDO COUNTY GENERAL HOSPITAL'S MISSION IS TO BE THE BEST - BETTER, EMPATHY, SERVICE AND TEAMWORK. OUR GOAL IS TO ENSURE QUALITY, ACCESSIBLE AND AFFORDABLE HEALTH CARE SERVICES AND TO IMPROVE THE HEALTH AND WELL-BEING OF OUR COMMUNITY. PLEASE SEE ATTACHED COMMUNITY BENEFITS REPORT.   \n",
       "2                                                                                                                                                                                        SOUTHERN MAINE HEALTH CARE EXISTS TO IMPROVE THE HEALTH AND HEALTH CARE OF THE COMMUNITIES WE SERVE.   \n",
       "3                                                                                                                                                                                            TO HELP PEOPLE WHO ARE VISUALLY IMPAIRED OR BLIND ATTAIN INDEPENDENCE AND COMMUNITY INTEGRATION.   \n",
       "4                                                                                                                                                THE HOSPITAL IS A NOT-FOR-PROFIT ENTITY ESTABLISHED TO PROVIDE HEALTH CARE SERVICES THROUGH ITS ACUTE CARE FACILITY AND PHYSICIAN PRACTICES.   \n",
       "\n",
       "   categories  \n",
       "0  charitable  \n",
       "1  charitable  \n",
       "2  charitable  \n",
       "3  charitable  \n",
       "4  charitable  "
      ]
     },
     "execution_count": 346,
     "metadata": {},
     "output_type": "execute_result"
    }
   ],
   "source": [
    "orgs_with_cont_mission.head()"
   ]
  },
  {
   "cell_type": "code",
   "execution_count": 353,
   "metadata": {},
   "outputs": [
    {
     "data": {
      "text/html": [
       "<div>\n",
       "<style scoped>\n",
       "    .dataframe tbody tr th:only-of-type {\n",
       "        vertical-align: middle;\n",
       "    }\n",
       "\n",
       "    .dataframe tbody tr th {\n",
       "        vertical-align: top;\n",
       "    }\n",
       "\n",
       "    .dataframe thead th {\n",
       "        text-align: right;\n",
       "    }\n",
       "</style>\n",
       "<table border=\"1\" class=\"dataframe\">\n",
       "  <thead>\n",
       "    <tr style=\"text-align: right;\">\n",
       "      <th></th>\n",
       "      <th>ein</th>\n",
       "      <th>categories</th>\n",
       "    </tr>\n",
       "  </thead>\n",
       "  <tbody>\n",
       "    <tr>\n",
       "      <td>0</td>\n",
       "      <td>10130427</td>\n",
       "      <td>charitable</td>\n",
       "    </tr>\n",
       "    <tr>\n",
       "      <td>1</td>\n",
       "      <td>10177170</td>\n",
       "      <td>charitable</td>\n",
       "    </tr>\n",
       "    <tr>\n",
       "      <td>2</td>\n",
       "      <td>10179500</td>\n",
       "      <td>charitable</td>\n",
       "    </tr>\n",
       "    <tr>\n",
       "      <td>3</td>\n",
       "      <td>10196359</td>\n",
       "      <td>charitable</td>\n",
       "    </tr>\n",
       "    <tr>\n",
       "      <td>4</td>\n",
       "      <td>10198331</td>\n",
       "      <td>charitable</td>\n",
       "    </tr>\n",
       "  </tbody>\n",
       "</table>\n",
       "</div>"
      ],
      "text/plain": [
       "        ein  categories\n",
       "0  10130427  charitable\n",
       "1  10177170  charitable\n",
       "2  10179500  charitable\n",
       "3  10196359  charitable\n",
       "4  10198331  charitable"
      ]
     },
     "execution_count": 353,
     "metadata": {},
     "output_type": "execute_result"
    }
   ],
   "source": [
    "orgs_with_cont_mission[['ein', 'categories']].head()"
   ]
  },
  {
   "cell_type": "markdown",
   "metadata": {},
   "source": [
    "#### Write to CSV "
   ]
  },
  {
   "cell_type": "code",
   "execution_count": 354,
   "metadata": {},
   "outputs": [],
   "source": [
    "orgs_with_cont_mission[['ein', 'categories']].to_csv('data/501c3_categorized.csv', index=None, header=True)"
   ]
  }
 ],
 "metadata": {
  "kernelspec": {
   "display_name": "Python 3",
   "language": "python",
   "name": "python3"
  },
  "language_info": {
   "codemirror_mode": {
    "name": "ipython",
    "version": 3
   },
   "file_extension": ".py",
   "mimetype": "text/x-python",
   "name": "python",
   "nbconvert_exporter": "python",
   "pygments_lexer": "ipython3",
   "version": "3.7.3"
  }
 },
 "nbformat": 4,
 "nbformat_minor": 4
}
