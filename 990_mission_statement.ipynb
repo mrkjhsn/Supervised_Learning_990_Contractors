{
 "cells": [
  {
   "cell_type": "markdown",
   "metadata": {},
   "source": [
    "### Enriching 990 dataset with the mission/purpose of the not-for-profit\n",
    "\n",
    "1. The contractor dataset downloaded from here (https://www.open990.org/catalog/) didn't have the mission/purpose of the not-for-profit included in the dataset.\n",
    "1. I was able to download a more expansive 990 dataset from here (https://appliednonprofitresearch.com/documentation/irs-990-spreadsheets/, a website affiliated with the open990 website) which included the mission/purpose of the not-for-profit.\n",
    "1. Since the open990 dataset was in a more clean/accessible format, I continued using it for my project, however I joined the mission/purpose field to it.  This allowed me to perform analysis on specific categories of not-for-profits."
   ]
  },
  {
   "cell_type": "code",
   "execution_count": 30,
   "metadata": {},
   "outputs": [],
   "source": [
    "import numpy as np\n",
    "import pandas as pd\n",
    "import matplotlib.pyplot as plt\n",
    "import seaborn as sns\n",
    "pd.set_option('display.max_columns', None)\n",
    "pd.set_option('display.max_colwidth', 999)"
   ]
  },
  {
   "cell_type": "code",
   "execution_count": 17,
   "metadata": {},
   "outputs": [],
   "source": [
    "org_mission = pd.read_csv('data/990_Part I_Line_1_mission_significant_activities.csv',\n",
    "                low_memory=False)"
   ]
  },
  {
   "cell_type": "code",
   "execution_count": 18,
   "metadata": {},
   "outputs": [
    {
     "data": {
      "text/plain": [
       "(237854, 2)"
      ]
     },
     "execution_count": 18,
     "metadata": {},
     "output_type": "execute_result"
    }
   ],
   "source": [
    "org_mission.shape"
   ]
  },
  {
   "cell_type": "code",
   "execution_count": 8,
   "metadata": {},
   "outputs": [
    {
     "data": {
      "text/plain": [
       "ein_org               int64\n",
       "990_Part I_Line 1    object\n",
       "dtype: object"
      ]
     },
     "execution_count": 8,
     "metadata": {},
     "output_type": "execute_result"
    }
   ],
   "source": [
    "org_mission.dtypes"
   ]
  },
  {
   "cell_type": "code",
   "execution_count": 20,
   "metadata": {},
   "outputs": [],
   "source": [
    "# rename column\n",
    "org_mission.rename(columns={'990_Part I_Line 1': 'mission_of_org'}, inplace=True)"
   ]
  },
  {
   "cell_type": "code",
   "execution_count": 21,
   "metadata": {},
   "outputs": [
    {
     "data": {
      "text/html": [
       "<div>\n",
       "<style scoped>\n",
       "    .dataframe tbody tr th:only-of-type {\n",
       "        vertical-align: middle;\n",
       "    }\n",
       "\n",
       "    .dataframe tbody tr th {\n",
       "        vertical-align: top;\n",
       "    }\n",
       "\n",
       "    .dataframe thead th {\n",
       "        text-align: right;\n",
       "    }\n",
       "</style>\n",
       "<table border=\"1\" class=\"dataframe\">\n",
       "  <thead>\n",
       "    <tr style=\"text-align: right;\">\n",
       "      <th></th>\n",
       "      <th>ein_org</th>\n",
       "      <th>mission_of_org</th>\n",
       "    </tr>\n",
       "  </thead>\n",
       "  <tbody>\n",
       "    <tr>\n",
       "      <td>0</td>\n",
       "      <td>461233726</td>\n",
       "      <td>PROVIDING HELP, ASSISTANCE, &amp; HEALING TO VICTI...</td>\n",
       "    </tr>\n",
       "    <tr>\n",
       "      <td>1</td>\n",
       "      <td>591965600</td>\n",
       "      <td>SEE SCHEDULE O</td>\n",
       "    </tr>\n",
       "    <tr>\n",
       "      <td>2</td>\n",
       "      <td>840889330</td>\n",
       "      <td>BUILD LONG-TERM, LIFE-CHANGING RELATIONSHIPS W...</td>\n",
       "    </tr>\n",
       "    <tr>\n",
       "      <td>3</td>\n",
       "      <td>274862807</td>\n",
       "      <td>Our mission is to prepare students for a colle...</td>\n",
       "    </tr>\n",
       "    <tr>\n",
       "      <td>4</td>\n",
       "      <td>141666301</td>\n",
       "      <td>THE VERDOY VOLUNTEER FIRE ASSOCIATION, INC. (T...</td>\n",
       "    </tr>\n",
       "  </tbody>\n",
       "</table>\n",
       "</div>"
      ],
      "text/plain": [
       "     ein_org                                     mission_of_org\n",
       "0  461233726  PROVIDING HELP, ASSISTANCE, & HEALING TO VICTI...\n",
       "1  591965600                                     SEE SCHEDULE O\n",
       "2  840889330  BUILD LONG-TERM, LIFE-CHANGING RELATIONSHIPS W...\n",
       "3  274862807  Our mission is to prepare students for a colle...\n",
       "4  141666301  THE VERDOY VOLUNTEER FIRE ASSOCIATION, INC. (T..."
      ]
     },
     "execution_count": 21,
     "metadata": {},
     "output_type": "execute_result"
    }
   ],
   "source": [
    "org_mission.head()"
   ]
  },
  {
   "cell_type": "code",
   "execution_count": 22,
   "metadata": {},
   "outputs": [],
   "source": [
    "# format mission into upper case to be consistent\n",
    "org_mission['mission_of_org'] = org_mission['mission_of_org'].apply(lambda x: str(x).upper())"
   ]
  },
  {
   "cell_type": "code",
   "execution_count": 23,
   "metadata": {},
   "outputs": [
    {
     "data": {
      "text/html": [
       "<div>\n",
       "<style scoped>\n",
       "    .dataframe tbody tr th:only-of-type {\n",
       "        vertical-align: middle;\n",
       "    }\n",
       "\n",
       "    .dataframe tbody tr th {\n",
       "        vertical-align: top;\n",
       "    }\n",
       "\n",
       "    .dataframe thead th {\n",
       "        text-align: right;\n",
       "    }\n",
       "</style>\n",
       "<table border=\"1\" class=\"dataframe\">\n",
       "  <thead>\n",
       "    <tr style=\"text-align: right;\">\n",
       "      <th></th>\n",
       "      <th>ein_org</th>\n",
       "      <th>mission_of_org</th>\n",
       "    </tr>\n",
       "  </thead>\n",
       "  <tbody>\n",
       "    <tr>\n",
       "      <td>0</td>\n",
       "      <td>461233726</td>\n",
       "      <td>PROVIDING HELP, ASSISTANCE, &amp; HEALING TO VICTI...</td>\n",
       "    </tr>\n",
       "    <tr>\n",
       "      <td>1</td>\n",
       "      <td>591965600</td>\n",
       "      <td>SEE SCHEDULE O</td>\n",
       "    </tr>\n",
       "    <tr>\n",
       "      <td>2</td>\n",
       "      <td>840889330</td>\n",
       "      <td>BUILD LONG-TERM, LIFE-CHANGING RELATIONSHIPS W...</td>\n",
       "    </tr>\n",
       "    <tr>\n",
       "      <td>3</td>\n",
       "      <td>274862807</td>\n",
       "      <td>OUR MISSION IS TO PREPARE STUDENTS FOR A COLLE...</td>\n",
       "    </tr>\n",
       "    <tr>\n",
       "      <td>4</td>\n",
       "      <td>141666301</td>\n",
       "      <td>THE VERDOY VOLUNTEER FIRE ASSOCIATION, INC. (T...</td>\n",
       "    </tr>\n",
       "  </tbody>\n",
       "</table>\n",
       "</div>"
      ],
      "text/plain": [
       "     ein_org                                     mission_of_org\n",
       "0  461233726  PROVIDING HELP, ASSISTANCE, & HEALING TO VICTI...\n",
       "1  591965600                                     SEE SCHEDULE O\n",
       "2  840889330  BUILD LONG-TERM, LIFE-CHANGING RELATIONSHIPS W...\n",
       "3  274862807  OUR MISSION IS TO PREPARE STUDENTS FOR A COLLE...\n",
       "4  141666301  THE VERDOY VOLUNTEER FIRE ASSOCIATION, INC. (T..."
      ]
     },
     "execution_count": 23,
     "metadata": {},
     "output_type": "execute_result"
    }
   ],
   "source": [
    "# verify uppercase\n",
    "org_mission.head()"
   ]
  },
  {
   "cell_type": "code",
   "execution_count": null,
   "metadata": {},
   "outputs": [],
   "source": []
  },
  {
   "cell_type": "code",
   "execution_count": null,
   "metadata": {},
   "outputs": [],
   "source": []
  },
  {
   "cell_type": "markdown",
   "metadata": {},
   "source": [
    "### Join not-for-profit orgs with at least one contractor over 100K"
   ]
  },
  {
   "cell_type": "code",
   "execution_count": 24,
   "metadata": {},
   "outputs": [],
   "source": [
    "orgs_with_cont = pd.read_csv('data/ein_orgs_with_contractors.csv',\n",
    "                low_memory=False)"
   ]
  },
  {
   "cell_type": "code",
   "execution_count": 25,
   "metadata": {},
   "outputs": [
    {
     "data": {
      "text/html": [
       "<div>\n",
       "<style scoped>\n",
       "    .dataframe tbody tr th:only-of-type {\n",
       "        vertical-align: middle;\n",
       "    }\n",
       "\n",
       "    .dataframe tbody tr th {\n",
       "        vertical-align: top;\n",
       "    }\n",
       "\n",
       "    .dataframe thead th {\n",
       "        text-align: right;\n",
       "    }\n",
       "</style>\n",
       "<table border=\"1\" class=\"dataframe\">\n",
       "  <thead>\n",
       "    <tr style=\"text-align: right;\">\n",
       "      <th></th>\n",
       "      <th>ein</th>\n",
       "    </tr>\n",
       "  </thead>\n",
       "  <tbody>\n",
       "    <tr>\n",
       "      <td>0</td>\n",
       "      <td>10130427</td>\n",
       "    </tr>\n",
       "    <tr>\n",
       "      <td>1</td>\n",
       "      <td>10177170</td>\n",
       "    </tr>\n",
       "    <tr>\n",
       "      <td>2</td>\n",
       "      <td>10179500</td>\n",
       "    </tr>\n",
       "    <tr>\n",
       "      <td>3</td>\n",
       "      <td>10196359</td>\n",
       "    </tr>\n",
       "    <tr>\n",
       "      <td>4</td>\n",
       "      <td>10198331</td>\n",
       "    </tr>\n",
       "  </tbody>\n",
       "</table>\n",
       "</div>"
      ],
      "text/plain": [
       "        ein\n",
       "0  10130427\n",
       "1  10177170\n",
       "2  10179500\n",
       "3  10196359\n",
       "4  10198331"
      ]
     },
     "execution_count": 25,
     "metadata": {},
     "output_type": "execute_result"
    }
   ],
   "source": [
    "orgs_with_cont.head()"
   ]
  },
  {
   "cell_type": "code",
   "execution_count": 26,
   "metadata": {},
   "outputs": [
    {
     "data": {
      "text/plain": [
       "(21310, 1)"
      ]
     },
     "execution_count": 26,
     "metadata": {},
     "output_type": "execute_result"
    }
   ],
   "source": [
    "orgs_with_cont.shape"
   ]
  },
  {
   "cell_type": "code",
   "execution_count": 32,
   "metadata": {},
   "outputs": [
    {
     "data": {
      "text/html": [
       "<div>\n",
       "<style scoped>\n",
       "    .dataframe tbody tr th:only-of-type {\n",
       "        vertical-align: middle;\n",
       "    }\n",
       "\n",
       "    .dataframe tbody tr th {\n",
       "        vertical-align: top;\n",
       "    }\n",
       "\n",
       "    .dataframe thead th {\n",
       "        text-align: right;\n",
       "    }\n",
       "</style>\n",
       "<table border=\"1\" class=\"dataframe\">\n",
       "  <thead>\n",
       "    <tr style=\"text-align: right;\">\n",
       "      <th></th>\n",
       "      <th>ein</th>\n",
       "      <th>ein_org</th>\n",
       "      <th>mission_of_org</th>\n",
       "    </tr>\n",
       "  </thead>\n",
       "  <tbody>\n",
       "    <tr>\n",
       "      <td>0</td>\n",
       "      <td>10130427</td>\n",
       "      <td>10130427</td>\n",
       "      <td>BRIDGTON HOSPITAL STRIVES TO PROVIDE EXCEPTIONAL HEALTHCARE SERVICES AND DEPENDS ON CAREGIVER EXPERTISE AND THE COMMITMENT AND COMPASSION THEY PROVIDE TO FULFILL ITS MISSION.</td>\n",
       "    </tr>\n",
       "    <tr>\n",
       "      <td>1</td>\n",
       "      <td>10177170</td>\n",
       "      <td>10177170</td>\n",
       "      <td>WALDO COUNTY GENERAL HOSPITAL'S MISSION IS TO BE THE BEST - BETTER, EMPATHY, SERVICE AND TEAMWORK. OUR GOAL IS TO ENSURE QUALITY, ACCESSIBLE AND AFFORDABLE HEALTH CARE SERVICES AND TO IMPROVE THE HEALTH AND WELL-BEING OF OUR COMMUNITY. PLEASE SEE ATTACHED COMMUNITY BENEFITS REPORT.</td>\n",
       "    </tr>\n",
       "    <tr>\n",
       "      <td>2</td>\n",
       "      <td>10179500</td>\n",
       "      <td>10179500</td>\n",
       "      <td>SOUTHERN MAINE HEALTH CARE EXISTS TO IMPROVE THE HEALTH AND HEALTH CARE OF THE COMMUNITIES WE SERVE.</td>\n",
       "    </tr>\n",
       "    <tr>\n",
       "      <td>3</td>\n",
       "      <td>10196359</td>\n",
       "      <td>10196359</td>\n",
       "      <td>TO HELP PEOPLE WHO ARE VISUALLY IMPAIRED OR BLIND ATTAIN INDEPENDENCE AND COMMUNITY INTEGRATION.</td>\n",
       "    </tr>\n",
       "    <tr>\n",
       "      <td>4</td>\n",
       "      <td>10198331</td>\n",
       "      <td>10198331</td>\n",
       "      <td>THE HOSPITAL IS A NOT-FOR-PROFIT ENTITY ESTABLISHED TO PROVIDE HEALTH CARE SERVICES THROUGH ITS ACUTE CARE FACILITY AND PHYSICIAN PRACTICES.</td>\n",
       "    </tr>\n",
       "    <tr>\n",
       "      <td>5</td>\n",
       "      <td>10202467</td>\n",
       "      <td>10202467</td>\n",
       "      <td>TO DEVELOP SOLUTIONS TO COMPLEX HUMAN &amp; ENVIRONMENTAL HEALTH PROBLEMS THROUGH RESEARCH &amp; EDUCATION.</td>\n",
       "    </tr>\n",
       "    <tr>\n",
       "      <td>6</td>\n",
       "      <td>10211483</td>\n",
       "      <td>10211483</td>\n",
       "      <td>PROVIDING ADULT, CHILDREN, AND FAMILY MENTAL HEALTH AND SOCIAL SERVICES. PROVIDING HOME HEALTH AND HOSPICE SERVICES.</td>\n",
       "    </tr>\n",
       "    <tr>\n",
       "      <td>7</td>\n",
       "      <td>10211488</td>\n",
       "      <td>10211488</td>\n",
       "      <td>SUPPORT PRESERVATION OF HISTORIC BUILDINGS</td>\n",
       "    </tr>\n",
       "    <tr>\n",
       "      <td>8</td>\n",
       "      <td>10211494</td>\n",
       "      <td>10211494</td>\n",
       "      <td>CMMC STRIVES TO PROVIDE EXCEPTIONAL HEALTHCARE SERVICES. THE HOSPITAL DEPENDS ON THE EXPERTISE OF ITS CAREGIVERS IN ADDITION TO THE COMMITMENT AND COMPASSION THE PROVIDE.</td>\n",
       "    </tr>\n",
       "    <tr>\n",
       "      <td>9</td>\n",
       "      <td>10211497</td>\n",
       "      <td>10211497</td>\n",
       "      <td>EDUCATION</td>\n",
       "    </tr>\n",
       "    <tr>\n",
       "      <td>10</td>\n",
       "      <td>10211501</td>\n",
       "      <td>10211501</td>\n",
       "      <td>EASTERN MAINE MEDICAL CENTER STRIVES TO PROVIDE EXCEPTIONAL PRIMARY AND SPECIALTY HEALTHCARE WITH A PASSIONATE PURSUIT OF EXCELLENCE IN PATIENT SAFETY, CLINICAL QUALITY, AND SERVICE. OUR MISSION IS TO CARE FOR PATIENTS, FAMILIES, COMMUNITIES, AND ONE ANOTHER.</td>\n",
       "    </tr>\n",
       "    <tr>\n",
       "      <td>11</td>\n",
       "      <td>10211503</td>\n",
       "      <td>10211503</td>\n",
       "      <td>COMMUNITY HOSPITAL</td>\n",
       "    </tr>\n",
       "    <tr>\n",
       "      <td>12</td>\n",
       "      <td>10211505</td>\n",
       "      <td>10211505</td>\n",
       "      <td>INDEPENDENT SECONDARY SCHOOL THAT SERVES A WIDELY DIVERSE POPULATION OF STUDENTS.</td>\n",
       "    </tr>\n",
       "    <tr>\n",
       "      <td>13</td>\n",
       "      <td>10211508</td>\n",
       "      <td>10211508</td>\n",
       "      <td>SCHOOL PROVIDING SERVICES TO NEEDY AND DESERVING CHILDREN RANGING IN AGE FROM 11 TO 21.</td>\n",
       "    </tr>\n",
       "    <tr>\n",
       "      <td>14</td>\n",
       "      <td>10211509</td>\n",
       "      <td>10211509</td>\n",
       "      <td>GOULD ACADEMY PREPARES ACADEMICALLY MOTIVATED STUDENTS FOR COLLEGE AND HELPS THEM TO BECOME INDEPENDENT-MINDED, ETHICAL CITIZENS WHO WILL LEAD LIVES OF PURPOSE, ACTION, EXCELLENCE, AND COMPASSION IN A DYNAMIC WORLD. THE SCHOOL SERVES APPROXIMATELY 243 BOARDING AND DAY STUDENTS.</td>\n",
       "    </tr>\n",
       "    <tr>\n",
       "      <td>15</td>\n",
       "      <td>10211512</td>\n",
       "      <td>10211512</td>\n",
       "      <td>TO PROVIDE HIGH QUALITY HOUSING AND SERVICES TO THOSE 60 YEARS OF AGE AND OLDER.</td>\n",
       "    </tr>\n",
       "    <tr>\n",
       "      <td>16</td>\n",
       "      <td>10211513</td>\n",
       "      <td>10211513</td>\n",
       "      <td>THE PURPOSES OF THE LABORATORY ARE SCIENTIFIC, MEDICAL, CHARITABLE, AND EDUCATIONAL TO DISCOVER PRECISE GENOMIC SOLUTIONS FOR DISEASE AND EMPOWER THE BIOMEDICAL COMMUNITY.</td>\n",
       "    </tr>\n",
       "    <tr>\n",
       "      <td>17</td>\n",
       "      <td>10211517</td>\n",
       "      <td>10211517</td>\n",
       "      <td>LONG-TERM CARE</td>\n",
       "    </tr>\n",
       "    <tr>\n",
       "      <td>18</td>\n",
       "      <td>10211534</td>\n",
       "      <td>10211534</td>\n",
       "      <td>MERCY HOSPITAL CARRIES OUT THE HEALING WORK OF CHRIST BY PROVIDING CLINICALLY EXCELLENT, COMPASSIONATE HEALTHCARE FOR ALL, WITH SPECIAL CONCERN FOR THE POOR AND DISADVANTAGED.</td>\n",
       "    </tr>\n",
       "    <tr>\n",
       "      <td>19</td>\n",
       "      <td>10211551</td>\n",
       "      <td>10211551</td>\n",
       "      <td>ST. MARY'S REGIONAL MEDICAL CENTER IS A 233-LICENSED BED ACUTE CARE FACILITY THAT OFFERS THE BEST OF MEDICAL TECHNOLOGY, PREVENTIVE SERVICES AND A \"WHOLE PERSON APPROACH\" IN MEETING THE NEEDS OF THE ANDROSCOGGIN COUNTY AREA.</td>\n",
       "    </tr>\n",
       "  </tbody>\n",
       "</table>\n",
       "</div>"
      ],
      "text/plain": [
       "         ein   ein_org  \\\n",
       "0   10130427  10130427   \n",
       "1   10177170  10177170   \n",
       "2   10179500  10179500   \n",
       "3   10196359  10196359   \n",
       "4   10198331  10198331   \n",
       "5   10202467  10202467   \n",
       "6   10211483  10211483   \n",
       "7   10211488  10211488   \n",
       "8   10211494  10211494   \n",
       "9   10211497  10211497   \n",
       "10  10211501  10211501   \n",
       "11  10211503  10211503   \n",
       "12  10211505  10211505   \n",
       "13  10211508  10211508   \n",
       "14  10211509  10211509   \n",
       "15  10211512  10211512   \n",
       "16  10211513  10211513   \n",
       "17  10211517  10211517   \n",
       "18  10211534  10211534   \n",
       "19  10211551  10211551   \n",
       "\n",
       "                                                                                                                                                                                                                                                                                mission_of_org  \n",
       "0                                                                                                               BRIDGTON HOSPITAL STRIVES TO PROVIDE EXCEPTIONAL HEALTHCARE SERVICES AND DEPENDS ON CAREGIVER EXPERTISE AND THE COMMITMENT AND COMPASSION THEY PROVIDE TO FULFILL ITS MISSION.  \n",
       "1   WALDO COUNTY GENERAL HOSPITAL'S MISSION IS TO BE THE BEST - BETTER, EMPATHY, SERVICE AND TEAMWORK. OUR GOAL IS TO ENSURE QUALITY, ACCESSIBLE AND AFFORDABLE HEALTH CARE SERVICES AND TO IMPROVE THE HEALTH AND WELL-BEING OF OUR COMMUNITY. PLEASE SEE ATTACHED COMMUNITY BENEFITS REPORT.  \n",
       "2                                                                                                                                                                                         SOUTHERN MAINE HEALTH CARE EXISTS TO IMPROVE THE HEALTH AND HEALTH CARE OF THE COMMUNITIES WE SERVE.  \n",
       "3                                                                                                                                                                                             TO HELP PEOPLE WHO ARE VISUALLY IMPAIRED OR BLIND ATTAIN INDEPENDENCE AND COMMUNITY INTEGRATION.  \n",
       "4                                                                                                                                                 THE HOSPITAL IS A NOT-FOR-PROFIT ENTITY ESTABLISHED TO PROVIDE HEALTH CARE SERVICES THROUGH ITS ACUTE CARE FACILITY AND PHYSICIAN PRACTICES.  \n",
       "5                                                                                                                                                                                          TO DEVELOP SOLUTIONS TO COMPLEX HUMAN & ENVIRONMENTAL HEALTH PROBLEMS THROUGH RESEARCH & EDUCATION.  \n",
       "6                                                                                                                                                                         PROVIDING ADULT, CHILDREN, AND FAMILY MENTAL HEALTH AND SOCIAL SERVICES. PROVIDING HOME HEALTH AND HOSPICE SERVICES.  \n",
       "7                                                                                                                                                                                                                                                   SUPPORT PRESERVATION OF HISTORIC BUILDINGS  \n",
       "8                                                                                                                   CMMC STRIVES TO PROVIDE EXCEPTIONAL HEALTHCARE SERVICES. THE HOSPITAL DEPENDS ON THE EXPERTISE OF ITS CAREGIVERS IN ADDITION TO THE COMMITMENT AND COMPASSION THE PROVIDE.  \n",
       "9                                                                                                                                                                                                                                                                                    EDUCATION  \n",
       "10                         EASTERN MAINE MEDICAL CENTER STRIVES TO PROVIDE EXCEPTIONAL PRIMARY AND SPECIALTY HEALTHCARE WITH A PASSIONATE PURSUIT OF EXCELLENCE IN PATIENT SAFETY, CLINICAL QUALITY, AND SERVICE. OUR MISSION IS TO CARE FOR PATIENTS, FAMILIES, COMMUNITIES, AND ONE ANOTHER.  \n",
       "11                                                                                                                                                                                                                                                                          COMMUNITY HOSPITAL  \n",
       "12                                                                                                                                                                                                           INDEPENDENT SECONDARY SCHOOL THAT SERVES A WIDELY DIVERSE POPULATION OF STUDENTS.  \n",
       "13                                                                                                                                                                                                     SCHOOL PROVIDING SERVICES TO NEEDY AND DESERVING CHILDREN RANGING IN AGE FROM 11 TO 21.  \n",
       "14      GOULD ACADEMY PREPARES ACADEMICALLY MOTIVATED STUDENTS FOR COLLEGE AND HELPS THEM TO BECOME INDEPENDENT-MINDED, ETHICAL CITIZENS WHO WILL LEAD LIVES OF PURPOSE, ACTION, EXCELLENCE, AND COMPASSION IN A DYNAMIC WORLD. THE SCHOOL SERVES APPROXIMATELY 243 BOARDING AND DAY STUDENTS.  \n",
       "15                                                                                                                                                                                                            TO PROVIDE HIGH QUALITY HOUSING AND SERVICES TO THOSE 60 YEARS OF AGE AND OLDER.  \n",
       "16                                                                                                                 THE PURPOSES OF THE LABORATORY ARE SCIENTIFIC, MEDICAL, CHARITABLE, AND EDUCATIONAL TO DISCOVER PRECISE GENOMIC SOLUTIONS FOR DISEASE AND EMPOWER THE BIOMEDICAL COMMUNITY.  \n",
       "17                                                                                                                                                                                                                                                                              LONG-TERM CARE  \n",
       "18                                                                                                             MERCY HOSPITAL CARRIES OUT THE HEALING WORK OF CHRIST BY PROVIDING CLINICALLY EXCELLENT, COMPASSIONATE HEALTHCARE FOR ALL, WITH SPECIAL CONCERN FOR THE POOR AND DISADVANTAGED.  \n",
       "19                                                            ST. MARY'S REGIONAL MEDICAL CENTER IS A 233-LICENSED BED ACUTE CARE FACILITY THAT OFFERS THE BEST OF MEDICAL TECHNOLOGY, PREVENTIVE SERVICES AND A \"WHOLE PERSON APPROACH\" IN MEETING THE NEEDS OF THE ANDROSCOGGIN COUNTY AREA.  "
      ]
     },
     "execution_count": 32,
     "metadata": {},
     "output_type": "execute_result"
    }
   ],
   "source": [
    "orgs_with_cont.merge(org_mission, how='left', left_on='ein', right_on='ein_org').head(20)"
   ]
  },
  {
   "cell_type": "markdown",
   "metadata": {},
   "source": [
    "### Extract key words/phrases from mission statement of each not-for-profit"
   ]
  },
  {
   "cell_type": "markdown",
   "metadata": {},
   "source": [
    "501c3 orgs must fit into one of the below 8 categories:\n",
    "\n",
    "1. Religious, \n",
    "1. Educational, \n",
    "1. Charitable, \n",
    "1. Scientific, \n",
    "1. Literary, \n",
    "1. Testing for Public Safety, to \n",
    "1. Foster National or International Amateur Sports Competition, or \n",
    "1. Prevention of Cruelty to Children or Animals Organizations"
   ]
  },
  {
   "cell_type": "code",
   "execution_count": null,
   "metadata": {},
   "outputs": [],
   "source": [
    "pseudocode\n",
    "\n",
    "if string contains x, y, z:\n",
    "    then Religious, \n",
    "elif string contains x, y, z:\n",
    "    Educational, \n",
    "elif string contains x, y, z: \n",
    "    Charitable\n",
    "ect."
   ]
  },
  {
   "cell_type": "code",
   "execution_count": null,
   "metadata": {},
   "outputs": [],
   "source": []
  }
 ],
 "metadata": {
  "kernelspec": {
   "display_name": "Python 3",
   "language": "python",
   "name": "python3"
  },
  "language_info": {
   "codemirror_mode": {
    "name": "ipython",
    "version": 3
   },
   "file_extension": ".py",
   "mimetype": "text/x-python",
   "name": "python",
   "nbconvert_exporter": "python",
   "pygments_lexer": "ipython3",
   "version": "3.7.3"
  }
 },
 "nbformat": 4,
 "nbformat_minor": 4
}
