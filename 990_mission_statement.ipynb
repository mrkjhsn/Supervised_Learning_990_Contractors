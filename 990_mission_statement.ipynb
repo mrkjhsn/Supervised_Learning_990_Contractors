{
 "cells": [
  {
   "cell_type": "markdown",
   "metadata": {},
   "source": [
    "### Enriching 990 dataset with the mission/purpose of the not-for-profit\n",
    "\n",
    "1. The contractor dataset downloaded from here (https://www.open990.org/catalog/) didn't have the mission/purpose of the not-for-profit included in the dataset.\n",
    "1. I was able to download a more expansive 990 dataset from here (https://appliednonprofitresearch.com/documentation/irs-990-spreadsheets/, a website affiliated with the open990 website) which included the mission/purpose of the not-for-profit.\n",
    "1. Since the open990 dataset was in a more clean/accessible format, I continued using it for my project, however I joined the mission/purpose field to it.  This allowed me to perform analysis on specific categories of not-for-profits."
   ]
  },
  {
   "cell_type": "code",
   "execution_count": 2,
   "metadata": {},
   "outputs": [],
   "source": [
    "import numpy as np\n",
    "import pandas as pd\n",
    "import matplotlib.pyplot as plt\n",
    "import seaborn as sns\n",
    "pd.set_option('display.max_columns', None)"
   ]
  },
  {
   "cell_type": "code",
   "execution_count": 3,
   "metadata": {},
   "outputs": [],
   "source": [
    "org_mission = pd.read_csv('data/990_Part I_Line_1_mission_significant_activities.csv',\n",
    "                low_memory=False)"
   ]
  },
  {
   "cell_type": "code",
   "execution_count": 7,
   "metadata": {},
   "outputs": [
    {
     "data": {
      "text/plain": [
       "(237854, 2)"
      ]
     },
     "execution_count": 7,
     "metadata": {},
     "output_type": "execute_result"
    }
   ],
   "source": [
    "org_mission.shape"
   ]
  },
  {
   "cell_type": "code",
   "execution_count": 8,
   "metadata": {},
   "outputs": [
    {
     "data": {
      "text/plain": [
       "ein_org               int64\n",
       "990_Part I_Line 1    object\n",
       "dtype: object"
      ]
     },
     "execution_count": 8,
     "metadata": {},
     "output_type": "execute_result"
    }
   ],
   "source": [
    "org_mission.dtypes"
   ]
  },
  {
   "cell_type": "code",
   "execution_count": 9,
   "metadata": {},
   "outputs": [],
   "source": [
    "# rename column\n",
    "org_mission.rename(columns={'990_Part I_Line 1': 'mission_of_org'}, inplace=True)"
   ]
  },
  {
   "cell_type": "code",
   "execution_count": 10,
   "metadata": {},
   "outputs": [
    {
     "data": {
      "text/html": [
       "<div>\n",
       "<style scoped>\n",
       "    .dataframe tbody tr th:only-of-type {\n",
       "        vertical-align: middle;\n",
       "    }\n",
       "\n",
       "    .dataframe tbody tr th {\n",
       "        vertical-align: top;\n",
       "    }\n",
       "\n",
       "    .dataframe thead th {\n",
       "        text-align: right;\n",
       "    }\n",
       "</style>\n",
       "<table border=\"1\" class=\"dataframe\">\n",
       "  <thead>\n",
       "    <tr style=\"text-align: right;\">\n",
       "      <th></th>\n",
       "      <th>ein_org</th>\n",
       "      <th>mission_of_org</th>\n",
       "    </tr>\n",
       "  </thead>\n",
       "  <tbody>\n",
       "    <tr>\n",
       "      <td>0</td>\n",
       "      <td>461233726</td>\n",
       "      <td>PROVIDING HELP, ASSISTANCE, &amp; HEALING TO VICTI...</td>\n",
       "    </tr>\n",
       "    <tr>\n",
       "      <td>1</td>\n",
       "      <td>591965600</td>\n",
       "      <td>SEE SCHEDULE O</td>\n",
       "    </tr>\n",
       "    <tr>\n",
       "      <td>2</td>\n",
       "      <td>840889330</td>\n",
       "      <td>BUILD LONG-TERM, LIFE-CHANGING RELATIONSHIPS W...</td>\n",
       "    </tr>\n",
       "    <tr>\n",
       "      <td>3</td>\n",
       "      <td>274862807</td>\n",
       "      <td>Our mission is to prepare students for a colle...</td>\n",
       "    </tr>\n",
       "    <tr>\n",
       "      <td>4</td>\n",
       "      <td>141666301</td>\n",
       "      <td>THE VERDOY VOLUNTEER FIRE ASSOCIATION, INC. (T...</td>\n",
       "    </tr>\n",
       "  </tbody>\n",
       "</table>\n",
       "</div>"
      ],
      "text/plain": [
       "     ein_org                                     mission_of_org\n",
       "0  461233726  PROVIDING HELP, ASSISTANCE, & HEALING TO VICTI...\n",
       "1  591965600                                     SEE SCHEDULE O\n",
       "2  840889330  BUILD LONG-TERM, LIFE-CHANGING RELATIONSHIPS W...\n",
       "3  274862807  Our mission is to prepare students for a colle...\n",
       "4  141666301  THE VERDOY VOLUNTEER FIRE ASSOCIATION, INC. (T..."
      ]
     },
     "execution_count": 10,
     "metadata": {},
     "output_type": "execute_result"
    }
   ],
   "source": [
    "org_mission.head()"
   ]
  },
  {
   "cell_type": "code",
   "execution_count": 11,
   "metadata": {},
   "outputs": [],
   "source": [
    "# format mission into upper case to be consistent\n",
    "org_mission['mission_of_org'] = org_mission['mission_of_org'].apply(lambda x: str(x).upper())"
   ]
  },
  {
   "cell_type": "code",
   "execution_count": 12,
   "metadata": {},
   "outputs": [
    {
     "data": {
      "text/html": [
       "<div>\n",
       "<style scoped>\n",
       "    .dataframe tbody tr th:only-of-type {\n",
       "        vertical-align: middle;\n",
       "    }\n",
       "\n",
       "    .dataframe tbody tr th {\n",
       "        vertical-align: top;\n",
       "    }\n",
       "\n",
       "    .dataframe thead th {\n",
       "        text-align: right;\n",
       "    }\n",
       "</style>\n",
       "<table border=\"1\" class=\"dataframe\">\n",
       "  <thead>\n",
       "    <tr style=\"text-align: right;\">\n",
       "      <th></th>\n",
       "      <th>ein_org</th>\n",
       "      <th>mission_of_org</th>\n",
       "    </tr>\n",
       "  </thead>\n",
       "  <tbody>\n",
       "    <tr>\n",
       "      <td>0</td>\n",
       "      <td>461233726</td>\n",
       "      <td>PROVIDING HELP, ASSISTANCE, &amp; HEALING TO VICTI...</td>\n",
       "    </tr>\n",
       "    <tr>\n",
       "      <td>1</td>\n",
       "      <td>591965600</td>\n",
       "      <td>SEE SCHEDULE O</td>\n",
       "    </tr>\n",
       "    <tr>\n",
       "      <td>2</td>\n",
       "      <td>840889330</td>\n",
       "      <td>BUILD LONG-TERM, LIFE-CHANGING RELATIONSHIPS W...</td>\n",
       "    </tr>\n",
       "    <tr>\n",
       "      <td>3</td>\n",
       "      <td>274862807</td>\n",
       "      <td>OUR MISSION IS TO PREPARE STUDENTS FOR A COLLE...</td>\n",
       "    </tr>\n",
       "    <tr>\n",
       "      <td>4</td>\n",
       "      <td>141666301</td>\n",
       "      <td>THE VERDOY VOLUNTEER FIRE ASSOCIATION, INC. (T...</td>\n",
       "    </tr>\n",
       "  </tbody>\n",
       "</table>\n",
       "</div>"
      ],
      "text/plain": [
       "     ein_org                                     mission_of_org\n",
       "0  461233726  PROVIDING HELP, ASSISTANCE, & HEALING TO VICTI...\n",
       "1  591965600                                     SEE SCHEDULE O\n",
       "2  840889330  BUILD LONG-TERM, LIFE-CHANGING RELATIONSHIPS W...\n",
       "3  274862807  OUR MISSION IS TO PREPARE STUDENTS FOR A COLLE...\n",
       "4  141666301  THE VERDOY VOLUNTEER FIRE ASSOCIATION, INC. (T..."
      ]
     },
     "execution_count": 12,
     "metadata": {},
     "output_type": "execute_result"
    }
   ],
   "source": [
    "# verify uppercase\n",
    "org_mission.head()"
   ]
  },
  {
   "cell_type": "markdown",
   "metadata": {},
   "source": [
    "### Extract key words/phrases from mission statement of each not-for-profit"
   ]
  },
  {
   "cell_type": "code",
   "execution_count": null,
   "metadata": {},
   "outputs": [],
   "source": []
  },
  {
   "cell_type": "code",
   "execution_count": null,
   "metadata": {},
   "outputs": [],
   "source": []
  },
  {
   "cell_type": "markdown",
   "metadata": {},
   "source": [
    "### Join not-for-profit orgs with at least one contractor over 100K"
   ]
  },
  {
   "cell_type": "code",
   "execution_count": 4,
   "metadata": {},
   "outputs": [],
   "source": [
    "orgs_with_cont = pd.read_csv('data/ein_orgs_with_contractors.csv',\n",
    "                low_memory=False)"
   ]
  },
  {
   "cell_type": "code",
   "execution_count": 5,
   "metadata": {},
   "outputs": [
    {
     "data": {
      "text/html": [
       "<div>\n",
       "<style scoped>\n",
       "    .dataframe tbody tr th:only-of-type {\n",
       "        vertical-align: middle;\n",
       "    }\n",
       "\n",
       "    .dataframe tbody tr th {\n",
       "        vertical-align: top;\n",
       "    }\n",
       "\n",
       "    .dataframe thead th {\n",
       "        text-align: right;\n",
       "    }\n",
       "</style>\n",
       "<table border=\"1\" class=\"dataframe\">\n",
       "  <thead>\n",
       "    <tr style=\"text-align: right;\">\n",
       "      <th></th>\n",
       "      <th>ein</th>\n",
       "    </tr>\n",
       "  </thead>\n",
       "  <tbody>\n",
       "    <tr>\n",
       "      <td>0</td>\n",
       "      <td>10056837</td>\n",
       "    </tr>\n",
       "    <tr>\n",
       "      <td>1</td>\n",
       "      <td>10079380</td>\n",
       "    </tr>\n",
       "    <tr>\n",
       "      <td>2</td>\n",
       "      <td>10114035</td>\n",
       "    </tr>\n",
       "    <tr>\n",
       "      <td>3</td>\n",
       "      <td>10130427</td>\n",
       "    </tr>\n",
       "    <tr>\n",
       "      <td>4</td>\n",
       "      <td>10142660</td>\n",
       "    </tr>\n",
       "  </tbody>\n",
       "</table>\n",
       "</div>"
      ],
      "text/plain": [
       "        ein\n",
       "0  10056837\n",
       "1  10079380\n",
       "2  10114035\n",
       "3  10130427\n",
       "4  10142660"
      ]
     },
     "execution_count": 5,
     "metadata": {},
     "output_type": "execute_result"
    }
   ],
   "source": [
    "orgs_with_cont.head()"
   ]
  },
  {
   "cell_type": "code",
   "execution_count": 6,
   "metadata": {},
   "outputs": [
    {
     "data": {
      "text/plain": [
       "(30589, 1)"
      ]
     },
     "execution_count": 6,
     "metadata": {},
     "output_type": "execute_result"
    }
   ],
   "source": [
    "orgs_with_cont.shape"
   ]
  },
  {
   "cell_type": "code",
   "execution_count": 15,
   "metadata": {},
   "outputs": [
    {
     "data": {
      "text/html": [
       "<div>\n",
       "<style scoped>\n",
       "    .dataframe tbody tr th:only-of-type {\n",
       "        vertical-align: middle;\n",
       "    }\n",
       "\n",
       "    .dataframe tbody tr th {\n",
       "        vertical-align: top;\n",
       "    }\n",
       "\n",
       "    .dataframe thead th {\n",
       "        text-align: right;\n",
       "    }\n",
       "</style>\n",
       "<table border=\"1\" class=\"dataframe\">\n",
       "  <thead>\n",
       "    <tr style=\"text-align: right;\">\n",
       "      <th></th>\n",
       "      <th>ein</th>\n",
       "      <th>ein_org</th>\n",
       "      <th>mission_of_org</th>\n",
       "    </tr>\n",
       "  </thead>\n",
       "  <tbody>\n",
       "    <tr>\n",
       "      <td>0</td>\n",
       "      <td>10056837</td>\n",
       "      <td>10056837</td>\n",
       "      <td>EMEC IS A NON-PROFIT CONSUMER-OWNED ELECTRIC U...</td>\n",
       "    </tr>\n",
       "    <tr>\n",
       "      <td>1</td>\n",
       "      <td>10079380</td>\n",
       "      <td>10079380</td>\n",
       "      <td>PROVIDE MEMBERS WITH SAVINGS AND LOAN SERVICES.</td>\n",
       "    </tr>\n",
       "    <tr>\n",
       "      <td>2</td>\n",
       "      <td>10114035</td>\n",
       "      <td>10114035</td>\n",
       "      <td>PUBLIC EDUCATION LABOR ADVOCACY.</td>\n",
       "    </tr>\n",
       "    <tr>\n",
       "      <td>3</td>\n",
       "      <td>10130427</td>\n",
       "      <td>10130427</td>\n",
       "      <td>BRIDGTON HOSPITAL STRIVES TO PROVIDE EXCEPTION...</td>\n",
       "    </tr>\n",
       "    <tr>\n",
       "      <td>4</td>\n",
       "      <td>10142660</td>\n",
       "      <td>10142660</td>\n",
       "      <td>TO PROMOTE RECREATIONAL AND SOCIAL ACTIVITIES ...</td>\n",
       "    </tr>\n",
       "    <tr>\n",
       "      <td>5</td>\n",
       "      <td>10177170</td>\n",
       "      <td>10177170</td>\n",
       "      <td>WALDO COUNTY GENERAL HOSPITAL'S MISSION IS TO ...</td>\n",
       "    </tr>\n",
       "    <tr>\n",
       "      <td>6</td>\n",
       "      <td>10179500</td>\n",
       "      <td>10179500</td>\n",
       "      <td>SOUTHERN MAINE HEALTH CARE EXISTS TO IMPROVE T...</td>\n",
       "    </tr>\n",
       "    <tr>\n",
       "      <td>7</td>\n",
       "      <td>10191203</td>\n",
       "      <td>10191203</td>\n",
       "      <td>TO PROVIDE PROGRAMS AND SERVICES THAT ARE BENE...</td>\n",
       "    </tr>\n",
       "    <tr>\n",
       "      <td>8</td>\n",
       "      <td>10196194</td>\n",
       "      <td>10196194</td>\n",
       "      <td>PROVIDE MEMBERS WITH SAVINGS AND LOAN SERVICES.</td>\n",
       "    </tr>\n",
       "    <tr>\n",
       "      <td>9</td>\n",
       "      <td>10196359</td>\n",
       "      <td>10196359</td>\n",
       "      <td>TO HELP PEOPLE WHO ARE VISUALLY IMPAIRED OR BL...</td>\n",
       "    </tr>\n",
       "    <tr>\n",
       "      <td>10</td>\n",
       "      <td>10198331</td>\n",
       "      <td>10198331</td>\n",
       "      <td>THE HOSPITAL IS A NOT-FOR-PROFIT ENTITY ESTABL...</td>\n",
       "    </tr>\n",
       "    <tr>\n",
       "      <td>11</td>\n",
       "      <td>10202467</td>\n",
       "      <td>10202467</td>\n",
       "      <td>TO DEVELOP SOLUTIONS TO COMPLEX HUMAN &amp; ENVIRO...</td>\n",
       "    </tr>\n",
       "    <tr>\n",
       "      <td>12</td>\n",
       "      <td>10203515</td>\n",
       "      <td>10203515</td>\n",
       "      <td>PROVIDE MEMBERS WITH SAVINGS AND LOAN SERVICES.</td>\n",
       "    </tr>\n",
       "    <tr>\n",
       "      <td>13</td>\n",
       "      <td>10211483</td>\n",
       "      <td>10211483</td>\n",
       "      <td>PROVIDING ADULT, CHILDREN, AND FAMILY MENTAL H...</td>\n",
       "    </tr>\n",
       "    <tr>\n",
       "      <td>14</td>\n",
       "      <td>10211488</td>\n",
       "      <td>10211488</td>\n",
       "      <td>SUPPORT PRESERVATION OF HISTORIC BUILDINGS</td>\n",
       "    </tr>\n",
       "    <tr>\n",
       "      <td>15</td>\n",
       "      <td>10211494</td>\n",
       "      <td>10211494</td>\n",
       "      <td>CMMC STRIVES TO PROVIDE EXCEPTIONAL HEALTHCARE...</td>\n",
       "    </tr>\n",
       "    <tr>\n",
       "      <td>16</td>\n",
       "      <td>10211497</td>\n",
       "      <td>10211497</td>\n",
       "      <td>EDUCATION</td>\n",
       "    </tr>\n",
       "    <tr>\n",
       "      <td>17</td>\n",
       "      <td>10211501</td>\n",
       "      <td>10211501</td>\n",
       "      <td>EASTERN MAINE MEDICAL CENTER STRIVES TO PROVID...</td>\n",
       "    </tr>\n",
       "    <tr>\n",
       "      <td>18</td>\n",
       "      <td>10211503</td>\n",
       "      <td>10211503</td>\n",
       "      <td>COMMUNITY HOSPITAL</td>\n",
       "    </tr>\n",
       "    <tr>\n",
       "      <td>19</td>\n",
       "      <td>10211505</td>\n",
       "      <td>10211505</td>\n",
       "      <td>INDEPENDENT SECONDARY SCHOOL THAT SERVES A WID...</td>\n",
       "    </tr>\n",
       "    <tr>\n",
       "      <td>20</td>\n",
       "      <td>10211508</td>\n",
       "      <td>10211508</td>\n",
       "      <td>SCHOOL PROVIDING SERVICES TO NEEDY AND DESERVI...</td>\n",
       "    </tr>\n",
       "    <tr>\n",
       "      <td>21</td>\n",
       "      <td>10211509</td>\n",
       "      <td>10211509</td>\n",
       "      <td>GOULD ACADEMY PREPARES ACADEMICALLY MOTIVATED ...</td>\n",
       "    </tr>\n",
       "    <tr>\n",
       "      <td>22</td>\n",
       "      <td>10211512</td>\n",
       "      <td>10211512</td>\n",
       "      <td>TO PROVIDE HIGH QUALITY HOUSING AND SERVICES T...</td>\n",
       "    </tr>\n",
       "    <tr>\n",
       "      <td>23</td>\n",
       "      <td>10211513</td>\n",
       "      <td>10211513</td>\n",
       "      <td>THE PURPOSES OF THE LABORATORY ARE SCIENTIFIC,...</td>\n",
       "    </tr>\n",
       "    <tr>\n",
       "      <td>24</td>\n",
       "      <td>10211517</td>\n",
       "      <td>10211517</td>\n",
       "      <td>LONG-TERM CARE</td>\n",
       "    </tr>\n",
       "    <tr>\n",
       "      <td>25</td>\n",
       "      <td>10211532</td>\n",
       "      <td>10211532</td>\n",
       "      <td>THE ORGANIZATION'S MISSION IS TO EDUCATE STUDE...</td>\n",
       "    </tr>\n",
       "    <tr>\n",
       "      <td>26</td>\n",
       "      <td>10211534</td>\n",
       "      <td>10211534</td>\n",
       "      <td>MERCY HOSPITAL CARRIES OUT THE HEALING WORK OF...</td>\n",
       "    </tr>\n",
       "    <tr>\n",
       "      <td>27</td>\n",
       "      <td>10211551</td>\n",
       "      <td>10211551</td>\n",
       "      <td>ST. MARY'S REGIONAL MEDICAL CENTER IS A 233-LI...</td>\n",
       "    </tr>\n",
       "    <tr>\n",
       "      <td>28</td>\n",
       "      <td>10211565</td>\n",
       "      <td>10211565</td>\n",
       "      <td>TO OFFER LOWER, MIDDLE AND UPPER SCHOOL EDUCAT...</td>\n",
       "    </tr>\n",
       "    <tr>\n",
       "      <td>29</td>\n",
       "      <td>10211781</td>\n",
       "      <td>10211781</td>\n",
       "      <td>BATES COLLEGE IS A PRIVATE, HIGHLY SELECTIVE, ...</td>\n",
       "    </tr>\n",
       "  </tbody>\n",
       "</table>\n",
       "</div>"
      ],
      "text/plain": [
       "         ein   ein_org                                     mission_of_org\n",
       "0   10056837  10056837  EMEC IS A NON-PROFIT CONSUMER-OWNED ELECTRIC U...\n",
       "1   10079380  10079380    PROVIDE MEMBERS WITH SAVINGS AND LOAN SERVICES.\n",
       "2   10114035  10114035                   PUBLIC EDUCATION LABOR ADVOCACY.\n",
       "3   10130427  10130427  BRIDGTON HOSPITAL STRIVES TO PROVIDE EXCEPTION...\n",
       "4   10142660  10142660  TO PROMOTE RECREATIONAL AND SOCIAL ACTIVITIES ...\n",
       "5   10177170  10177170  WALDO COUNTY GENERAL HOSPITAL'S MISSION IS TO ...\n",
       "6   10179500  10179500  SOUTHERN MAINE HEALTH CARE EXISTS TO IMPROVE T...\n",
       "7   10191203  10191203  TO PROVIDE PROGRAMS AND SERVICES THAT ARE BENE...\n",
       "8   10196194  10196194    PROVIDE MEMBERS WITH SAVINGS AND LOAN SERVICES.\n",
       "9   10196359  10196359  TO HELP PEOPLE WHO ARE VISUALLY IMPAIRED OR BL...\n",
       "10  10198331  10198331  THE HOSPITAL IS A NOT-FOR-PROFIT ENTITY ESTABL...\n",
       "11  10202467  10202467  TO DEVELOP SOLUTIONS TO COMPLEX HUMAN & ENVIRO...\n",
       "12  10203515  10203515    PROVIDE MEMBERS WITH SAVINGS AND LOAN SERVICES.\n",
       "13  10211483  10211483  PROVIDING ADULT, CHILDREN, AND FAMILY MENTAL H...\n",
       "14  10211488  10211488         SUPPORT PRESERVATION OF HISTORIC BUILDINGS\n",
       "15  10211494  10211494  CMMC STRIVES TO PROVIDE EXCEPTIONAL HEALTHCARE...\n",
       "16  10211497  10211497                                          EDUCATION\n",
       "17  10211501  10211501  EASTERN MAINE MEDICAL CENTER STRIVES TO PROVID...\n",
       "18  10211503  10211503                                 COMMUNITY HOSPITAL\n",
       "19  10211505  10211505  INDEPENDENT SECONDARY SCHOOL THAT SERVES A WID...\n",
       "20  10211508  10211508  SCHOOL PROVIDING SERVICES TO NEEDY AND DESERVI...\n",
       "21  10211509  10211509  GOULD ACADEMY PREPARES ACADEMICALLY MOTIVATED ...\n",
       "22  10211512  10211512  TO PROVIDE HIGH QUALITY HOUSING AND SERVICES T...\n",
       "23  10211513  10211513  THE PURPOSES OF THE LABORATORY ARE SCIENTIFIC,...\n",
       "24  10211517  10211517                                     LONG-TERM CARE\n",
       "25  10211532  10211532  THE ORGANIZATION'S MISSION IS TO EDUCATE STUDE...\n",
       "26  10211534  10211534  MERCY HOSPITAL CARRIES OUT THE HEALING WORK OF...\n",
       "27  10211551  10211551  ST. MARY'S REGIONAL MEDICAL CENTER IS A 233-LI...\n",
       "28  10211565  10211565  TO OFFER LOWER, MIDDLE AND UPPER SCHOOL EDUCAT...\n",
       "29  10211781  10211781  BATES COLLEGE IS A PRIVATE, HIGHLY SELECTIVE, ..."
      ]
     },
     "execution_count": 15,
     "metadata": {},
     "output_type": "execute_result"
    }
   ],
   "source": [
    "orgs_with_cont.merge(org_mission, how='left', left_on='ein', right_on='ein_org').head(30)"
   ]
  }
 ],
 "metadata": {
  "kernelspec": {
   "display_name": "Python 3",
   "language": "python",
   "name": "python3"
  },
  "language_info": {
   "codemirror_mode": {
    "name": "ipython",
    "version": 3
   },
   "file_extension": ".py",
   "mimetype": "text/x-python",
   "name": "python",
   "nbconvert_exporter": "python",
   "pygments_lexer": "ipython3",
   "version": "3.7.3"
  }
 },
 "nbformat": 4,
 "nbformat_minor": 4
}
