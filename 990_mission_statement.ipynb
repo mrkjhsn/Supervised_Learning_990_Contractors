{
 "cells": [
  {
   "cell_type": "markdown",
   "metadata": {},
   "source": [
    "### Enriching 990 dataset with the mission/purpose of the not-for-profit\n",
    "\n",
    "1. The contractor dataset downloaded from here (https://www.open990.org/catalog/) didn't have the mission/purpose of the not-for-profit included in the dataset.\n",
    "1. I was able to download a more expansive 990 dataset from here (https://appliednonprofitresearch.com/documentation/irs-990-spreadsheets/, a website affiliated with the open990 website) which included the mission/purpose of the not-for-profit.\n",
    "1. Since the open990 dataset was in a more clean/accessible format, I continued using it for my project, however I joined the mission/purpose field to it.  This allowed me to perform analysis on specific categories of not-for-profits."
   ]
  },
  {
   "cell_type": "code",
   "execution_count": 30,
   "metadata": {},
   "outputs": [],
   "source": [
    "import numpy as np\n",
    "import pandas as pd\n",
    "import matplotlib.pyplot as plt\n",
    "import seaborn as sns\n",
    "pd.set_option('display.max_columns', None)\n",
    "pd.set_option('display.max_colwidth', 999)"
   ]
  },
  {
   "cell_type": "code",
   "execution_count": 17,
   "metadata": {},
   "outputs": [],
   "source": [
    "org_mission = pd.read_csv('data/990_Part I_Line_1_mission_significant_activities.csv',\n",
    "                low_memory=False)"
   ]
  },
  {
   "cell_type": "code",
   "execution_count": 18,
   "metadata": {},
   "outputs": [
    {
     "data": {
      "text/plain": [
       "(237854, 2)"
      ]
     },
     "execution_count": 18,
     "metadata": {},
     "output_type": "execute_result"
    }
   ],
   "source": [
    "org_mission.shape"
   ]
  },
  {
   "cell_type": "code",
   "execution_count": 8,
   "metadata": {},
   "outputs": [
    {
     "data": {
      "text/plain": [
       "ein_org               int64\n",
       "990_Part I_Line 1    object\n",
       "dtype: object"
      ]
     },
     "execution_count": 8,
     "metadata": {},
     "output_type": "execute_result"
    }
   ],
   "source": [
    "org_mission.dtypes"
   ]
  },
  {
   "cell_type": "code",
   "execution_count": 20,
   "metadata": {},
   "outputs": [],
   "source": [
    "# rename column\n",
    "org_mission.rename(columns={'990_Part I_Line 1': 'mission_of_org'}, inplace=True)"
   ]
  },
  {
   "cell_type": "code",
   "execution_count": 33,
   "metadata": {},
   "outputs": [
    {
     "data": {
      "text/html": [
       "<div>\n",
       "<style scoped>\n",
       "    .dataframe tbody tr th:only-of-type {\n",
       "        vertical-align: middle;\n",
       "    }\n",
       "\n",
       "    .dataframe tbody tr th {\n",
       "        vertical-align: top;\n",
       "    }\n",
       "\n",
       "    .dataframe thead th {\n",
       "        text-align: right;\n",
       "    }\n",
       "</style>\n",
       "<table border=\"1\" class=\"dataframe\">\n",
       "  <thead>\n",
       "    <tr style=\"text-align: right;\">\n",
       "      <th></th>\n",
       "      <th>ein_org</th>\n",
       "      <th>mission_of_org</th>\n",
       "    </tr>\n",
       "  </thead>\n",
       "  <tbody>\n",
       "    <tr>\n",
       "      <td>0</td>\n",
       "      <td>461233726</td>\n",
       "      <td>PROVIDING HELP, ASSISTANCE, &amp; HEALING TO VICTIMS OF HUMAN TRAFFICKING.</td>\n",
       "    </tr>\n",
       "    <tr>\n",
       "      <td>1</td>\n",
       "      <td>591965600</td>\n",
       "      <td>SEE SCHEDULE O</td>\n",
       "    </tr>\n",
       "    <tr>\n",
       "      <td>2</td>\n",
       "      <td>840889330</td>\n",
       "      <td>BUILD LONG-TERM, LIFE-CHANGING RELATIONSHIPS WITH URBAN YOUTH.</td>\n",
       "    </tr>\n",
       "    <tr>\n",
       "      <td>3</td>\n",
       "      <td>274862807</td>\n",
       "      <td>OUR MISSION IS TO PREPARE STUDENTS FOR A COLLEGE PREPARATORY HIGH SCHOOL THAT WILL ENSURE SUCCESS AND GRADUATION AND ACCEPTANCE INTO A FOUR YEAR COLLEGE.</td>\n",
       "    </tr>\n",
       "    <tr>\n",
       "      <td>4</td>\n",
       "      <td>141666301</td>\n",
       "      <td>THE VERDOY VOLUNTEER FIRE ASSOCIATION, INC. (THE \"ASSOCIATION\")IS ORGANIZED EXCLUSIVELY FOR RESCUE, CHARITABLE AND EDUCATIONAL PURPOSES; THE ASSOCIATION PROVIDES THE PERSONNEL NEEDED TO STAFF THE APPARATUS OF THE LOCAL VOLUNTEER FIRE DISTRICT FOR THE PURPOSE OF PREVENTING AND EXTINGUISHING FIRES, PROTECTING LIFE AND PROPERTY FROM THE HAZARDS OF FIRE AND TO SERVE THE PUBLIC IN ANY EMERGENCY OR PERIL, WHENEVER AND WHEREVER LEGAL AND PROPER. THE ASSOCIATION PROMOTES AND MAINTAINS THE INTEREST OF THE VOLUNTEER MEMBERSHIP AND CONDUCTS CHARITABLE AND EDUCATIONAL ACTIVITIES IN THE BETTERMENT OF THE LOCAL COMMUNITY.</td>\n",
       "    </tr>\n",
       "  </tbody>\n",
       "</table>\n",
       "</div>"
      ],
      "text/plain": [
       "     ein_org  \\\n",
       "0  461233726   \n",
       "1  591965600   \n",
       "2  840889330   \n",
       "3  274862807   \n",
       "4  141666301   \n",
       "\n",
       "                                                                                                                                                                                                                                                                                                                                                                                                                                                                                                                                                                                                                            mission_of_org  \n",
       "0                                                                                                                                                                                                                                                                                                                                                                                                                                                                                                                                                                   PROVIDING HELP, ASSISTANCE, & HEALING TO VICTIMS OF HUMAN TRAFFICKING.  \n",
       "1                                                                                                                                                                                                                                                                                                                                                                                                                                                                                                                                                                                                                           SEE SCHEDULE O  \n",
       "2                                                                                                                                                                                                                                                                                                                                                                                                                                                                                                                                                                           BUILD LONG-TERM, LIFE-CHANGING RELATIONSHIPS WITH URBAN YOUTH.  \n",
       "3                                                                                                                                                                                                                                                                                                                                                                                                                                                                                OUR MISSION IS TO PREPARE STUDENTS FOR A COLLEGE PREPARATORY HIGH SCHOOL THAT WILL ENSURE SUCCESS AND GRADUATION AND ACCEPTANCE INTO A FOUR YEAR COLLEGE.  \n",
       "4  THE VERDOY VOLUNTEER FIRE ASSOCIATION, INC. (THE \"ASSOCIATION\")IS ORGANIZED EXCLUSIVELY FOR RESCUE, CHARITABLE AND EDUCATIONAL PURPOSES; THE ASSOCIATION PROVIDES THE PERSONNEL NEEDED TO STAFF THE APPARATUS OF THE LOCAL VOLUNTEER FIRE DISTRICT FOR THE PURPOSE OF PREVENTING AND EXTINGUISHING FIRES, PROTECTING LIFE AND PROPERTY FROM THE HAZARDS OF FIRE AND TO SERVE THE PUBLIC IN ANY EMERGENCY OR PERIL, WHENEVER AND WHEREVER LEGAL AND PROPER. THE ASSOCIATION PROMOTES AND MAINTAINS THE INTEREST OF THE VOLUNTEER MEMBERSHIP AND CONDUCTS CHARITABLE AND EDUCATIONAL ACTIVITIES IN THE BETTERMENT OF THE LOCAL COMMUNITY.  "
      ]
     },
     "execution_count": 33,
     "metadata": {},
     "output_type": "execute_result"
    }
   ],
   "source": [
    "org_mission.head()"
   ]
  },
  {
   "cell_type": "code",
   "execution_count": 22,
   "metadata": {},
   "outputs": [],
   "source": [
    "# format mission into upper case to be consistent\n",
    "org_mission['mission_of_org'] = org_mission['mission_of_org'].apply(lambda x: str(x).upper())"
   ]
  },
  {
   "cell_type": "code",
   "execution_count": 23,
   "metadata": {},
   "outputs": [
    {
     "data": {
      "text/html": [
       "<div>\n",
       "<style scoped>\n",
       "    .dataframe tbody tr th:only-of-type {\n",
       "        vertical-align: middle;\n",
       "    }\n",
       "\n",
       "    .dataframe tbody tr th {\n",
       "        vertical-align: top;\n",
       "    }\n",
       "\n",
       "    .dataframe thead th {\n",
       "        text-align: right;\n",
       "    }\n",
       "</style>\n",
       "<table border=\"1\" class=\"dataframe\">\n",
       "  <thead>\n",
       "    <tr style=\"text-align: right;\">\n",
       "      <th></th>\n",
       "      <th>ein_org</th>\n",
       "      <th>mission_of_org</th>\n",
       "    </tr>\n",
       "  </thead>\n",
       "  <tbody>\n",
       "    <tr>\n",
       "      <td>0</td>\n",
       "      <td>461233726</td>\n",
       "      <td>PROVIDING HELP, ASSISTANCE, &amp; HEALING TO VICTI...</td>\n",
       "    </tr>\n",
       "    <tr>\n",
       "      <td>1</td>\n",
       "      <td>591965600</td>\n",
       "      <td>SEE SCHEDULE O</td>\n",
       "    </tr>\n",
       "    <tr>\n",
       "      <td>2</td>\n",
       "      <td>840889330</td>\n",
       "      <td>BUILD LONG-TERM, LIFE-CHANGING RELATIONSHIPS W...</td>\n",
       "    </tr>\n",
       "    <tr>\n",
       "      <td>3</td>\n",
       "      <td>274862807</td>\n",
       "      <td>OUR MISSION IS TO PREPARE STUDENTS FOR A COLLE...</td>\n",
       "    </tr>\n",
       "    <tr>\n",
       "      <td>4</td>\n",
       "      <td>141666301</td>\n",
       "      <td>THE VERDOY VOLUNTEER FIRE ASSOCIATION, INC. (T...</td>\n",
       "    </tr>\n",
       "  </tbody>\n",
       "</table>\n",
       "</div>"
      ],
      "text/plain": [
       "     ein_org                                     mission_of_org\n",
       "0  461233726  PROVIDING HELP, ASSISTANCE, & HEALING TO VICTI...\n",
       "1  591965600                                     SEE SCHEDULE O\n",
       "2  840889330  BUILD LONG-TERM, LIFE-CHANGING RELATIONSHIPS W...\n",
       "3  274862807  OUR MISSION IS TO PREPARE STUDENTS FOR A COLLE...\n",
       "4  141666301  THE VERDOY VOLUNTEER FIRE ASSOCIATION, INC. (T..."
      ]
     },
     "execution_count": 23,
     "metadata": {},
     "output_type": "execute_result"
    }
   ],
   "source": [
    "# verify uppercase\n",
    "org_mission.head()"
   ]
  },
  {
   "cell_type": "code",
   "execution_count": null,
   "metadata": {},
   "outputs": [],
   "source": []
  },
  {
   "cell_type": "code",
   "execution_count": null,
   "metadata": {},
   "outputs": [],
   "source": []
  },
  {
   "cell_type": "markdown",
   "metadata": {},
   "source": [
    "### Join not-for-profit orgs with at least one contractor over 100K"
   ]
  },
  {
   "cell_type": "code",
   "execution_count": 24,
   "metadata": {},
   "outputs": [],
   "source": [
    "orgs_with_cont = pd.read_csv('data/ein_orgs_with_contractors.csv',\n",
    "                low_memory=False)"
   ]
  },
  {
   "cell_type": "code",
   "execution_count": 25,
   "metadata": {},
   "outputs": [
    {
     "data": {
      "text/html": [
       "<div>\n",
       "<style scoped>\n",
       "    .dataframe tbody tr th:only-of-type {\n",
       "        vertical-align: middle;\n",
       "    }\n",
       "\n",
       "    .dataframe tbody tr th {\n",
       "        vertical-align: top;\n",
       "    }\n",
       "\n",
       "    .dataframe thead th {\n",
       "        text-align: right;\n",
       "    }\n",
       "</style>\n",
       "<table border=\"1\" class=\"dataframe\">\n",
       "  <thead>\n",
       "    <tr style=\"text-align: right;\">\n",
       "      <th></th>\n",
       "      <th>ein</th>\n",
       "    </tr>\n",
       "  </thead>\n",
       "  <tbody>\n",
       "    <tr>\n",
       "      <td>0</td>\n",
       "      <td>10130427</td>\n",
       "    </tr>\n",
       "    <tr>\n",
       "      <td>1</td>\n",
       "      <td>10177170</td>\n",
       "    </tr>\n",
       "    <tr>\n",
       "      <td>2</td>\n",
       "      <td>10179500</td>\n",
       "    </tr>\n",
       "    <tr>\n",
       "      <td>3</td>\n",
       "      <td>10196359</td>\n",
       "    </tr>\n",
       "    <tr>\n",
       "      <td>4</td>\n",
       "      <td>10198331</td>\n",
       "    </tr>\n",
       "  </tbody>\n",
       "</table>\n",
       "</div>"
      ],
      "text/plain": [
       "        ein\n",
       "0  10130427\n",
       "1  10177170\n",
       "2  10179500\n",
       "3  10196359\n",
       "4  10198331"
      ]
     },
     "execution_count": 25,
     "metadata": {},
     "output_type": "execute_result"
    }
   ],
   "source": [
    "orgs_with_cont.head()"
   ]
  },
  {
   "cell_type": "code",
   "execution_count": 36,
   "metadata": {},
   "outputs": [
    {
     "data": {
      "text/plain": [
       "(21310, 1)"
      ]
     },
     "execution_count": 36,
     "metadata": {},
     "output_type": "execute_result"
    }
   ],
   "source": [
    "orgs_with_cont.shape"
   ]
  },
  {
   "cell_type": "code",
   "execution_count": null,
   "metadata": {},
   "outputs": [],
   "source": []
  },
  {
   "cell_type": "code",
   "execution_count": 37,
   "metadata": {},
   "outputs": [],
   "source": [
    "orgs_with_cont_mission = orgs_with_cont.merge(org_mission, how='left', left_on='ein', right_on='ein_org')"
   ]
  },
  {
   "cell_type": "code",
   "execution_count": 57,
   "metadata": {},
   "outputs": [
    {
     "data": {
      "text/html": [
       "<div>\n",
       "<style scoped>\n",
       "    .dataframe tbody tr th:only-of-type {\n",
       "        vertical-align: middle;\n",
       "    }\n",
       "\n",
       "    .dataframe tbody tr th {\n",
       "        vertical-align: top;\n",
       "    }\n",
       "\n",
       "    .dataframe thead th {\n",
       "        text-align: right;\n",
       "    }\n",
       "</style>\n",
       "<table border=\"1\" class=\"dataframe\">\n",
       "  <thead>\n",
       "    <tr style=\"text-align: right;\">\n",
       "      <th></th>\n",
       "      <th>ein</th>\n",
       "      <th>ein_org</th>\n",
       "      <th>mission_of_org</th>\n",
       "    </tr>\n",
       "  </thead>\n",
       "  <tbody>\n",
       "    <tr>\n",
       "      <td>0</td>\n",
       "      <td>10130427</td>\n",
       "      <td>10130427</td>\n",
       "      <td>BRIDGTON HOSPITAL STRIVES TO PROVIDE EXCEPTIONAL HEALTHCARE SERVICES AND DEPENDS ON CAREGIVER EXPERTISE AND THE COMMITMENT AND COMPASSION THEY PROVIDE TO FULFILL ITS MISSION.</td>\n",
       "    </tr>\n",
       "    <tr>\n",
       "      <td>1</td>\n",
       "      <td>10177170</td>\n",
       "      <td>10177170</td>\n",
       "      <td>WALDO COUNTY GENERAL HOSPITAL'S MISSION IS TO BE THE BEST - BETTER, EMPATHY, SERVICE AND TEAMWORK. OUR GOAL IS TO ENSURE QUALITY, ACCESSIBLE AND AFFORDABLE HEALTH CARE SERVICES AND TO IMPROVE THE HEALTH AND WELL-BEING OF OUR COMMUNITY. PLEASE SEE ATTACHED COMMUNITY BENEFITS REPORT.</td>\n",
       "    </tr>\n",
       "    <tr>\n",
       "      <td>2</td>\n",
       "      <td>10179500</td>\n",
       "      <td>10179500</td>\n",
       "      <td>SOUTHERN MAINE HEALTH CARE EXISTS TO IMPROVE THE HEALTH AND HEALTH CARE OF THE COMMUNITIES WE SERVE.</td>\n",
       "    </tr>\n",
       "    <tr>\n",
       "      <td>3</td>\n",
       "      <td>10196359</td>\n",
       "      <td>10196359</td>\n",
       "      <td>TO HELP PEOPLE WHO ARE VISUALLY IMPAIRED OR BLIND ATTAIN INDEPENDENCE AND COMMUNITY INTEGRATION.</td>\n",
       "    </tr>\n",
       "    <tr>\n",
       "      <td>4</td>\n",
       "      <td>10198331</td>\n",
       "      <td>10198331</td>\n",
       "      <td>THE HOSPITAL IS A NOT-FOR-PROFIT ENTITY ESTABLISHED TO PROVIDE HEALTH CARE SERVICES THROUGH ITS ACUTE CARE FACILITY AND PHYSICIAN PRACTICES.</td>\n",
       "    </tr>\n",
       "  </tbody>\n",
       "</table>\n",
       "</div>"
      ],
      "text/plain": [
       "        ein   ein_org  \\\n",
       "0  10130427  10130427   \n",
       "1  10177170  10177170   \n",
       "2  10179500  10179500   \n",
       "3  10196359  10196359   \n",
       "4  10198331  10198331   \n",
       "\n",
       "                                                                                                                                                                                                                                                                               mission_of_org  \n",
       "0                                                                                                              BRIDGTON HOSPITAL STRIVES TO PROVIDE EXCEPTIONAL HEALTHCARE SERVICES AND DEPENDS ON CAREGIVER EXPERTISE AND THE COMMITMENT AND COMPASSION THEY PROVIDE TO FULFILL ITS MISSION.  \n",
       "1  WALDO COUNTY GENERAL HOSPITAL'S MISSION IS TO BE THE BEST - BETTER, EMPATHY, SERVICE AND TEAMWORK. OUR GOAL IS TO ENSURE QUALITY, ACCESSIBLE AND AFFORDABLE HEALTH CARE SERVICES AND TO IMPROVE THE HEALTH AND WELL-BEING OF OUR COMMUNITY. PLEASE SEE ATTACHED COMMUNITY BENEFITS REPORT.  \n",
       "2                                                                                                                                                                                        SOUTHERN MAINE HEALTH CARE EXISTS TO IMPROVE THE HEALTH AND HEALTH CARE OF THE COMMUNITIES WE SERVE.  \n",
       "3                                                                                                                                                                                            TO HELP PEOPLE WHO ARE VISUALLY IMPAIRED OR BLIND ATTAIN INDEPENDENCE AND COMMUNITY INTEGRATION.  \n",
       "4                                                                                                                                                THE HOSPITAL IS A NOT-FOR-PROFIT ENTITY ESTABLISHED TO PROVIDE HEALTH CARE SERVICES THROUGH ITS ACUTE CARE FACILITY AND PHYSICIAN PRACTICES.  "
      ]
     },
     "execution_count": 57,
     "metadata": {},
     "output_type": "execute_result"
    }
   ],
   "source": [
    "orgs_with_cont_mission.head()"
   ]
  },
  {
   "cell_type": "markdown",
   "metadata": {},
   "source": [
    "find the most popular words in mission column\n",
    "then use those to form categories"
   ]
  },
  {
   "cell_type": "markdown",
   "metadata": {},
   "source": [
    "### Extract key words/phrases from mission statement of each not-for-profit"
   ]
  },
  {
   "cell_type": "markdown",
   "metadata": {},
   "source": [
    "501c3 orgs must fit into one of the below 8 categories:\n",
    "\n",
    "1. Religious, \n",
    "1. Educational, \n",
    "1. Charitable, \n",
    "1. Scientific, \n",
    "1. Literary, \n",
    "1. Testing for Public Safety, to \n",
    "1. Foster National or International Amateur Sports Competition, or \n",
    "1. Prevention of Cruelty to Children or Animals Organizations"
   ]
  },
  {
   "cell_type": "code",
   "execution_count": 59,
   "metadata": {},
   "outputs": [],
   "source": [
    "# create lists with keywords\n",
    "# to be able to flag mission statements\n",
    "religious = ['SPIRITUALITY', 'RELIGIOUS']\n",
    "educational =  ['EDUCATION', 'STUDENTS']\n",
    "charitable =  []\n",
    "scientific =  []\n",
    "literary = []\n",
    "public_safety = []  \n",
    "amateur_sports = []\n",
    "prevention_of_cruelty = []"
   ]
  },
  {
   "cell_type": "code",
   "execution_count": null,
   "metadata": {},
   "outputs": [],
   "source": [
    "pseudocode\n",
    "\n",
    "if string contains x, y, z:\n",
    "    then Religious, \n",
    "elif string contains x, y, z:\n",
    "    Educational, \n",
    "elif string contains x, y, z: \n",
    "    Charitable\n",
    "ect."
   ]
  },
  {
   "cell_type": "code",
   "execution_count": null,
   "metadata": {},
   "outputs": [],
   "source": []
  },
  {
   "cell_type": "code",
   "execution_count": 71,
   "metadata": {},
   "outputs": [],
   "source": [
    "def categorizer(string):\n",
    "    if string in educational:\n",
    "        return 'educational'\n",
    "    else:\n",
    "        return 'none'\n"
   ]
  },
  {
   "cell_type": "code",
   "execution_count": 58,
   "metadata": {},
   "outputs": [],
   "source": [
    "# test categorizer to see if it returns what I want\n",
    "orgs_with_cont2 = orgs_with_cont_mission.head(100).copy"
   ]
  },
  {
   "cell_type": "code",
   "execution_count": 72,
   "metadata": {},
   "outputs": [
    {
     "ename": "TypeError",
     "evalue": "'method' object is not subscriptable",
     "output_type": "error",
     "traceback": [
      "\u001b[1;31m---------------------------------------------------------------------------\u001b[0m",
      "\u001b[1;31mTypeError\u001b[0m                                 Traceback (most recent call last)",
      "\u001b[1;32m<ipython-input-72-cee5b5267724>\u001b[0m in \u001b[0;36m<module>\u001b[1;34m()\u001b[0m\n\u001b[1;32m----> 1\u001b[1;33m \u001b[0morgs_with_cont2\u001b[0m\u001b[1;33m[\u001b[0m\u001b[1;34m'categories'\u001b[0m\u001b[1;33m]\u001b[0m \u001b[1;33m=\u001b[0m \u001b[0morgs_with_cont2\u001b[0m\u001b[1;33m[\u001b[0m\u001b[1;34m'mission_of_org'\u001b[0m\u001b[1;33m]\u001b[0m\u001b[1;33m.\u001b[0m\u001b[0mapply\u001b[0m\u001b[1;33m(\u001b[0m\u001b[0mcategorizer\u001b[0m\u001b[1;33m)\u001b[0m\u001b[1;33m\u001b[0m\u001b[1;33m\u001b[0m\u001b[0m\n\u001b[0m",
      "\u001b[1;31mTypeError\u001b[0m: 'method' object is not subscriptable"
     ]
    }
   ],
   "source": [
    "orgs_with_cont2['categories'] = orgs_with_cont2['mission_of_org'].apply(categorizer)"
   ]
  },
  {
   "cell_type": "code",
   "execution_count": null,
   "metadata": {},
   "outputs": [],
   "source": []
  },
  {
   "cell_type": "markdown",
   "metadata": {},
   "source": [
    "### Find top word frequency within the mission statement of the orgs"
   ]
  },
  {
   "cell_type": "code",
   "execution_count": 50,
   "metadata": {},
   "outputs": [],
   "source": [
    "tokens = []\n",
    "\n",
    "for row in orgs_with_cont_mission.loc[:,'mission_of_org'].str.split():\n",
    "    for word in row:\n",
    "        if len(word) > 4:\n",
    "            tokens.append(word)"
   ]
  },
  {
   "cell_type": "code",
   "execution_count": 52,
   "metadata": {},
   "outputs": [
    {
     "data": {
      "text/plain": [
       "324924"
      ]
     },
     "execution_count": 52,
     "metadata": {},
     "output_type": "execute_result"
    }
   ],
   "source": [
    "len(tokens)"
   ]
  },
  {
   "cell_type": "code",
   "execution_count": 53,
   "metadata": {},
   "outputs": [],
   "source": [
    "# form tokens into dataframe\n",
    "tokens_df = pd.DataFrame(tokens, columns=['tokens'])\n",
    "\n",
    "# sort dataframe by frequency of tokens\n",
    "tokens_count = tokens_df.groupby('tokens')['tokens'] \\\n",
    "    .count() \\\n",
    "    .reset_index(name= 'token_count') \\\n",
    "    .sort_values(by='token_count', ascending=False)"
   ]
  },
  {
   "cell_type": "code",
   "execution_count": 55,
   "metadata": {},
   "outputs": [
    {
     "data": {
      "text/html": [
       "<div>\n",
       "<style scoped>\n",
       "    .dataframe tbody tr th:only-of-type {\n",
       "        vertical-align: middle;\n",
       "    }\n",
       "\n",
       "    .dataframe tbody tr th {\n",
       "        vertical-align: top;\n",
       "    }\n",
       "\n",
       "    .dataframe thead th {\n",
       "        text-align: right;\n",
       "    }\n",
       "</style>\n",
       "<table border=\"1\" class=\"dataframe\">\n",
       "  <thead>\n",
       "    <tr style=\"text-align: right;\">\n",
       "      <th></th>\n",
       "      <th>tokens</th>\n",
       "      <th>token_count</th>\n",
       "    </tr>\n",
       "  </thead>\n",
       "  <tbody>\n",
       "    <tr>\n",
       "      <td>19888</td>\n",
       "      <td>PROVIDE</td>\n",
       "      <td>4989</td>\n",
       "    </tr>\n",
       "    <tr>\n",
       "      <td>12158</td>\n",
       "      <td>HEALTH</td>\n",
       "      <td>4942</td>\n",
       "    </tr>\n",
       "    <tr>\n",
       "      <td>22163</td>\n",
       "      <td>SERVICES</td>\n",
       "      <td>4611</td>\n",
       "    </tr>\n",
       "    <tr>\n",
       "      <td>24343</td>\n",
       "      <td>THROUGH</td>\n",
       "      <td>3413</td>\n",
       "    </tr>\n",
       "    <tr>\n",
       "      <td>6489</td>\n",
       "      <td>COMMUNITY</td>\n",
       "      <td>3292</td>\n",
       "    </tr>\n",
       "    <tr>\n",
       "      <td>16283</td>\n",
       "      <td>MISSION</td>\n",
       "      <td>2854</td>\n",
       "    </tr>\n",
       "    <tr>\n",
       "      <td>24169</td>\n",
       "      <td>THEIR</td>\n",
       "      <td>2507</td>\n",
       "    </tr>\n",
       "    <tr>\n",
       "      <td>20118</td>\n",
       "      <td>QUALITY</td>\n",
       "      <td>2413</td>\n",
       "    </tr>\n",
       "    <tr>\n",
       "      <td>9112</td>\n",
       "      <td>EDUCATION</td>\n",
       "      <td>2106</td>\n",
       "    </tr>\n",
       "    <tr>\n",
       "      <td>19921</td>\n",
       "      <td>PROVIDING</td>\n",
       "      <td>1949</td>\n",
       "    </tr>\n",
       "    <tr>\n",
       "      <td>23657</td>\n",
       "      <td>SUPPORT</td>\n",
       "      <td>1935</td>\n",
       "    </tr>\n",
       "    <tr>\n",
       "      <td>19914</td>\n",
       "      <td>PROVIDES</td>\n",
       "      <td>1767</td>\n",
       "    </tr>\n",
       "    <tr>\n",
       "      <td>18540</td>\n",
       "      <td>PEOPLE</td>\n",
       "      <td>1758</td>\n",
       "    </tr>\n",
       "    <tr>\n",
       "      <td>21711</td>\n",
       "      <td>SCHOOL</td>\n",
       "      <td>1672</td>\n",
       "    </tr>\n",
       "    <tr>\n",
       "      <td>23415</td>\n",
       "      <td>STUDENTS</td>\n",
       "      <td>1594</td>\n",
       "    </tr>\n",
       "    <tr>\n",
       "      <td>17860</td>\n",
       "      <td>ORGANIZATION</td>\n",
       "      <td>1547</td>\n",
       "    </tr>\n",
       "    <tr>\n",
       "      <td>19730</td>\n",
       "      <td>PROGRAMS</td>\n",
       "      <td>1533</td>\n",
       "    </tr>\n",
       "    <tr>\n",
       "      <td>9147</td>\n",
       "      <td>EDUCATIONAL</td>\n",
       "      <td>1353</td>\n",
       "    </tr>\n",
       "    <tr>\n",
       "      <td>19982</td>\n",
       "      <td>PUBLIC</td>\n",
       "      <td>1343</td>\n",
       "    </tr>\n",
       "    <tr>\n",
       "      <td>13080</td>\n",
       "      <td>IMPROVE</td>\n",
       "      <td>1318</td>\n",
       "    </tr>\n",
       "    <tr>\n",
       "      <td>15857</td>\n",
       "      <td>MEDICAL</td>\n",
       "      <td>1297</td>\n",
       "    </tr>\n",
       "    <tr>\n",
       "      <td>19789</td>\n",
       "      <td>PROMOTE</td>\n",
       "      <td>1267</td>\n",
       "    </tr>\n",
       "    <tr>\n",
       "      <td>12191</td>\n",
       "      <td>HEALTHCARE</td>\n",
       "      <td>1210</td>\n",
       "    </tr>\n",
       "    <tr>\n",
       "      <td>12738</td>\n",
       "      <td>HOUSING</td>\n",
       "      <td>1203</td>\n",
       "    </tr>\n",
       "    <tr>\n",
       "      <td>5776</td>\n",
       "      <td>CHILDREN</td>\n",
       "      <td>1171</td>\n",
       "    </tr>\n",
       "    <tr>\n",
       "      <td>10460</td>\n",
       "      <td>FAMILIES</td>\n",
       "      <td>1153</td>\n",
       "    </tr>\n",
       "    <tr>\n",
       "      <td>6467</td>\n",
       "      <td>COMMUNITIES</td>\n",
       "      <td>1107</td>\n",
       "    </tr>\n",
       "    <tr>\n",
       "      <td>13311</td>\n",
       "      <td>INDIVIDUALS</td>\n",
       "      <td>1066</td>\n",
       "    </tr>\n",
       "    <tr>\n",
       "      <td>17973</td>\n",
       "      <td>OTHER</td>\n",
       "      <td>1062</td>\n",
       "    </tr>\n",
       "    <tr>\n",
       "      <td>21679</td>\n",
       "      <td>SCHEDULE</td>\n",
       "      <td>993</td>\n",
       "    </tr>\n",
       "    <tr>\n",
       "      <td>12652</td>\n",
       "      <td>HOSPITAL</td>\n",
       "      <td>962</td>\n",
       "    </tr>\n",
       "    <tr>\n",
       "      <td>5438</td>\n",
       "      <td>CENTER</td>\n",
       "      <td>952</td>\n",
       "    </tr>\n",
       "    <tr>\n",
       "      <td>8236</td>\n",
       "      <td>DEVELOPMENT</td>\n",
       "      <td>948</td>\n",
       "    </tr>\n",
       "    <tr>\n",
       "      <td>20927</td>\n",
       "      <td>RESEARCH</td>\n",
       "      <td>913</td>\n",
       "    </tr>\n",
       "    <tr>\n",
       "      <td>22625</td>\n",
       "      <td>SOCIAL</td>\n",
       "      <td>876</td>\n",
       "    </tr>\n",
       "    <tr>\n",
       "      <td>6271</td>\n",
       "      <td>COLLEGE</td>\n",
       "      <td>865</td>\n",
       "    </tr>\n",
       "    <tr>\n",
       "      <td>7864</td>\n",
       "      <td>DEDICATED</td>\n",
       "      <td>853</td>\n",
       "    </tr>\n",
       "    <tr>\n",
       "      <td>25174</td>\n",
       "      <td>UNIVERSITY</td>\n",
       "      <td>846</td>\n",
       "    </tr>\n",
       "    <tr>\n",
       "      <td>15073</td>\n",
       "      <td>LIVES</td>\n",
       "      <td>829</td>\n",
       "    </tr>\n",
       "    <tr>\n",
       "      <td>16919</td>\n",
       "      <td>NEEDS</td>\n",
       "      <td>820</td>\n",
       "    </tr>\n",
       "    <tr>\n",
       "      <td>22150</td>\n",
       "      <td>SERVICE</td>\n",
       "      <td>807</td>\n",
       "    </tr>\n",
       "    <tr>\n",
       "      <td>6518</td>\n",
       "      <td>COMMUNITY.</td>\n",
       "      <td>806</td>\n",
       "    </tr>\n",
       "    <tr>\n",
       "      <td>22174</td>\n",
       "      <td>SERVICES.</td>\n",
       "      <td>806</td>\n",
       "    </tr>\n",
       "    <tr>\n",
       "      <td>26048</td>\n",
       "      <td>WHICH</td>\n",
       "      <td>764</td>\n",
       "    </tr>\n",
       "    <tr>\n",
       "      <td>9118</td>\n",
       "      <td>EDUCATION,</td>\n",
       "      <td>762</td>\n",
       "    </tr>\n",
       "    <tr>\n",
       "      <td>20992</td>\n",
       "      <td>RESIDENTS</td>\n",
       "      <td>718</td>\n",
       "    </tr>\n",
       "    <tr>\n",
       "      <td>14692</td>\n",
       "      <td>LEARNING</td>\n",
       "      <td>705</td>\n",
       "    </tr>\n",
       "    <tr>\n",
       "      <td>17325</td>\n",
       "      <td>NURSING</td>\n",
       "      <td>694</td>\n",
       "    </tr>\n",
       "    <tr>\n",
       "      <td>22168</td>\n",
       "      <td>SERVICES,</td>\n",
       "      <td>689</td>\n",
       "    </tr>\n",
       "    <tr>\n",
       "      <td>15091</td>\n",
       "      <td>LIVING</td>\n",
       "      <td>681</td>\n",
       "    </tr>\n",
       "  </tbody>\n",
       "</table>\n",
       "</div>"
      ],
      "text/plain": [
       "             tokens  token_count\n",
       "19888       PROVIDE         4989\n",
       "12158        HEALTH         4942\n",
       "22163      SERVICES         4611\n",
       "24343       THROUGH         3413\n",
       "6489      COMMUNITY         3292\n",
       "16283       MISSION         2854\n",
       "24169         THEIR         2507\n",
       "20118       QUALITY         2413\n",
       "9112      EDUCATION         2106\n",
       "19921     PROVIDING         1949\n",
       "23657       SUPPORT         1935\n",
       "19914      PROVIDES         1767\n",
       "18540        PEOPLE         1758\n",
       "21711        SCHOOL         1672\n",
       "23415      STUDENTS         1594\n",
       "17860  ORGANIZATION         1547\n",
       "19730      PROGRAMS         1533\n",
       "9147    EDUCATIONAL         1353\n",
       "19982        PUBLIC         1343\n",
       "13080       IMPROVE         1318\n",
       "15857       MEDICAL         1297\n",
       "19789       PROMOTE         1267\n",
       "12191    HEALTHCARE         1210\n",
       "12738       HOUSING         1203\n",
       "5776       CHILDREN         1171\n",
       "10460      FAMILIES         1153\n",
       "6467    COMMUNITIES         1107\n",
       "13311   INDIVIDUALS         1066\n",
       "17973         OTHER         1062\n",
       "21679      SCHEDULE          993\n",
       "12652      HOSPITAL          962\n",
       "5438         CENTER          952\n",
       "8236    DEVELOPMENT          948\n",
       "20927      RESEARCH          913\n",
       "22625        SOCIAL          876\n",
       "6271        COLLEGE          865\n",
       "7864      DEDICATED          853\n",
       "25174    UNIVERSITY          846\n",
       "15073         LIVES          829\n",
       "16919         NEEDS          820\n",
       "22150       SERVICE          807\n",
       "6518     COMMUNITY.          806\n",
       "22174     SERVICES.          806\n",
       "26048         WHICH          764\n",
       "9118     EDUCATION,          762\n",
       "20992     RESIDENTS          718\n",
       "14692      LEARNING          705\n",
       "17325       NURSING          694\n",
       "22168     SERVICES,          689\n",
       "15091        LIVING          681"
      ]
     },
     "execution_count": 55,
     "metadata": {},
     "output_type": "execute_result"
    }
   ],
   "source": [
    "tokens_count.head(50)"
   ]
  }
 ],
 "metadata": {
  "kernelspec": {
   "display_name": "Python 3",
   "language": "python",
   "name": "python3"
  },
  "language_info": {
   "codemirror_mode": {
    "name": "ipython",
    "version": 3
   },
   "file_extension": ".py",
   "mimetype": "text/x-python",
   "name": "python",
   "nbconvert_exporter": "python",
   "pygments_lexer": "ipython3",
   "version": "3.7.3"
  }
 },
 "nbformat": 4,
 "nbformat_minor": 4
}
