{
 "cells": [
  {
   "cell_type": "markdown",
   "metadata": {},
   "source": [
    "## Machine learning modeling - Iteration #2"
   ]
  },
  {
   "cell_type": "code",
   "execution_count": 199,
   "metadata": {},
   "outputs": [],
   "source": [
    "import csv\n",
    "import numpy as np\n",
    "import pandas as pd\n",
    "import matplotlib.pyplot as plt\n",
    "import seaborn as sns\n",
    "import warnings\n",
    "warnings.simplefilter(action='ignore', category=FutureWarning)\n",
    "pd.set_option('display.max_columns', None)\n",
    "pd.set_option('display.max_rows', None)\n",
    "\n",
    "from scipy.stats.mstats import winsorize\n",
    "from scipy.stats import zscore, stats\n",
    "from math import ceil\n",
    "import jenkspy\n",
    "import statsmodels\n",
    "import statsmodels.api as sm\n",
    "\n",
    "# ml modules\n",
    "from sklearn.decomposition import PCA\n",
    "from sklearn.ensemble import RandomForestRegressor\n",
    "from sklearn.ensemble import GradientBoostingClassifier\n",
    "from sklearn.metrics import confusion_matrix\n",
    "from sklearn import ensemble\n",
    "from sklearn.model_selection import cross_val_score, train_test_split\n",
    "from sklearn.model_selection import GridSearchCV\n",
    "from sklearn.svm import SVC\n",
    "from sklearn.neighbors import KNeighborsClassifier"
   ]
  },
  {
   "cell_type": "code",
   "execution_count": 224,
   "metadata": {},
   "outputs": [],
   "source": [
    "# read in 990 data that has been\n",
    "# with features already adjusted in first iteration\n",
    "df = pd.read_csv('data/990_model_data_2.csv')"
   ]
  },
  {
   "cell_type": "code",
   "execution_count": 225,
   "metadata": {},
   "outputs": [
    {
     "data": {
      "text/plain": [
       "(26881, 28)"
      ]
     },
     "execution_count": 225,
     "metadata": {},
     "output_type": "execute_result"
    }
   ],
   "source": [
    "df.shape"
   ]
  },
  {
   "cell_type": "markdown",
   "metadata": {},
   "source": [
    "## 2nd Feature Iteration - Remove Outliers\n"
   ]
  },
  {
   "cell_type": "markdown",
   "metadata": {},
   "source": [
    "## Remove 1% highest outliers\n"
   ]
  },
  {
   "cell_type": "code",
   "execution_count": 226,
   "metadata": {},
   "outputs": [
    {
     "data": {
      "text/plain": [
       "['gross_receipts',\n",
       " 'voting_memb_ct',\n",
       " 'voting_indepmemb_ct',\n",
       " 'employee_tot_ct',\n",
       " 'volunteer_tot_ct',\n",
       " 'income_tot_unrelated',\n",
       " 'income_net_unrelated',\n",
       " 'rev_less_expense_prioryr',\n",
       " 'asset_tot_beginyr',\n",
       " 'liability_tot_beginyr',\n",
       " 'asset_net_beginyr',\n",
       " 'rev_less_expense_curyr',\n",
       " 'asset_tot_endyr',\n",
       " 'liability_tot_endyr',\n",
       " 'asset_net_endyr',\n",
       " 'contractor_100k_ct',\n",
       " 'CON_CT_DIV_EMP_VOL_CT',\n",
       " 'CON_EXP_DIV_TOT_EXP',\n",
       " 'CON_CT_DIV_EMP_VOL_CT_flag',\n",
       " 'CON_EXP_DIV_TOT_EXP_flag',\n",
       " 'TARGET_FEATURE',\n",
       " 'rev_PCA',\n",
       " 'exp_PCA']"
      ]
     },
     "execution_count": 226,
     "metadata": {},
     "output_type": "execute_result"
    }
   ],
   "source": [
    "# select columns to trim\n",
    "list(df.loc[0,'gross_receipts':].index)"
   ]
  },
  {
   "cell_type": "code",
   "execution_count": 227,
   "metadata": {},
   "outputs": [],
   "source": [
    "# trim outliers of numeric \n",
    "# columns using clip\n",
    "for c in list(df.loc[0,'gross_receipts':].index):\n",
    "    df[c].clip(upper=df[c].quantile(0.99), inplace=True)"
   ]
  },
  {
   "cell_type": "code",
   "execution_count": 158,
   "metadata": {},
   "outputs": [
    {
     "data": {
      "text/html": [
       "<div>\n",
       "<style scoped>\n",
       "    .dataframe tbody tr th:only-of-type {\n",
       "        vertical-align: middle;\n",
       "    }\n",
       "\n",
       "    .dataframe tbody tr th {\n",
       "        vertical-align: top;\n",
       "    }\n",
       "\n",
       "    .dataframe thead th {\n",
       "        text-align: right;\n",
       "    }\n",
       "</style>\n",
       "<table border=\"1\" class=\"dataframe\">\n",
       "  <thead>\n",
       "    <tr style=\"text-align: right;\">\n",
       "      <th></th>\n",
       "      <th>org_form_corp</th>\n",
       "      <th>org_form_trust</th>\n",
       "      <th>org_form_association</th>\n",
       "      <th>org_form_other_form</th>\n",
       "      <th>exempt_status_501c_txt</th>\n",
       "      <th>gross_receipts</th>\n",
       "      <th>voting_memb_ct</th>\n",
       "      <th>voting_indepmemb_ct</th>\n",
       "      <th>employee_tot_ct</th>\n",
       "      <th>volunteer_tot_ct</th>\n",
       "      <th>income_tot_unrelated</th>\n",
       "      <th>income_net_unrelated</th>\n",
       "      <th>rev_less_expense_prioryr</th>\n",
       "      <th>asset_tot_beginyr</th>\n",
       "      <th>liability_tot_beginyr</th>\n",
       "      <th>asset_net_beginyr</th>\n",
       "      <th>rev_less_expense_curyr</th>\n",
       "      <th>asset_tot_endyr</th>\n",
       "      <th>liability_tot_endyr</th>\n",
       "      <th>asset_net_endyr</th>\n",
       "      <th>contractor_100k_ct</th>\n",
       "      <th>CON_CT_DIV_EMP_VOL_CT</th>\n",
       "      <th>CON_EXP_DIV_TOT_EXP</th>\n",
       "      <th>CON_CT_DIV_EMP_VOL_CT_flag</th>\n",
       "      <th>CON_EXP_DIV_TOT_EXP_flag</th>\n",
       "      <th>TARGET_FEATURE</th>\n",
       "      <th>rev_PCA</th>\n",
       "      <th>exp_PCA</th>\n",
       "    </tr>\n",
       "  </thead>\n",
       "  <tbody>\n",
       "    <tr>\n",
       "      <td>0</td>\n",
       "      <td>True</td>\n",
       "      <td>False</td>\n",
       "      <td>False</td>\n",
       "      <td>False</td>\n",
       "      <td>12_</td>\n",
       "      <td>15549792.0</td>\n",
       "      <td>11</td>\n",
       "      <td>11</td>\n",
       "      <td>37</td>\n",
       "      <td>0.0</td>\n",
       "      <td>0.0</td>\n",
       "      <td>0.0</td>\n",
       "      <td>0.0</td>\n",
       "      <td>39372255.0</td>\n",
       "      <td>26541056.0</td>\n",
       "      <td>12831199.0</td>\n",
       "      <td>0.0</td>\n",
       "      <td>39367859.0</td>\n",
       "      <td>26785093.0</td>\n",
       "      <td>12582766.0</td>\n",
       "      <td>3</td>\n",
       "      <td>0.081081</td>\n",
       "      <td>0.061503</td>\n",
       "      <td>True</td>\n",
       "      <td>False</td>\n",
       "      <td>False</td>\n",
       "      <td>-9.230988e+07</td>\n",
       "      <td>-7.560677e+07</td>\n",
       "    </tr>\n",
       "    <tr>\n",
       "      <td>1</td>\n",
       "      <td>True</td>\n",
       "      <td>False</td>\n",
       "      <td>False</td>\n",
       "      <td>False</td>\n",
       "      <td>14_</td>\n",
       "      <td>9472036.0</td>\n",
       "      <td>9</td>\n",
       "      <td>8</td>\n",
       "      <td>81</td>\n",
       "      <td>8.0</td>\n",
       "      <td>52565.0</td>\n",
       "      <td>-75519.0</td>\n",
       "      <td>1000243.0</td>\n",
       "      <td>173898488.0</td>\n",
       "      <td>157544120.0</td>\n",
       "      <td>16354368.0</td>\n",
       "      <td>1262299.0</td>\n",
       "      <td>188534687.0</td>\n",
       "      <td>170915216.0</td>\n",
       "      <td>17619471.0</td>\n",
       "      <td>3</td>\n",
       "      <td>0.033708</td>\n",
       "      <td>0.137033</td>\n",
       "      <td>False</td>\n",
       "      <td>False</td>\n",
       "      <td>False</td>\n",
       "      <td>-1.057983e+08</td>\n",
       "      <td>-9.231641e+07</td>\n",
       "    </tr>\n",
       "    <tr>\n",
       "      <td>2</td>\n",
       "      <td>True</td>\n",
       "      <td>False</td>\n",
       "      <td>False</td>\n",
       "      <td>False</td>\n",
       "      <td>5_</td>\n",
       "      <td>8503978.0</td>\n",
       "      <td>21</td>\n",
       "      <td>19</td>\n",
       "      <td>53</td>\n",
       "      <td>200.0</td>\n",
       "      <td>16110.0</td>\n",
       "      <td>0.0</td>\n",
       "      <td>-55531.0</td>\n",
       "      <td>3510564.0</td>\n",
       "      <td>820701.0</td>\n",
       "      <td>2689863.0</td>\n",
       "      <td>69972.0</td>\n",
       "      <td>3640881.0</td>\n",
       "      <td>852359.0</td>\n",
       "      <td>2788522.0</td>\n",
       "      <td>3</td>\n",
       "      <td>0.011858</td>\n",
       "      <td>0.053652</td>\n",
       "      <td>False</td>\n",
       "      <td>False</td>\n",
       "      <td>False</td>\n",
       "      <td>-1.072903e+08</td>\n",
       "      <td>-9.229491e+07</td>\n",
       "    </tr>\n",
       "    <tr>\n",
       "      <td>3</td>\n",
       "      <td>True</td>\n",
       "      <td>False</td>\n",
       "      <td>False</td>\n",
       "      <td>False</td>\n",
       "      <td>3_</td>\n",
       "      <td>57422298.0</td>\n",
       "      <td>8</td>\n",
       "      <td>7</td>\n",
       "      <td>442</td>\n",
       "      <td>15.0</td>\n",
       "      <td>0.0</td>\n",
       "      <td>0.0</td>\n",
       "      <td>2553132.0</td>\n",
       "      <td>57577945.0</td>\n",
       "      <td>13230564.0</td>\n",
       "      <td>44347381.0</td>\n",
       "      <td>90630.0</td>\n",
       "      <td>56726534.0</td>\n",
       "      <td>12198910.0</td>\n",
       "      <td>44527624.0</td>\n",
       "      <td>8</td>\n",
       "      <td>0.017505</td>\n",
       "      <td>0.039592</td>\n",
       "      <td>False</td>\n",
       "      <td>False</td>\n",
       "      <td>False</td>\n",
       "      <td>-1.765087e+07</td>\n",
       "      <td>-1.757254e+07</td>\n",
       "    </tr>\n",
       "    <tr>\n",
       "      <td>4</td>\n",
       "      <td>True</td>\n",
       "      <td>False</td>\n",
       "      <td>False</td>\n",
       "      <td>False</td>\n",
       "      <td>7_</td>\n",
       "      <td>5974176.0</td>\n",
       "      <td>12</td>\n",
       "      <td>12</td>\n",
       "      <td>139</td>\n",
       "      <td>50.0</td>\n",
       "      <td>2437.0</td>\n",
       "      <td>1437.0</td>\n",
       "      <td>344252.0</td>\n",
       "      <td>9803605.0</td>\n",
       "      <td>3104088.0</td>\n",
       "      <td>6699517.0</td>\n",
       "      <td>745724.0</td>\n",
       "      <td>10535130.0</td>\n",
       "      <td>3089889.0</td>\n",
       "      <td>7445241.0</td>\n",
       "      <td>1</td>\n",
       "      <td>0.005291</td>\n",
       "      <td>0.039945</td>\n",
       "      <td>False</td>\n",
       "      <td>False</td>\n",
       "      <td>False</td>\n",
       "      <td>-1.162458e+08</td>\n",
       "      <td>-9.964548e+07</td>\n",
       "    </tr>\n",
       "  </tbody>\n",
       "</table>\n",
       "</div>"
      ],
      "text/plain": [
       "   org_form_corp  org_form_trust  org_form_association  org_form_other_form  \\\n",
       "0           True           False                 False                False   \n",
       "1           True           False                 False                False   \n",
       "2           True           False                 False                False   \n",
       "3           True           False                 False                False   \n",
       "4           True           False                 False                False   \n",
       "\n",
       "  exempt_status_501c_txt  gross_receipts  voting_memb_ct  voting_indepmemb_ct  \\\n",
       "0                    12_      15549792.0              11                   11   \n",
       "1                    14_       9472036.0               9                    8   \n",
       "2                     5_       8503978.0              21                   19   \n",
       "3                     3_      57422298.0               8                    7   \n",
       "4                     7_       5974176.0              12                   12   \n",
       "\n",
       "   employee_tot_ct  volunteer_tot_ct  income_tot_unrelated  \\\n",
       "0               37               0.0                   0.0   \n",
       "1               81               8.0               52565.0   \n",
       "2               53             200.0               16110.0   \n",
       "3              442              15.0                   0.0   \n",
       "4              139              50.0                2437.0   \n",
       "\n",
       "   income_net_unrelated  rev_less_expense_prioryr  asset_tot_beginyr  \\\n",
       "0                   0.0                       0.0         39372255.0   \n",
       "1              -75519.0                 1000243.0        173898488.0   \n",
       "2                   0.0                  -55531.0          3510564.0   \n",
       "3                   0.0                 2553132.0         57577945.0   \n",
       "4                1437.0                  344252.0          9803605.0   \n",
       "\n",
       "   liability_tot_beginyr  asset_net_beginyr  rev_less_expense_curyr  \\\n",
       "0             26541056.0         12831199.0                     0.0   \n",
       "1            157544120.0         16354368.0               1262299.0   \n",
       "2               820701.0          2689863.0                 69972.0   \n",
       "3             13230564.0         44347381.0                 90630.0   \n",
       "4              3104088.0          6699517.0                745724.0   \n",
       "\n",
       "   asset_tot_endyr  liability_tot_endyr  asset_net_endyr  contractor_100k_ct  \\\n",
       "0       39367859.0           26785093.0       12582766.0                   3   \n",
       "1      188534687.0          170915216.0       17619471.0                   3   \n",
       "2        3640881.0             852359.0        2788522.0                   3   \n",
       "3       56726534.0           12198910.0       44527624.0                   8   \n",
       "4       10535130.0            3089889.0        7445241.0                   1   \n",
       "\n",
       "   CON_CT_DIV_EMP_VOL_CT  CON_EXP_DIV_TOT_EXP  CON_CT_DIV_EMP_VOL_CT_flag  \\\n",
       "0               0.081081             0.061503                        True   \n",
       "1               0.033708             0.137033                       False   \n",
       "2               0.011858             0.053652                       False   \n",
       "3               0.017505             0.039592                       False   \n",
       "4               0.005291             0.039945                       False   \n",
       "\n",
       "   CON_EXP_DIV_TOT_EXP_flag  TARGET_FEATURE       rev_PCA       exp_PCA  \n",
       "0                     False           False -9.230988e+07 -7.560677e+07  \n",
       "1                     False           False -1.057983e+08 -9.231641e+07  \n",
       "2                     False           False -1.072903e+08 -9.229491e+07  \n",
       "3                     False           False -1.765087e+07 -1.757254e+07  \n",
       "4                     False           False -1.162458e+08 -9.964548e+07  "
      ]
     },
     "execution_count": 158,
     "metadata": {},
     "output_type": "execute_result"
    }
   ],
   "source": [
    "df.head()"
   ]
  },
  {
   "cell_type": "code",
   "execution_count": null,
   "metadata": {},
   "outputs": [],
   "source": []
  },
  {
   "cell_type": "code",
   "execution_count": 229,
   "metadata": {},
   "outputs": [],
   "source": [
    "# create features for classification\n",
    "# while removing those I created in designing\n",
    "# my target variable\n",
    "X = pd.get_dummies(df).drop(['TARGET_FEATURE',\n",
    "            'CON_CT_DIV_EMP_VOL_CT_flag', \n",
    "             'CON_EXP_DIV_TOT_EXP_flag',\n",
    "            'CON_CT_DIV_EMP_VOL_CT',\n",
    "            'CON_EXP_DIV_TOT_EXP',\n",
    "            'volunteer_tot_ct',\n",
    "            'employee_tot_ct',\n",
    "            'contractor_100k_ct'], axis=1)\n",
    "\n",
    "# create target for classification\n",
    "y = df.TARGET_FEATURE"
   ]
  },
  {
   "cell_type": "code",
   "execution_count": 230,
   "metadata": {},
   "outputs": [],
   "source": [
    "# split data for training and testing\n",
    "X_train, X_test, y_train, y_test = train_test_split(X, y, test_size=0.2, random_state=0)"
   ]
  },
  {
   "cell_type": "markdown",
   "metadata": {},
   "source": [
    "### Random Forrest Classifier \n"
   ]
  },
  {
   "cell_type": "code",
   "execution_count": 231,
   "metadata": {},
   "outputs": [
    {
     "data": {
      "text/plain": [
       "array([0.89659662, 0.89231914, 0.89508929, 0.89639137, 0.89748837])"
      ]
     },
     "execution_count": 231,
     "metadata": {},
     "output_type": "execute_result"
    }
   ],
   "source": [
    "# create model, check for overfitting\n",
    "rfc = ensemble.RandomForestClassifier(n_estimators=100, max_depth=8)\n",
    "\n",
    "cross_val_score(rfc, X, y, cv=5)"
   ]
  },
  {
   "cell_type": "code",
   "execution_count": 232,
   "metadata": {},
   "outputs": [
    {
     "name": "stdout",
     "output_type": "stream",
     "text": [
      "Training set accuracy:\n",
      "Percent Type I errors: 0.0013950892857142857\n",
      "Percent Type II errors: 0.09365699404761904\n",
      "\n",
      "Test set accuracy:\n",
      "Percent Type I errors: 0.004649432769202157\n",
      "Percent Type II errors: 0.09243072345173889\n"
     ]
    }
   ],
   "source": [
    "# test model on unseen data\n",
    "rfc.fit(X_train, y_train)\n",
    "\n",
    "predict_train = rfc.predict(X_train)\n",
    "predict_test = rfc.predict(X_test)\n",
    "\n",
    "# Accuracy tables\n",
    "table_train = pd.crosstab(y_train, predict_train, margins=True)\n",
    "table_test = pd.crosstab(y_test, predict_test, margins=True)\n",
    "\n",
    "train_tI_errors = table_train.loc[0.0,1.0] / table_train.loc['All','All']\n",
    "train_tII_errors = table_train.loc[1.0,0.0] / table_train.loc['All','All']\n",
    "\n",
    "test_tI_errors = table_test.loc[0.0,1.0]/table_test.loc['All','All']\n",
    "test_tII_errors = table_test.loc[1.0,0.0]/table_test.loc['All','All']\n",
    "\n",
    "print((\n",
    "    'Training set accuracy:\\n'\n",
    "    'Percent Type I errors: {}\\n'\n",
    "    'Percent Type II errors: {}\\n\\n'\n",
    "    'Test set accuracy:\\n'\n",
    "    'Percent Type I errors: {}\\n'\n",
    "    'Percent Type II errors: {}'\n",
    ").format(train_tI_errors, train_tII_errors, test_tI_errors, test_tII_errors))"
   ]
  },
  {
   "cell_type": "code",
   "execution_count": 233,
   "metadata": {},
   "outputs": [
    {
     "data": {
      "text/html": [
       "<div>\n",
       "<style scoped>\n",
       "    .dataframe tbody tr th:only-of-type {\n",
       "        vertical-align: middle;\n",
       "    }\n",
       "\n",
       "    .dataframe tbody tr th {\n",
       "        vertical-align: top;\n",
       "    }\n",
       "\n",
       "    .dataframe thead th {\n",
       "        text-align: right;\n",
       "    }\n",
       "</style>\n",
       "<table border=\"1\" class=\"dataframe\">\n",
       "  <thead>\n",
       "    <tr style=\"text-align: right;\">\n",
       "      <th></th>\n",
       "      <th>Predicted: No</th>\n",
       "      <th>Predicted: Yes</th>\n",
       "    </tr>\n",
       "  </thead>\n",
       "  <tbody>\n",
       "    <tr>\n",
       "      <td>Actual: No</td>\n",
       "      <td>19114</td>\n",
       "      <td>30</td>\n",
       "    </tr>\n",
       "    <tr>\n",
       "      <td>Actual: Yes</td>\n",
       "      <td>2014</td>\n",
       "      <td>346</td>\n",
       "    </tr>\n",
       "  </tbody>\n",
       "</table>\n",
       "</div>"
      ],
      "text/plain": [
       "             Predicted: No  Predicted: Yes\n",
       "Actual: No           19114              30\n",
       "Actual: Yes           2014             346"
      ]
     },
     "execution_count": 233,
     "metadata": {},
     "output_type": "execute_result"
    }
   ],
   "source": [
    "# training results\n",
    "pd.DataFrame(data=confusion_matrix(y_train, predict_train)[:,:],    \n",
    "              index= ['Actual: No', 'Actual: Yes'],\n",
    "    columns= ['Predicted: No', 'Predicted: Yes'])"
   ]
  },
  {
   "cell_type": "code",
   "execution_count": 234,
   "metadata": {},
   "outputs": [
    {
     "data": {
      "text/html": [
       "<div>\n",
       "<style scoped>\n",
       "    .dataframe tbody tr th:only-of-type {\n",
       "        vertical-align: middle;\n",
       "    }\n",
       "\n",
       "    .dataframe tbody tr th {\n",
       "        vertical-align: top;\n",
       "    }\n",
       "\n",
       "    .dataframe thead th {\n",
       "        text-align: right;\n",
       "    }\n",
       "</style>\n",
       "<table border=\"1\" class=\"dataframe\">\n",
       "  <thead>\n",
       "    <tr style=\"text-align: right;\">\n",
       "      <th></th>\n",
       "      <th>Predicted: No</th>\n",
       "      <th>Predicted: Yes</th>\n",
       "    </tr>\n",
       "  </thead>\n",
       "  <tbody>\n",
       "    <tr>\n",
       "      <td>Actual: No</td>\n",
       "      <td>4803</td>\n",
       "      <td>25</td>\n",
       "    </tr>\n",
       "    <tr>\n",
       "      <td>Actual: Yes</td>\n",
       "      <td>497</td>\n",
       "      <td>52</td>\n",
       "    </tr>\n",
       "  </tbody>\n",
       "</table>\n",
       "</div>"
      ],
      "text/plain": [
       "             Predicted: No  Predicted: Yes\n",
       "Actual: No            4803              25\n",
       "Actual: Yes            497              52"
      ]
     },
     "execution_count": 234,
     "metadata": {},
     "output_type": "execute_result"
    }
   ],
   "source": [
    "# testing results\n",
    "pd.DataFrame(data=confusion_matrix(y_test, predict_test)[:,:],    \n",
    "              index= ['Actual: No', 'Actual: Yes'],\n",
    "    columns= ['Predicted: No', 'Predicted: Yes'])"
   ]
  },
  {
   "cell_type": "code",
   "execution_count": 235,
   "metadata": {},
   "outputs": [
    {
     "data": {
      "image/png": "[encoded data removed]",
      "text/plain": [
       "<Figure size 720x720 with 1 Axes>"
      ]
     },
     "metadata": {
      "needs_background": "light"
     },
     "output_type": "display_data"
    }
   ],
   "source": [
    "# visualize feature importances\n",
    "plt.figure(figsize=(10, 10))\n",
    "\n",
    "feature_importance = 100.0 * (rfc.feature_importances_ / rfc.feature_importances_.max())\n",
    "sorted_idx = np.argsort(feature_importance)\n",
    "pos = np.arange(sorted_idx.shape[0]) + .5\n",
    "plt.subplot(1, 2, 2)\n",
    "plt.barh(pos, feature_importance[sorted_idx], align='center')\n",
    "plt.yticks(pos, X.columns[sorted_idx])\n",
    "plt.xlabel('Relative Importance')\n",
    "plt.title('Variable Importance');"
   ]
  },
  {
   "cell_type": "markdown",
   "metadata": {},
   "source": [
    "<a id=\"knn\"></a>\n",
    "\n",
    "## KNN Classifier"
   ]
  },
  {
   "cell_type": "code",
   "execution_count": 237,
   "metadata": {},
   "outputs": [
    {
     "data": {
      "text/plain": [
       "KNeighborsClassifier(algorithm='auto', leaf_size=1, metric='minkowski',\n",
       "                     metric_params=None, n_jobs=None, n_neighbors=110, p=2,\n",
       "                     weights='uniform')"
      ]
     },
     "execution_count": 237,
     "metadata": {},
     "output_type": "execute_result"
    }
   ],
   "source": [
    "# fit model based on optimized parameters\n",
    "knn_clf = KNeighborsClassifier(leaf_size= 1, n_neighbors= 110)\n",
    "\n",
    "knn_clf.fit(X_train, y_train)"
   ]
  },
  {
   "cell_type": "code",
   "execution_count": 238,
   "metadata": {},
   "outputs": [
    {
     "data": {
      "text/plain": [
       "KNeighborsClassifier(algorithm='auto', leaf_size=1, metric='minkowski',\n",
       "                     metric_params=None, n_jobs=None, n_neighbors=110, p=2,\n",
       "                     weights='uniform')"
      ]
     },
     "execution_count": 238,
     "metadata": {},
     "output_type": "execute_result"
    }
   ],
   "source": [
    "knn_clf.fit(X_train, y_train)"
   ]
  },
  {
   "cell_type": "code",
   "execution_count": 239,
   "metadata": {},
   "outputs": [
    {
     "name": "stdout",
     "output_type": "stream",
     "text": [
      "Training set accuracy:\n",
      "Percent Type I errors: 0.0028366815476190475\n",
      "Percent Type II errors: 0.1052827380952381\n",
      "\n",
      "Test set accuracy:\n",
      "Percent Type I errors: 0.0022317277292170355\n",
      "Percent Type II errors: 0.09819602008554956\n"
     ]
    }
   ],
   "source": [
    "predict_train = knn_clf.predict(X_train)\n",
    "predict_test = knn_clf.predict(X_test)\n",
    "\n",
    "# Accuracy tables\n",
    "table_train = pd.crosstab(y_train, predict_train, margins=True)\n",
    "table_test = pd.crosstab(y_test, predict_test, margins=True)\n",
    "\n",
    "train_tI_errors = table_train.loc[0.0,1.0] / table_train.loc['All','All']\n",
    "train_tII_errors = table_train.loc[1.0,0.0] / table_train.loc['All','All']\n",
    "\n",
    "test_tI_errors = table_test.loc[0.0,1.0]/table_test.loc['All','All']\n",
    "test_tII_errors = table_test.loc[1.0,0.0]/table_test.loc['All','All']\n",
    "\n",
    "print((\n",
    "    'Training set accuracy:\\n'\n",
    "    'Percent Type I errors: {}\\n'\n",
    "    'Percent Type II errors: {}\\n\\n'\n",
    "    'Test set accuracy:\\n'\n",
    "    'Percent Type I errors: {}\\n'\n",
    "    'Percent Type II errors: {}'\n",
    ").format(train_tI_errors, train_tII_errors, test_tI_errors, test_tII_errors))"
   ]
  },
  {
   "cell_type": "code",
   "execution_count": 240,
   "metadata": {},
   "outputs": [
    {
     "data": {
      "text/html": [
       "<div>\n",
       "<style scoped>\n",
       "    .dataframe tbody tr th:only-of-type {\n",
       "        vertical-align: middle;\n",
       "    }\n",
       "\n",
       "    .dataframe tbody tr th {\n",
       "        vertical-align: top;\n",
       "    }\n",
       "\n",
       "    .dataframe thead th {\n",
       "        text-align: right;\n",
       "    }\n",
       "</style>\n",
       "<table border=\"1\" class=\"dataframe\">\n",
       "  <thead>\n",
       "    <tr style=\"text-align: right;\">\n",
       "      <th></th>\n",
       "      <th>Predicted: No</th>\n",
       "      <th>Predicted: Yes</th>\n",
       "    </tr>\n",
       "  </thead>\n",
       "  <tbody>\n",
       "    <tr>\n",
       "      <td>Actual: No</td>\n",
       "      <td>19083</td>\n",
       "      <td>61</td>\n",
       "    </tr>\n",
       "    <tr>\n",
       "      <td>Actual: Yes</td>\n",
       "      <td>2264</td>\n",
       "      <td>96</td>\n",
       "    </tr>\n",
       "  </tbody>\n",
       "</table>\n",
       "</div>"
      ],
      "text/plain": [
       "             Predicted: No  Predicted: Yes\n",
       "Actual: No           19083              61\n",
       "Actual: Yes           2264              96"
      ]
     },
     "execution_count": 240,
     "metadata": {},
     "output_type": "execute_result"
    }
   ],
   "source": [
    "pd.DataFrame(data=confusion_matrix(y_train, predict_train)[:,:],    \n",
    "              index= ['Actual: No', 'Actual: Yes'],\n",
    "    columns= ['Predicted: No', 'Predicted: Yes'])"
   ]
  },
  {
   "cell_type": "code",
   "execution_count": 241,
   "metadata": {},
   "outputs": [
    {
     "data": {
      "text/html": [
       "<div>\n",
       "<style scoped>\n",
       "    .dataframe tbody tr th:only-of-type {\n",
       "        vertical-align: middle;\n",
       "    }\n",
       "\n",
       "    .dataframe tbody tr th {\n",
       "        vertical-align: top;\n",
       "    }\n",
       "\n",
       "    .dataframe thead th {\n",
       "        text-align: right;\n",
       "    }\n",
       "</style>\n",
       "<table border=\"1\" class=\"dataframe\">\n",
       "  <thead>\n",
       "    <tr style=\"text-align: right;\">\n",
       "      <th></th>\n",
       "      <th>Predicted: No</th>\n",
       "      <th>Predicted: Yes</th>\n",
       "    </tr>\n",
       "  </thead>\n",
       "  <tbody>\n",
       "    <tr>\n",
       "      <td>Actual: No</td>\n",
       "      <td>4816</td>\n",
       "      <td>12</td>\n",
       "    </tr>\n",
       "    <tr>\n",
       "      <td>Actual: Yes</td>\n",
       "      <td>528</td>\n",
       "      <td>21</td>\n",
       "    </tr>\n",
       "  </tbody>\n",
       "</table>\n",
       "</div>"
      ],
      "text/plain": [
       "             Predicted: No  Predicted: Yes\n",
       "Actual: No            4816              12\n",
       "Actual: Yes            528              21"
      ]
     },
     "execution_count": 241,
     "metadata": {},
     "output_type": "execute_result"
    }
   ],
   "source": [
    "pd.DataFrame(data=confusion_matrix(y_test, predict_test)[:,:],    \n",
    "              index= ['Actual: No', 'Actual: Yes'],\n",
    "    columns= ['Predicted: No', 'Predicted: Yes'])"
   ]
  },
  {
   "cell_type": "markdown",
   "metadata": {},
   "source": [
    "### Gradient Boost Classifier"
   ]
  },
  {
   "cell_type": "code",
   "execution_count": 242,
   "metadata": {},
   "outputs": [
    {
     "data": {
      "text/plain": [
       "array([0.89287707, 0.88971545, 0.88988095, 0.89434524, 0.89581395])"
      ]
     },
     "execution_count": 242,
     "metadata": {},
     "output_type": "execute_result"
    }
   ],
   "source": [
    "# Initialize and fit the model.\n",
    "params = {'n_estimators': 950,\n",
    "          'max_depth': 2,\n",
    "          'subsample': .8,\n",
    "          'learning_rate': .1,\n",
    "          'loss': 'deviance'}\n",
    "\n",
    "clf = ensemble.GradientBoostingClassifier(**params)\n",
    "\n",
    "clf.fit(X_train, y_train)\n",
    "cross_val_score(clf, X, y, cv=5)"
   ]
  },
  {
   "cell_type": "code",
   "execution_count": 243,
   "metadata": {},
   "outputs": [
    {
     "name": "stdout",
     "output_type": "stream",
     "text": [
      "Training set accuracy:\n",
      "Percent Type I errors: 0.0035807291666666665\n",
      "Percent Type II errors: 0.0841703869047619\n",
      "\n",
      "Test set accuracy:\n",
      "Percent Type I errors: 0.013204389064534127\n",
      "Percent Type II errors: 0.08517760833178352\n"
     ]
    }
   ],
   "source": [
    "# test model on unseen data\n",
    "predict_train = clf.predict(X_train)\n",
    "predict_test = clf.predict(X_test)\n",
    "\n",
    "# Accuracy tables\n",
    "table_train = pd.crosstab(y_train, predict_train, margins=True)\n",
    "table_test = pd.crosstab(y_test, predict_test, margins=True)\n",
    "\n",
    "train_tI_errors = table_train.loc[0.0,1.0] / table_train.loc['All','All']\n",
    "train_tII_errors = table_train.loc[1.0,0.0] / table_train.loc['All','All']\n",
    "\n",
    "test_tI_errors = table_test.loc[0.0,1.0]/table_test.loc['All','All']\n",
    "test_tII_errors = table_test.loc[1.0,0.0]/table_test.loc['All','All']\n",
    "\n",
    "print((\n",
    "    'Training set accuracy:\\n'\n",
    "    'Percent Type I errors: {}\\n'\n",
    "    'Percent Type II errors: {}\\n\\n'\n",
    "    'Test set accuracy:\\n'\n",
    "    'Percent Type I errors: {}\\n'\n",
    "    'Percent Type II errors: {}'\n",
    ").format(train_tI_errors, train_tII_errors, test_tI_errors, test_tII_errors))"
   ]
  },
  {
   "cell_type": "code",
   "execution_count": 244,
   "metadata": {},
   "outputs": [
    {
     "data": {
      "text/html": [
       "<div>\n",
       "<style scoped>\n",
       "    .dataframe tbody tr th:only-of-type {\n",
       "        vertical-align: middle;\n",
       "    }\n",
       "\n",
       "    .dataframe tbody tr th {\n",
       "        vertical-align: top;\n",
       "    }\n",
       "\n",
       "    .dataframe thead th {\n",
       "        text-align: right;\n",
       "    }\n",
       "</style>\n",
       "<table border=\"1\" class=\"dataframe\">\n",
       "  <thead>\n",
       "    <tr style=\"text-align: right;\">\n",
       "      <th></th>\n",
       "      <th>Predicted: No</th>\n",
       "      <th>Predicted: Yes</th>\n",
       "    </tr>\n",
       "  </thead>\n",
       "  <tbody>\n",
       "    <tr>\n",
       "      <td>Actual: No</td>\n",
       "      <td>19067</td>\n",
       "      <td>77</td>\n",
       "    </tr>\n",
       "    <tr>\n",
       "      <td>Actual: Yes</td>\n",
       "      <td>1810</td>\n",
       "      <td>550</td>\n",
       "    </tr>\n",
       "  </tbody>\n",
       "</table>\n",
       "</div>"
      ],
      "text/plain": [
       "             Predicted: No  Predicted: Yes\n",
       "Actual: No           19067              77\n",
       "Actual: Yes           1810             550"
      ]
     },
     "execution_count": 244,
     "metadata": {},
     "output_type": "execute_result"
    }
   ],
   "source": [
    "pd.DataFrame(data=confusion_matrix(y_train, predict_train)[:,:],    \n",
    "              index= ['Actual: No', 'Actual: Yes'],\n",
    "    columns= ['Predicted: No', 'Predicted: Yes'])"
   ]
  },
  {
   "cell_type": "code",
   "execution_count": 245,
   "metadata": {},
   "outputs": [
    {
     "data": {
      "text/html": [
       "<div>\n",
       "<style scoped>\n",
       "    .dataframe tbody tr th:only-of-type {\n",
       "        vertical-align: middle;\n",
       "    }\n",
       "\n",
       "    .dataframe tbody tr th {\n",
       "        vertical-align: top;\n",
       "    }\n",
       "\n",
       "    .dataframe thead th {\n",
       "        text-align: right;\n",
       "    }\n",
       "</style>\n",
       "<table border=\"1\" class=\"dataframe\">\n",
       "  <thead>\n",
       "    <tr style=\"text-align: right;\">\n",
       "      <th></th>\n",
       "      <th>Predicted: No</th>\n",
       "      <th>Predicted: Yes</th>\n",
       "    </tr>\n",
       "  </thead>\n",
       "  <tbody>\n",
       "    <tr>\n",
       "      <td>Actual: No</td>\n",
       "      <td>4757</td>\n",
       "      <td>71</td>\n",
       "    </tr>\n",
       "    <tr>\n",
       "      <td>Actual: Yes</td>\n",
       "      <td>458</td>\n",
       "      <td>91</td>\n",
       "    </tr>\n",
       "  </tbody>\n",
       "</table>\n",
       "</div>"
      ],
      "text/plain": [
       "             Predicted: No  Predicted: Yes\n",
       "Actual: No            4757              71\n",
       "Actual: Yes            458              91"
      ]
     },
     "execution_count": 245,
     "metadata": {},
     "output_type": "execute_result"
    }
   ],
   "source": [
    "pd.DataFrame(data=confusion_matrix(y_test, predict_test)[:,:],    \n",
    "              index= ['Actual: No', 'Actual: Yes'],\n",
    "    columns= ['Predicted: No', 'Predicted: Yes'])"
   ]
  },
  {
   "cell_type": "markdown",
   "metadata": {},
   "source": [
    "Compared with first iteration, type I errors decreased, but type II errors increased"
   ]
  },
  {
   "cell_type": "code",
   "execution_count": 246,
   "metadata": {},
   "outputs": [
    {
     "data": {
      "image/png": "[encoded data removed]",
      "text/plain": [
       "<Figure size 720x360 with 1 Axes>"
      ]
     },
     "metadata": {
      "needs_background": "light"
     },
     "output_type": "display_data"
    }
   ],
   "source": [
    "# visualize feature importances\n",
    "plt.figure(figsize=(10, 7))\n",
    "\n",
    "feature_importance = 100.0 * (clf.feature_importances_ / clf.feature_importances_.max())\n",
    "sorted_idx = np.argsort(feature_importance)\n",
    "pos = np.arange(sorted_idx.shape[0]) + .5\n",
    "plt.subplot(1, 2, 2)\n",
    "plt.barh(pos, feature_importance[sorted_idx], align='center')\n",
    "plt.yticks(pos, X.columns[sorted_idx])\n",
    "plt.xlabel('Relative Importance')\n",
    "plt.title('Variable Importance');"
   ]
  },
  {
   "cell_type": "code",
   "execution_count": 247,
   "metadata": {},
   "outputs": [],
   "source": [
    "df.to_csv('data/990_model_data_3.csv', index=None, header=True)"
   ]
  },
  {
   "cell_type": "markdown",
   "metadata": {},
   "source": [
    "# Remove 10% highest outliers\n"
   ]
  },
  {
   "cell_type": "code",
   "execution_count": 270,
   "metadata": {},
   "outputs": [],
   "source": [
    "# read in 990 data that has been\n",
    "# with features already adjusted in first iteration\n",
    "df = pd.read_csv('data/990_model_data_2.csv')"
   ]
  },
  {
   "cell_type": "code",
   "execution_count": 271,
   "metadata": {},
   "outputs": [
    {
     "data": {
      "text/plain": [
       "['gross_receipts',\n",
       " 'voting_memb_ct',\n",
       " 'voting_indepmemb_ct',\n",
       " 'employee_tot_ct',\n",
       " 'volunteer_tot_ct',\n",
       " 'income_tot_unrelated',\n",
       " 'income_net_unrelated',\n",
       " 'rev_less_expense_prioryr',\n",
       " 'asset_tot_beginyr',\n",
       " 'liability_tot_beginyr',\n",
       " 'asset_net_beginyr',\n",
       " 'rev_less_expense_curyr',\n",
       " 'asset_tot_endyr',\n",
       " 'liability_tot_endyr',\n",
       " 'asset_net_endyr',\n",
       " 'contractor_100k_ct',\n",
       " 'CON_CT_DIV_EMP_VOL_CT',\n",
       " 'CON_EXP_DIV_TOT_EXP',\n",
       " 'CON_CT_DIV_EMP_VOL_CT_flag',\n",
       " 'CON_EXP_DIV_TOT_EXP_flag',\n",
       " 'TARGET_FEATURE',\n",
       " 'rev_PCA',\n",
       " 'exp_PCA']"
      ]
     },
     "execution_count": 271,
     "metadata": {},
     "output_type": "execute_result"
    }
   ],
   "source": [
    "# select columns to trim\n",
    "list(df.loc[0,'gross_receipts':].index)"
   ]
  },
  {
   "cell_type": "code",
   "execution_count": 272,
   "metadata": {},
   "outputs": [],
   "source": [
    "# trim outliers of numeric \n",
    "# columns using clip\n",
    "for c in list(df.loc[0,'gross_receipts':].index):\n",
    "    df[c].clip(upper=df[c].quantile(0.90), inplace=True)"
   ]
  },
  {
   "cell_type": "code",
   "execution_count": 273,
   "metadata": {},
   "outputs": [
    {
     "data": {
      "text/html": [
       "<div>\n",
       "<style scoped>\n",
       "    .dataframe tbody tr th:only-of-type {\n",
       "        vertical-align: middle;\n",
       "    }\n",
       "\n",
       "    .dataframe tbody tr th {\n",
       "        vertical-align: top;\n",
       "    }\n",
       "\n",
       "    .dataframe thead th {\n",
       "        text-align: right;\n",
       "    }\n",
       "</style>\n",
       "<table border=\"1\" class=\"dataframe\">\n",
       "  <thead>\n",
       "    <tr style=\"text-align: right;\">\n",
       "      <th></th>\n",
       "      <th>org_form_corp</th>\n",
       "      <th>org_form_trust</th>\n",
       "      <th>org_form_association</th>\n",
       "      <th>org_form_other_form</th>\n",
       "      <th>exempt_status_501c_txt</th>\n",
       "      <th>gross_receipts</th>\n",
       "      <th>voting_memb_ct</th>\n",
       "      <th>voting_indepmemb_ct</th>\n",
       "      <th>employee_tot_ct</th>\n",
       "      <th>volunteer_tot_ct</th>\n",
       "      <th>income_tot_unrelated</th>\n",
       "      <th>income_net_unrelated</th>\n",
       "      <th>rev_less_expense_prioryr</th>\n",
       "      <th>asset_tot_beginyr</th>\n",
       "      <th>liability_tot_beginyr</th>\n",
       "      <th>asset_net_beginyr</th>\n",
       "      <th>rev_less_expense_curyr</th>\n",
       "      <th>asset_tot_endyr</th>\n",
       "      <th>liability_tot_endyr</th>\n",
       "      <th>asset_net_endyr</th>\n",
       "      <th>contractor_100k_ct</th>\n",
       "      <th>CON_CT_DIV_EMP_VOL_CT</th>\n",
       "      <th>CON_EXP_DIV_TOT_EXP</th>\n",
       "      <th>CON_CT_DIV_EMP_VOL_CT_flag</th>\n",
       "      <th>CON_EXP_DIV_TOT_EXP_flag</th>\n",
       "      <th>TARGET_FEATURE</th>\n",
       "      <th>rev_PCA</th>\n",
       "      <th>exp_PCA</th>\n",
       "    </tr>\n",
       "  </thead>\n",
       "  <tbody>\n",
       "    <tr>\n",
       "      <td>0</td>\n",
       "      <td>True</td>\n",
       "      <td>False</td>\n",
       "      <td>False</td>\n",
       "      <td>False</td>\n",
       "      <td>12_</td>\n",
       "      <td>15549792</td>\n",
       "      <td>11</td>\n",
       "      <td>11</td>\n",
       "      <td>37</td>\n",
       "      <td>0.0</td>\n",
       "      <td>0</td>\n",
       "      <td>0.0</td>\n",
       "      <td>0.0</td>\n",
       "      <td>39372255.0</td>\n",
       "      <td>26541056.0</td>\n",
       "      <td>12831199.0</td>\n",
       "      <td>0</td>\n",
       "      <td>39367859</td>\n",
       "      <td>26785093</td>\n",
       "      <td>12582766</td>\n",
       "      <td>3</td>\n",
       "      <td>0.081081</td>\n",
       "      <td>0.061503</td>\n",
       "      <td>True</td>\n",
       "      <td>False</td>\n",
       "      <td>False</td>\n",
       "      <td>-9.230988e+07</td>\n",
       "      <td>-7.560677e+07</td>\n",
       "    </tr>\n",
       "    <tr>\n",
       "      <td>1</td>\n",
       "      <td>True</td>\n",
       "      <td>False</td>\n",
       "      <td>False</td>\n",
       "      <td>False</td>\n",
       "      <td>14_</td>\n",
       "      <td>9472036</td>\n",
       "      <td>9</td>\n",
       "      <td>8</td>\n",
       "      <td>81</td>\n",
       "      <td>8.0</td>\n",
       "      <td>52565</td>\n",
       "      <td>-75519.0</td>\n",
       "      <td>1000243.0</td>\n",
       "      <td>173898488.0</td>\n",
       "      <td>88052685.0</td>\n",
       "      <td>16354368.0</td>\n",
       "      <td>1262299</td>\n",
       "      <td>188534687</td>\n",
       "      <td>90509772</td>\n",
       "      <td>17619471</td>\n",
       "      <td>3</td>\n",
       "      <td>0.033708</td>\n",
       "      <td>0.137033</td>\n",
       "      <td>False</td>\n",
       "      <td>False</td>\n",
       "      <td>False</td>\n",
       "      <td>-1.057983e+08</td>\n",
       "      <td>-9.231641e+07</td>\n",
       "    </tr>\n",
       "    <tr>\n",
       "      <td>2</td>\n",
       "      <td>True</td>\n",
       "      <td>False</td>\n",
       "      <td>False</td>\n",
       "      <td>False</td>\n",
       "      <td>5_</td>\n",
       "      <td>8503978</td>\n",
       "      <td>21</td>\n",
       "      <td>19</td>\n",
       "      <td>53</td>\n",
       "      <td>200.0</td>\n",
       "      <td>16110</td>\n",
       "      <td>0.0</td>\n",
       "      <td>-55531.0</td>\n",
       "      <td>3510564.0</td>\n",
       "      <td>820701.0</td>\n",
       "      <td>2689863.0</td>\n",
       "      <td>69972</td>\n",
       "      <td>3640881</td>\n",
       "      <td>852359</td>\n",
       "      <td>2788522</td>\n",
       "      <td>3</td>\n",
       "      <td>0.011858</td>\n",
       "      <td>0.053652</td>\n",
       "      <td>False</td>\n",
       "      <td>False</td>\n",
       "      <td>False</td>\n",
       "      <td>-1.072903e+08</td>\n",
       "      <td>-9.229491e+07</td>\n",
       "    </tr>\n",
       "    <tr>\n",
       "      <td>3</td>\n",
       "      <td>True</td>\n",
       "      <td>False</td>\n",
       "      <td>False</td>\n",
       "      <td>False</td>\n",
       "      <td>3_</td>\n",
       "      <td>57422298</td>\n",
       "      <td>8</td>\n",
       "      <td>7</td>\n",
       "      <td>442</td>\n",
       "      <td>15.0</td>\n",
       "      <td>0</td>\n",
       "      <td>0.0</td>\n",
       "      <td>2553132.0</td>\n",
       "      <td>57577945.0</td>\n",
       "      <td>13230564.0</td>\n",
       "      <td>44347381.0</td>\n",
       "      <td>90630</td>\n",
       "      <td>56726534</td>\n",
       "      <td>12198910</td>\n",
       "      <td>44527624</td>\n",
       "      <td>8</td>\n",
       "      <td>0.017505</td>\n",
       "      <td>0.039592</td>\n",
       "      <td>False</td>\n",
       "      <td>False</td>\n",
       "      <td>False</td>\n",
       "      <td>-1.765087e+07</td>\n",
       "      <td>-1.757254e+07</td>\n",
       "    </tr>\n",
       "    <tr>\n",
       "      <td>4</td>\n",
       "      <td>True</td>\n",
       "      <td>False</td>\n",
       "      <td>False</td>\n",
       "      <td>False</td>\n",
       "      <td>7_</td>\n",
       "      <td>5974176</td>\n",
       "      <td>12</td>\n",
       "      <td>12</td>\n",
       "      <td>139</td>\n",
       "      <td>50.0</td>\n",
       "      <td>2437</td>\n",
       "      <td>0.0</td>\n",
       "      <td>344252.0</td>\n",
       "      <td>9803605.0</td>\n",
       "      <td>3104088.0</td>\n",
       "      <td>6699517.0</td>\n",
       "      <td>745724</td>\n",
       "      <td>10535130</td>\n",
       "      <td>3089889</td>\n",
       "      <td>7445241</td>\n",
       "      <td>1</td>\n",
       "      <td>0.005291</td>\n",
       "      <td>0.039945</td>\n",
       "      <td>False</td>\n",
       "      <td>False</td>\n",
       "      <td>False</td>\n",
       "      <td>-1.162458e+08</td>\n",
       "      <td>-9.964548e+07</td>\n",
       "    </tr>\n",
       "  </tbody>\n",
       "</table>\n",
       "</div>"
      ],
      "text/plain": [
       "   org_form_corp  org_form_trust  org_form_association  org_form_other_form  \\\n",
       "0           True           False                 False                False   \n",
       "1           True           False                 False                False   \n",
       "2           True           False                 False                False   \n",
       "3           True           False                 False                False   \n",
       "4           True           False                 False                False   \n",
       "\n",
       "  exempt_status_501c_txt  gross_receipts  voting_memb_ct  voting_indepmemb_ct  \\\n",
       "0                    12_        15549792              11                   11   \n",
       "1                    14_         9472036               9                    8   \n",
       "2                     5_         8503978              21                   19   \n",
       "3                     3_        57422298               8                    7   \n",
       "4                     7_         5974176              12                   12   \n",
       "\n",
       "   employee_tot_ct  volunteer_tot_ct  income_tot_unrelated  \\\n",
       "0               37               0.0                     0   \n",
       "1               81               8.0                 52565   \n",
       "2               53             200.0                 16110   \n",
       "3              442              15.0                     0   \n",
       "4              139              50.0                  2437   \n",
       "\n",
       "   income_net_unrelated  rev_less_expense_prioryr  asset_tot_beginyr  \\\n",
       "0                   0.0                       0.0         39372255.0   \n",
       "1              -75519.0                 1000243.0        173898488.0   \n",
       "2                   0.0                  -55531.0          3510564.0   \n",
       "3                   0.0                 2553132.0         57577945.0   \n",
       "4                   0.0                  344252.0          9803605.0   \n",
       "\n",
       "   liability_tot_beginyr  asset_net_beginyr  rev_less_expense_curyr  \\\n",
       "0             26541056.0         12831199.0                       0   \n",
       "1             88052685.0         16354368.0                 1262299   \n",
       "2               820701.0          2689863.0                   69972   \n",
       "3             13230564.0         44347381.0                   90630   \n",
       "4              3104088.0          6699517.0                  745724   \n",
       "\n",
       "   asset_tot_endyr  liability_tot_endyr  asset_net_endyr  contractor_100k_ct  \\\n",
       "0         39367859             26785093         12582766                   3   \n",
       "1        188534687             90509772         17619471                   3   \n",
       "2          3640881               852359          2788522                   3   \n",
       "3         56726534             12198910         44527624                   8   \n",
       "4         10535130              3089889          7445241                   1   \n",
       "\n",
       "   CON_CT_DIV_EMP_VOL_CT  CON_EXP_DIV_TOT_EXP  CON_CT_DIV_EMP_VOL_CT_flag  \\\n",
       "0               0.081081             0.061503                        True   \n",
       "1               0.033708             0.137033                       False   \n",
       "2               0.011858             0.053652                       False   \n",
       "3               0.017505             0.039592                       False   \n",
       "4               0.005291             0.039945                       False   \n",
       "\n",
       "   CON_EXP_DIV_TOT_EXP_flag  TARGET_FEATURE       rev_PCA       exp_PCA  \n",
       "0                     False           False -9.230988e+07 -7.560677e+07  \n",
       "1                     False           False -1.057983e+08 -9.231641e+07  \n",
       "2                     False           False -1.072903e+08 -9.229491e+07  \n",
       "3                     False           False -1.765087e+07 -1.757254e+07  \n",
       "4                     False           False -1.162458e+08 -9.964548e+07  "
      ]
     },
     "execution_count": 273,
     "metadata": {},
     "output_type": "execute_result"
    }
   ],
   "source": [
    "df.head()"
   ]
  },
  {
   "cell_type": "code",
   "execution_count": 274,
   "metadata": {},
   "outputs": [],
   "source": [
    "# create features for classification\n",
    "# while removing those I created in designing\n",
    "# my target variable\n",
    "X = pd.get_dummies(df).drop(['TARGET_FEATURE',\n",
    "            'CON_CT_DIV_EMP_VOL_CT_flag', \n",
    "             'CON_EXP_DIV_TOT_EXP_flag',\n",
    "            'CON_CT_DIV_EMP_VOL_CT',\n",
    "            'CON_EXP_DIV_TOT_EXP',\n",
    "            'volunteer_tot_ct',\n",
    "            'employee_tot_ct',\n",
    "            'contractor_100k_ct'], axis=1)\n",
    "\n",
    "# create target for classification\n",
    "y = df.TARGET_FEATURE"
   ]
  },
  {
   "cell_type": "code",
   "execution_count": 275,
   "metadata": {},
   "outputs": [],
   "source": [
    "# split data for training and testing\n",
    "X_train, X_test, y_train, y_test = train_test_split(X, y, test_size=0.2, random_state=0)"
   ]
  },
  {
   "cell_type": "markdown",
   "metadata": {},
   "source": [
    "### Random Forrest Classifier \n"
   ]
  },
  {
   "cell_type": "code",
   "execution_count": 276,
   "metadata": {},
   "outputs": [
    {
     "data": {
      "text/plain": [
       "array([0.89529477, 0.89324902, 0.89601935, 0.89508929, 0.89730233])"
      ]
     },
     "execution_count": 276,
     "metadata": {},
     "output_type": "execute_result"
    }
   ],
   "source": [
    "# create model, check for overfitting\n",
    "rfc = ensemble.RandomForestClassifier(n_estimators=100, max_depth=8)\n",
    "\n",
    "cross_val_score(rfc, X, y, cv=5)"
   ]
  },
  {
   "cell_type": "code",
   "execution_count": 277,
   "metadata": {},
   "outputs": [
    {
     "name": "stdout",
     "output_type": "stream",
     "text": [
      "Training set accuracy:\n",
      "Percent Type I errors: 0.0012555803571428572\n",
      "Percent Type II errors: 0.09528459821428571\n",
      "\n",
      "Test set accuracy:\n",
      "Percent Type I errors: 0.004463455458434071\n",
      "Percent Type II errors: 0.09391854193788358\n"
     ]
    }
   ],
   "source": [
    "# test model on unseen data\n",
    "rfc.fit(X_train, y_train)\n",
    "\n",
    "predict_train = rfc.predict(X_train)\n",
    "predict_test = rfc.predict(X_test)\n",
    "\n",
    "# Accuracy tables\n",
    "table_train = pd.crosstab(y_train, predict_train, margins=True)\n",
    "table_test = pd.crosstab(y_test, predict_test, margins=True)\n",
    "\n",
    "train_tI_errors = table_train.loc[0.0,1.0] / table_train.loc['All','All']\n",
    "train_tII_errors = table_train.loc[1.0,0.0] / table_train.loc['All','All']\n",
    "\n",
    "test_tI_errors = table_test.loc[0.0,1.0]/table_test.loc['All','All']\n",
    "test_tII_errors = table_test.loc[1.0,0.0]/table_test.loc['All','All']\n",
    "\n",
    "print((\n",
    "    'Training set accuracy:\\n'\n",
    "    'Percent Type I errors: {}\\n'\n",
    "    'Percent Type II errors: {}\\n\\n'\n",
    "    'Test set accuracy:\\n'\n",
    "    'Percent Type I errors: {}\\n'\n",
    "    'Percent Type II errors: {}'\n",
    ").format(train_tI_errors, train_tII_errors, test_tI_errors, test_tII_errors))"
   ]
  },
  {
   "cell_type": "code",
   "execution_count": 278,
   "metadata": {},
   "outputs": [
    {
     "data": {
      "text/html": [
       "<div>\n",
       "<style scoped>\n",
       "    .dataframe tbody tr th:only-of-type {\n",
       "        vertical-align: middle;\n",
       "    }\n",
       "\n",
       "    .dataframe tbody tr th {\n",
       "        vertical-align: top;\n",
       "    }\n",
       "\n",
       "    .dataframe thead th {\n",
       "        text-align: right;\n",
       "    }\n",
       "</style>\n",
       "<table border=\"1\" class=\"dataframe\">\n",
       "  <thead>\n",
       "    <tr style=\"text-align: right;\">\n",
       "      <th></th>\n",
       "      <th>Predicted: No</th>\n",
       "      <th>Predicted: Yes</th>\n",
       "    </tr>\n",
       "  </thead>\n",
       "  <tbody>\n",
       "    <tr>\n",
       "      <td>Actual: No</td>\n",
       "      <td>19117</td>\n",
       "      <td>27</td>\n",
       "    </tr>\n",
       "    <tr>\n",
       "      <td>Actual: Yes</td>\n",
       "      <td>2049</td>\n",
       "      <td>311</td>\n",
       "    </tr>\n",
       "  </tbody>\n",
       "</table>\n",
       "</div>"
      ],
      "text/plain": [
       "             Predicted: No  Predicted: Yes\n",
       "Actual: No           19117              27\n",
       "Actual: Yes           2049             311"
      ]
     },
     "execution_count": 278,
     "metadata": {},
     "output_type": "execute_result"
    }
   ],
   "source": [
    "# training results\n",
    "pd.DataFrame(data=confusion_matrix(y_train, predict_train)[:,:],    \n",
    "              index= ['Actual: No', 'Actual: Yes'],\n",
    "    columns= ['Predicted: No', 'Predicted: Yes'])"
   ]
  },
  {
   "cell_type": "code",
   "execution_count": 279,
   "metadata": {},
   "outputs": [
    {
     "data": {
      "text/html": [
       "<div>\n",
       "<style scoped>\n",
       "    .dataframe tbody tr th:only-of-type {\n",
       "        vertical-align: middle;\n",
       "    }\n",
       "\n",
       "    .dataframe tbody tr th {\n",
       "        vertical-align: top;\n",
       "    }\n",
       "\n",
       "    .dataframe thead th {\n",
       "        text-align: right;\n",
       "    }\n",
       "</style>\n",
       "<table border=\"1\" class=\"dataframe\">\n",
       "  <thead>\n",
       "    <tr style=\"text-align: right;\">\n",
       "      <th></th>\n",
       "      <th>Predicted: No</th>\n",
       "      <th>Predicted: Yes</th>\n",
       "    </tr>\n",
       "  </thead>\n",
       "  <tbody>\n",
       "    <tr>\n",
       "      <td>Actual: No</td>\n",
       "      <td>4804</td>\n",
       "      <td>24</td>\n",
       "    </tr>\n",
       "    <tr>\n",
       "      <td>Actual: Yes</td>\n",
       "      <td>505</td>\n",
       "      <td>44</td>\n",
       "    </tr>\n",
       "  </tbody>\n",
       "</table>\n",
       "</div>"
      ],
      "text/plain": [
       "             Predicted: No  Predicted: Yes\n",
       "Actual: No            4804              24\n",
       "Actual: Yes            505              44"
      ]
     },
     "execution_count": 279,
     "metadata": {},
     "output_type": "execute_result"
    }
   ],
   "source": [
    "# testing results\n",
    "pd.DataFrame(data=confusion_matrix(y_test, predict_test)[:,:],    \n",
    "              index= ['Actual: No', 'Actual: Yes'],\n",
    "    columns= ['Predicted: No', 'Predicted: Yes'])"
   ]
  },
  {
   "cell_type": "code",
   "execution_count": 280,
   "metadata": {},
   "outputs": [
    {
     "data": {
      "image/png": "[encoded data removed]",
      "text/plain": [
       "<Figure size 720x720 with 1 Axes>"
      ]
     },
     "metadata": {
      "needs_background": "light"
     },
     "output_type": "display_data"
    }
   ],
   "source": [
    "# visualize feature importances\n",
    "plt.figure(figsize=(10, 10))\n",
    "\n",
    "feature_importance = 100.0 * (rfc.feature_importances_ / rfc.feature_importances_.max())\n",
    "sorted_idx = np.argsort(feature_importance)\n",
    "pos = np.arange(sorted_idx.shape[0]) + .5\n",
    "plt.subplot(1, 2, 2)\n",
    "plt.barh(pos, feature_importance[sorted_idx], align='center')\n",
    "plt.yticks(pos, X.columns[sorted_idx])\n",
    "plt.xlabel('Relative Importance')\n",
    "plt.title('Variable Importance');"
   ]
  },
  {
   "cell_type": "markdown",
   "metadata": {},
   "source": [
    "<a id=\"knn\"></a>\n",
    "\n",
    "## KNN Classifier"
   ]
  },
  {
   "cell_type": "code",
   "execution_count": 281,
   "metadata": {},
   "outputs": [
    {
     "data": {
      "text/plain": [
       "KNeighborsClassifier(algorithm='auto', leaf_size=1, metric='minkowski',\n",
       "                     metric_params=None, n_jobs=None, n_neighbors=110, p=2,\n",
       "                     weights='uniform')"
      ]
     },
     "execution_count": 281,
     "metadata": {},
     "output_type": "execute_result"
    }
   ],
   "source": [
    "# fit model based on optimized parameters\n",
    "knn_clf = KNeighborsClassifier(leaf_size= 1, n_neighbors= 110)\n",
    "\n",
    "knn_clf.fit(X_train, y_train)"
   ]
  },
  {
   "cell_type": "code",
   "execution_count": 282,
   "metadata": {},
   "outputs": [
    {
     "name": "stdout",
     "output_type": "stream",
     "text": [
      "Training set accuracy:\n",
      "Percent Type I errors: 0.0023251488095238095\n",
      "Percent Type II errors: 0.10560825892857142\n",
      "\n",
      "Test set accuracy:\n",
      "Percent Type I errors: 0.001859773107680863\n",
      "Percent Type II errors: 0.09838199739631764\n"
     ]
    }
   ],
   "source": [
    "predict_train = knn_clf.predict(X_train)\n",
    "predict_test = knn_clf.predict(X_test)\n",
    "\n",
    "# Accuracy tables\n",
    "table_train = pd.crosstab(y_train, predict_train, margins=True)\n",
    "table_test = pd.crosstab(y_test, predict_test, margins=True)\n",
    "\n",
    "train_tI_errors = table_train.loc[0.0,1.0] / table_train.loc['All','All']\n",
    "train_tII_errors = table_train.loc[1.0,0.0] / table_train.loc['All','All']\n",
    "\n",
    "test_tI_errors = table_test.loc[0.0,1.0]/table_test.loc['All','All']\n",
    "test_tII_errors = table_test.loc[1.0,0.0]/table_test.loc['All','All']\n",
    "\n",
    "print((\n",
    "    'Training set accuracy:\\n'\n",
    "    'Percent Type I errors: {}\\n'\n",
    "    'Percent Type II errors: {}\\n\\n'\n",
    "    'Test set accuracy:\\n'\n",
    "    'Percent Type I errors: {}\\n'\n",
    "    'Percent Type II errors: {}'\n",
    ").format(train_tI_errors, train_tII_errors, test_tI_errors, test_tII_errors))"
   ]
  },
  {
   "cell_type": "code",
   "execution_count": 283,
   "metadata": {},
   "outputs": [
    {
     "data": {
      "text/html": [
       "<div>\n",
       "<style scoped>\n",
       "    .dataframe tbody tr th:only-of-type {\n",
       "        vertical-align: middle;\n",
       "    }\n",
       "\n",
       "    .dataframe tbody tr th {\n",
       "        vertical-align: top;\n",
       "    }\n",
       "\n",
       "    .dataframe thead th {\n",
       "        text-align: right;\n",
       "    }\n",
       "</style>\n",
       "<table border=\"1\" class=\"dataframe\">\n",
       "  <thead>\n",
       "    <tr style=\"text-align: right;\">\n",
       "      <th></th>\n",
       "      <th>Predicted: No</th>\n",
       "      <th>Predicted: Yes</th>\n",
       "    </tr>\n",
       "  </thead>\n",
       "  <tbody>\n",
       "    <tr>\n",
       "      <td>Actual: No</td>\n",
       "      <td>19094</td>\n",
       "      <td>50</td>\n",
       "    </tr>\n",
       "    <tr>\n",
       "      <td>Actual: Yes</td>\n",
       "      <td>2271</td>\n",
       "      <td>89</td>\n",
       "    </tr>\n",
       "  </tbody>\n",
       "</table>\n",
       "</div>"
      ],
      "text/plain": [
       "             Predicted: No  Predicted: Yes\n",
       "Actual: No           19094              50\n",
       "Actual: Yes           2271              89"
      ]
     },
     "execution_count": 283,
     "metadata": {},
     "output_type": "execute_result"
    }
   ],
   "source": [
    "pd.DataFrame(data=confusion_matrix(y_train, predict_train)[:,:],    \n",
    "              index= ['Actual: No', 'Actual: Yes'],\n",
    "    columns= ['Predicted: No', 'Predicted: Yes'])"
   ]
  },
  {
   "cell_type": "code",
   "execution_count": 284,
   "metadata": {},
   "outputs": [
    {
     "data": {
      "text/html": [
       "<div>\n",
       "<style scoped>\n",
       "    .dataframe tbody tr th:only-of-type {\n",
       "        vertical-align: middle;\n",
       "    }\n",
       "\n",
       "    .dataframe tbody tr th {\n",
       "        vertical-align: top;\n",
       "    }\n",
       "\n",
       "    .dataframe thead th {\n",
       "        text-align: right;\n",
       "    }\n",
       "</style>\n",
       "<table border=\"1\" class=\"dataframe\">\n",
       "  <thead>\n",
       "    <tr style=\"text-align: right;\">\n",
       "      <th></th>\n",
       "      <th>Predicted: No</th>\n",
       "      <th>Predicted: Yes</th>\n",
       "    </tr>\n",
       "  </thead>\n",
       "  <tbody>\n",
       "    <tr>\n",
       "      <td>Actual: No</td>\n",
       "      <td>4818</td>\n",
       "      <td>10</td>\n",
       "    </tr>\n",
       "    <tr>\n",
       "      <td>Actual: Yes</td>\n",
       "      <td>529</td>\n",
       "      <td>20</td>\n",
       "    </tr>\n",
       "  </tbody>\n",
       "</table>\n",
       "</div>"
      ],
      "text/plain": [
       "             Predicted: No  Predicted: Yes\n",
       "Actual: No            4818              10\n",
       "Actual: Yes            529              20"
      ]
     },
     "execution_count": 284,
     "metadata": {},
     "output_type": "execute_result"
    }
   ],
   "source": [
    "pd.DataFrame(data=confusion_matrix(y_test, predict_test)[:,:],    \n",
    "              index= ['Actual: No', 'Actual: Yes'],\n",
    "    columns= ['Predicted: No', 'Predicted: Yes'])"
   ]
  },
  {
   "cell_type": "markdown",
   "metadata": {},
   "source": [
    "### Gradient Boost Classifier"
   ]
  },
  {
   "cell_type": "code",
   "execution_count": 285,
   "metadata": {},
   "outputs": [
    {
     "data": {
      "text/plain": [
       "array([0.89194718, 0.89138925, 0.88709077, 0.89285714, 0.89227907])"
      ]
     },
     "execution_count": 285,
     "metadata": {},
     "output_type": "execute_result"
    }
   ],
   "source": [
    "# Initialize and fit the model.\n",
    "params = {'n_estimators': 950,\n",
    "          'max_depth': 2,\n",
    "          'subsample': .8,\n",
    "          'learning_rate': .1,\n",
    "          'loss': 'deviance'}\n",
    "\n",
    "clf = ensemble.GradientBoostingClassifier(**params)\n",
    "\n",
    "clf.fit(X_train, y_train)\n",
    "cross_val_score(clf, X, y, cv=5)"
   ]
  },
  {
   "cell_type": "code",
   "execution_count": 286,
   "metadata": {},
   "outputs": [
    {
     "name": "stdout",
     "output_type": "stream",
     "text": [
      "Training set accuracy:\n",
      "Percent Type I errors: 0.003115699404761905\n",
      "Percent Type II errors: 0.08621651785714286\n",
      "\n",
      "Test set accuracy:\n",
      "Percent Type I errors: 0.01301841175376604\n",
      "Percent Type II errors: 0.08666542681792822\n"
     ]
    }
   ],
   "source": [
    "# test model on unseen data\n",
    "predict_train = clf.predict(X_train)\n",
    "predict_test = clf.predict(X_test)\n",
    "\n",
    "# Accuracy tables\n",
    "table_train = pd.crosstab(y_train, predict_train, margins=True)\n",
    "table_test = pd.crosstab(y_test, predict_test, margins=True)\n",
    "\n",
    "train_tI_errors = table_train.loc[0.0,1.0] / table_train.loc['All','All']\n",
    "train_tII_errors = table_train.loc[1.0,0.0] / table_train.loc['All','All']\n",
    "\n",
    "test_tI_errors = table_test.loc[0.0,1.0]/table_test.loc['All','All']\n",
    "test_tII_errors = table_test.loc[1.0,0.0]/table_test.loc['All','All']\n",
    "\n",
    "print((\n",
    "    'Training set accuracy:\\n'\n",
    "    'Percent Type I errors: {}\\n'\n",
    "    'Percent Type II errors: {}\\n\\n'\n",
    "    'Test set accuracy:\\n'\n",
    "    'Percent Type I errors: {}\\n'\n",
    "    'Percent Type II errors: {}'\n",
    ").format(train_tI_errors, train_tII_errors, test_tI_errors, test_tII_errors))"
   ]
  },
  {
   "cell_type": "code",
   "execution_count": 287,
   "metadata": {},
   "outputs": [
    {
     "data": {
      "text/html": [
       "<div>\n",
       "<style scoped>\n",
       "    .dataframe tbody tr th:only-of-type {\n",
       "        vertical-align: middle;\n",
       "    }\n",
       "\n",
       "    .dataframe tbody tr th {\n",
       "        vertical-align: top;\n",
       "    }\n",
       "\n",
       "    .dataframe thead th {\n",
       "        text-align: right;\n",
       "    }\n",
       "</style>\n",
       "<table border=\"1\" class=\"dataframe\">\n",
       "  <thead>\n",
       "    <tr style=\"text-align: right;\">\n",
       "      <th></th>\n",
       "      <th>Predicted: No</th>\n",
       "      <th>Predicted: Yes</th>\n",
       "    </tr>\n",
       "  </thead>\n",
       "  <tbody>\n",
       "    <tr>\n",
       "      <td>Actual: No</td>\n",
       "      <td>19077</td>\n",
       "      <td>67</td>\n",
       "    </tr>\n",
       "    <tr>\n",
       "      <td>Actual: Yes</td>\n",
       "      <td>1854</td>\n",
       "      <td>506</td>\n",
       "    </tr>\n",
       "  </tbody>\n",
       "</table>\n",
       "</div>"
      ],
      "text/plain": [
       "             Predicted: No  Predicted: Yes\n",
       "Actual: No           19077              67\n",
       "Actual: Yes           1854             506"
      ]
     },
     "execution_count": 287,
     "metadata": {},
     "output_type": "execute_result"
    }
   ],
   "source": [
    "pd.DataFrame(data=confusion_matrix(y_train, predict_train)[:,:],    \n",
    "              index= ['Actual: No', 'Actual: Yes'],\n",
    "    columns= ['Predicted: No', 'Predicted: Yes'])"
   ]
  },
  {
   "cell_type": "code",
   "execution_count": 288,
   "metadata": {},
   "outputs": [
    {
     "data": {
      "text/html": [
       "<div>\n",
       "<style scoped>\n",
       "    .dataframe tbody tr th:only-of-type {\n",
       "        vertical-align: middle;\n",
       "    }\n",
       "\n",
       "    .dataframe tbody tr th {\n",
       "        vertical-align: top;\n",
       "    }\n",
       "\n",
       "    .dataframe thead th {\n",
       "        text-align: right;\n",
       "    }\n",
       "</style>\n",
       "<table border=\"1\" class=\"dataframe\">\n",
       "  <thead>\n",
       "    <tr style=\"text-align: right;\">\n",
       "      <th></th>\n",
       "      <th>Predicted: No</th>\n",
       "      <th>Predicted: Yes</th>\n",
       "    </tr>\n",
       "  </thead>\n",
       "  <tbody>\n",
       "    <tr>\n",
       "      <td>Actual: No</td>\n",
       "      <td>4758</td>\n",
       "      <td>70</td>\n",
       "    </tr>\n",
       "    <tr>\n",
       "      <td>Actual: Yes</td>\n",
       "      <td>466</td>\n",
       "      <td>83</td>\n",
       "    </tr>\n",
       "  </tbody>\n",
       "</table>\n",
       "</div>"
      ],
      "text/plain": [
       "             Predicted: No  Predicted: Yes\n",
       "Actual: No            4758              70\n",
       "Actual: Yes            466              83"
      ]
     },
     "execution_count": 288,
     "metadata": {},
     "output_type": "execute_result"
    }
   ],
   "source": [
    "pd.DataFrame(data=confusion_matrix(y_test, predict_test)[:,:],    \n",
    "              index= ['Actual: No', 'Actual: Yes'],\n",
    "    columns= ['Predicted: No', 'Predicted: Yes'])"
   ]
  },
  {
   "cell_type": "markdown",
   "metadata": {},
   "source": [
    "Compared with first iteration, type I errors decreased, but type II errors increased"
   ]
  },
  {
   "cell_type": "code",
   "execution_count": 289,
   "metadata": {},
   "outputs": [
    {
     "data": {
      "image/png": "[encoded data removed]",
      "text/plain": [
       "<Figure size 720x576 with 1 Axes>"
      ]
     },
     "metadata": {
      "needs_background": "light"
     },
     "output_type": "display_data"
    }
   ],
   "source": [
    "# visualize feature importances\n",
    "plt.figure(figsize=(10, 8))\n",
    "\n",
    "feature_importance = 100.0 * (clf.feature_importances_ / clf.feature_importances_.max())\n",
    "sorted_idx = np.argsort(feature_importance)\n",
    "pos = np.arange(sorted_idx.shape[0]) + .5\n",
    "plt.subplot(1, 2, 2)\n",
    "plt.barh(pos, feature_importance[sorted_idx], align='center')\n",
    "plt.yticks(pos, X.columns[sorted_idx])\n",
    "plt.xlabel('Relative Importance')\n",
    "plt.title('Variable Importance');"
   ]
  },
  {
   "cell_type": "markdown",
   "metadata": {},
   "source": [
    "### Export data for further feature iteration"
   ]
  },
  {
   "cell_type": "code",
   "execution_count": 290,
   "metadata": {},
   "outputs": [],
   "source": [
    "# df.to_csv('data/990_model_data_3.csv', index=None, header=True)"
   ]
  }
 ],
 "metadata": {
  "kernelspec": {
   "display_name": "Python 3",
   "language": "python",
   "name": "python3"
  },
  "language_info": {
   "codemirror_mode": {
    "name": "ipython",
    "version": 3
   },
   "file_extension": ".py",
   "mimetype": "text/x-python",
   "name": "python",
   "nbconvert_exporter": "python",
   "pygments_lexer": "ipython3",
   "version": "3.7.3"
  }
 },
 "nbformat": 4,
 "nbformat_minor": 4
}
