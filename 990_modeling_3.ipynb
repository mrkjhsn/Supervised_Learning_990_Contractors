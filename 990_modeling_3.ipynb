{
 "cells": [
  {
   "cell_type": "markdown",
   "metadata": {},
   "source": [
    "## Machine learning modeling - Iteration #3"
   ]
  },
  {
   "cell_type": "code",
   "execution_count": 49,
   "metadata": {},
   "outputs": [],
   "source": [
    "import csv\n",
    "import numpy as np\n",
    "import pandas as pd\n",
    "import matplotlib.pyplot as plt\n",
    "import seaborn as sns\n",
    "import warnings\n",
    "warnings.simplefilter(action='ignore', category=FutureWarning)\n",
    "pd.set_option('display.max_columns', None)\n",
    "pd.set_option('display.max_rows', None)\n",
    "\n",
    "from scipy.stats.mstats import winsorize\n",
    "from scipy.stats import zscore, stats\n",
    "from math import ceil\n",
    "import jenkspy\n",
    "import statsmodels\n",
    "import statsmodels.api as sm\n",
    "\n",
    "# ml modules\n",
    "from sklearn.decomposition import PCA\n",
    "from sklearn.ensemble import RandomForestRegressor\n",
    "from sklearn.ensemble import GradientBoostingClassifier\n",
    "from sklearn.metrics import confusion_matrix\n",
    "from sklearn import ensemble\n",
    "from sklearn.model_selection import cross_val_score, train_test_split\n",
    "from sklearn.model_selection import GridSearchCV\n",
    "from sklearn.svm import SVC\n",
    "from sklearn.neighbors import KNeighborsClassifier"
   ]
  },
  {
   "cell_type": "code",
   "execution_count": 77,
   "metadata": {},
   "outputs": [],
   "source": [
    "# read in 990 data that has been\n",
    "# with features already adjusted in first iteration\n",
    "df = pd.read_csv('data/990_model_data_2.csv')"
   ]
  },
  {
   "cell_type": "code",
   "execution_count": 78,
   "metadata": {},
   "outputs": [
    {
     "data": {
      "text/plain": [
       "(26881, 28)"
      ]
     },
     "execution_count": 78,
     "metadata": {},
     "output_type": "execute_result"
    }
   ],
   "source": [
    "df.shape"
   ]
  },
  {
   "cell_type": "code",
   "execution_count": 79,
   "metadata": {},
   "outputs": [
    {
     "data": {
      "text/html": [
       "<div>\n",
       "<style scoped>\n",
       "    .dataframe tbody tr th:only-of-type {\n",
       "        vertical-align: middle;\n",
       "    }\n",
       "\n",
       "    .dataframe tbody tr th {\n",
       "        vertical-align: top;\n",
       "    }\n",
       "\n",
       "    .dataframe thead th {\n",
       "        text-align: right;\n",
       "    }\n",
       "</style>\n",
       "<table border=\"1\" class=\"dataframe\">\n",
       "  <thead>\n",
       "    <tr style=\"text-align: right;\">\n",
       "      <th></th>\n",
       "      <th>org_form_corp</th>\n",
       "      <th>org_form_trust</th>\n",
       "      <th>org_form_association</th>\n",
       "      <th>org_form_other_form</th>\n",
       "      <th>exempt_status_501c_txt</th>\n",
       "      <th>gross_receipts</th>\n",
       "      <th>voting_memb_ct</th>\n",
       "      <th>voting_indepmemb_ct</th>\n",
       "      <th>employee_tot_ct</th>\n",
       "      <th>volunteer_tot_ct</th>\n",
       "      <th>income_tot_unrelated</th>\n",
       "      <th>income_net_unrelated</th>\n",
       "      <th>rev_less_expense_prioryr</th>\n",
       "      <th>asset_tot_beginyr</th>\n",
       "      <th>liability_tot_beginyr</th>\n",
       "      <th>asset_net_beginyr</th>\n",
       "      <th>rev_less_expense_curyr</th>\n",
       "      <th>asset_tot_endyr</th>\n",
       "      <th>liability_tot_endyr</th>\n",
       "      <th>asset_net_endyr</th>\n",
       "      <th>contractor_100k_ct</th>\n",
       "      <th>CON_CT_DIV_EMP_VOL_CT</th>\n",
       "      <th>CON_EXP_DIV_TOT_EXP</th>\n",
       "      <th>CON_CT_DIV_EMP_VOL_CT_flag</th>\n",
       "      <th>CON_EXP_DIV_TOT_EXP_flag</th>\n",
       "      <th>TARGET_FEATURE</th>\n",
       "      <th>rev_PCA</th>\n",
       "      <th>exp_PCA</th>\n",
       "    </tr>\n",
       "  </thead>\n",
       "  <tbody>\n",
       "    <tr>\n",
       "      <td>0</td>\n",
       "      <td>True</td>\n",
       "      <td>False</td>\n",
       "      <td>False</td>\n",
       "      <td>False</td>\n",
       "      <td>12_</td>\n",
       "      <td>15549792</td>\n",
       "      <td>11</td>\n",
       "      <td>11</td>\n",
       "      <td>37</td>\n",
       "      <td>0.0</td>\n",
       "      <td>0</td>\n",
       "      <td>0.0</td>\n",
       "      <td>0.0</td>\n",
       "      <td>39372255.0</td>\n",
       "      <td>26541056.0</td>\n",
       "      <td>12831199.0</td>\n",
       "      <td>0</td>\n",
       "      <td>39367859</td>\n",
       "      <td>26785093</td>\n",
       "      <td>12582766</td>\n",
       "      <td>3</td>\n",
       "      <td>0.081081</td>\n",
       "      <td>0.061503</td>\n",
       "      <td>True</td>\n",
       "      <td>False</td>\n",
       "      <td>False</td>\n",
       "      <td>-9.230988e+07</td>\n",
       "      <td>-7.560677e+07</td>\n",
       "    </tr>\n",
       "    <tr>\n",
       "      <td>1</td>\n",
       "      <td>True</td>\n",
       "      <td>False</td>\n",
       "      <td>False</td>\n",
       "      <td>False</td>\n",
       "      <td>14_</td>\n",
       "      <td>9472036</td>\n",
       "      <td>9</td>\n",
       "      <td>8</td>\n",
       "      <td>81</td>\n",
       "      <td>8.0</td>\n",
       "      <td>52565</td>\n",
       "      <td>-75519.0</td>\n",
       "      <td>1000243.0</td>\n",
       "      <td>173898488.0</td>\n",
       "      <td>157544120.0</td>\n",
       "      <td>16354368.0</td>\n",
       "      <td>1262299</td>\n",
       "      <td>188534687</td>\n",
       "      <td>170915216</td>\n",
       "      <td>17619471</td>\n",
       "      <td>3</td>\n",
       "      <td>0.033708</td>\n",
       "      <td>0.137033</td>\n",
       "      <td>False</td>\n",
       "      <td>False</td>\n",
       "      <td>False</td>\n",
       "      <td>-1.057983e+08</td>\n",
       "      <td>-9.231641e+07</td>\n",
       "    </tr>\n",
       "    <tr>\n",
       "      <td>2</td>\n",
       "      <td>True</td>\n",
       "      <td>False</td>\n",
       "      <td>False</td>\n",
       "      <td>False</td>\n",
       "      <td>5_</td>\n",
       "      <td>8503978</td>\n",
       "      <td>21</td>\n",
       "      <td>19</td>\n",
       "      <td>53</td>\n",
       "      <td>200.0</td>\n",
       "      <td>16110</td>\n",
       "      <td>0.0</td>\n",
       "      <td>-55531.0</td>\n",
       "      <td>3510564.0</td>\n",
       "      <td>820701.0</td>\n",
       "      <td>2689863.0</td>\n",
       "      <td>69972</td>\n",
       "      <td>3640881</td>\n",
       "      <td>852359</td>\n",
       "      <td>2788522</td>\n",
       "      <td>3</td>\n",
       "      <td>0.011858</td>\n",
       "      <td>0.053652</td>\n",
       "      <td>False</td>\n",
       "      <td>False</td>\n",
       "      <td>False</td>\n",
       "      <td>-1.072903e+08</td>\n",
       "      <td>-9.229491e+07</td>\n",
       "    </tr>\n",
       "    <tr>\n",
       "      <td>3</td>\n",
       "      <td>True</td>\n",
       "      <td>False</td>\n",
       "      <td>False</td>\n",
       "      <td>False</td>\n",
       "      <td>3_</td>\n",
       "      <td>57422298</td>\n",
       "      <td>8</td>\n",
       "      <td>7</td>\n",
       "      <td>442</td>\n",
       "      <td>15.0</td>\n",
       "      <td>0</td>\n",
       "      <td>0.0</td>\n",
       "      <td>2553132.0</td>\n",
       "      <td>57577945.0</td>\n",
       "      <td>13230564.0</td>\n",
       "      <td>44347381.0</td>\n",
       "      <td>90630</td>\n",
       "      <td>56726534</td>\n",
       "      <td>12198910</td>\n",
       "      <td>44527624</td>\n",
       "      <td>8</td>\n",
       "      <td>0.017505</td>\n",
       "      <td>0.039592</td>\n",
       "      <td>False</td>\n",
       "      <td>False</td>\n",
       "      <td>False</td>\n",
       "      <td>-1.765087e+07</td>\n",
       "      <td>-1.757254e+07</td>\n",
       "    </tr>\n",
       "    <tr>\n",
       "      <td>4</td>\n",
       "      <td>True</td>\n",
       "      <td>False</td>\n",
       "      <td>False</td>\n",
       "      <td>False</td>\n",
       "      <td>7_</td>\n",
       "      <td>5974176</td>\n",
       "      <td>12</td>\n",
       "      <td>12</td>\n",
       "      <td>139</td>\n",
       "      <td>50.0</td>\n",
       "      <td>2437</td>\n",
       "      <td>1437.0</td>\n",
       "      <td>344252.0</td>\n",
       "      <td>9803605.0</td>\n",
       "      <td>3104088.0</td>\n",
       "      <td>6699517.0</td>\n",
       "      <td>745724</td>\n",
       "      <td>10535130</td>\n",
       "      <td>3089889</td>\n",
       "      <td>7445241</td>\n",
       "      <td>1</td>\n",
       "      <td>0.005291</td>\n",
       "      <td>0.039945</td>\n",
       "      <td>False</td>\n",
       "      <td>False</td>\n",
       "      <td>False</td>\n",
       "      <td>-1.162458e+08</td>\n",
       "      <td>-9.964548e+07</td>\n",
       "    </tr>\n",
       "  </tbody>\n",
       "</table>\n",
       "</div>"
      ],
      "text/plain": [
       "   org_form_corp  org_form_trust  org_form_association  org_form_other_form  \\\n",
       "0           True           False                 False                False   \n",
       "1           True           False                 False                False   \n",
       "2           True           False                 False                False   \n",
       "3           True           False                 False                False   \n",
       "4           True           False                 False                False   \n",
       "\n",
       "  exempt_status_501c_txt  gross_receipts  voting_memb_ct  voting_indepmemb_ct  \\\n",
       "0                    12_        15549792              11                   11   \n",
       "1                    14_         9472036               9                    8   \n",
       "2                     5_         8503978              21                   19   \n",
       "3                     3_        57422298               8                    7   \n",
       "4                     7_         5974176              12                   12   \n",
       "\n",
       "   employee_tot_ct  volunteer_tot_ct  income_tot_unrelated  \\\n",
       "0               37               0.0                     0   \n",
       "1               81               8.0                 52565   \n",
       "2               53             200.0                 16110   \n",
       "3              442              15.0                     0   \n",
       "4              139              50.0                  2437   \n",
       "\n",
       "   income_net_unrelated  rev_less_expense_prioryr  asset_tot_beginyr  \\\n",
       "0                   0.0                       0.0         39372255.0   \n",
       "1              -75519.0                 1000243.0        173898488.0   \n",
       "2                   0.0                  -55531.0          3510564.0   \n",
       "3                   0.0                 2553132.0         57577945.0   \n",
       "4                1437.0                  344252.0          9803605.0   \n",
       "\n",
       "   liability_tot_beginyr  asset_net_beginyr  rev_less_expense_curyr  \\\n",
       "0             26541056.0         12831199.0                       0   \n",
       "1            157544120.0         16354368.0                 1262299   \n",
       "2               820701.0          2689863.0                   69972   \n",
       "3             13230564.0         44347381.0                   90630   \n",
       "4              3104088.0          6699517.0                  745724   \n",
       "\n",
       "   asset_tot_endyr  liability_tot_endyr  asset_net_endyr  contractor_100k_ct  \\\n",
       "0         39367859             26785093         12582766                   3   \n",
       "1        188534687            170915216         17619471                   3   \n",
       "2          3640881               852359          2788522                   3   \n",
       "3         56726534             12198910         44527624                   8   \n",
       "4         10535130              3089889          7445241                   1   \n",
       "\n",
       "   CON_CT_DIV_EMP_VOL_CT  CON_EXP_DIV_TOT_EXP  CON_CT_DIV_EMP_VOL_CT_flag  \\\n",
       "0               0.081081             0.061503                        True   \n",
       "1               0.033708             0.137033                       False   \n",
       "2               0.011858             0.053652                       False   \n",
       "3               0.017505             0.039592                       False   \n",
       "4               0.005291             0.039945                       False   \n",
       "\n",
       "   CON_EXP_DIV_TOT_EXP_flag  TARGET_FEATURE       rev_PCA       exp_PCA  \n",
       "0                     False           False -9.230988e+07 -7.560677e+07  \n",
       "1                     False           False -1.057983e+08 -9.231641e+07  \n",
       "2                     False           False -1.072903e+08 -9.229491e+07  \n",
       "3                     False           False -1.765087e+07 -1.757254e+07  \n",
       "4                     False           False -1.162458e+08 -9.964548e+07  "
      ]
     },
     "execution_count": 79,
     "metadata": {},
     "output_type": "execute_result"
    }
   ],
   "source": [
    "df.head()"
   ]
  },
  {
   "cell_type": "markdown",
   "metadata": {},
   "source": [
    "## 3rd Feature Iteration"
   ]
  },
  {
   "cell_type": "markdown",
   "metadata": {},
   "source": [
    "### 1. Drop features that aren't contributing information to my models"
   ]
  },
  {
   "cell_type": "code",
   "execution_count": 80,
   "metadata": {},
   "outputs": [],
   "source": [
    "# these were deemed not important from prior modeling\n",
    "df.drop(df[['org_form_corp', 'org_form_trust', 'org_form_association',\n",
    "       'org_form_other_form']], axis=1, inplace=True)"
   ]
  },
  {
   "cell_type": "markdown",
   "metadata": {},
   "source": [
    "### 2. Drop dummy features that aren't contributing information to my models"
   ]
  },
  {
   "cell_type": "code",
   "execution_count": 81,
   "metadata": {},
   "outputs": [],
   "source": [
    "df_dummies = pd.get_dummies(df)"
   ]
  },
  {
   "cell_type": "code",
   "execution_count": 82,
   "metadata": {},
   "outputs": [],
   "source": [
    "df_dummies.drop(df_dummies[['exempt_status_501c_txt_10_',\n",
    "       'exempt_status_501c_txt_12_', 'exempt_status_501c_txt_13_',\n",
    "       'exempt_status_501c_txt_14_', 'exempt_status_501c_txt_18_',\n",
    "       'exempt_status_501c_txt_19_', 'exempt_status_501c_txt_23_',\n",
    "       'exempt_status_501c_txt_25_', 'exempt_status_501c_txt_26_',\n",
    "       'exempt_status_501c_txt_27_', 'exempt_status_501c_txt_29_',\n",
    "       'exempt_status_501c_txt_2_', 'exempt_status_501c_txt_5_',\n",
    "       'exempt_status_501c_txt_7_', 'exempt_status_501c_txt_8_',\n",
    "       'exempt_status_501c_txt_9_']], axis=1, inplace=True)"
   ]
  },
  {
   "cell_type": "markdown",
   "metadata": {},
   "source": [
    "### 3. Combine asset features"
   ]
  },
  {
   "cell_type": "code",
   "execution_count": 83,
   "metadata": {},
   "outputs": [
    {
     "name": "stdout",
     "output_type": "stream",
     "text": [
      "asset_tot_beginyr\n",
      "asset_net_beginyr\n",
      "asset_tot_endyr\n",
      "asset_net_endyr\n"
     ]
    }
   ],
   "source": [
    "# identify columns\n",
    "for c in df.columns:\n",
    "    if 'asset' in c:\n",
    "        print(c)      "
   ]
  },
  {
   "cell_type": "code",
   "execution_count": 84,
   "metadata": {},
   "outputs": [
    {
     "name": "stdout",
     "output_type": "stream",
     "text": [
      "[0.93264742]\n"
     ]
    }
   ],
   "source": [
    "# combine asset features using pca\n",
    "pca = PCA(n_components=1)\n",
    "df_dummies['asset_PCA'] = pca.fit_transform(\n",
    "         df[['asset_tot_beginyr',\n",
    "        'asset_net_beginyr',\n",
    "        'asset_tot_endyr',\n",
    "        'asset_net_endyr']])                                \n",
    "                                     \n",
    "\n",
    "print(pca.explained_variance_ratio_)"
   ]
  },
  {
   "cell_type": "code",
   "execution_count": 85,
   "metadata": {},
   "outputs": [],
   "source": [
    "# drop features that have been consolidated\n",
    "df_dummies.drop(df_dummies[['asset_tot_beginyr',\n",
    "        'asset_net_beginyr',\n",
    "        'asset_tot_endyr',\n",
    "        'asset_net_endyr']], axis=1, inplace=True)"
   ]
  },
  {
   "cell_type": "code",
   "execution_count": 86,
   "metadata": {},
   "outputs": [
    {
     "data": {
      "text/html": [
       "<div>\n",
       "<style scoped>\n",
       "    .dataframe tbody tr th:only-of-type {\n",
       "        vertical-align: middle;\n",
       "    }\n",
       "\n",
       "    .dataframe tbody tr th {\n",
       "        vertical-align: top;\n",
       "    }\n",
       "\n",
       "    .dataframe thead th {\n",
       "        text-align: right;\n",
       "    }\n",
       "</style>\n",
       "<table border=\"1\" class=\"dataframe\">\n",
       "  <thead>\n",
       "    <tr style=\"text-align: right;\">\n",
       "      <th></th>\n",
       "      <th>gross_receipts</th>\n",
       "      <th>voting_memb_ct</th>\n",
       "      <th>voting_indepmemb_ct</th>\n",
       "      <th>employee_tot_ct</th>\n",
       "      <th>volunteer_tot_ct</th>\n",
       "      <th>income_tot_unrelated</th>\n",
       "      <th>income_net_unrelated</th>\n",
       "      <th>rev_less_expense_prioryr</th>\n",
       "      <th>liability_tot_beginyr</th>\n",
       "      <th>rev_less_expense_curyr</th>\n",
       "      <th>liability_tot_endyr</th>\n",
       "      <th>contractor_100k_ct</th>\n",
       "      <th>CON_CT_DIV_EMP_VOL_CT</th>\n",
       "      <th>CON_EXP_DIV_TOT_EXP</th>\n",
       "      <th>CON_CT_DIV_EMP_VOL_CT_flag</th>\n",
       "      <th>CON_EXP_DIV_TOT_EXP_flag</th>\n",
       "      <th>TARGET_FEATURE</th>\n",
       "      <th>rev_PCA</th>\n",
       "      <th>exp_PCA</th>\n",
       "      <th>exempt_status_501c_txt_3_</th>\n",
       "      <th>exempt_status_501c_txt_4_</th>\n",
       "      <th>exempt_status_501c_txt_6_</th>\n",
       "      <th>asset_PCA</th>\n",
       "    </tr>\n",
       "  </thead>\n",
       "  <tbody>\n",
       "    <tr>\n",
       "      <td>0</td>\n",
       "      <td>15549792</td>\n",
       "      <td>11</td>\n",
       "      <td>11</td>\n",
       "      <td>37</td>\n",
       "      <td>0.0</td>\n",
       "      <td>0</td>\n",
       "      <td>0.0</td>\n",
       "      <td>0.0</td>\n",
       "      <td>26541056.0</td>\n",
       "      <td>0</td>\n",
       "      <td>26785093</td>\n",
       "      <td>3</td>\n",
       "      <td>0.081081</td>\n",
       "      <td>0.061503</td>\n",
       "      <td>True</td>\n",
       "      <td>False</td>\n",
       "      <td>False</td>\n",
       "      <td>-9.230988e+07</td>\n",
       "      <td>-7.560677e+07</td>\n",
       "      <td>0</td>\n",
       "      <td>0</td>\n",
       "      <td>0</td>\n",
       "      <td>-1.689952e+08</td>\n",
       "    </tr>\n",
       "    <tr>\n",
       "      <td>1</td>\n",
       "      <td>9472036</td>\n",
       "      <td>9</td>\n",
       "      <td>8</td>\n",
       "      <td>81</td>\n",
       "      <td>8.0</td>\n",
       "      <td>52565</td>\n",
       "      <td>-75519.0</td>\n",
       "      <td>1000243.0</td>\n",
       "      <td>157544120.0</td>\n",
       "      <td>1262299</td>\n",
       "      <td>170915216</td>\n",
       "      <td>3</td>\n",
       "      <td>0.033708</td>\n",
       "      <td>0.137033</td>\n",
       "      <td>False</td>\n",
       "      <td>False</td>\n",
       "      <td>False</td>\n",
       "      <td>-1.057983e+08</td>\n",
       "      <td>-9.231641e+07</td>\n",
       "      <td>0</td>\n",
       "      <td>0</td>\n",
       "      <td>0</td>\n",
       "      <td>1.155939e+07</td>\n",
       "    </tr>\n",
       "    <tr>\n",
       "      <td>2</td>\n",
       "      <td>8503978</td>\n",
       "      <td>21</td>\n",
       "      <td>19</td>\n",
       "      <td>53</td>\n",
       "      <td>200.0</td>\n",
       "      <td>16110</td>\n",
       "      <td>0.0</td>\n",
       "      <td>-55531.0</td>\n",
       "      <td>820701.0</td>\n",
       "      <td>69972</td>\n",
       "      <td>852359</td>\n",
       "      <td>3</td>\n",
       "      <td>0.011858</td>\n",
       "      <td>0.053652</td>\n",
       "      <td>False</td>\n",
       "      <td>False</td>\n",
       "      <td>False</td>\n",
       "      <td>-1.072903e+08</td>\n",
       "      <td>-9.229491e+07</td>\n",
       "      <td>0</td>\n",
       "      <td>0</td>\n",
       "      <td>0</td>\n",
       "      <td>-2.203612e+08</td>\n",
       "    </tr>\n",
       "    <tr>\n",
       "      <td>3</td>\n",
       "      <td>57422298</td>\n",
       "      <td>8</td>\n",
       "      <td>7</td>\n",
       "      <td>442</td>\n",
       "      <td>15.0</td>\n",
       "      <td>0</td>\n",
       "      <td>0.0</td>\n",
       "      <td>2553132.0</td>\n",
       "      <td>13230564.0</td>\n",
       "      <td>90630</td>\n",
       "      <td>12198910</td>\n",
       "      <td>8</td>\n",
       "      <td>0.017505</td>\n",
       "      <td>0.039592</td>\n",
       "      <td>False</td>\n",
       "      <td>False</td>\n",
       "      <td>False</td>\n",
       "      <td>-1.765087e+07</td>\n",
       "      <td>-1.757254e+07</td>\n",
       "      <td>1</td>\n",
       "      <td>0</td>\n",
       "      <td>0</td>\n",
       "      <td>-1.258835e+08</td>\n",
       "    </tr>\n",
       "    <tr>\n",
       "      <td>4</td>\n",
       "      <td>5974176</td>\n",
       "      <td>12</td>\n",
       "      <td>12</td>\n",
       "      <td>139</td>\n",
       "      <td>50.0</td>\n",
       "      <td>2437</td>\n",
       "      <td>1437.0</td>\n",
       "      <td>344252.0</td>\n",
       "      <td>3104088.0</td>\n",
       "      <td>745724</td>\n",
       "      <td>3089889</td>\n",
       "      <td>1</td>\n",
       "      <td>0.005291</td>\n",
       "      <td>0.039945</td>\n",
       "      <td>False</td>\n",
       "      <td>False</td>\n",
       "      <td>False</td>\n",
       "      <td>-1.162458e+08</td>\n",
       "      <td>-9.964548e+07</td>\n",
       "      <td>0</td>\n",
       "      <td>0</td>\n",
       "      <td>0</td>\n",
       "      <td>-2.092514e+08</td>\n",
       "    </tr>\n",
       "  </tbody>\n",
       "</table>\n",
       "</div>"
      ],
      "text/plain": [
       "   gross_receipts  voting_memb_ct  voting_indepmemb_ct  employee_tot_ct  \\\n",
       "0        15549792              11                   11               37   \n",
       "1         9472036               9                    8               81   \n",
       "2         8503978              21                   19               53   \n",
       "3        57422298               8                    7              442   \n",
       "4         5974176              12                   12              139   \n",
       "\n",
       "   volunteer_tot_ct  income_tot_unrelated  income_net_unrelated  \\\n",
       "0               0.0                     0                   0.0   \n",
       "1               8.0                 52565              -75519.0   \n",
       "2             200.0                 16110                   0.0   \n",
       "3              15.0                     0                   0.0   \n",
       "4              50.0                  2437                1437.0   \n",
       "\n",
       "   rev_less_expense_prioryr  liability_tot_beginyr  rev_less_expense_curyr  \\\n",
       "0                       0.0             26541056.0                       0   \n",
       "1                 1000243.0            157544120.0                 1262299   \n",
       "2                  -55531.0               820701.0                   69972   \n",
       "3                 2553132.0             13230564.0                   90630   \n",
       "4                  344252.0              3104088.0                  745724   \n",
       "\n",
       "   liability_tot_endyr  contractor_100k_ct  CON_CT_DIV_EMP_VOL_CT  \\\n",
       "0             26785093                   3               0.081081   \n",
       "1            170915216                   3               0.033708   \n",
       "2               852359                   3               0.011858   \n",
       "3             12198910                   8               0.017505   \n",
       "4              3089889                   1               0.005291   \n",
       "\n",
       "   CON_EXP_DIV_TOT_EXP  CON_CT_DIV_EMP_VOL_CT_flag  CON_EXP_DIV_TOT_EXP_flag  \\\n",
       "0             0.061503                        True                     False   \n",
       "1             0.137033                       False                     False   \n",
       "2             0.053652                       False                     False   \n",
       "3             0.039592                       False                     False   \n",
       "4             0.039945                       False                     False   \n",
       "\n",
       "   TARGET_FEATURE       rev_PCA       exp_PCA  exempt_status_501c_txt_3_  \\\n",
       "0           False -9.230988e+07 -7.560677e+07                          0   \n",
       "1           False -1.057983e+08 -9.231641e+07                          0   \n",
       "2           False -1.072903e+08 -9.229491e+07                          0   \n",
       "3           False -1.765087e+07 -1.757254e+07                          1   \n",
       "4           False -1.162458e+08 -9.964548e+07                          0   \n",
       "\n",
       "   exempt_status_501c_txt_4_  exempt_status_501c_txt_6_     asset_PCA  \n",
       "0                          0                          0 -1.689952e+08  \n",
       "1                          0                          0  1.155939e+07  \n",
       "2                          0                          0 -2.203612e+08  \n",
       "3                          0                          0 -1.258835e+08  \n",
       "4                          0                          0 -2.092514e+08  "
      ]
     },
     "execution_count": 86,
     "metadata": {},
     "output_type": "execute_result"
    }
   ],
   "source": [
    "df_dummies.head()"
   ]
  },
  {
   "cell_type": "code",
   "execution_count": 87,
   "metadata": {},
   "outputs": [],
   "source": [
    "# create features for classification\n",
    "# while removing those I created in designing\n",
    "# my target variable\n",
    "X = df_dummies.drop(['TARGET_FEATURE',\n",
    "            'CON_CT_DIV_EMP_VOL_CT_flag', \n",
    "             'CON_EXP_DIV_TOT_EXP_flag',\n",
    "            'CON_CT_DIV_EMP_VOL_CT',\n",
    "            'CON_EXP_DIV_TOT_EXP',\n",
    "            'volunteer_tot_ct',\n",
    "            'employee_tot_ct',\n",
    "            'contractor_100k_ct'], axis=1)\n",
    "\n",
    "# create target for classification\n",
    "y = df.TARGET_FEATURE"
   ]
  },
  {
   "cell_type": "code",
   "execution_count": 88,
   "metadata": {},
   "outputs": [],
   "source": [
    "# split data for training and testing\n",
    "X_train, X_test, y_train, y_test = train_test_split(X, y, test_size=0.2, random_state=0)"
   ]
  },
  {
   "cell_type": "markdown",
   "metadata": {},
   "source": [
    "### Random Forrest Classifier \n"
   ]
  },
  {
   "cell_type": "code",
   "execution_count": 89,
   "metadata": {},
   "outputs": [
    {
     "data": {
      "text/plain": [
       "array([0.89548075, 0.89324902, 0.89341518, 0.89583333, 0.89767442])"
      ]
     },
     "execution_count": 89,
     "metadata": {},
     "output_type": "execute_result"
    }
   ],
   "source": [
    "# create model, check for overfitting\n",
    "rfc = ensemble.RandomForestClassifier(n_estimators=100, max_depth=8)\n",
    "\n",
    "cross_val_score(rfc, X, y, cv=5)"
   ]
  },
  {
   "cell_type": "code",
   "execution_count": 90,
   "metadata": {},
   "outputs": [
    {
     "name": "stdout",
     "output_type": "stream",
     "text": [
      "Training set accuracy:\n",
      "Percent Type I errors: 0.002139136904761905\n",
      "Percent Type II errors: 0.09216889880952381\n",
      "\n",
      "Test set accuracy:\n",
      "Percent Type I errors: 0.0059512739445787615\n",
      "Percent Type II errors: 0.0922447461409708\n"
     ]
    }
   ],
   "source": [
    "rfc.fit(X_train, y_train)\n",
    "\n",
    "predict_train = rfc.predict(X_train)\n",
    "predict_test = rfc.predict(X_test)\n",
    "\n",
    "# Accuracy tables\n",
    "table_train = pd.crosstab(y_train, predict_train, margins=True)\n",
    "table_test = pd.crosstab(y_test, predict_test, margins=True)\n",
    "\n",
    "train_tI_errors = table_train.loc[0.0,1.0] / table_train.loc['All','All']\n",
    "train_tII_errors = table_train.loc[1.0,0.0] / table_train.loc['All','All']\n",
    "\n",
    "test_tI_errors = table_test.loc[0.0,1.0]/table_test.loc['All','All']\n",
    "test_tII_errors = table_test.loc[1.0,0.0]/table_test.loc['All','All']\n",
    "\n",
    "print((\n",
    "    'Training set accuracy:\\n'\n",
    "    'Percent Type I errors: {}\\n'\n",
    "    'Percent Type II errors: {}\\n\\n'\n",
    "    'Test set accuracy:\\n'\n",
    "    'Percent Type I errors: {}\\n'\n",
    "    'Percent Type II errors: {}'\n",
    ").format(train_tI_errors, train_tII_errors, test_tI_errors, test_tII_errors))"
   ]
  },
  {
   "cell_type": "code",
   "execution_count": 91,
   "metadata": {},
   "outputs": [
    {
     "data": {
      "text/html": [
       "<div>\n",
       "<style scoped>\n",
       "    .dataframe tbody tr th:only-of-type {\n",
       "        vertical-align: middle;\n",
       "    }\n",
       "\n",
       "    .dataframe tbody tr th {\n",
       "        vertical-align: top;\n",
       "    }\n",
       "\n",
       "    .dataframe thead th {\n",
       "        text-align: right;\n",
       "    }\n",
       "</style>\n",
       "<table border=\"1\" class=\"dataframe\">\n",
       "  <thead>\n",
       "    <tr style=\"text-align: right;\">\n",
       "      <th></th>\n",
       "      <th>Predicted: No</th>\n",
       "      <th>Predicted: Yes</th>\n",
       "    </tr>\n",
       "  </thead>\n",
       "  <tbody>\n",
       "    <tr>\n",
       "      <td>Actual: No</td>\n",
       "      <td>19098</td>\n",
       "      <td>46</td>\n",
       "    </tr>\n",
       "    <tr>\n",
       "      <td>Actual: Yes</td>\n",
       "      <td>1982</td>\n",
       "      <td>378</td>\n",
       "    </tr>\n",
       "  </tbody>\n",
       "</table>\n",
       "</div>"
      ],
      "text/plain": [
       "             Predicted: No  Predicted: Yes\n",
       "Actual: No           19098              46\n",
       "Actual: Yes           1982             378"
      ]
     },
     "execution_count": 91,
     "metadata": {},
     "output_type": "execute_result"
    }
   ],
   "source": [
    "# training results\n",
    "pd.DataFrame(data=confusion_matrix(y_train, predict_train)[:,:],    \n",
    "              index= ['Actual: No', 'Actual: Yes'],\n",
    "    columns= ['Predicted: No', 'Predicted: Yes'])"
   ]
  },
  {
   "cell_type": "code",
   "execution_count": 92,
   "metadata": {},
   "outputs": [
    {
     "data": {
      "text/html": [
       "<div>\n",
       "<style scoped>\n",
       "    .dataframe tbody tr th:only-of-type {\n",
       "        vertical-align: middle;\n",
       "    }\n",
       "\n",
       "    .dataframe tbody tr th {\n",
       "        vertical-align: top;\n",
       "    }\n",
       "\n",
       "    .dataframe thead th {\n",
       "        text-align: right;\n",
       "    }\n",
       "</style>\n",
       "<table border=\"1\" class=\"dataframe\">\n",
       "  <thead>\n",
       "    <tr style=\"text-align: right;\">\n",
       "      <th></th>\n",
       "      <th>Predicted: No</th>\n",
       "      <th>Predicted: Yes</th>\n",
       "    </tr>\n",
       "  </thead>\n",
       "  <tbody>\n",
       "    <tr>\n",
       "      <td>Actual: No</td>\n",
       "      <td>4796</td>\n",
       "      <td>32</td>\n",
       "    </tr>\n",
       "    <tr>\n",
       "      <td>Actual: Yes</td>\n",
       "      <td>496</td>\n",
       "      <td>53</td>\n",
       "    </tr>\n",
       "  </tbody>\n",
       "</table>\n",
       "</div>"
      ],
      "text/plain": [
       "             Predicted: No  Predicted: Yes\n",
       "Actual: No            4796              32\n",
       "Actual: Yes            496              53"
      ]
     },
     "execution_count": 92,
     "metadata": {},
     "output_type": "execute_result"
    }
   ],
   "source": [
    "# testing results\n",
    "pd.DataFrame(data=confusion_matrix(y_test, predict_test)[:,:],    \n",
    "              index= ['Actual: No', 'Actual: Yes'],\n",
    "    columns= ['Predicted: No', 'Predicted: Yes'])"
   ]
  },
  {
   "cell_type": "code",
   "execution_count": 93,
   "metadata": {},
   "outputs": [
    {
     "data": {
      "image/png": "[encoded data removed]",
      "text/plain": [
       "<Figure size 720x360 with 1 Axes>"
      ]
     },
     "metadata": {
      "needs_background": "light"
     },
     "output_type": "display_data"
    }
   ],
   "source": [
    "# visualize feature importances\n",
    "plt.figure(figsize=(10, 5))\n",
    "\n",
    "feature_importance = 100.0 * (rfc.feature_importances_ / rfc.feature_importances_.max())\n",
    "sorted_idx = np.argsort(feature_importance)\n",
    "pos = np.arange(sorted_idx.shape[0]) + .5\n",
    "plt.subplot(1, 2, 2)\n",
    "plt.barh(pos, feature_importance[sorted_idx], align='center')\n",
    "plt.yticks(pos, X.columns[sorted_idx])\n",
    "plt.xlabel('Relative Importance')\n",
    "plt.title('Variable Importance');"
   ]
  },
  {
   "cell_type": "markdown",
   "metadata": {},
   "source": [
    "\n",
    "### KNN Classifier"
   ]
  },
  {
   "cell_type": "code",
   "execution_count": 94,
   "metadata": {},
   "outputs": [
    {
     "data": {
      "text/plain": [
       "KNeighborsClassifier(algorithm='auto', leaf_size=1, metric='minkowski',\n",
       "                     metric_params=None, n_jobs=None, n_neighbors=110, p=2,\n",
       "                     weights='uniform')"
      ]
     },
     "execution_count": 94,
     "metadata": {},
     "output_type": "execute_result"
    }
   ],
   "source": [
    "# fit model based on optimized parameters\n",
    "knn_clf = KNeighborsClassifier(leaf_size= 1, n_neighbors= 110)\n",
    "\n",
    "knn_clf.fit(X_train, y_train)"
   ]
  },
  {
   "cell_type": "code",
   "execution_count": 95,
   "metadata": {},
   "outputs": [
    {
     "data": {
      "text/plain": [
       "KNeighborsClassifier(algorithm='auto', leaf_size=1, metric='minkowski',\n",
       "                     metric_params=None, n_jobs=None, n_neighbors=110, p=2,\n",
       "                     weights='uniform')"
      ]
     },
     "execution_count": 95,
     "metadata": {},
     "output_type": "execute_result"
    }
   ],
   "source": [
    "knn_clf.fit(X_train, y_train)"
   ]
  },
  {
   "cell_type": "code",
   "execution_count": 96,
   "metadata": {},
   "outputs": [
    {
     "name": "stdout",
     "output_type": "stream",
     "text": [
      "Training set accuracy:\n",
      "Percent Type I errors: 0.0023251488095238095\n",
      "Percent Type II errors: 0.10546875\n",
      "\n",
      "Test set accuracy:\n",
      "Percent Type I errors: 0.0020457504184489494\n",
      "Percent Type II errors: 0.09819602008554956\n"
     ]
    }
   ],
   "source": [
    "predict_train = knn_clf.predict(X_train)\n",
    "predict_test = knn_clf.predict(X_test)\n",
    "\n",
    "# Accuracy tables\n",
    "table_train = pd.crosstab(y_train, predict_train, margins=True)\n",
    "table_test = pd.crosstab(y_test, predict_test, margins=True)\n",
    "\n",
    "train_tI_errors = table_train.loc[0.0,1.0] / table_train.loc['All','All']\n",
    "train_tII_errors = table_train.loc[1.0,0.0] / table_train.loc['All','All']\n",
    "\n",
    "test_tI_errors = table_test.loc[0.0,1.0]/table_test.loc['All','All']\n",
    "test_tII_errors = table_test.loc[1.0,0.0]/table_test.loc['All','All']\n",
    "\n",
    "print((\n",
    "    'Training set accuracy:\\n'\n",
    "    'Percent Type I errors: {}\\n'\n",
    "    'Percent Type II errors: {}\\n\\n'\n",
    "    'Test set accuracy:\\n'\n",
    "    'Percent Type I errors: {}\\n'\n",
    "    'Percent Type II errors: {}'\n",
    ").format(train_tI_errors, train_tII_errors, test_tI_errors, test_tII_errors))"
   ]
  },
  {
   "cell_type": "code",
   "execution_count": 97,
   "metadata": {},
   "outputs": [
    {
     "data": {
      "text/html": [
       "<div>\n",
       "<style scoped>\n",
       "    .dataframe tbody tr th:only-of-type {\n",
       "        vertical-align: middle;\n",
       "    }\n",
       "\n",
       "    .dataframe tbody tr th {\n",
       "        vertical-align: top;\n",
       "    }\n",
       "\n",
       "    .dataframe thead th {\n",
       "        text-align: right;\n",
       "    }\n",
       "</style>\n",
       "<table border=\"1\" class=\"dataframe\">\n",
       "  <thead>\n",
       "    <tr style=\"text-align: right;\">\n",
       "      <th></th>\n",
       "      <th>Predicted: No</th>\n",
       "      <th>Predicted: Yes</th>\n",
       "    </tr>\n",
       "  </thead>\n",
       "  <tbody>\n",
       "    <tr>\n",
       "      <td>Actual: No</td>\n",
       "      <td>19094</td>\n",
       "      <td>50</td>\n",
       "    </tr>\n",
       "    <tr>\n",
       "      <td>Actual: Yes</td>\n",
       "      <td>2268</td>\n",
       "      <td>92</td>\n",
       "    </tr>\n",
       "  </tbody>\n",
       "</table>\n",
       "</div>"
      ],
      "text/plain": [
       "             Predicted: No  Predicted: Yes\n",
       "Actual: No           19094              50\n",
       "Actual: Yes           2268              92"
      ]
     },
     "execution_count": 97,
     "metadata": {},
     "output_type": "execute_result"
    }
   ],
   "source": [
    "pd.DataFrame(data=confusion_matrix(y_train, predict_train)[:,:],    \n",
    "              index= ['Actual: No', 'Actual: Yes'],\n",
    "    columns= ['Predicted: No', 'Predicted: Yes'])"
   ]
  },
  {
   "cell_type": "code",
   "execution_count": 98,
   "metadata": {},
   "outputs": [
    {
     "data": {
      "text/html": [
       "<div>\n",
       "<style scoped>\n",
       "    .dataframe tbody tr th:only-of-type {\n",
       "        vertical-align: middle;\n",
       "    }\n",
       "\n",
       "    .dataframe tbody tr th {\n",
       "        vertical-align: top;\n",
       "    }\n",
       "\n",
       "    .dataframe thead th {\n",
       "        text-align: right;\n",
       "    }\n",
       "</style>\n",
       "<table border=\"1\" class=\"dataframe\">\n",
       "  <thead>\n",
       "    <tr style=\"text-align: right;\">\n",
       "      <th></th>\n",
       "      <th>Predicted: No</th>\n",
       "      <th>Predicted: Yes</th>\n",
       "    </tr>\n",
       "  </thead>\n",
       "  <tbody>\n",
       "    <tr>\n",
       "      <td>Actual: No</td>\n",
       "      <td>4817</td>\n",
       "      <td>11</td>\n",
       "    </tr>\n",
       "    <tr>\n",
       "      <td>Actual: Yes</td>\n",
       "      <td>528</td>\n",
       "      <td>21</td>\n",
       "    </tr>\n",
       "  </tbody>\n",
       "</table>\n",
       "</div>"
      ],
      "text/plain": [
       "             Predicted: No  Predicted: Yes\n",
       "Actual: No            4817              11\n",
       "Actual: Yes            528              21"
      ]
     },
     "execution_count": 98,
     "metadata": {},
     "output_type": "execute_result"
    }
   ],
   "source": [
    "pd.DataFrame(data=confusion_matrix(y_test, predict_test)[:,:],    \n",
    "              index= ['Actual: No', 'Actual: Yes'],\n",
    "    columns= ['Predicted: No', 'Predicted: Yes'])"
   ]
  },
  {
   "cell_type": "markdown",
   "metadata": {},
   "source": [
    "### Gradient Boost Classifier"
   ]
  },
  {
   "cell_type": "code",
   "execution_count": 99,
   "metadata": {},
   "outputs": [
    {
     "data": {
      "text/plain": [
       "array([0.89417891, 0.89083132, 0.88671875, 0.89285714, 0.89376744])"
      ]
     },
     "execution_count": 99,
     "metadata": {},
     "output_type": "execute_result"
    }
   ],
   "source": [
    "# Initialize and fit the model.\n",
    "params = {'n_estimators': 950,\n",
    "          'max_depth': 2,\n",
    "          'subsample': .8,\n",
    "          'learning_rate': .1,\n",
    "          'loss': 'deviance'}\n",
    "\n",
    "clf = ensemble.GradientBoostingClassifier(**params)\n",
    "\n",
    "clf.fit(X_train, y_train)\n",
    "cross_val_score(clf, X, y, cv=5)"
   ]
  },
  {
   "cell_type": "code",
   "execution_count": 100,
   "metadata": {},
   "outputs": [
    {
     "name": "stdout",
     "output_type": "stream",
     "text": [
      "Training set accuracy:\n",
      "Percent Type I errors: 0.007672991071428571\n",
      "Percent Type II errors: 0.09314546130952381\n",
      "\n",
      "Test set accuracy:\n",
      "Percent Type I errors: 0.010228752092244746\n",
      "Percent Type II errors: 0.08647944950716013\n"
     ]
    }
   ],
   "source": [
    "# using the best results from above\n",
    "# run the model\n",
    "params = {'n_estimators': 500,\n",
    "          'max_depth': 2,\n",
    "          'subsample': .2,\n",
    "          'learning_rate': .05,\n",
    "          'loss': 'deviance'}\n",
    "\n",
    "# Initialize and fit the model.\n",
    "clf = ensemble.GradientBoostingClassifier(**params)\n",
    "clf.fit(X_train, y_train)\n",
    "\n",
    "predict_train = clf.predict(X_train)\n",
    "predict_test = clf.predict(X_test)\n",
    "\n",
    "# Accuracy tables\n",
    "table_train = pd.crosstab(y_train, predict_train, margins=True)\n",
    "table_test = pd.crosstab(y_test, predict_test, margins=True)\n",
    "\n",
    "train_tI_errors = table_train.loc[0.0,1.0] / table_train.loc['All','All']\n",
    "train_tII_errors = table_train.loc[1.0,0.0] / table_train.loc['All','All']\n",
    "\n",
    "test_tI_errors = table_test.loc[0.0,1.0]/table_test.loc['All','All']\n",
    "test_tII_errors = table_test.loc[1.0,0.0]/table_test.loc['All','All']\n",
    "\n",
    "print((\n",
    "    'Training set accuracy:\\n'\n",
    "    'Percent Type I errors: {}\\n'\n",
    "    'Percent Type II errors: {}\\n\\n'\n",
    "    'Test set accuracy:\\n'\n",
    "    'Percent Type I errors: {}\\n'\n",
    "    'Percent Type II errors: {}'\n",
    ").format(train_tI_errors, train_tII_errors, test_tI_errors, test_tII_errors))"
   ]
  },
  {
   "cell_type": "code",
   "execution_count": 101,
   "metadata": {},
   "outputs": [
    {
     "data": {
      "text/html": [
       "<div>\n",
       "<style scoped>\n",
       "    .dataframe tbody tr th:only-of-type {\n",
       "        vertical-align: middle;\n",
       "    }\n",
       "\n",
       "    .dataframe tbody tr th {\n",
       "        vertical-align: top;\n",
       "    }\n",
       "\n",
       "    .dataframe thead th {\n",
       "        text-align: right;\n",
       "    }\n",
       "</style>\n",
       "<table border=\"1\" class=\"dataframe\">\n",
       "  <thead>\n",
       "    <tr style=\"text-align: right;\">\n",
       "      <th></th>\n",
       "      <th>Predicted: No</th>\n",
       "      <th>Predicted: Yes</th>\n",
       "    </tr>\n",
       "  </thead>\n",
       "  <tbody>\n",
       "    <tr>\n",
       "      <td>Actual: No</td>\n",
       "      <td>18979</td>\n",
       "      <td>165</td>\n",
       "    </tr>\n",
       "    <tr>\n",
       "      <td>Actual: Yes</td>\n",
       "      <td>2003</td>\n",
       "      <td>357</td>\n",
       "    </tr>\n",
       "  </tbody>\n",
       "</table>\n",
       "</div>"
      ],
      "text/plain": [
       "             Predicted: No  Predicted: Yes\n",
       "Actual: No           18979             165\n",
       "Actual: Yes           2003             357"
      ]
     },
     "execution_count": 101,
     "metadata": {},
     "output_type": "execute_result"
    }
   ],
   "source": [
    "pd.DataFrame(data=confusion_matrix(y_train, predict_train)[:,:],    \n",
    "              index= ['Actual: No', 'Actual: Yes'],\n",
    "    columns= ['Predicted: No', 'Predicted: Yes'])"
   ]
  },
  {
   "cell_type": "code",
   "execution_count": 102,
   "metadata": {},
   "outputs": [
    {
     "data": {
      "text/html": [
       "<div>\n",
       "<style scoped>\n",
       "    .dataframe tbody tr th:only-of-type {\n",
       "        vertical-align: middle;\n",
       "    }\n",
       "\n",
       "    .dataframe tbody tr th {\n",
       "        vertical-align: top;\n",
       "    }\n",
       "\n",
       "    .dataframe thead th {\n",
       "        text-align: right;\n",
       "    }\n",
       "</style>\n",
       "<table border=\"1\" class=\"dataframe\">\n",
       "  <thead>\n",
       "    <tr style=\"text-align: right;\">\n",
       "      <th></th>\n",
       "      <th>Predicted: No</th>\n",
       "      <th>Predicted: Yes</th>\n",
       "    </tr>\n",
       "  </thead>\n",
       "  <tbody>\n",
       "    <tr>\n",
       "      <td>Actual: No</td>\n",
       "      <td>4773</td>\n",
       "      <td>55</td>\n",
       "    </tr>\n",
       "    <tr>\n",
       "      <td>Actual: Yes</td>\n",
       "      <td>465</td>\n",
       "      <td>84</td>\n",
       "    </tr>\n",
       "  </tbody>\n",
       "</table>\n",
       "</div>"
      ],
      "text/plain": [
       "             Predicted: No  Predicted: Yes\n",
       "Actual: No            4773              55\n",
       "Actual: Yes            465              84"
      ]
     },
     "execution_count": 102,
     "metadata": {},
     "output_type": "execute_result"
    }
   ],
   "source": [
    "pd.DataFrame(data=confusion_matrix(y_test, predict_test)[:,:],    \n",
    "              index= ['Actual: No', 'Actual: Yes'],\n",
    "    columns= ['Predicted: No', 'Predicted: Yes'])"
   ]
  },
  {
   "cell_type": "markdown",
   "metadata": {},
   "source": [
    "Compared with first iteration, type I errors decreased, but type II errors increased"
   ]
  },
  {
   "cell_type": "code",
   "execution_count": 103,
   "metadata": {},
   "outputs": [
    {
     "data": {
      "image/png": "[encoded data removed]",
      "text/plain": [
       "<Figure size 720x360 with 1 Axes>"
      ]
     },
     "metadata": {
      "needs_background": "light"
     },
     "output_type": "display_data"
    }
   ],
   "source": [
    "# visualize feature importances\n",
    "plt.figure(figsize=(10, 5))\n",
    "\n",
    "feature_importance = 100.0 * (clf.feature_importances_ / clf.feature_importances_.max())\n",
    "sorted_idx = np.argsort(feature_importance)\n",
    "pos = np.arange(sorted_idx.shape[0]) + .5\n",
    "plt.subplot(1, 2, 2)\n",
    "plt.barh(pos, feature_importance[sorted_idx], align='center')\n",
    "plt.yticks(pos, X.columns[sorted_idx])\n",
    "plt.xlabel('Relative Importance')\n",
    "plt.title('Variable Importance');"
   ]
  },
  {
   "cell_type": "markdown",
   "metadata": {},
   "source": [
    "### Export data for further feature iteration"
   ]
  },
  {
   "cell_type": "code",
   "execution_count": 104,
   "metadata": {},
   "outputs": [],
   "source": [
    "df_dummies.to_csv('data/990_model_data_4.csv', index=None, header=True)"
   ]
  }
 ],
 "metadata": {
  "kernelspec": {
   "display_name": "Python 3",
   "language": "python",
   "name": "python3"
  },
  "language_info": {
   "codemirror_mode": {
    "name": "ipython",
    "version": 3
   },
   "file_extension": ".py",
   "mimetype": "text/x-python",
   "name": "python",
   "nbconvert_exporter": "python",
   "pygments_lexer": "ipython3",
   "version": "3.7.3"
  }
 },
 "nbformat": 4,
 "nbformat_minor": 4
}
