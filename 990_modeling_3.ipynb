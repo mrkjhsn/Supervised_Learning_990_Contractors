{
 "cells": [
  {
   "cell_type": "markdown",
   "metadata": {},
   "source": [
    "## Machine learning modeling - Iteration #3"
   ]
  },
  {
   "cell_type": "code",
   "execution_count": 1,
   "metadata": {},
   "outputs": [],
   "source": [
    "import csv\n",
    "import numpy as np\n",
    "import pandas as pd\n",
    "import matplotlib.pyplot as plt\n",
    "import seaborn as sns\n",
    "import warnings\n",
    "warnings.simplefilter(action='ignore', category=FutureWarning)\n",
    "pd.set_option('display.max_columns', None)\n",
    "pd.set_option('display.max_rows', None)\n",
    "\n",
    "from scipy.stats.mstats import winsorize\n",
    "from scipy.stats import zscore, stats\n",
    "from math import ceil\n",
    "import jenkspy\n",
    "import statsmodels\n",
    "import statsmodels.api as sm\n",
    "\n",
    "# ml modules\n",
    "from sklearn.decomposition import PCA\n",
    "from sklearn.ensemble import RandomForestRegressor\n",
    "from sklearn.ensemble import GradientBoostingClassifier\n",
    "from sklearn.metrics import confusion_matrix\n",
    "from sklearn import ensemble\n",
    "from sklearn.model_selection import cross_val_score, train_test_split\n",
    "from sklearn.model_selection import GridSearchCV\n",
    "from sklearn.svm import SVC"
   ]
  },
  {
   "cell_type": "code",
   "execution_count": 2,
   "metadata": {},
   "outputs": [],
   "source": [
    "# read in 990 data that has been\n",
    "# with features already adjusted in first iteration\n",
    "df = pd.read_csv('data/990_model_data_3.csv')"
   ]
  },
  {
   "cell_type": "code",
   "execution_count": 3,
   "metadata": {},
   "outputs": [
    {
     "data": {
      "text/plain": [
       "(26881, 28)"
      ]
     },
     "execution_count": 3,
     "metadata": {},
     "output_type": "execute_result"
    }
   ],
   "source": [
    "df.shape"
   ]
  },
  {
   "cell_type": "code",
   "execution_count": 4,
   "metadata": {},
   "outputs": [
    {
     "data": {
      "text/html": [
       "<div>\n",
       "<style scoped>\n",
       "    .dataframe tbody tr th:only-of-type {\n",
       "        vertical-align: middle;\n",
       "    }\n",
       "\n",
       "    .dataframe tbody tr th {\n",
       "        vertical-align: top;\n",
       "    }\n",
       "\n",
       "    .dataframe thead th {\n",
       "        text-align: right;\n",
       "    }\n",
       "</style>\n",
       "<table border=\"1\" class=\"dataframe\">\n",
       "  <thead>\n",
       "    <tr style=\"text-align: right;\">\n",
       "      <th></th>\n",
       "      <th>org_form_corp</th>\n",
       "      <th>org_form_trust</th>\n",
       "      <th>org_form_association</th>\n",
       "      <th>org_form_other_form</th>\n",
       "      <th>exempt_status_501c_txt</th>\n",
       "      <th>gross_receipts</th>\n",
       "      <th>voting_memb_ct</th>\n",
       "      <th>voting_indepmemb_ct</th>\n",
       "      <th>employee_tot_ct</th>\n",
       "      <th>volunteer_tot_ct</th>\n",
       "      <th>income_tot_unrelated</th>\n",
       "      <th>income_net_unrelated</th>\n",
       "      <th>rev_less_expense_prioryr</th>\n",
       "      <th>asset_tot_beginyr</th>\n",
       "      <th>liability_tot_beginyr</th>\n",
       "      <th>asset_net_beginyr</th>\n",
       "      <th>rev_less_expense_curyr</th>\n",
       "      <th>asset_tot_endyr</th>\n",
       "      <th>liability_tot_endyr</th>\n",
       "      <th>asset_net_endyr</th>\n",
       "      <th>contractor_100k_ct</th>\n",
       "      <th>CON_CT_DIV_EMP_VOL_CT</th>\n",
       "      <th>CON_EXP_DIV_TOT_EXP</th>\n",
       "      <th>CON_CT_DIV_EMP_VOL_CT_flag</th>\n",
       "      <th>CON_EXP_DIV_TOT_EXP_flag</th>\n",
       "      <th>TARGET_FEATURE</th>\n",
       "      <th>rev_PCA</th>\n",
       "      <th>exp_PCA</th>\n",
       "    </tr>\n",
       "  </thead>\n",
       "  <tbody>\n",
       "    <tr>\n",
       "      <td>0</td>\n",
       "      <td>True</td>\n",
       "      <td>False</td>\n",
       "      <td>False</td>\n",
       "      <td>False</td>\n",
       "      <td>12_</td>\n",
       "      <td>15549792.0</td>\n",
       "      <td>11</td>\n",
       "      <td>11</td>\n",
       "      <td>37</td>\n",
       "      <td>0.0</td>\n",
       "      <td>0.0</td>\n",
       "      <td>0.0</td>\n",
       "      <td>0.0</td>\n",
       "      <td>39372255.0</td>\n",
       "      <td>26541056.0</td>\n",
       "      <td>12831199.0</td>\n",
       "      <td>0.0</td>\n",
       "      <td>39367859.0</td>\n",
       "      <td>26785093.0</td>\n",
       "      <td>12582766.0</td>\n",
       "      <td>3</td>\n",
       "      <td>0.081081</td>\n",
       "      <td>0.061503</td>\n",
       "      <td>True</td>\n",
       "      <td>False</td>\n",
       "      <td>False</td>\n",
       "      <td>-9.230988e+07</td>\n",
       "      <td>-7.560677e+07</td>\n",
       "    </tr>\n",
       "    <tr>\n",
       "      <td>1</td>\n",
       "      <td>True</td>\n",
       "      <td>False</td>\n",
       "      <td>False</td>\n",
       "      <td>False</td>\n",
       "      <td>14_</td>\n",
       "      <td>9472036.0</td>\n",
       "      <td>9</td>\n",
       "      <td>8</td>\n",
       "      <td>81</td>\n",
       "      <td>8.0</td>\n",
       "      <td>52565.0</td>\n",
       "      <td>-75519.0</td>\n",
       "      <td>1000243.0</td>\n",
       "      <td>173898488.0</td>\n",
       "      <td>157544120.0</td>\n",
       "      <td>16354368.0</td>\n",
       "      <td>1262299.0</td>\n",
       "      <td>188534687.0</td>\n",
       "      <td>170915216.0</td>\n",
       "      <td>17619471.0</td>\n",
       "      <td>3</td>\n",
       "      <td>0.033708</td>\n",
       "      <td>0.137033</td>\n",
       "      <td>False</td>\n",
       "      <td>False</td>\n",
       "      <td>False</td>\n",
       "      <td>-1.057983e+08</td>\n",
       "      <td>-9.231641e+07</td>\n",
       "    </tr>\n",
       "    <tr>\n",
       "      <td>2</td>\n",
       "      <td>True</td>\n",
       "      <td>False</td>\n",
       "      <td>False</td>\n",
       "      <td>False</td>\n",
       "      <td>5_</td>\n",
       "      <td>8503978.0</td>\n",
       "      <td>21</td>\n",
       "      <td>19</td>\n",
       "      <td>53</td>\n",
       "      <td>200.0</td>\n",
       "      <td>16110.0</td>\n",
       "      <td>0.0</td>\n",
       "      <td>-55531.0</td>\n",
       "      <td>3510564.0</td>\n",
       "      <td>820701.0</td>\n",
       "      <td>2689863.0</td>\n",
       "      <td>69972.0</td>\n",
       "      <td>3640881.0</td>\n",
       "      <td>852359.0</td>\n",
       "      <td>2788522.0</td>\n",
       "      <td>3</td>\n",
       "      <td>0.011858</td>\n",
       "      <td>0.053652</td>\n",
       "      <td>False</td>\n",
       "      <td>False</td>\n",
       "      <td>False</td>\n",
       "      <td>-1.072903e+08</td>\n",
       "      <td>-9.229491e+07</td>\n",
       "    </tr>\n",
       "    <tr>\n",
       "      <td>3</td>\n",
       "      <td>True</td>\n",
       "      <td>False</td>\n",
       "      <td>False</td>\n",
       "      <td>False</td>\n",
       "      <td>3_</td>\n",
       "      <td>57422298.0</td>\n",
       "      <td>8</td>\n",
       "      <td>7</td>\n",
       "      <td>442</td>\n",
       "      <td>15.0</td>\n",
       "      <td>0.0</td>\n",
       "      <td>0.0</td>\n",
       "      <td>2553132.0</td>\n",
       "      <td>57577945.0</td>\n",
       "      <td>13230564.0</td>\n",
       "      <td>44347381.0</td>\n",
       "      <td>90630.0</td>\n",
       "      <td>56726534.0</td>\n",
       "      <td>12198910.0</td>\n",
       "      <td>44527624.0</td>\n",
       "      <td>8</td>\n",
       "      <td>0.017505</td>\n",
       "      <td>0.039592</td>\n",
       "      <td>False</td>\n",
       "      <td>False</td>\n",
       "      <td>False</td>\n",
       "      <td>-1.765087e+07</td>\n",
       "      <td>-1.757254e+07</td>\n",
       "    </tr>\n",
       "    <tr>\n",
       "      <td>4</td>\n",
       "      <td>True</td>\n",
       "      <td>False</td>\n",
       "      <td>False</td>\n",
       "      <td>False</td>\n",
       "      <td>7_</td>\n",
       "      <td>5974176.0</td>\n",
       "      <td>12</td>\n",
       "      <td>12</td>\n",
       "      <td>139</td>\n",
       "      <td>50.0</td>\n",
       "      <td>2437.0</td>\n",
       "      <td>1437.0</td>\n",
       "      <td>344252.0</td>\n",
       "      <td>9803605.0</td>\n",
       "      <td>3104088.0</td>\n",
       "      <td>6699517.0</td>\n",
       "      <td>745724.0</td>\n",
       "      <td>10535130.0</td>\n",
       "      <td>3089889.0</td>\n",
       "      <td>7445241.0</td>\n",
       "      <td>1</td>\n",
       "      <td>0.005291</td>\n",
       "      <td>0.039945</td>\n",
       "      <td>False</td>\n",
       "      <td>False</td>\n",
       "      <td>False</td>\n",
       "      <td>-1.162458e+08</td>\n",
       "      <td>-9.964548e+07</td>\n",
       "    </tr>\n",
       "  </tbody>\n",
       "</table>\n",
       "</div>"
      ],
      "text/plain": [
       "   org_form_corp  org_form_trust  org_form_association  org_form_other_form  \\\n",
       "0           True           False                 False                False   \n",
       "1           True           False                 False                False   \n",
       "2           True           False                 False                False   \n",
       "3           True           False                 False                False   \n",
       "4           True           False                 False                False   \n",
       "\n",
       "  exempt_status_501c_txt  gross_receipts  voting_memb_ct  voting_indepmemb_ct  \\\n",
       "0                    12_      15549792.0              11                   11   \n",
       "1                    14_       9472036.0               9                    8   \n",
       "2                     5_       8503978.0              21                   19   \n",
       "3                     3_      57422298.0               8                    7   \n",
       "4                     7_       5974176.0              12                   12   \n",
       "\n",
       "   employee_tot_ct  volunteer_tot_ct  income_tot_unrelated  \\\n",
       "0               37               0.0                   0.0   \n",
       "1               81               8.0               52565.0   \n",
       "2               53             200.0               16110.0   \n",
       "3              442              15.0                   0.0   \n",
       "4              139              50.0                2437.0   \n",
       "\n",
       "   income_net_unrelated  rev_less_expense_prioryr  asset_tot_beginyr  \\\n",
       "0                   0.0                       0.0         39372255.0   \n",
       "1              -75519.0                 1000243.0        173898488.0   \n",
       "2                   0.0                  -55531.0          3510564.0   \n",
       "3                   0.0                 2553132.0         57577945.0   \n",
       "4                1437.0                  344252.0          9803605.0   \n",
       "\n",
       "   liability_tot_beginyr  asset_net_beginyr  rev_less_expense_curyr  \\\n",
       "0             26541056.0         12831199.0                     0.0   \n",
       "1            157544120.0         16354368.0               1262299.0   \n",
       "2               820701.0          2689863.0                 69972.0   \n",
       "3             13230564.0         44347381.0                 90630.0   \n",
       "4              3104088.0          6699517.0                745724.0   \n",
       "\n",
       "   asset_tot_endyr  liability_tot_endyr  asset_net_endyr  contractor_100k_ct  \\\n",
       "0       39367859.0           26785093.0       12582766.0                   3   \n",
       "1      188534687.0          170915216.0       17619471.0                   3   \n",
       "2        3640881.0             852359.0        2788522.0                   3   \n",
       "3       56726534.0           12198910.0       44527624.0                   8   \n",
       "4       10535130.0            3089889.0        7445241.0                   1   \n",
       "\n",
       "   CON_CT_DIV_EMP_VOL_CT  CON_EXP_DIV_TOT_EXP  CON_CT_DIV_EMP_VOL_CT_flag  \\\n",
       "0               0.081081             0.061503                        True   \n",
       "1               0.033708             0.137033                       False   \n",
       "2               0.011858             0.053652                       False   \n",
       "3               0.017505             0.039592                       False   \n",
       "4               0.005291             0.039945                       False   \n",
       "\n",
       "   CON_EXP_DIV_TOT_EXP_flag  TARGET_FEATURE       rev_PCA       exp_PCA  \n",
       "0                     False           False -9.230988e+07 -7.560677e+07  \n",
       "1                     False           False -1.057983e+08 -9.231641e+07  \n",
       "2                     False           False -1.072903e+08 -9.229491e+07  \n",
       "3                     False           False -1.765087e+07 -1.757254e+07  \n",
       "4                     False           False -1.162458e+08 -9.964548e+07  "
      ]
     },
     "execution_count": 4,
     "metadata": {},
     "output_type": "execute_result"
    }
   ],
   "source": [
    "df.head()"
   ]
  },
  {
   "cell_type": "markdown",
   "metadata": {},
   "source": [
    "## 3rd Feature Iteration"
   ]
  },
  {
   "cell_type": "markdown",
   "metadata": {},
   "source": [
    "### 1. Drop features that aren't contributing information to my models"
   ]
  },
  {
   "cell_type": "code",
   "execution_count": 5,
   "metadata": {},
   "outputs": [],
   "source": [
    "# these were deemed not important from prior modeling\n",
    "df.drop(df[['org_form_corp', 'org_form_trust', 'org_form_association',\n",
    "       'org_form_other_form']], axis=1, inplace=True)"
   ]
  },
  {
   "cell_type": "markdown",
   "metadata": {},
   "source": [
    "### 2. Drop dummy features that aren't contributing information to my models"
   ]
  },
  {
   "cell_type": "code",
   "execution_count": 6,
   "metadata": {},
   "outputs": [],
   "source": [
    "df_dummies = pd.get_dummies(df)"
   ]
  },
  {
   "cell_type": "code",
   "execution_count": 7,
   "metadata": {},
   "outputs": [],
   "source": [
    "df_dummies.drop(df_dummies[['exempt_status_501c_txt_10_',\n",
    "       'exempt_status_501c_txt_12_', 'exempt_status_501c_txt_13_',\n",
    "       'exempt_status_501c_txt_14_', 'exempt_status_501c_txt_18_',\n",
    "       'exempt_status_501c_txt_19_', 'exempt_status_501c_txt_23_',\n",
    "       'exempt_status_501c_txt_25_', 'exempt_status_501c_txt_26_',\n",
    "       'exempt_status_501c_txt_27_', 'exempt_status_501c_txt_29_',\n",
    "       'exempt_status_501c_txt_2_', 'exempt_status_501c_txt_5_',\n",
    "       'exempt_status_501c_txt_7_', 'exempt_status_501c_txt_8_',\n",
    "       'exempt_status_501c_txt_9_']], axis=1, inplace=True)"
   ]
  },
  {
   "cell_type": "markdown",
   "metadata": {},
   "source": [
    "### 3. Combine asset features"
   ]
  },
  {
   "cell_type": "code",
   "execution_count": 34,
   "metadata": {},
   "outputs": [
    {
     "name": "stdout",
     "output_type": "stream",
     "text": [
      "asset_tot_beginyr\n",
      "asset_net_beginyr\n",
      "asset_tot_endyr\n",
      "asset_net_endyr\n"
     ]
    }
   ],
   "source": [
    "# identify columns\n",
    "for c in df.columns:\n",
    "    if 'asset' in c:\n",
    "        print(c)      "
   ]
  },
  {
   "cell_type": "code",
   "execution_count": 38,
   "metadata": {},
   "outputs": [
    {
     "name": "stdout",
     "output_type": "stream",
     "text": [
      "[0.94053634]\n"
     ]
    }
   ],
   "source": [
    "# combine asset features using pca\n",
    "pca = PCA(n_components=1)\n",
    "df_dummies['asset_PCA'] = pca.fit_transform(\n",
    "         df[['asset_tot_beginyr',\n",
    "        'asset_net_beginyr',\n",
    "        'asset_tot_endyr',\n",
    "        'asset_net_endyr']])                                \n",
    "                                     \n",
    "\n",
    "print(pca.explained_variance_ratio_)"
   ]
  },
  {
   "cell_type": "code",
   "execution_count": 39,
   "metadata": {},
   "outputs": [
    {
     "data": {
      "text/html": [
       "<div>\n",
       "<style scoped>\n",
       "    .dataframe tbody tr th:only-of-type {\n",
       "        vertical-align: middle;\n",
       "    }\n",
       "\n",
       "    .dataframe tbody tr th {\n",
       "        vertical-align: top;\n",
       "    }\n",
       "\n",
       "    .dataframe thead th {\n",
       "        text-align: right;\n",
       "    }\n",
       "</style>\n",
       "<table border=\"1\" class=\"dataframe\">\n",
       "  <thead>\n",
       "    <tr style=\"text-align: right;\">\n",
       "      <th></th>\n",
       "      <th>gross_receipts</th>\n",
       "      <th>voting_memb_ct</th>\n",
       "      <th>voting_indepmemb_ct</th>\n",
       "      <th>employee_tot_ct</th>\n",
       "      <th>volunteer_tot_ct</th>\n",
       "      <th>income_tot_unrelated</th>\n",
       "      <th>income_net_unrelated</th>\n",
       "      <th>rev_less_expense_prioryr</th>\n",
       "      <th>asset_tot_beginyr</th>\n",
       "      <th>liability_tot_beginyr</th>\n",
       "      <th>asset_net_beginyr</th>\n",
       "      <th>rev_less_expense_curyr</th>\n",
       "      <th>asset_tot_endyr</th>\n",
       "      <th>liability_tot_endyr</th>\n",
       "      <th>asset_net_endyr</th>\n",
       "      <th>contractor_100k_ct</th>\n",
       "      <th>CON_CT_DIV_EMP_VOL_CT</th>\n",
       "      <th>CON_EXP_DIV_TOT_EXP</th>\n",
       "      <th>CON_CT_DIV_EMP_VOL_CT_flag</th>\n",
       "      <th>CON_EXP_DIV_TOT_EXP_flag</th>\n",
       "      <th>TARGET_FEATURE</th>\n",
       "      <th>rev_PCA</th>\n",
       "      <th>exp_PCA</th>\n",
       "      <th>exempt_status_501c_txt_3_</th>\n",
       "      <th>exempt_status_501c_txt_4_</th>\n",
       "      <th>exempt_status_501c_txt_6_</th>\n",
       "      <th>asset_PCA</th>\n",
       "    </tr>\n",
       "  </thead>\n",
       "  <tbody>\n",
       "    <tr>\n",
       "      <td>0</td>\n",
       "      <td>15549792.0</td>\n",
       "      <td>11</td>\n",
       "      <td>11</td>\n",
       "      <td>37</td>\n",
       "      <td>0.0</td>\n",
       "      <td>0.0</td>\n",
       "      <td>0.0</td>\n",
       "      <td>0.0</td>\n",
       "      <td>39372255.0</td>\n",
       "      <td>26541056.0</td>\n",
       "      <td>12831199.0</td>\n",
       "      <td>0.0</td>\n",
       "      <td>39367859.0</td>\n",
       "      <td>26785093.0</td>\n",
       "      <td>12582766.0</td>\n",
       "      <td>3</td>\n",
       "      <td>0.081081</td>\n",
       "      <td>0.061503</td>\n",
       "      <td>True</td>\n",
       "      <td>False</td>\n",
       "      <td>False</td>\n",
       "      <td>-9.230988e+07</td>\n",
       "      <td>-7.560677e+07</td>\n",
       "      <td>0</td>\n",
       "      <td>0</td>\n",
       "      <td>0</td>\n",
       "      <td>-9.988990e+07</td>\n",
       "    </tr>\n",
       "    <tr>\n",
       "      <td>1</td>\n",
       "      <td>9472036.0</td>\n",
       "      <td>9</td>\n",
       "      <td>8</td>\n",
       "      <td>81</td>\n",
       "      <td>8.0</td>\n",
       "      <td>52565.0</td>\n",
       "      <td>-75519.0</td>\n",
       "      <td>1000243.0</td>\n",
       "      <td>173898488.0</td>\n",
       "      <td>157544120.0</td>\n",
       "      <td>16354368.0</td>\n",
       "      <td>1262299.0</td>\n",
       "      <td>188534687.0</td>\n",
       "      <td>170915216.0</td>\n",
       "      <td>17619471.0</td>\n",
       "      <td>3</td>\n",
       "      <td>0.033708</td>\n",
       "      <td>0.137033</td>\n",
       "      <td>False</td>\n",
       "      <td>False</td>\n",
       "      <td>False</td>\n",
       "      <td>-1.057983e+08</td>\n",
       "      <td>-9.231641e+07</td>\n",
       "      <td>0</td>\n",
       "      <td>0</td>\n",
       "      <td>0</td>\n",
       "      <td>8.416525e+07</td>\n",
       "    </tr>\n",
       "    <tr>\n",
       "      <td>2</td>\n",
       "      <td>8503978.0</td>\n",
       "      <td>21</td>\n",
       "      <td>19</td>\n",
       "      <td>53</td>\n",
       "      <td>200.0</td>\n",
       "      <td>16110.0</td>\n",
       "      <td>0.0</td>\n",
       "      <td>-55531.0</td>\n",
       "      <td>3510564.0</td>\n",
       "      <td>820701.0</td>\n",
       "      <td>2689863.0</td>\n",
       "      <td>69972.0</td>\n",
       "      <td>3640881.0</td>\n",
       "      <td>852359.0</td>\n",
       "      <td>2788522.0</td>\n",
       "      <td>3</td>\n",
       "      <td>0.011858</td>\n",
       "      <td>0.053652</td>\n",
       "      <td>False</td>\n",
       "      <td>False</td>\n",
       "      <td>False</td>\n",
       "      <td>-1.072903e+08</td>\n",
       "      <td>-9.229491e+07</td>\n",
       "      <td>0</td>\n",
       "      <td>0</td>\n",
       "      <td>0</td>\n",
       "      <td>-1.516665e+08</td>\n",
       "    </tr>\n",
       "    <tr>\n",
       "      <td>3</td>\n",
       "      <td>57422298.0</td>\n",
       "      <td>8</td>\n",
       "      <td>7</td>\n",
       "      <td>442</td>\n",
       "      <td>15.0</td>\n",
       "      <td>0.0</td>\n",
       "      <td>0.0</td>\n",
       "      <td>2553132.0</td>\n",
       "      <td>57577945.0</td>\n",
       "      <td>13230564.0</td>\n",
       "      <td>44347381.0</td>\n",
       "      <td>90630.0</td>\n",
       "      <td>56726534.0</td>\n",
       "      <td>12198910.0</td>\n",
       "      <td>44527624.0</td>\n",
       "      <td>8</td>\n",
       "      <td>0.017505</td>\n",
       "      <td>0.039592</td>\n",
       "      <td>False</td>\n",
       "      <td>False</td>\n",
       "      <td>False</td>\n",
       "      <td>-1.765087e+07</td>\n",
       "      <td>-1.757254e+07</td>\n",
       "      <td>1</td>\n",
       "      <td>0</td>\n",
       "      <td>0</td>\n",
       "      <td>-5.797805e+07</td>\n",
       "    </tr>\n",
       "    <tr>\n",
       "      <td>4</td>\n",
       "      <td>5974176.0</td>\n",
       "      <td>12</td>\n",
       "      <td>12</td>\n",
       "      <td>139</td>\n",
       "      <td>50.0</td>\n",
       "      <td>2437.0</td>\n",
       "      <td>1437.0</td>\n",
       "      <td>344252.0</td>\n",
       "      <td>9803605.0</td>\n",
       "      <td>3104088.0</td>\n",
       "      <td>6699517.0</td>\n",
       "      <td>745724.0</td>\n",
       "      <td>10535130.0</td>\n",
       "      <td>3089889.0</td>\n",
       "      <td>7445241.0</td>\n",
       "      <td>1</td>\n",
       "      <td>0.005291</td>\n",
       "      <td>0.039945</td>\n",
       "      <td>False</td>\n",
       "      <td>False</td>\n",
       "      <td>False</td>\n",
       "      <td>-1.162458e+08</td>\n",
       "      <td>-9.964548e+07</td>\n",
       "      <td>0</td>\n",
       "      <td>0</td>\n",
       "      <td>0</td>\n",
       "      <td>-1.406094e+08</td>\n",
       "    </tr>\n",
       "  </tbody>\n",
       "</table>\n",
       "</div>"
      ],
      "text/plain": [
       "   gross_receipts  voting_memb_ct  voting_indepmemb_ct  employee_tot_ct  \\\n",
       "0      15549792.0              11                   11               37   \n",
       "1       9472036.0               9                    8               81   \n",
       "2       8503978.0              21                   19               53   \n",
       "3      57422298.0               8                    7              442   \n",
       "4       5974176.0              12                   12              139   \n",
       "\n",
       "   volunteer_tot_ct  income_tot_unrelated  income_net_unrelated  \\\n",
       "0               0.0                   0.0                   0.0   \n",
       "1               8.0               52565.0              -75519.0   \n",
       "2             200.0               16110.0                   0.0   \n",
       "3              15.0                   0.0                   0.0   \n",
       "4              50.0                2437.0                1437.0   \n",
       "\n",
       "   rev_less_expense_prioryr  asset_tot_beginyr  liability_tot_beginyr  \\\n",
       "0                       0.0         39372255.0             26541056.0   \n",
       "1                 1000243.0        173898488.0            157544120.0   \n",
       "2                  -55531.0          3510564.0               820701.0   \n",
       "3                 2553132.0         57577945.0             13230564.0   \n",
       "4                  344252.0          9803605.0              3104088.0   \n",
       "\n",
       "   asset_net_beginyr  rev_less_expense_curyr  asset_tot_endyr  \\\n",
       "0         12831199.0                     0.0       39367859.0   \n",
       "1         16354368.0               1262299.0      188534687.0   \n",
       "2          2689863.0                 69972.0        3640881.0   \n",
       "3         44347381.0                 90630.0       56726534.0   \n",
       "4          6699517.0                745724.0       10535130.0   \n",
       "\n",
       "   liability_tot_endyr  asset_net_endyr  contractor_100k_ct  \\\n",
       "0           26785093.0       12582766.0                   3   \n",
       "1          170915216.0       17619471.0                   3   \n",
       "2             852359.0        2788522.0                   3   \n",
       "3           12198910.0       44527624.0                   8   \n",
       "4            3089889.0        7445241.0                   1   \n",
       "\n",
       "   CON_CT_DIV_EMP_VOL_CT  CON_EXP_DIV_TOT_EXP  CON_CT_DIV_EMP_VOL_CT_flag  \\\n",
       "0               0.081081             0.061503                        True   \n",
       "1               0.033708             0.137033                       False   \n",
       "2               0.011858             0.053652                       False   \n",
       "3               0.017505             0.039592                       False   \n",
       "4               0.005291             0.039945                       False   \n",
       "\n",
       "   CON_EXP_DIV_TOT_EXP_flag  TARGET_FEATURE       rev_PCA       exp_PCA  \\\n",
       "0                     False           False -9.230988e+07 -7.560677e+07   \n",
       "1                     False           False -1.057983e+08 -9.231641e+07   \n",
       "2                     False           False -1.072903e+08 -9.229491e+07   \n",
       "3                     False           False -1.765087e+07 -1.757254e+07   \n",
       "4                     False           False -1.162458e+08 -9.964548e+07   \n",
       "\n",
       "   exempt_status_501c_txt_3_  exempt_status_501c_txt_4_  \\\n",
       "0                          0                          0   \n",
       "1                          0                          0   \n",
       "2                          0                          0   \n",
       "3                          1                          0   \n",
       "4                          0                          0   \n",
       "\n",
       "   exempt_status_501c_txt_6_     asset_PCA  \n",
       "0                          0 -9.988990e+07  \n",
       "1                          0  8.416525e+07  \n",
       "2                          0 -1.516665e+08  \n",
       "3                          0 -5.797805e+07  \n",
       "4                          0 -1.406094e+08  "
      ]
     },
     "execution_count": 39,
     "metadata": {},
     "output_type": "execute_result"
    }
   ],
   "source": [
    "df_dummies.head()"
   ]
  },
  {
   "cell_type": "code",
   "execution_count": 40,
   "metadata": {},
   "outputs": [],
   "source": [
    "# create features for classification\n",
    "# while removing those I created in designing\n",
    "# my target variable\n",
    "X = df_dummies.drop(['TARGET_FEATURE',\n",
    "            'CON_CT_DIV_EMP_VOL_CT_flag', \n",
    "             'CON_EXP_DIV_TOT_EXP_flag',\n",
    "            'CON_CT_DIV_EMP_VOL_CT',\n",
    "            'CON_EXP_DIV_TOT_EXP',\n",
    "            'volunteer_tot_ct',\n",
    "            'employee_tot_ct'], axis=1)\n",
    "\n",
    "# create target for classification\n",
    "y = df.TARGET_FEATURE"
   ]
  },
  {
   "cell_type": "code",
   "execution_count": 41,
   "metadata": {},
   "outputs": [],
   "source": [
    "# split data for training and testing\n",
    "X_train, X_test, y_train, y_test = train_test_split(X, y, test_size=0.2, random_state=0)"
   ]
  },
  {
   "cell_type": "markdown",
   "metadata": {},
   "source": [
    "### Random Forrest Classifier \n"
   ]
  },
  {
   "cell_type": "code",
   "execution_count": 13,
   "metadata": {},
   "outputs": [
    {
     "data": {
      "text/plain": [
       "array([0.90143203, 0.90087409, 0.9030878 , 0.90290179, 0.90939535])"
      ]
     },
     "execution_count": 13,
     "metadata": {},
     "output_type": "execute_result"
    }
   ],
   "source": [
    "# create model, check for overfitting\n",
    "rfc = ensemble.RandomForestClassifier(n_estimators=100, max_depth=8)\n",
    "\n",
    "cross_val_score(rfc, X, y, cv=5)"
   ]
  },
  {
   "cell_type": "code",
   "execution_count": 14,
   "metadata": {},
   "outputs": [
    {
     "name": "stdout",
     "output_type": "stream",
     "text": [
      "Training set accuracy:\n",
      "Percent Type I errors: 0.0016276041666666667\n",
      "Percent Type II errors: 0.08133370535714286\n",
      "\n",
      "Test set accuracy:\n",
      "Percent Type I errors: 0.005207364701506416\n",
      "Percent Type II errors: 0.08331783522410266\n"
     ]
    }
   ],
   "source": [
    "rfc.fit(X_train, y_train)\n",
    "\n",
    "predict_train = rfc.predict(X_train)\n",
    "predict_test = rfc.predict(X_test)\n",
    "\n",
    "# Accuracy tables\n",
    "table_train = pd.crosstab(y_train, predict_train, margins=True)\n",
    "table_test = pd.crosstab(y_test, predict_test, margins=True)\n",
    "\n",
    "train_tI_errors = table_train.loc[0.0,1.0] / table_train.loc['All','All']\n",
    "train_tII_errors = table_train.loc[1.0,0.0] / table_train.loc['All','All']\n",
    "\n",
    "test_tI_errors = table_test.loc[0.0,1.0]/table_test.loc['All','All']\n",
    "test_tII_errors = table_test.loc[1.0,0.0]/table_test.loc['All','All']\n",
    "\n",
    "print((\n",
    "    'Training set accuracy:\\n'\n",
    "    'Percent Type I errors: {}\\n'\n",
    "    'Percent Type II errors: {}\\n\\n'\n",
    "    'Test set accuracy:\\n'\n",
    "    'Percent Type I errors: {}\\n'\n",
    "    'Percent Type II errors: {}'\n",
    ").format(train_tI_errors, train_tII_errors, test_tI_errors, test_tII_errors))"
   ]
  },
  {
   "cell_type": "code",
   "execution_count": 15,
   "metadata": {},
   "outputs": [
    {
     "data": {
      "text/html": [
       "<div>\n",
       "<style scoped>\n",
       "    .dataframe tbody tr th:only-of-type {\n",
       "        vertical-align: middle;\n",
       "    }\n",
       "\n",
       "    .dataframe tbody tr th {\n",
       "        vertical-align: top;\n",
       "    }\n",
       "\n",
       "    .dataframe thead th {\n",
       "        text-align: right;\n",
       "    }\n",
       "</style>\n",
       "<table border=\"1\" class=\"dataframe\">\n",
       "  <thead>\n",
       "    <tr style=\"text-align: right;\">\n",
       "      <th></th>\n",
       "      <th>Predicted: No</th>\n",
       "      <th>Predicted: Yes</th>\n",
       "    </tr>\n",
       "  </thead>\n",
       "  <tbody>\n",
       "    <tr>\n",
       "      <td>Actual: No</td>\n",
       "      <td>19109</td>\n",
       "      <td>35</td>\n",
       "    </tr>\n",
       "    <tr>\n",
       "      <td>Actual: Yes</td>\n",
       "      <td>1749</td>\n",
       "      <td>611</td>\n",
       "    </tr>\n",
       "  </tbody>\n",
       "</table>\n",
       "</div>"
      ],
      "text/plain": [
       "             Predicted: No  Predicted: Yes\n",
       "Actual: No           19109              35\n",
       "Actual: Yes           1749             611"
      ]
     },
     "execution_count": 15,
     "metadata": {},
     "output_type": "execute_result"
    }
   ],
   "source": [
    "# training results\n",
    "pd.DataFrame(data=confusion_matrix(y_train, predict_train)[:,:],    \n",
    "              index= ['Actual: No', 'Actual: Yes'],\n",
    "    columns= ['Predicted: No', 'Predicted: Yes'])"
   ]
  },
  {
   "cell_type": "code",
   "execution_count": 16,
   "metadata": {},
   "outputs": [
    {
     "data": {
      "text/html": [
       "<div>\n",
       "<style scoped>\n",
       "    .dataframe tbody tr th:only-of-type {\n",
       "        vertical-align: middle;\n",
       "    }\n",
       "\n",
       "    .dataframe tbody tr th {\n",
       "        vertical-align: top;\n",
       "    }\n",
       "\n",
       "    .dataframe thead th {\n",
       "        text-align: right;\n",
       "    }\n",
       "</style>\n",
       "<table border=\"1\" class=\"dataframe\">\n",
       "  <thead>\n",
       "    <tr style=\"text-align: right;\">\n",
       "      <th></th>\n",
       "      <th>Predicted: No</th>\n",
       "      <th>Predicted: Yes</th>\n",
       "    </tr>\n",
       "  </thead>\n",
       "  <tbody>\n",
       "    <tr>\n",
       "      <td>Actual: No</td>\n",
       "      <td>4800</td>\n",
       "      <td>28</td>\n",
       "    </tr>\n",
       "    <tr>\n",
       "      <td>Actual: Yes</td>\n",
       "      <td>448</td>\n",
       "      <td>101</td>\n",
       "    </tr>\n",
       "  </tbody>\n",
       "</table>\n",
       "</div>"
      ],
      "text/plain": [
       "             Predicted: No  Predicted: Yes\n",
       "Actual: No            4800              28\n",
       "Actual: Yes            448             101"
      ]
     },
     "execution_count": 16,
     "metadata": {},
     "output_type": "execute_result"
    }
   ],
   "source": [
    "# testing results\n",
    "pd.DataFrame(data=confusion_matrix(y_test, predict_test)[:,:],    \n",
    "              index= ['Actual: No', 'Actual: Yes'],\n",
    "    columns= ['Predicted: No', 'Predicted: Yes'])"
   ]
  },
  {
   "cell_type": "code",
   "execution_count": 32,
   "metadata": {},
   "outputs": [
    {
     "data": {
      "image/png": "[encoded data removed]",
      "text/plain": [
       "<Figure size 720x360 with 1 Axes>"
      ]
     },
     "metadata": {
      "needs_background": "light"
     },
     "output_type": "display_data"
    }
   ],
   "source": [
    "# visualize feature importances\n",
    "plt.figure(figsize=(10, 5))\n",
    "\n",
    "feature_importance = 100.0 * (rfc.feature_importances_ / rfc.feature_importances_.max())\n",
    "sorted_idx = np.argsort(feature_importance)\n",
    "pos = np.arange(sorted_idx.shape[0]) + .5\n",
    "plt.subplot(1, 2, 2)\n",
    "plt.barh(pos, feature_importance[sorted_idx], align='center')\n",
    "plt.yticks(pos, X.columns[sorted_idx])\n",
    "plt.xlabel('Relative Importance')\n",
    "plt.title('Variable Importance');"
   ]
  },
  {
   "cell_type": "markdown",
   "metadata": {},
   "source": [
    "### Support Vector Classifier"
   ]
  },
  {
   "cell_type": "code",
   "execution_count": 18,
   "metadata": {},
   "outputs": [
    {
     "data": {
      "text/plain": [
       "array([0.89176121, 0.89176121, 0.89174107, 0.89174107, 0.89190698])"
      ]
     },
     "execution_count": 18,
     "metadata": {},
     "output_type": "execute_result"
    }
   ],
   "source": [
    "# create model, check for overfitting\n",
    "svc = SVC(gamma='scale', C= .00001, class_weight=  'balanced')\n",
    "\n",
    "svc.fit(X_train, y_train)\n",
    "\n",
    "cross_val_score(svc, X, y, cv=5)"
   ]
  },
  {
   "cell_type": "code",
   "execution_count": 23,
   "metadata": {},
   "outputs": [],
   "source": [
    "# test model on unseen data\n",
    "predict_train = svc.predict(X_train)\n",
    "predict_test = svc.predict(X_test)\n",
    "\n",
    "# Accuracy tables\n",
    "table_train = pd.crosstab(y_train, predict_train, margins=True)\n",
    "table_test = pd.crosstab(y_test, predict_test, margins=True)\n",
    "\n",
    "# train_tI_errors = table_train.loc[0.0,1.0] / table_train.loc['All','All']\n",
    "# train_tII_errors = table_train.loc[1.0,0.0] / table_train.loc['All','All']\n",
    "\n",
    "# test_tI_errors = table_test.loc[0.0,1.0]/table_test.loc['All','All']\n",
    "# test_tII_errors = table_test.loc[1.0,0.0]/table_test.loc['All','All']"
   ]
  },
  {
   "cell_type": "code",
   "execution_count": 24,
   "metadata": {},
   "outputs": [
    {
     "data": {
      "text/html": [
       "<div>\n",
       "<style scoped>\n",
       "    .dataframe tbody tr th:only-of-type {\n",
       "        vertical-align: middle;\n",
       "    }\n",
       "\n",
       "    .dataframe tbody tr th {\n",
       "        vertical-align: top;\n",
       "    }\n",
       "\n",
       "    .dataframe thead th {\n",
       "        text-align: right;\n",
       "    }\n",
       "</style>\n",
       "<table border=\"1\" class=\"dataframe\">\n",
       "  <thead>\n",
       "    <tr style=\"text-align: right;\">\n",
       "      <th></th>\n",
       "      <th>Predicted: No</th>\n",
       "      <th>Predicted: Yes</th>\n",
       "    </tr>\n",
       "  </thead>\n",
       "  <tbody>\n",
       "    <tr>\n",
       "      <td>Actual: No</td>\n",
       "      <td>0</td>\n",
       "      <td>19144</td>\n",
       "    </tr>\n",
       "    <tr>\n",
       "      <td>Actual: Yes</td>\n",
       "      <td>0</td>\n",
       "      <td>2360</td>\n",
       "    </tr>\n",
       "  </tbody>\n",
       "</table>\n",
       "</div>"
      ],
      "text/plain": [
       "             Predicted: No  Predicted: Yes\n",
       "Actual: No               0           19144\n",
       "Actual: Yes              0            2360"
      ]
     },
     "execution_count": 24,
     "metadata": {},
     "output_type": "execute_result"
    }
   ],
   "source": [
    "# training results\n",
    "pd.DataFrame(data=confusion_matrix(y_train, predict_train)[:,:],    \n",
    "              index= ['Actual: No', 'Actual: Yes'],\n",
    "    columns= ['Predicted: No', 'Predicted: Yes'])"
   ]
  },
  {
   "cell_type": "code",
   "execution_count": null,
   "metadata": {},
   "outputs": [],
   "source": []
  },
  {
   "cell_type": "code",
   "execution_count": 25,
   "metadata": {},
   "outputs": [
    {
     "data": {
      "text/html": [
       "<div>\n",
       "<style scoped>\n",
       "    .dataframe tbody tr th:only-of-type {\n",
       "        vertical-align: middle;\n",
       "    }\n",
       "\n",
       "    .dataframe tbody tr th {\n",
       "        vertical-align: top;\n",
       "    }\n",
       "\n",
       "    .dataframe thead th {\n",
       "        text-align: right;\n",
       "    }\n",
       "</style>\n",
       "<table border=\"1\" class=\"dataframe\">\n",
       "  <thead>\n",
       "    <tr style=\"text-align: right;\">\n",
       "      <th></th>\n",
       "      <th>Predicted: No</th>\n",
       "      <th>Predicted: Yes</th>\n",
       "    </tr>\n",
       "  </thead>\n",
       "  <tbody>\n",
       "    <tr>\n",
       "      <td>Actual: No</td>\n",
       "      <td>0</td>\n",
       "      <td>4828</td>\n",
       "    </tr>\n",
       "    <tr>\n",
       "      <td>Actual: Yes</td>\n",
       "      <td>0</td>\n",
       "      <td>549</td>\n",
       "    </tr>\n",
       "  </tbody>\n",
       "</table>\n",
       "</div>"
      ],
      "text/plain": [
       "             Predicted: No  Predicted: Yes\n",
       "Actual: No               0            4828\n",
       "Actual: Yes              0             549"
      ]
     },
     "execution_count": 25,
     "metadata": {},
     "output_type": "execute_result"
    }
   ],
   "source": [
    "# testing results\n",
    "pd.DataFrame(data=confusion_matrix(y_test, predict_test)[:,:],    \n",
    "              index= ['Actual: No', 'Actual: Yes'],\n",
    "    columns= ['Predicted: No', 'Predicted: Yes'])"
   ]
  },
  {
   "cell_type": "code",
   "execution_count": null,
   "metadata": {},
   "outputs": [],
   "source": []
  },
  {
   "cell_type": "markdown",
   "metadata": {},
   "source": [
    "### Gradient Boost Classifier"
   ]
  },
  {
   "cell_type": "code",
   "execution_count": 42,
   "metadata": {},
   "outputs": [
    {
     "data": {
      "text/plain": [
       "array([0.91240469, 0.91277664, 0.90904018, 0.91387649, 0.92223256])"
      ]
     },
     "execution_count": 42,
     "metadata": {},
     "output_type": "execute_result"
    }
   ],
   "source": [
    "# Initialize and fit the model.\n",
    "params = {'n_estimators': 950,\n",
    "          'max_depth': 2,\n",
    "          'subsample': .8,\n",
    "          'learning_rate': .1,\n",
    "          'loss': 'deviance'}\n",
    "\n",
    "clf = ensemble.GradientBoostingClassifier(**params)\n",
    "\n",
    "clf.fit(X_train, y_train)\n",
    "cross_val_score(clf, X, y, cv=5)"
   ]
  },
  {
   "cell_type": "code",
   "execution_count": 43,
   "metadata": {},
   "outputs": [
    {
     "name": "stdout",
     "output_type": "stream",
     "text": [
      "Training set accuracy:\n",
      "Percent Type I errors: 0.01329985119047619\n",
      "Percent Type II errors: 0.06789434523809523\n",
      "\n",
      "Test set accuracy:\n",
      "Percent Type I errors: 0.016923935279895854\n",
      "Percent Type II errors: 0.06174446717500465\n"
     ]
    }
   ],
   "source": [
    "# using the best results from above\n",
    "# run the model\n",
    "params = {'n_estimators': 500,\n",
    "          'max_depth': 2,\n",
    "          'subsample': .2,\n",
    "          'learning_rate': .05,\n",
    "          'loss': 'deviance'}\n",
    "\n",
    "# Initialize and fit the model.\n",
    "clf = ensemble.GradientBoostingClassifier(**params)\n",
    "clf.fit(X_train, y_train)\n",
    "\n",
    "predict_train = clf.predict(X_train)\n",
    "predict_test = clf.predict(X_test)\n",
    "\n",
    "# Accuracy tables\n",
    "table_train = pd.crosstab(y_train, predict_train, margins=True)\n",
    "table_test = pd.crosstab(y_test, predict_test, margins=True)\n",
    "\n",
    "train_tI_errors = table_train.loc[0.0,1.0] / table_train.loc['All','All']\n",
    "train_tII_errors = table_train.loc[1.0,0.0] / table_train.loc['All','All']\n",
    "\n",
    "test_tI_errors = table_test.loc[0.0,1.0]/table_test.loc['All','All']\n",
    "test_tII_errors = table_test.loc[1.0,0.0]/table_test.loc['All','All']\n",
    "\n",
    "print((\n",
    "    'Training set accuracy:\\n'\n",
    "    'Percent Type I errors: {}\\n'\n",
    "    'Percent Type II errors: {}\\n\\n'\n",
    "    'Test set accuracy:\\n'\n",
    "    'Percent Type I errors: {}\\n'\n",
    "    'Percent Type II errors: {}'\n",
    ").format(train_tI_errors, train_tII_errors, test_tI_errors, test_tII_errors))"
   ]
  },
  {
   "cell_type": "code",
   "execution_count": 44,
   "metadata": {},
   "outputs": [
    {
     "data": {
      "text/html": [
       "<div>\n",
       "<style scoped>\n",
       "    .dataframe tbody tr th:only-of-type {\n",
       "        vertical-align: middle;\n",
       "    }\n",
       "\n",
       "    .dataframe tbody tr th {\n",
       "        vertical-align: top;\n",
       "    }\n",
       "\n",
       "    .dataframe thead th {\n",
       "        text-align: right;\n",
       "    }\n",
       "</style>\n",
       "<table border=\"1\" class=\"dataframe\">\n",
       "  <thead>\n",
       "    <tr style=\"text-align: right;\">\n",
       "      <th></th>\n",
       "      <th>Predicted: No</th>\n",
       "      <th>Predicted: Yes</th>\n",
       "    </tr>\n",
       "  </thead>\n",
       "  <tbody>\n",
       "    <tr>\n",
       "      <td>Actual: No</td>\n",
       "      <td>18858</td>\n",
       "      <td>286</td>\n",
       "    </tr>\n",
       "    <tr>\n",
       "      <td>Actual: Yes</td>\n",
       "      <td>1460</td>\n",
       "      <td>900</td>\n",
       "    </tr>\n",
       "  </tbody>\n",
       "</table>\n",
       "</div>"
      ],
      "text/plain": [
       "             Predicted: No  Predicted: Yes\n",
       "Actual: No           18858             286\n",
       "Actual: Yes           1460             900"
      ]
     },
     "execution_count": 44,
     "metadata": {},
     "output_type": "execute_result"
    }
   ],
   "source": [
    "pd.DataFrame(data=confusion_matrix(y_train, predict_train)[:,:],    \n",
    "              index= ['Actual: No', 'Actual: Yes'],\n",
    "    columns= ['Predicted: No', 'Predicted: Yes'])"
   ]
  },
  {
   "cell_type": "code",
   "execution_count": 45,
   "metadata": {},
   "outputs": [
    {
     "data": {
      "text/html": [
       "<div>\n",
       "<style scoped>\n",
       "    .dataframe tbody tr th:only-of-type {\n",
       "        vertical-align: middle;\n",
       "    }\n",
       "\n",
       "    .dataframe tbody tr th {\n",
       "        vertical-align: top;\n",
       "    }\n",
       "\n",
       "    .dataframe thead th {\n",
       "        text-align: right;\n",
       "    }\n",
       "</style>\n",
       "<table border=\"1\" class=\"dataframe\">\n",
       "  <thead>\n",
       "    <tr style=\"text-align: right;\">\n",
       "      <th></th>\n",
       "      <th>Predicted: No</th>\n",
       "      <th>Predicted: Yes</th>\n",
       "    </tr>\n",
       "  </thead>\n",
       "  <tbody>\n",
       "    <tr>\n",
       "      <td>Actual: No</td>\n",
       "      <td>4737</td>\n",
       "      <td>91</td>\n",
       "    </tr>\n",
       "    <tr>\n",
       "      <td>Actual: Yes</td>\n",
       "      <td>332</td>\n",
       "      <td>217</td>\n",
       "    </tr>\n",
       "  </tbody>\n",
       "</table>\n",
       "</div>"
      ],
      "text/plain": [
       "             Predicted: No  Predicted: Yes\n",
       "Actual: No            4737              91\n",
       "Actual: Yes            332             217"
      ]
     },
     "execution_count": 45,
     "metadata": {},
     "output_type": "execute_result"
    }
   ],
   "source": [
    "pd.DataFrame(data=confusion_matrix(y_test, predict_test)[:,:],    \n",
    "              index= ['Actual: No', 'Actual: Yes'],\n",
    "    columns= ['Predicted: No', 'Predicted: Yes'])"
   ]
  },
  {
   "cell_type": "markdown",
   "metadata": {},
   "source": [
    "Compared with first iteration, type I errors decreased, but type II errors increased"
   ]
  },
  {
   "cell_type": "code",
   "execution_count": 46,
   "metadata": {},
   "outputs": [
    {
     "data": {
      "image/png": "[encoded data removed]",
      "text/plain": [
       "<Figure size 720x360 with 1 Axes>"
      ]
     },
     "metadata": {
      "needs_background": "light"
     },
     "output_type": "display_data"
    }
   ],
   "source": [
    "# visualize feature importances\n",
    "plt.figure(figsize=(10, 5))\n",
    "\n",
    "feature_importance = 100.0 * (clf.feature_importances_ / clf.feature_importances_.max())\n",
    "sorted_idx = np.argsort(feature_importance)\n",
    "pos = np.arange(sorted_idx.shape[0]) + .5\n",
    "plt.subplot(1, 2, 2)\n",
    "plt.barh(pos, feature_importance[sorted_idx], align='center')\n",
    "plt.yticks(pos, X.columns[sorted_idx])\n",
    "plt.xlabel('Relative Importance')\n",
    "plt.title('Variable Importance');"
   ]
  },
  {
   "cell_type": "markdown",
   "metadata": {},
   "source": [
    "### Export data for further feature iteration"
   ]
  },
  {
   "cell_type": "code",
   "execution_count": 47,
   "metadata": {},
   "outputs": [],
   "source": [
    "df_dummies.to_csv('data/990_model_data_4.csv', index=None, header=True)"
   ]
  }
 ],
 "metadata": {
  "kernelspec": {
   "display_name": "Python 3",
   "language": "python",
   "name": "python3"
  },
  "language_info": {
   "codemirror_mode": {
    "name": "ipython",
    "version": 3
   },
   "file_extension": ".py",
   "mimetype": "text/x-python",
   "name": "python",
   "nbconvert_exporter": "python",
   "pygments_lexer": "ipython3",
   "version": "3.7.3"
  }
 },
 "nbformat": 4,
 "nbformat_minor": 4
}
