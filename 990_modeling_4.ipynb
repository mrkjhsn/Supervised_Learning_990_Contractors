{
 "cells": [
  {
   "cell_type": "markdown",
   "metadata": {},
   "source": [
    "## Machine learning modeling - Iteration #4\n"
   ]
  },
  {
   "cell_type": "code",
   "execution_count": 124,
   "metadata": {},
   "outputs": [],
   "source": [
    "import csv\n",
    "import numpy as np\n",
    "import pandas as pd\n",
    "import matplotlib.pyplot as plt\n",
    "import seaborn as sns\n",
    "import warnings\n",
    "warnings.simplefilter(action='ignore', category=FutureWarning)\n",
    "pd.set_option('display.max_columns', None)\n",
    "pd.set_option('display.max_rows', None)\n",
    "\n",
    "from scipy.stats.mstats import winsorize\n",
    "from scipy.stats import zscore, stats\n",
    "from math import ceil\n",
    "import jenkspy\n",
    "import statsmodels\n",
    "import statsmodels.api as sm\n",
    "\n",
    "# ml modules\n",
    "from sklearn.decomposition import PCA\n",
    "from sklearn.ensemble import RandomForestRegressor\n",
    "from sklearn.ensemble import GradientBoostingClassifier\n",
    "from sklearn.metrics import confusion_matrix\n",
    "from sklearn import ensemble\n",
    "from sklearn.model_selection import cross_val_score, train_test_split\n",
    "from sklearn.model_selection import GridSearchCV\n",
    "from sklearn.svm import SVC\n",
    "from sklearn.neighbors import KNeighborsClassifier"
   ]
  },
  {
   "cell_type": "code",
   "execution_count": 224,
   "metadata": {},
   "outputs": [],
   "source": [
    "# read in 990 data that has been\n",
    "# with features already adjusted in 2nd iteration\n",
    "df = pd.read_csv('data/990_model_data_3.csv')"
   ]
  },
  {
   "cell_type": "code",
   "execution_count": 225,
   "metadata": {},
   "outputs": [
    {
     "data": {
      "text/plain": [
       "(26881, 28)"
      ]
     },
     "execution_count": 225,
     "metadata": {},
     "output_type": "execute_result"
    }
   ],
   "source": [
    "df.shape"
   ]
  },
  {
   "cell_type": "code",
   "execution_count": 226,
   "metadata": {},
   "outputs": [
    {
     "data": {
      "text/html": [
       "<div>\n",
       "<style scoped>\n",
       "    .dataframe tbody tr th:only-of-type {\n",
       "        vertical-align: middle;\n",
       "    }\n",
       "\n",
       "    .dataframe tbody tr th {\n",
       "        vertical-align: top;\n",
       "    }\n",
       "\n",
       "    .dataframe thead th {\n",
       "        text-align: right;\n",
       "    }\n",
       "</style>\n",
       "<table border=\"1\" class=\"dataframe\">\n",
       "  <thead>\n",
       "    <tr style=\"text-align: right;\">\n",
       "      <th></th>\n",
       "      <th>org_form_corp</th>\n",
       "      <th>org_form_trust</th>\n",
       "      <th>org_form_association</th>\n",
       "      <th>org_form_other_form</th>\n",
       "      <th>exempt_status_501c_txt</th>\n",
       "      <th>gross_receipts</th>\n",
       "      <th>voting_memb_ct</th>\n",
       "      <th>voting_indepmemb_ct</th>\n",
       "      <th>employee_tot_ct</th>\n",
       "      <th>volunteer_tot_ct</th>\n",
       "      <th>income_tot_unrelated</th>\n",
       "      <th>income_net_unrelated</th>\n",
       "      <th>rev_less_expense_prioryr</th>\n",
       "      <th>asset_tot_beginyr</th>\n",
       "      <th>liability_tot_beginyr</th>\n",
       "      <th>asset_net_beginyr</th>\n",
       "      <th>rev_less_expense_curyr</th>\n",
       "      <th>asset_tot_endyr</th>\n",
       "      <th>liability_tot_endyr</th>\n",
       "      <th>asset_net_endyr</th>\n",
       "      <th>contractor_100k_ct</th>\n",
       "      <th>CON_CT_DIV_EMP_VOL_CT</th>\n",
       "      <th>CON_EXP_DIV_TOT_EXP</th>\n",
       "      <th>CON_CT_DIV_EMP_VOL_CT_flag</th>\n",
       "      <th>CON_EXP_DIV_TOT_EXP_flag</th>\n",
       "      <th>TARGET_FEATURE</th>\n",
       "      <th>rev_PCA</th>\n",
       "      <th>exp_PCA</th>\n",
       "    </tr>\n",
       "  </thead>\n",
       "  <tbody>\n",
       "    <tr>\n",
       "      <td>0</td>\n",
       "      <td>True</td>\n",
       "      <td>False</td>\n",
       "      <td>False</td>\n",
       "      <td>False</td>\n",
       "      <td>12_</td>\n",
       "      <td>15549792.0</td>\n",
       "      <td>11</td>\n",
       "      <td>11</td>\n",
       "      <td>37</td>\n",
       "      <td>0.0</td>\n",
       "      <td>0.0</td>\n",
       "      <td>0.0</td>\n",
       "      <td>0.0</td>\n",
       "      <td>39372255.0</td>\n",
       "      <td>26541056.0</td>\n",
       "      <td>12831199.0</td>\n",
       "      <td>0.0</td>\n",
       "      <td>39367859.0</td>\n",
       "      <td>26785093.0</td>\n",
       "      <td>12582766.0</td>\n",
       "      <td>3</td>\n",
       "      <td>0.081081</td>\n",
       "      <td>0.061503</td>\n",
       "      <td>True</td>\n",
       "      <td>False</td>\n",
       "      <td>False</td>\n",
       "      <td>-9.230988e+07</td>\n",
       "      <td>-7.560677e+07</td>\n",
       "    </tr>\n",
       "    <tr>\n",
       "      <td>1</td>\n",
       "      <td>True</td>\n",
       "      <td>False</td>\n",
       "      <td>False</td>\n",
       "      <td>False</td>\n",
       "      <td>14_</td>\n",
       "      <td>9472036.0</td>\n",
       "      <td>9</td>\n",
       "      <td>8</td>\n",
       "      <td>81</td>\n",
       "      <td>8.0</td>\n",
       "      <td>52565.0</td>\n",
       "      <td>-75519.0</td>\n",
       "      <td>1000243.0</td>\n",
       "      <td>173898488.0</td>\n",
       "      <td>157544120.0</td>\n",
       "      <td>16354368.0</td>\n",
       "      <td>1262299.0</td>\n",
       "      <td>188534687.0</td>\n",
       "      <td>170915216.0</td>\n",
       "      <td>17619471.0</td>\n",
       "      <td>3</td>\n",
       "      <td>0.033708</td>\n",
       "      <td>0.137033</td>\n",
       "      <td>False</td>\n",
       "      <td>False</td>\n",
       "      <td>False</td>\n",
       "      <td>-1.057983e+08</td>\n",
       "      <td>-9.231641e+07</td>\n",
       "    </tr>\n",
       "    <tr>\n",
       "      <td>2</td>\n",
       "      <td>True</td>\n",
       "      <td>False</td>\n",
       "      <td>False</td>\n",
       "      <td>False</td>\n",
       "      <td>5_</td>\n",
       "      <td>8503978.0</td>\n",
       "      <td>21</td>\n",
       "      <td>19</td>\n",
       "      <td>53</td>\n",
       "      <td>200.0</td>\n",
       "      <td>16110.0</td>\n",
       "      <td>0.0</td>\n",
       "      <td>-55531.0</td>\n",
       "      <td>3510564.0</td>\n",
       "      <td>820701.0</td>\n",
       "      <td>2689863.0</td>\n",
       "      <td>69972.0</td>\n",
       "      <td>3640881.0</td>\n",
       "      <td>852359.0</td>\n",
       "      <td>2788522.0</td>\n",
       "      <td>3</td>\n",
       "      <td>0.011858</td>\n",
       "      <td>0.053652</td>\n",
       "      <td>False</td>\n",
       "      <td>False</td>\n",
       "      <td>False</td>\n",
       "      <td>-1.072903e+08</td>\n",
       "      <td>-9.229491e+07</td>\n",
       "    </tr>\n",
       "    <tr>\n",
       "      <td>3</td>\n",
       "      <td>True</td>\n",
       "      <td>False</td>\n",
       "      <td>False</td>\n",
       "      <td>False</td>\n",
       "      <td>3_</td>\n",
       "      <td>57422298.0</td>\n",
       "      <td>8</td>\n",
       "      <td>7</td>\n",
       "      <td>442</td>\n",
       "      <td>15.0</td>\n",
       "      <td>0.0</td>\n",
       "      <td>0.0</td>\n",
       "      <td>2553132.0</td>\n",
       "      <td>57577945.0</td>\n",
       "      <td>13230564.0</td>\n",
       "      <td>44347381.0</td>\n",
       "      <td>90630.0</td>\n",
       "      <td>56726534.0</td>\n",
       "      <td>12198910.0</td>\n",
       "      <td>44527624.0</td>\n",
       "      <td>8</td>\n",
       "      <td>0.017505</td>\n",
       "      <td>0.039592</td>\n",
       "      <td>False</td>\n",
       "      <td>False</td>\n",
       "      <td>False</td>\n",
       "      <td>-1.765087e+07</td>\n",
       "      <td>-1.757254e+07</td>\n",
       "    </tr>\n",
       "    <tr>\n",
       "      <td>4</td>\n",
       "      <td>True</td>\n",
       "      <td>False</td>\n",
       "      <td>False</td>\n",
       "      <td>False</td>\n",
       "      <td>7_</td>\n",
       "      <td>5974176.0</td>\n",
       "      <td>12</td>\n",
       "      <td>12</td>\n",
       "      <td>139</td>\n",
       "      <td>50.0</td>\n",
       "      <td>2437.0</td>\n",
       "      <td>1437.0</td>\n",
       "      <td>344252.0</td>\n",
       "      <td>9803605.0</td>\n",
       "      <td>3104088.0</td>\n",
       "      <td>6699517.0</td>\n",
       "      <td>745724.0</td>\n",
       "      <td>10535130.0</td>\n",
       "      <td>3089889.0</td>\n",
       "      <td>7445241.0</td>\n",
       "      <td>1</td>\n",
       "      <td>0.005291</td>\n",
       "      <td>0.039945</td>\n",
       "      <td>False</td>\n",
       "      <td>False</td>\n",
       "      <td>False</td>\n",
       "      <td>-1.162458e+08</td>\n",
       "      <td>-9.964548e+07</td>\n",
       "    </tr>\n",
       "  </tbody>\n",
       "</table>\n",
       "</div>"
      ],
      "text/plain": [
       "   org_form_corp  org_form_trust  org_form_association  org_form_other_form  \\\n",
       "0           True           False                 False                False   \n",
       "1           True           False                 False                False   \n",
       "2           True           False                 False                False   \n",
       "3           True           False                 False                False   \n",
       "4           True           False                 False                False   \n",
       "\n",
       "  exempt_status_501c_txt  gross_receipts  voting_memb_ct  voting_indepmemb_ct  \\\n",
       "0                    12_      15549792.0              11                   11   \n",
       "1                    14_       9472036.0               9                    8   \n",
       "2                     5_       8503978.0              21                   19   \n",
       "3                     3_      57422298.0               8                    7   \n",
       "4                     7_       5974176.0              12                   12   \n",
       "\n",
       "   employee_tot_ct  volunteer_tot_ct  income_tot_unrelated  \\\n",
       "0               37               0.0                   0.0   \n",
       "1               81               8.0               52565.0   \n",
       "2               53             200.0               16110.0   \n",
       "3              442              15.0                   0.0   \n",
       "4              139              50.0                2437.0   \n",
       "\n",
       "   income_net_unrelated  rev_less_expense_prioryr  asset_tot_beginyr  \\\n",
       "0                   0.0                       0.0         39372255.0   \n",
       "1              -75519.0                 1000243.0        173898488.0   \n",
       "2                   0.0                  -55531.0          3510564.0   \n",
       "3                   0.0                 2553132.0         57577945.0   \n",
       "4                1437.0                  344252.0          9803605.0   \n",
       "\n",
       "   liability_tot_beginyr  asset_net_beginyr  rev_less_expense_curyr  \\\n",
       "0             26541056.0         12831199.0                     0.0   \n",
       "1            157544120.0         16354368.0               1262299.0   \n",
       "2               820701.0          2689863.0                 69972.0   \n",
       "3             13230564.0         44347381.0                 90630.0   \n",
       "4              3104088.0          6699517.0                745724.0   \n",
       "\n",
       "   asset_tot_endyr  liability_tot_endyr  asset_net_endyr  contractor_100k_ct  \\\n",
       "0       39367859.0           26785093.0       12582766.0                   3   \n",
       "1      188534687.0          170915216.0       17619471.0                   3   \n",
       "2        3640881.0             852359.0        2788522.0                   3   \n",
       "3       56726534.0           12198910.0       44527624.0                   8   \n",
       "4       10535130.0            3089889.0        7445241.0                   1   \n",
       "\n",
       "   CON_CT_DIV_EMP_VOL_CT  CON_EXP_DIV_TOT_EXP  CON_CT_DIV_EMP_VOL_CT_flag  \\\n",
       "0               0.081081             0.061503                        True   \n",
       "1               0.033708             0.137033                       False   \n",
       "2               0.011858             0.053652                       False   \n",
       "3               0.017505             0.039592                       False   \n",
       "4               0.005291             0.039945                       False   \n",
       "\n",
       "   CON_EXP_DIV_TOT_EXP_flag  TARGET_FEATURE       rev_PCA       exp_PCA  \n",
       "0                     False           False -9.230988e+07 -7.560677e+07  \n",
       "1                     False           False -1.057983e+08 -9.231641e+07  \n",
       "2                     False           False -1.072903e+08 -9.229491e+07  \n",
       "3                     False           False -1.765087e+07 -1.757254e+07  \n",
       "4                     False           False -1.162458e+08 -9.964548e+07  "
      ]
     },
     "execution_count": 226,
     "metadata": {},
     "output_type": "execute_result"
    }
   ],
   "source": [
    "df.head()"
   ]
  },
  {
   "cell_type": "markdown",
   "metadata": {},
   "source": [
    "## 4th Feature Iteration - bin categories that are contributing the most information into sub-groups "
   ]
  },
  {
   "cell_type": "markdown",
   "metadata": {},
   "source": [
    "### gross_receipts"
   ]
  },
  {
   "cell_type": "code",
   "execution_count": 227,
   "metadata": {},
   "outputs": [],
   "source": [
    "# create breaks in contractor_100K_count\n",
    "gr_breaks = jenkspy.jenks_breaks(df.gross_receipts, nb_class=10)"
   ]
  },
  {
   "cell_type": "code",
   "execution_count": 228,
   "metadata": {},
   "outputs": [],
   "source": [
    "df['gr_breaks'] = pd.cut(df.gross_receipts,\n",
    "                        bins=gr_breaks,\n",
    "                        include_lowest=True)"
   ]
  },
  {
   "cell_type": "code",
   "execution_count": 229,
   "metadata": {},
   "outputs": [
    {
     "data": {
      "text/plain": [
       "(-0.001, 25507108.0]            17944\n",
       "(25507108.0, 71194601.0]         4588\n",
       "(71194601.0, 140849833.0]        1778\n",
       "(140849833.0, 234449446.0]        896\n",
       "(234449446.0, 351172329.0]        500\n",
       "(1147856790.0, 1309779237.2]      344\n",
       "(351172329.0, 491279446.0]        340\n",
       "(491279446.0, 665633697.0]        225\n",
       "(665633697.0, 890053921.0]        158\n",
       "(890053921.0, 1147856790.0]       108\n",
       "Name: gr_breaks, dtype: int64"
      ]
     },
     "execution_count": 229,
     "metadata": {},
     "output_type": "execute_result"
    }
   ],
   "source": [
    "# examin count in each category\n",
    "df.gr_breaks.value_counts()"
   ]
  },
  {
   "cell_type": "markdown",
   "metadata": {},
   "source": [
    "### asset_tot_beginyr"
   ]
  },
  {
   "cell_type": "code",
   "execution_count": 230,
   "metadata": {},
   "outputs": [],
   "source": [
    "# create breaks in contractor_100K_count\n",
    "asset_breaks = jenkspy.jenks_breaks(df.asset_tot_beginyr, nb_class=10)"
   ]
  },
  {
   "cell_type": "code",
   "execution_count": 231,
   "metadata": {},
   "outputs": [],
   "source": [
    "df['asset_breaks'] = pd.cut(df.asset_tot_beginyr,\n",
    "                        bins=asset_breaks,\n",
    "                        include_lowest=True)"
   ]
  },
  {
   "cell_type": "code",
   "execution_count": 232,
   "metadata": {},
   "outputs": [
    {
     "data": {
      "text/plain": [
       "(-4111260.001, 35088404.0]      18195\n",
       "(35088404.0, 102886557.0]        4166\n",
       "(102886557.0, 208054156.0]       1831\n",
       "(208054156.0, 350738384.0]        911\n",
       "(350738384.0, 535720116.0]        570\n",
       "(535720116.0, 768367257.0]        361\n",
       "(1744198284.0, 2007782441.8]      315\n",
       "(768367257.0, 1041006841.0]       245\n",
       "(1041006841.0, 1361460585.0]      173\n",
       "(1361460585.0, 1744198284.0]      114\n",
       "Name: asset_breaks, dtype: int64"
      ]
     },
     "execution_count": 232,
     "metadata": {},
     "output_type": "execute_result"
    }
   ],
   "source": [
    "# examin count in each category\n",
    "df.asset_breaks.value_counts()"
   ]
  },
  {
   "cell_type": "markdown",
   "metadata": {},
   "source": [
    "### liability_tot_beginyr"
   ]
  },
  {
   "cell_type": "code",
   "execution_count": 233,
   "metadata": {},
   "outputs": [],
   "source": [
    "# create breaks in contractor_100K_count\n",
    "liab_breaks = jenkspy.jenks_breaks(df.liability_tot_beginyr, nb_class=10)"
   ]
  },
  {
   "cell_type": "code",
   "execution_count": 234,
   "metadata": {},
   "outputs": [],
   "source": [
    "df['liab_breaks'] = pd.cut(df.liability_tot_beginyr,\n",
    "                        bins=liab_breaks,\n",
    "                        include_lowest=True)"
   ]
  },
  {
   "cell_type": "code",
   "execution_count": 235,
   "metadata": {},
   "outputs": [
    {
     "data": {
      "text/plain": [
       "(-3809356.001, 15272310.0]     19268\n",
       "(15272310.0, 47771545.0]        3635\n",
       "(47771545.0, 95940371.0]        1468\n",
       "(95940371.0, 162294709.0]        831\n",
       "(162294709.0, 254319823.0]       543\n",
       "(938503231.0, 1082904612.0]      322\n",
       "(254319823.0, 366907253.0]       307\n",
       "(366907253.0, 512690813.0]       234\n",
       "(512690813.0, 704836893.0]       147\n",
       "(704836893.0, 938503231.0]       126\n",
       "Name: liab_breaks, dtype: int64"
      ]
     },
     "execution_count": 235,
     "metadata": {},
     "output_type": "execute_result"
    }
   ],
   "source": [
    "# examin count in each category\n",
    "df.liab_breaks.value_counts()"
   ]
  },
  {
   "cell_type": "code",
   "execution_count": 236,
   "metadata": {},
   "outputs": [
    {
     "data": {
      "text/html": [
       "<div>\n",
       "<style scoped>\n",
       "    .dataframe tbody tr th:only-of-type {\n",
       "        vertical-align: middle;\n",
       "    }\n",
       "\n",
       "    .dataframe tbody tr th {\n",
       "        vertical-align: top;\n",
       "    }\n",
       "\n",
       "    .dataframe thead th {\n",
       "        text-align: right;\n",
       "    }\n",
       "</style>\n",
       "<table border=\"1\" class=\"dataframe\">\n",
       "  <thead>\n",
       "    <tr style=\"text-align: right;\">\n",
       "      <th></th>\n",
       "      <th>org_form_corp</th>\n",
       "      <th>org_form_trust</th>\n",
       "      <th>org_form_association</th>\n",
       "      <th>org_form_other_form</th>\n",
       "      <th>exempt_status_501c_txt</th>\n",
       "      <th>gross_receipts</th>\n",
       "      <th>voting_memb_ct</th>\n",
       "      <th>voting_indepmemb_ct</th>\n",
       "      <th>employee_tot_ct</th>\n",
       "      <th>volunteer_tot_ct</th>\n",
       "      <th>income_tot_unrelated</th>\n",
       "      <th>income_net_unrelated</th>\n",
       "      <th>rev_less_expense_prioryr</th>\n",
       "      <th>asset_tot_beginyr</th>\n",
       "      <th>liability_tot_beginyr</th>\n",
       "      <th>asset_net_beginyr</th>\n",
       "      <th>rev_less_expense_curyr</th>\n",
       "      <th>asset_tot_endyr</th>\n",
       "      <th>liability_tot_endyr</th>\n",
       "      <th>asset_net_endyr</th>\n",
       "      <th>contractor_100k_ct</th>\n",
       "      <th>CON_CT_DIV_EMP_VOL_CT</th>\n",
       "      <th>CON_EXP_DIV_TOT_EXP</th>\n",
       "      <th>CON_CT_DIV_EMP_VOL_CT_flag</th>\n",
       "      <th>CON_EXP_DIV_TOT_EXP_flag</th>\n",
       "      <th>TARGET_FEATURE</th>\n",
       "      <th>rev_PCA</th>\n",
       "      <th>exp_PCA</th>\n",
       "    </tr>\n",
       "  </thead>\n",
       "  <tbody>\n",
       "    <tr>\n",
       "      <td>0</td>\n",
       "      <td>True</td>\n",
       "      <td>False</td>\n",
       "      <td>False</td>\n",
       "      <td>False</td>\n",
       "      <td>12_</td>\n",
       "      <td>15549792</td>\n",
       "      <td>11</td>\n",
       "      <td>11</td>\n",
       "      <td>37</td>\n",
       "      <td>0.0</td>\n",
       "      <td>0</td>\n",
       "      <td>0.0</td>\n",
       "      <td>0.0</td>\n",
       "      <td>39372255.0</td>\n",
       "      <td>26541056.0</td>\n",
       "      <td>12831199.0</td>\n",
       "      <td>0</td>\n",
       "      <td>39367859</td>\n",
       "      <td>26785093</td>\n",
       "      <td>12582766</td>\n",
       "      <td>3</td>\n",
       "      <td>0.081081</td>\n",
       "      <td>0.061503</td>\n",
       "      <td>True</td>\n",
       "      <td>False</td>\n",
       "      <td>False</td>\n",
       "      <td>-9.230988e+07</td>\n",
       "      <td>-7.560677e+07</td>\n",
       "    </tr>\n",
       "    <tr>\n",
       "      <td>1</td>\n",
       "      <td>True</td>\n",
       "      <td>False</td>\n",
       "      <td>False</td>\n",
       "      <td>False</td>\n",
       "      <td>14_</td>\n",
       "      <td>9472036</td>\n",
       "      <td>9</td>\n",
       "      <td>8</td>\n",
       "      <td>81</td>\n",
       "      <td>8.0</td>\n",
       "      <td>52565</td>\n",
       "      <td>-75519.0</td>\n",
       "      <td>1000243.0</td>\n",
       "      <td>173898488.0</td>\n",
       "      <td>157544120.0</td>\n",
       "      <td>16354368.0</td>\n",
       "      <td>1262299</td>\n",
       "      <td>188534687</td>\n",
       "      <td>170915216</td>\n",
       "      <td>17619471</td>\n",
       "      <td>3</td>\n",
       "      <td>0.033708</td>\n",
       "      <td>0.137033</td>\n",
       "      <td>False</td>\n",
       "      <td>False</td>\n",
       "      <td>False</td>\n",
       "      <td>-1.057983e+08</td>\n",
       "      <td>-9.231641e+07</td>\n",
       "    </tr>\n",
       "    <tr>\n",
       "      <td>2</td>\n",
       "      <td>True</td>\n",
       "      <td>False</td>\n",
       "      <td>False</td>\n",
       "      <td>False</td>\n",
       "      <td>5_</td>\n",
       "      <td>8503978</td>\n",
       "      <td>21</td>\n",
       "      <td>19</td>\n",
       "      <td>53</td>\n",
       "      <td>200.0</td>\n",
       "      <td>16110</td>\n",
       "      <td>0.0</td>\n",
       "      <td>-55531.0</td>\n",
       "      <td>3510564.0</td>\n",
       "      <td>820701.0</td>\n",
       "      <td>2689863.0</td>\n",
       "      <td>69972</td>\n",
       "      <td>3640881</td>\n",
       "      <td>852359</td>\n",
       "      <td>2788522</td>\n",
       "      <td>3</td>\n",
       "      <td>0.011858</td>\n",
       "      <td>0.053652</td>\n",
       "      <td>False</td>\n",
       "      <td>False</td>\n",
       "      <td>False</td>\n",
       "      <td>-1.072903e+08</td>\n",
       "      <td>-9.229491e+07</td>\n",
       "    </tr>\n",
       "    <tr>\n",
       "      <td>3</td>\n",
       "      <td>True</td>\n",
       "      <td>False</td>\n",
       "      <td>False</td>\n",
       "      <td>False</td>\n",
       "      <td>3_</td>\n",
       "      <td>57422298</td>\n",
       "      <td>8</td>\n",
       "      <td>7</td>\n",
       "      <td>442</td>\n",
       "      <td>15.0</td>\n",
       "      <td>0</td>\n",
       "      <td>0.0</td>\n",
       "      <td>2553132.0</td>\n",
       "      <td>57577945.0</td>\n",
       "      <td>13230564.0</td>\n",
       "      <td>44347381.0</td>\n",
       "      <td>90630</td>\n",
       "      <td>56726534</td>\n",
       "      <td>12198910</td>\n",
       "      <td>44527624</td>\n",
       "      <td>8</td>\n",
       "      <td>0.017505</td>\n",
       "      <td>0.039592</td>\n",
       "      <td>False</td>\n",
       "      <td>False</td>\n",
       "      <td>False</td>\n",
       "      <td>-1.765087e+07</td>\n",
       "      <td>-1.757254e+07</td>\n",
       "    </tr>\n",
       "    <tr>\n",
       "      <td>4</td>\n",
       "      <td>True</td>\n",
       "      <td>False</td>\n",
       "      <td>False</td>\n",
       "      <td>False</td>\n",
       "      <td>7_</td>\n",
       "      <td>5974176</td>\n",
       "      <td>12</td>\n",
       "      <td>12</td>\n",
       "      <td>139</td>\n",
       "      <td>50.0</td>\n",
       "      <td>2437</td>\n",
       "      <td>1437.0</td>\n",
       "      <td>344252.0</td>\n",
       "      <td>9803605.0</td>\n",
       "      <td>3104088.0</td>\n",
       "      <td>6699517.0</td>\n",
       "      <td>745724</td>\n",
       "      <td>10535130</td>\n",
       "      <td>3089889</td>\n",
       "      <td>7445241</td>\n",
       "      <td>1</td>\n",
       "      <td>0.005291</td>\n",
       "      <td>0.039945</td>\n",
       "      <td>False</td>\n",
       "      <td>False</td>\n",
       "      <td>False</td>\n",
       "      <td>-1.162458e+08</td>\n",
       "      <td>-9.964548e+07</td>\n",
       "    </tr>\n",
       "  </tbody>\n",
       "</table>\n",
       "</div>"
      ],
      "text/plain": [
       "   org_form_corp  org_form_trust  org_form_association  org_form_other_form  \\\n",
       "0           True           False                 False                False   \n",
       "1           True           False                 False                False   \n",
       "2           True           False                 False                False   \n",
       "3           True           False                 False                False   \n",
       "4           True           False                 False                False   \n",
       "\n",
       "  exempt_status_501c_txt  gross_receipts  voting_memb_ct  voting_indepmemb_ct  \\\n",
       "0                    12_        15549792              11                   11   \n",
       "1                    14_         9472036               9                    8   \n",
       "2                     5_         8503978              21                   19   \n",
       "3                     3_        57422298               8                    7   \n",
       "4                     7_         5974176              12                   12   \n",
       "\n",
       "   employee_tot_ct  volunteer_tot_ct  income_tot_unrelated  \\\n",
       "0               37               0.0                     0   \n",
       "1               81               8.0                 52565   \n",
       "2               53             200.0                 16110   \n",
       "3              442              15.0                     0   \n",
       "4              139              50.0                  2437   \n",
       "\n",
       "   income_net_unrelated  rev_less_expense_prioryr  asset_tot_beginyr  \\\n",
       "0                   0.0                       0.0         39372255.0   \n",
       "1              -75519.0                 1000243.0        173898488.0   \n",
       "2                   0.0                  -55531.0          3510564.0   \n",
       "3                   0.0                 2553132.0         57577945.0   \n",
       "4                1437.0                  344252.0          9803605.0   \n",
       "\n",
       "   liability_tot_beginyr  asset_net_beginyr  rev_less_expense_curyr  \\\n",
       "0             26541056.0         12831199.0                       0   \n",
       "1            157544120.0         16354368.0                 1262299   \n",
       "2               820701.0          2689863.0                   69972   \n",
       "3             13230564.0         44347381.0                   90630   \n",
       "4              3104088.0          6699517.0                  745724   \n",
       "\n",
       "   asset_tot_endyr  liability_tot_endyr  asset_net_endyr  contractor_100k_ct  \\\n",
       "0         39367859             26785093         12582766                   3   \n",
       "1        188534687            170915216         17619471                   3   \n",
       "2          3640881               852359          2788522                   3   \n",
       "3         56726534             12198910         44527624                   8   \n",
       "4         10535130              3089889          7445241                   1   \n",
       "\n",
       "   CON_CT_DIV_EMP_VOL_CT  CON_EXP_DIV_TOT_EXP  CON_CT_DIV_EMP_VOL_CT_flag  \\\n",
       "0               0.081081             0.061503                        True   \n",
       "1               0.033708             0.137033                       False   \n",
       "2               0.011858             0.053652                       False   \n",
       "3               0.017505             0.039592                       False   \n",
       "4               0.005291             0.039945                       False   \n",
       "\n",
       "   CON_EXP_DIV_TOT_EXP_flag  TARGET_FEATURE       rev_PCA       exp_PCA  \n",
       "0                     False           False -9.230988e+07 -7.560677e+07  \n",
       "1                     False           False -1.057983e+08 -9.231641e+07  \n",
       "2                     False           False -1.072903e+08 -9.229491e+07  \n",
       "3                     False           False -1.765087e+07 -1.757254e+07  \n",
       "4                     False           False -1.162458e+08 -9.964548e+07  "
      ]
     },
     "execution_count": 236,
     "metadata": {},
     "output_type": "execute_result"
    }
   ],
   "source": [
    "df_dummies.head()"
   ]
  },
  {
   "cell_type": "code",
   "execution_count": 237,
   "metadata": {},
   "outputs": [],
   "source": [
    "# create features for classification\n",
    "# while removing those I created in designing\n",
    "# my target variable\n",
    "X = pd.get_dummies(df_dummies).drop(['TARGET_FEATURE',\n",
    "            'CON_CT_DIV_EMP_VOL_CT_flag', \n",
    "             'CON_EXP_DIV_TOT_EXP_flag',\n",
    "            'CON_CT_DIV_EMP_VOL_CT',\n",
    "            'CON_EXP_DIV_TOT_EXP',\n",
    "            'volunteer_tot_ct',\n",
    "            'employee_tot_ct',\n",
    "            'contractor_100k_ct'], axis=1)\n",
    "\n",
    "# create target for classification\n",
    "y = df_dummies.TARGET_FEATURE"
   ]
  },
  {
   "cell_type": "code",
   "execution_count": 238,
   "metadata": {},
   "outputs": [],
   "source": [
    "# split data for training and testing\n",
    "X_train, X_test, y_train, y_test = train_test_split(X, y, test_size=0.2, random_state=0)"
   ]
  },
  {
   "cell_type": "markdown",
   "metadata": {},
   "source": [
    "### Random Forrest Classifier \n"
   ]
  },
  {
   "cell_type": "code",
   "execution_count": 239,
   "metadata": {},
   "outputs": [
    {
     "data": {
      "text/plain": [
       "array([0.8951088 , 0.89269109, 0.8937872 , 0.89490327, 0.89786047])"
      ]
     },
     "execution_count": 239,
     "metadata": {},
     "output_type": "execute_result"
    }
   ],
   "source": [
    "# create model, check for overfitting\n",
    "rfc = ensemble.RandomForestClassifier(n_estimators=100, max_depth=8)\n",
    "\n",
    "cross_val_score(rfc, X, y, cv=5)"
   ]
  },
  {
   "cell_type": "code",
   "execution_count": 240,
   "metadata": {},
   "outputs": [
    {
     "name": "stdout",
     "output_type": "stream",
     "text": [
      "Training set accuracy:\n",
      "Percent Type I errors: 0.0016741071428571428\n",
      "Percent Type II errors: 0.09384300595238096\n",
      "\n",
      "Test set accuracy:\n",
      "Percent Type I errors: 0.004649432769202157\n",
      "Percent Type II errors: 0.09336061000557933\n"
     ]
    }
   ],
   "source": [
    "rfc.fit(X_train, y_train)\n",
    "\n",
    "predict_train = rfc.predict(X_train)\n",
    "predict_test = rfc.predict(X_test)\n",
    "\n",
    "# Accuracy tables\n",
    "table_train = pd.crosstab(y_train, predict_train, margins=True)\n",
    "table_test = pd.crosstab(y_test, predict_test, margins=True)\n",
    "\n",
    "train_tI_errors = table_train.loc[0.0,1.0] / table_train.loc['All','All']\n",
    "train_tII_errors = table_train.loc[1.0,0.0] / table_train.loc['All','All']\n",
    "\n",
    "test_tI_errors = table_test.loc[0.0,1.0]/table_test.loc['All','All']\n",
    "test_tII_errors = table_test.loc[1.0,0.0]/table_test.loc['All','All']\n",
    "\n",
    "print((\n",
    "    'Training set accuracy:\\n'\n",
    "    'Percent Type I errors: {}\\n'\n",
    "    'Percent Type II errors: {}\\n\\n'\n",
    "    'Test set accuracy:\\n'\n",
    "    'Percent Type I errors: {}\\n'\n",
    "    'Percent Type II errors: {}'\n",
    ").format(train_tI_errors, train_tII_errors, test_tI_errors, test_tII_errors))"
   ]
  },
  {
   "cell_type": "code",
   "execution_count": 241,
   "metadata": {},
   "outputs": [
    {
     "data": {
      "text/html": [
       "<div>\n",
       "<style scoped>\n",
       "    .dataframe tbody tr th:only-of-type {\n",
       "        vertical-align: middle;\n",
       "    }\n",
       "\n",
       "    .dataframe tbody tr th {\n",
       "        vertical-align: top;\n",
       "    }\n",
       "\n",
       "    .dataframe thead th {\n",
       "        text-align: right;\n",
       "    }\n",
       "</style>\n",
       "<table border=\"1\" class=\"dataframe\">\n",
       "  <thead>\n",
       "    <tr style=\"text-align: right;\">\n",
       "      <th></th>\n",
       "      <th>Predicted: No</th>\n",
       "      <th>Predicted: Yes</th>\n",
       "    </tr>\n",
       "  </thead>\n",
       "  <tbody>\n",
       "    <tr>\n",
       "      <td>Actual: No</td>\n",
       "      <td>19108</td>\n",
       "      <td>36</td>\n",
       "    </tr>\n",
       "    <tr>\n",
       "      <td>Actual: Yes</td>\n",
       "      <td>2018</td>\n",
       "      <td>342</td>\n",
       "    </tr>\n",
       "  </tbody>\n",
       "</table>\n",
       "</div>"
      ],
      "text/plain": [
       "             Predicted: No  Predicted: Yes\n",
       "Actual: No           19108              36\n",
       "Actual: Yes           2018             342"
      ]
     },
     "execution_count": 241,
     "metadata": {},
     "output_type": "execute_result"
    }
   ],
   "source": [
    "# training results\n",
    "pd.DataFrame(data=confusion_matrix(y_train, predict_train)[:,:],    \n",
    "              index= ['Actual: No', 'Actual: Yes'],\n",
    "    columns= ['Predicted: No', 'Predicted: Yes'])"
   ]
  },
  {
   "cell_type": "code",
   "execution_count": 242,
   "metadata": {},
   "outputs": [
    {
     "data": {
      "text/html": [
       "<div>\n",
       "<style scoped>\n",
       "    .dataframe tbody tr th:only-of-type {\n",
       "        vertical-align: middle;\n",
       "    }\n",
       "\n",
       "    .dataframe tbody tr th {\n",
       "        vertical-align: top;\n",
       "    }\n",
       "\n",
       "    .dataframe thead th {\n",
       "        text-align: right;\n",
       "    }\n",
       "</style>\n",
       "<table border=\"1\" class=\"dataframe\">\n",
       "  <thead>\n",
       "    <tr style=\"text-align: right;\">\n",
       "      <th></th>\n",
       "      <th>Predicted: No</th>\n",
       "      <th>Predicted: Yes</th>\n",
       "    </tr>\n",
       "  </thead>\n",
       "  <tbody>\n",
       "    <tr>\n",
       "      <td>Actual: No</td>\n",
       "      <td>4803</td>\n",
       "      <td>25</td>\n",
       "    </tr>\n",
       "    <tr>\n",
       "      <td>Actual: Yes</td>\n",
       "      <td>502</td>\n",
       "      <td>47</td>\n",
       "    </tr>\n",
       "  </tbody>\n",
       "</table>\n",
       "</div>"
      ],
      "text/plain": [
       "             Predicted: No  Predicted: Yes\n",
       "Actual: No            4803              25\n",
       "Actual: Yes            502              47"
      ]
     },
     "execution_count": 242,
     "metadata": {},
     "output_type": "execute_result"
    }
   ],
   "source": [
    "# testing results\n",
    "pd.DataFrame(data=confusion_matrix(y_test, predict_test)[:,:],    \n",
    "              index= ['Actual: No', 'Actual: Yes'],\n",
    "    columns= ['Predicted: No', 'Predicted: Yes'])"
   ]
  },
  {
   "cell_type": "code",
   "execution_count": 243,
   "metadata": {},
   "outputs": [
    {
     "data": {
      "image/png": "[encoded data removed]",
      "text/plain": [
       "<Figure size 720x720 with 1 Axes>"
      ]
     },
     "metadata": {
      "needs_background": "light"
     },
     "output_type": "display_data"
    }
   ],
   "source": [
    "# visualize feature importances\n",
    "plt.figure(figsize=(10, 10))\n",
    "\n",
    "feature_importance = 100.0 * (rfc.feature_importances_ / rfc.feature_importances_.max())\n",
    "sorted_idx = np.argsort(feature_importance)\n",
    "pos = np.arange(sorted_idx.shape[0]) + .5\n",
    "plt.subplot(1, 2, 2)\n",
    "plt.barh(pos, feature_importance[sorted_idx], align='center')\n",
    "plt.yticks(pos, X.columns[sorted_idx])\n",
    "plt.xlabel('Relative Importance')\n",
    "plt.title('Variable Importance');"
   ]
  },
  {
   "cell_type": "markdown",
   "metadata": {},
   "source": [
    "\n",
    "### KNN Classifier"
   ]
  },
  {
   "cell_type": "code",
   "execution_count": 244,
   "metadata": {},
   "outputs": [
    {
     "data": {
      "text/plain": [
       "KNeighborsClassifier(algorithm='auto', leaf_size=1, metric='minkowski',\n",
       "                     metric_params=None, n_jobs=None, n_neighbors=110, p=2,\n",
       "                     weights='uniform')"
      ]
     },
     "execution_count": 244,
     "metadata": {},
     "output_type": "execute_result"
    }
   ],
   "source": [
    "# fit model based on optimized parameters\n",
    "knn_clf = KNeighborsClassifier(leaf_size= 1, n_neighbors= 110)\n",
    "\n",
    "knn_clf.fit(X_train, y_train)"
   ]
  },
  {
   "cell_type": "code",
   "execution_count": 245,
   "metadata": {},
   "outputs": [
    {
     "data": {
      "text/plain": [
       "KNeighborsClassifier(algorithm='auto', leaf_size=1, metric='minkowski',\n",
       "                     metric_params=None, n_jobs=None, n_neighbors=110, p=2,\n",
       "                     weights='uniform')"
      ]
     },
     "execution_count": 245,
     "metadata": {},
     "output_type": "execute_result"
    }
   ],
   "source": [
    "knn_clf.fit(X_train, y_train)"
   ]
  },
  {
   "cell_type": "code",
   "execution_count": 246,
   "metadata": {},
   "outputs": [
    {
     "name": "stdout",
     "output_type": "stream",
     "text": [
      "Training set accuracy:\n",
      "Percent Type I errors: 0.002464657738095238\n",
      "Percent Type II errors: 0.10546875\n",
      "\n",
      "Test set accuracy:\n",
      "Percent Type I errors: 0.0022317277292170355\n",
      "Percent Type II errors: 0.09838199739631764\n"
     ]
    }
   ],
   "source": [
    "predict_train = knn_clf.predict(X_train)\n",
    "predict_test = knn_clf.predict(X_test)\n",
    "\n",
    "# Accuracy tables\n",
    "table_train = pd.crosstab(y_train, predict_train, margins=True)\n",
    "table_test = pd.crosstab(y_test, predict_test, margins=True)\n",
    "\n",
    "train_tI_errors = table_train.loc[0.0,1.0] / table_train.loc['All','All']\n",
    "train_tII_errors = table_train.loc[1.0,0.0] / table_train.loc['All','All']\n",
    "\n",
    "test_tI_errors = table_test.loc[0.0,1.0]/table_test.loc['All','All']\n",
    "test_tII_errors = table_test.loc[1.0,0.0]/table_test.loc['All','All']\n",
    "\n",
    "print((\n",
    "    'Training set accuracy:\\n'\n",
    "    'Percent Type I errors: {}\\n'\n",
    "    'Percent Type II errors: {}\\n\\n'\n",
    "    'Test set accuracy:\\n'\n",
    "    'Percent Type I errors: {}\\n'\n",
    "    'Percent Type II errors: {}'\n",
    ").format(train_tI_errors, train_tII_errors, test_tI_errors, test_tII_errors))"
   ]
  },
  {
   "cell_type": "code",
   "execution_count": 247,
   "metadata": {},
   "outputs": [
    {
     "data": {
      "text/html": [
       "<div>\n",
       "<style scoped>\n",
       "    .dataframe tbody tr th:only-of-type {\n",
       "        vertical-align: middle;\n",
       "    }\n",
       "\n",
       "    .dataframe tbody tr th {\n",
       "        vertical-align: top;\n",
       "    }\n",
       "\n",
       "    .dataframe thead th {\n",
       "        text-align: right;\n",
       "    }\n",
       "</style>\n",
       "<table border=\"1\" class=\"dataframe\">\n",
       "  <thead>\n",
       "    <tr style=\"text-align: right;\">\n",
       "      <th></th>\n",
       "      <th>Predicted: No</th>\n",
       "      <th>Predicted: Yes</th>\n",
       "    </tr>\n",
       "  </thead>\n",
       "  <tbody>\n",
       "    <tr>\n",
       "      <td>Actual: No</td>\n",
       "      <td>19091</td>\n",
       "      <td>53</td>\n",
       "    </tr>\n",
       "    <tr>\n",
       "      <td>Actual: Yes</td>\n",
       "      <td>2268</td>\n",
       "      <td>92</td>\n",
       "    </tr>\n",
       "  </tbody>\n",
       "</table>\n",
       "</div>"
      ],
      "text/plain": [
       "             Predicted: No  Predicted: Yes\n",
       "Actual: No           19091              53\n",
       "Actual: Yes           2268              92"
      ]
     },
     "execution_count": 247,
     "metadata": {},
     "output_type": "execute_result"
    }
   ],
   "source": [
    "pd.DataFrame(data=confusion_matrix(y_train, predict_train)[:,:],    \n",
    "              index= ['Actual: No', 'Actual: Yes'],\n",
    "    columns= ['Predicted: No', 'Predicted: Yes'])"
   ]
  },
  {
   "cell_type": "code",
   "execution_count": 248,
   "metadata": {},
   "outputs": [
    {
     "data": {
      "text/html": [
       "<div>\n",
       "<style scoped>\n",
       "    .dataframe tbody tr th:only-of-type {\n",
       "        vertical-align: middle;\n",
       "    }\n",
       "\n",
       "    .dataframe tbody tr th {\n",
       "        vertical-align: top;\n",
       "    }\n",
       "\n",
       "    .dataframe thead th {\n",
       "        text-align: right;\n",
       "    }\n",
       "</style>\n",
       "<table border=\"1\" class=\"dataframe\">\n",
       "  <thead>\n",
       "    <tr style=\"text-align: right;\">\n",
       "      <th></th>\n",
       "      <th>Predicted: No</th>\n",
       "      <th>Predicted: Yes</th>\n",
       "    </tr>\n",
       "  </thead>\n",
       "  <tbody>\n",
       "    <tr>\n",
       "      <td>Actual: No</td>\n",
       "      <td>4816</td>\n",
       "      <td>12</td>\n",
       "    </tr>\n",
       "    <tr>\n",
       "      <td>Actual: Yes</td>\n",
       "      <td>529</td>\n",
       "      <td>20</td>\n",
       "    </tr>\n",
       "  </tbody>\n",
       "</table>\n",
       "</div>"
      ],
      "text/plain": [
       "             Predicted: No  Predicted: Yes\n",
       "Actual: No            4816              12\n",
       "Actual: Yes            529              20"
      ]
     },
     "execution_count": 248,
     "metadata": {},
     "output_type": "execute_result"
    }
   ],
   "source": [
    "pd.DataFrame(data=confusion_matrix(y_test, predict_test)[:,:],    \n",
    "              index= ['Actual: No', 'Actual: Yes'],\n",
    "    columns= ['Predicted: No', 'Predicted: Yes'])"
   ]
  },
  {
   "cell_type": "markdown",
   "metadata": {},
   "source": [
    "### Gradient Boost Classifier"
   ]
  },
  {
   "cell_type": "code",
   "execution_count": 249,
   "metadata": {},
   "outputs": [
    {
     "data": {
      "text/plain": [
       "array([0.893435  , 0.89138925, 0.88616071, 0.89453125, 0.89376744])"
      ]
     },
     "execution_count": 249,
     "metadata": {},
     "output_type": "execute_result"
    }
   ],
   "source": [
    "# Initialize and fit the model.\n",
    "params = {'n_estimators': 950,\n",
    "          'max_depth': 2,\n",
    "          'subsample': .8,\n",
    "          'learning_rate': .1,\n",
    "          'loss': 'deviance'}\n",
    "\n",
    "clf = ensemble.GradientBoostingClassifier(**params)\n",
    "\n",
    "clf.fit(X_train, y_train)\n",
    "cross_val_score(clf, X, y, cv=5)"
   ]
  },
  {
   "cell_type": "code",
   "execution_count": 250,
   "metadata": {},
   "outputs": [
    {
     "name": "stdout",
     "output_type": "stream",
     "text": [
      "Training set accuracy:\n",
      "Percent Type I errors: 0.003720238095238095\n",
      "Percent Type II errors: 0.08361235119047619\n",
      "\n",
      "Test set accuracy:\n",
      "Percent Type I errors: 0.015436116793751162\n",
      "Percent Type II errors: 0.0855495629533197\n"
     ]
    }
   ],
   "source": [
    "predict_train = clf.predict(X_train)\n",
    "predict_test = clf.predict(X_test)\n",
    "\n",
    "# Accuracy tables\n",
    "table_train = pd.crosstab(y_train, predict_train, margins=True)\n",
    "table_test = pd.crosstab(y_test, predict_test, margins=True)\n",
    "\n",
    "train_tI_errors = table_train.loc[0.0,1.0] / table_train.loc['All','All']\n",
    "train_tII_errors = table_train.loc[1.0,0.0] / table_train.loc['All','All']\n",
    "\n",
    "test_tI_errors = table_test.loc[0.0,1.0]/table_test.loc['All','All']\n",
    "test_tII_errors = table_test.loc[1.0,0.0]/table_test.loc['All','All']\n",
    "\n",
    "print((\n",
    "    'Training set accuracy:\\n'\n",
    "    'Percent Type I errors: {}\\n'\n",
    "    'Percent Type II errors: {}\\n\\n'\n",
    "    'Test set accuracy:\\n'\n",
    "    'Percent Type I errors: {}\\n'\n",
    "    'Percent Type II errors: {}'\n",
    ").format(train_tI_errors, train_tII_errors, test_tI_errors, test_tII_errors))"
   ]
  },
  {
   "cell_type": "code",
   "execution_count": 251,
   "metadata": {},
   "outputs": [
    {
     "data": {
      "text/html": [
       "<div>\n",
       "<style scoped>\n",
       "    .dataframe tbody tr th:only-of-type {\n",
       "        vertical-align: middle;\n",
       "    }\n",
       "\n",
       "    .dataframe tbody tr th {\n",
       "        vertical-align: top;\n",
       "    }\n",
       "\n",
       "    .dataframe thead th {\n",
       "        text-align: right;\n",
       "    }\n",
       "</style>\n",
       "<table border=\"1\" class=\"dataframe\">\n",
       "  <thead>\n",
       "    <tr style=\"text-align: right;\">\n",
       "      <th></th>\n",
       "      <th>Predicted: No</th>\n",
       "      <th>Predicted: Yes</th>\n",
       "    </tr>\n",
       "  </thead>\n",
       "  <tbody>\n",
       "    <tr>\n",
       "      <td>Actual: No</td>\n",
       "      <td>19064</td>\n",
       "      <td>80</td>\n",
       "    </tr>\n",
       "    <tr>\n",
       "      <td>Actual: Yes</td>\n",
       "      <td>1798</td>\n",
       "      <td>562</td>\n",
       "    </tr>\n",
       "  </tbody>\n",
       "</table>\n",
       "</div>"
      ],
      "text/plain": [
       "             Predicted: No  Predicted: Yes\n",
       "Actual: No           19064              80\n",
       "Actual: Yes           1798             562"
      ]
     },
     "execution_count": 251,
     "metadata": {},
     "output_type": "execute_result"
    }
   ],
   "source": [
    "pd.DataFrame(data=confusion_matrix(y_train, predict_train)[:,:],    \n",
    "              index= ['Actual: No', 'Actual: Yes'],\n",
    "    columns= ['Predicted: No', 'Predicted: Yes'])"
   ]
  },
  {
   "cell_type": "code",
   "execution_count": 252,
   "metadata": {},
   "outputs": [
    {
     "data": {
      "text/html": [
       "<div>\n",
       "<style scoped>\n",
       "    .dataframe tbody tr th:only-of-type {\n",
       "        vertical-align: middle;\n",
       "    }\n",
       "\n",
       "    .dataframe tbody tr th {\n",
       "        vertical-align: top;\n",
       "    }\n",
       "\n",
       "    .dataframe thead th {\n",
       "        text-align: right;\n",
       "    }\n",
       "</style>\n",
       "<table border=\"1\" class=\"dataframe\">\n",
       "  <thead>\n",
       "    <tr style=\"text-align: right;\">\n",
       "      <th></th>\n",
       "      <th>Predicted: No</th>\n",
       "      <th>Predicted: Yes</th>\n",
       "    </tr>\n",
       "  </thead>\n",
       "  <tbody>\n",
       "    <tr>\n",
       "      <td>Actual: No</td>\n",
       "      <td>4745</td>\n",
       "      <td>83</td>\n",
       "    </tr>\n",
       "    <tr>\n",
       "      <td>Actual: Yes</td>\n",
       "      <td>460</td>\n",
       "      <td>89</td>\n",
       "    </tr>\n",
       "  </tbody>\n",
       "</table>\n",
       "</div>"
      ],
      "text/plain": [
       "             Predicted: No  Predicted: Yes\n",
       "Actual: No            4745              83\n",
       "Actual: Yes            460              89"
      ]
     },
     "execution_count": 252,
     "metadata": {},
     "output_type": "execute_result"
    }
   ],
   "source": [
    "pd.DataFrame(data=confusion_matrix(y_test, predict_test)[:,:],    \n",
    "              index= ['Actual: No', 'Actual: Yes'],\n",
    "    columns= ['Predicted: No', 'Predicted: Yes'])"
   ]
  },
  {
   "cell_type": "code",
   "execution_count": 253,
   "metadata": {},
   "outputs": [
    {
     "data": {
      "image/png": "[encoded data removed]",
      "text/plain": [
       "<Figure size 720x720 with 1 Axes>"
      ]
     },
     "metadata": {
      "needs_background": "light"
     },
     "output_type": "display_data"
    }
   ],
   "source": [
    "# visualize feature importances\n",
    "plt.figure(figsize=(10, 10))\n",
    "\n",
    "feature_importance = 100.0 * (clf.feature_importances_ / clf.feature_importances_.max())\n",
    "sorted_idx = np.argsort(feature_importance)\n",
    "pos = np.arange(sorted_idx.shape[0]) + .5\n",
    "plt.subplot(1, 2, 2)\n",
    "plt.barh(pos, feature_importance[sorted_idx], align='center')\n",
    "plt.yticks(pos, X.columns[sorted_idx])\n",
    "plt.xlabel('Relative Importance')\n",
    "plt.title('Variable Importance');"
   ]
  },
  {
   "cell_type": "markdown",
   "metadata": {},
   "source": [
    "Segmenting gross receipts & count of contractors into categories was not helpful at contributing information that helped my model perform more accurately."
   ]
  },
  {
   "cell_type": "code",
   "execution_count": 254,
   "metadata": {},
   "outputs": [
    {
     "data": {
      "text/plain": [
       "['exp_PCA',\n",
       " 'gross_receipts',\n",
       " 'asset_tot_beginyr',\n",
       " 'rev_PCA',\n",
       " 'asset_tot_endyr',\n",
       " 'liability_tot_beginyr',\n",
       " 'rev_less_expense_curyr',\n",
       " 'rev_less_expense_prioryr',\n",
       " 'asset_net_beginyr',\n",
       " 'voting_memb_ct']"
      ]
     },
     "execution_count": 254,
     "metadata": {},
     "output_type": "execute_result"
    }
   ],
   "source": [
    "# find 10 most significant features\n",
    "clf_features = pd.DataFrame(clf.feature_importances_,\n",
    "            X.columns, columns=['importance']).sort_values(by='importance', ascending=False)\n",
    "\n",
    "list(clf_features.head(10).index)"
   ]
  },
  {
   "cell_type": "markdown",
   "metadata": {},
   "source": [
    "### SVC"
   ]
  },
  {
   "cell_type": "code",
   "execution_count": 255,
   "metadata": {},
   "outputs": [
    {
     "name": "stdout",
     "output_type": "stream",
     "text": [
      "[LibSVM]"
     ]
    },
    {
     "data": {
      "text/plain": [
       "SVC(C=1, cache_size=200, class_weight='balanced', coef0=0.0,\n",
       "    decision_function_shape='ovr', degree=3, gamma='scale', kernel='rbf',\n",
       "    max_iter=-1, probability=False, random_state=None, shrinking=True,\n",
       "    tol=0.001, verbose=True)"
      ]
     },
     "execution_count": 255,
     "metadata": {},
     "output_type": "execute_result"
    }
   ],
   "source": [
    "svc = SVC(gamma='scale', C= 1, class_weight=  'balanced', verbose=True)\n",
    "\n",
    "svc.fit(X_train, y_train)"
   ]
  },
  {
   "cell_type": "code",
   "execution_count": 256,
   "metadata": {},
   "outputs": [
    {
     "name": "stdout",
     "output_type": "stream",
     "text": [
      "Training set accuracy:\n",
      "Percent Type I errors: 0.016648065476190476\n",
      "Percent Type II errors: 0.10105096726190477\n",
      "\n",
      "Test set accuracy:\n",
      "Percent Type I errors: 0.01710991259066394\n",
      "Percent Type II errors: 0.09429049655941975\n"
     ]
    }
   ],
   "source": [
    "predict_train = svc.predict(X_train)\n",
    "predict_test = svc.predict(X_test)\n",
    "\n",
    "# Accuracy tables\n",
    "table_train = pd.crosstab(y_train, predict_train, margins=True)\n",
    "table_test = pd.crosstab(y_test, predict_test, margins=True)\n",
    "train_tI_errors = table_train.loc[0.0,1.0] / table_train.loc['All','All']\n",
    "train_tII_errors = table_train.loc[1.0,0.0] / table_train.loc['All','All']\n",
    "\n",
    "test_tI_errors = table_test.loc[0.0,1.0]/table_test.loc['All','All']\n",
    "test_tII_errors = table_test.loc[1.0,0.0]/table_test.loc['All','All']\n",
    "\n",
    "print((\n",
    "    'Training set accuracy:\\n'\n",
    "    'Percent Type I errors: {}\\n'\n",
    "    'Percent Type II errors: {}\\n\\n'\n",
    "    'Test set accuracy:\\n'\n",
    "    'Percent Type I errors: {}\\n'\n",
    "    'Percent Type II errors: {}'\n",
    ").format(train_tI_errors, train_tII_errors, test_tI_errors, test_tII_errors))"
   ]
  },
  {
   "cell_type": "code",
   "execution_count": 257,
   "metadata": {},
   "outputs": [
    {
     "data": {
      "text/html": [
       "<div>\n",
       "<style scoped>\n",
       "    .dataframe tbody tr th:only-of-type {\n",
       "        vertical-align: middle;\n",
       "    }\n",
       "\n",
       "    .dataframe tbody tr th {\n",
       "        vertical-align: top;\n",
       "    }\n",
       "\n",
       "    .dataframe thead th {\n",
       "        text-align: right;\n",
       "    }\n",
       "</style>\n",
       "<table border=\"1\" class=\"dataframe\">\n",
       "  <thead>\n",
       "    <tr style=\"text-align: right;\">\n",
       "      <th></th>\n",
       "      <th>Predicted: No</th>\n",
       "      <th>Predicted: Yes</th>\n",
       "    </tr>\n",
       "  </thead>\n",
       "  <tbody>\n",
       "    <tr>\n",
       "      <td>Actual: No</td>\n",
       "      <td>18786</td>\n",
       "      <td>358</td>\n",
       "    </tr>\n",
       "    <tr>\n",
       "      <td>Actual: Yes</td>\n",
       "      <td>2173</td>\n",
       "      <td>187</td>\n",
       "    </tr>\n",
       "  </tbody>\n",
       "</table>\n",
       "</div>"
      ],
      "text/plain": [
       "             Predicted: No  Predicted: Yes\n",
       "Actual: No           18786             358\n",
       "Actual: Yes           2173             187"
      ]
     },
     "execution_count": 257,
     "metadata": {},
     "output_type": "execute_result"
    }
   ],
   "source": [
    "# training results\n",
    "pd.DataFrame(data=confusion_matrix(y_train, predict_train)[:,:],    \n",
    "              index= ['Actual: No', 'Actual: Yes'],\n",
    "    columns= ['Predicted: No', 'Predicted: Yes'])"
   ]
  },
  {
   "cell_type": "code",
   "execution_count": 258,
   "metadata": {},
   "outputs": [
    {
     "data": {
      "text/html": [
       "<div>\n",
       "<style scoped>\n",
       "    .dataframe tbody tr th:only-of-type {\n",
       "        vertical-align: middle;\n",
       "    }\n",
       "\n",
       "    .dataframe tbody tr th {\n",
       "        vertical-align: top;\n",
       "    }\n",
       "\n",
       "    .dataframe thead th {\n",
       "        text-align: right;\n",
       "    }\n",
       "</style>\n",
       "<table border=\"1\" class=\"dataframe\">\n",
       "  <thead>\n",
       "    <tr style=\"text-align: right;\">\n",
       "      <th></th>\n",
       "      <th>Predicted: No</th>\n",
       "      <th>Predicted: Yes</th>\n",
       "    </tr>\n",
       "  </thead>\n",
       "  <tbody>\n",
       "    <tr>\n",
       "      <td>Actual: No</td>\n",
       "      <td>4736</td>\n",
       "      <td>92</td>\n",
       "    </tr>\n",
       "    <tr>\n",
       "      <td>Actual: Yes</td>\n",
       "      <td>507</td>\n",
       "      <td>42</td>\n",
       "    </tr>\n",
       "  </tbody>\n",
       "</table>\n",
       "</div>"
      ],
      "text/plain": [
       "             Predicted: No  Predicted: Yes\n",
       "Actual: No            4736              92\n",
       "Actual: Yes            507              42"
      ]
     },
     "execution_count": 258,
     "metadata": {},
     "output_type": "execute_result"
    }
   ],
   "source": [
    "# testing results\n",
    "\n",
    "pd.DataFrame(data=confusion_matrix(y_test, predict_test)[:,:],    \n",
    "              index= ['Actual: No', 'Actual: Yes'],\n",
    "    columns= ['Predicted: No', 'Predicted: Yes'])"
   ]
  },
  {
   "cell_type": "markdown",
   "metadata": {},
   "source": [
    "### Export data for further feature iteration"
   ]
  },
  {
   "cell_type": "code",
   "execution_count": 259,
   "metadata": {},
   "outputs": [],
   "source": [
    "df_dummies.to_csv('data/990_model_data_5.csv', index=None, header=True)"
   ]
  }
 ],
 "metadata": {
  "kernelspec": {
   "display_name": "Python 3",
   "language": "python",
   "name": "python3"
  },
  "language_info": {
   "codemirror_mode": {
    "name": "ipython",
    "version": 3
   },
   "file_extension": ".py",
   "mimetype": "text/x-python",
   "name": "python",
   "nbconvert_exporter": "python",
   "pygments_lexer": "ipython3",
   "version": "3.7.3"
  }
 },
 "nbformat": 4,
 "nbformat_minor": 4
}
